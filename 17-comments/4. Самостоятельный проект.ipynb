{
 "cells": [
  {
   "cell_type": "markdown",
   "id": "962e70a0",
   "metadata": {},
   "source": [
    "# Проектная работа: \"Викишоп\""
   ]
  },
  {
   "cell_type": "markdown",
   "id": "20246faf",
   "metadata": {},
   "source": [
    "## Описание проекта\n",
    "\n",
    "Интернет-магазин «Викишоп» запускает новый сервис. Теперь пользователи могут редактировать и дополнять описания товаров, как в вики-сообществах. То есть клиенты предлагают свои правки и комментируют изменения других. Магазину нужен инструмент, который будет искать токсичные комментарии и отправлять их на модерацию.\n",
    "\n",
    "В нашем распоряжении набор данных с разметкой о токсичности правок. **Целью данной работы** является построение модели классификации комментариев на позитивные и негативные.\n",
    "\n",
    "**Примечание**: метрика качества F1 должна быть не меньше 0.75.\n",
    "\n",
    "**Описание данных**:\n",
    "- `text` - текст комментария;\n",
    "- `toxic` - целевой признак.\n",
    "\n",
    "**План работы**:\n",
    "\n",
    "1. Загрузка и подготовка данных;\n",
    "2. Обучение разных моделей;\n",
    "3. Общие выводы."
   ]
  },
  {
   "cell_type": "markdown",
   "id": "958d9b70",
   "metadata": {},
   "source": [
    "### Шаг 1. Загрузка и подготовка данных"
   ]
  },
  {
   "cell_type": "code",
   "execution_count": 1,
   "id": "fb2b2281",
   "metadata": {},
   "outputs": [],
   "source": [
    "import pandas as pd\n",
    "import numpy as np\n",
    "import matplotlib.pyplot as plt\n",
    "import seaborn as sns\n",
    "import re\n",
    "import nltk\n",
    "import warnings\n",
    "from pymystem3 import Mystem\n",
    "from nltk.corpus import stopwords\n",
    "from tqdm.notebook import tqdm\n",
    "from sklearn.metrics import f1_score, accuracy_score, precision_score, recall_score, roc_auc_score, roc_curve, confusion_matrix, precision_recall_curve, make_scorer, log_loss\n",
    "from sklearn.model_selection import train_test_split, GridSearchCV, RandomizedSearchCV\n",
    "from sklearn.feature_extraction.text import TfidfVectorizer\n",
    "from sklearn.dummy import DummyClassifier\n",
    "from sklearn.linear_model import LogisticRegression\n",
    "from sklearn.utils import shuffle\n",
    "from sklearn.ensemble import RandomForestClassifier\n",
    "from sklearn.tree import DecisionTreeClassifier\n",
    "from catboost import Pool, CatBoostClassifier, metrics, cv\n",
    "from math import ceil\n",
    "from lightgbm import LGBMClassifier, Dataset\n",
    "\n",
    "\n",
    "warnings.filterwarnings('ignore')\n",
    "%matplotlib inline"
   ]
  },
  {
   "cell_type": "code",
   "execution_count": 2,
   "id": "c143f2fc",
   "metadata": {},
   "outputs": [
    {
     "data": {
      "text/html": [
       "<div>\n",
       "<style scoped>\n",
       "    .dataframe tbody tr th:only-of-type {\n",
       "        vertical-align: middle;\n",
       "    }\n",
       "\n",
       "    .dataframe tbody tr th {\n",
       "        vertical-align: top;\n",
       "    }\n",
       "\n",
       "    .dataframe thead th {\n",
       "        text-align: right;\n",
       "    }\n",
       "</style>\n",
       "<table border=\"1\" class=\"dataframe\">\n",
       "  <thead>\n",
       "    <tr style=\"text-align: right;\">\n",
       "      <th></th>\n",
       "      <th>text</th>\n",
       "      <th>toxic</th>\n",
       "    </tr>\n",
       "  </thead>\n",
       "  <tbody>\n",
       "    <tr>\n",
       "      <th>0</th>\n",
       "      <td>Explanation\\nWhy the edits made under my usern...</td>\n",
       "      <td>0</td>\n",
       "    </tr>\n",
       "    <tr>\n",
       "      <th>1</th>\n",
       "      <td>D'aww! He matches this background colour I'm s...</td>\n",
       "      <td>0</td>\n",
       "    </tr>\n",
       "    <tr>\n",
       "      <th>2</th>\n",
       "      <td>Hey man, I'm really not trying to edit war. It...</td>\n",
       "      <td>0</td>\n",
       "    </tr>\n",
       "    <tr>\n",
       "      <th>3</th>\n",
       "      <td>\"\\nMore\\nI can't make any real suggestions on ...</td>\n",
       "      <td>0</td>\n",
       "    </tr>\n",
       "    <tr>\n",
       "      <th>4</th>\n",
       "      <td>You, sir, are my hero. Any chance you remember...</td>\n",
       "      <td>0</td>\n",
       "    </tr>\n",
       "  </tbody>\n",
       "</table>\n",
       "</div>"
      ],
      "text/plain": [
       "                                                text  toxic\n",
       "0  Explanation\\nWhy the edits made under my usern...      0\n",
       "1  D'aww! He matches this background colour I'm s...      0\n",
       "2  Hey man, I'm really not trying to edit war. It...      0\n",
       "3  \"\\nMore\\nI can't make any real suggestions on ...      0\n",
       "4  You, sir, are my hero. Any chance you remember...      0"
      ]
     },
     "execution_count": 2,
     "metadata": {},
     "output_type": "execute_result"
    }
   ],
   "source": [
    "# загрузим данные и укажем первый столбец как индекс таблицы\n",
    "df = pd.read_csv(\"toxic_comments.csv\", index_col = [0])\n",
    "df.head()"
   ]
  },
  {
   "cell_type": "code",
   "execution_count": 3,
   "id": "a13b2159",
   "metadata": {},
   "outputs": [
    {
     "data": {
      "text/plain": [
       "Index(['text', 'toxic'], dtype='object')"
      ]
     },
     "execution_count": 3,
     "metadata": {},
     "output_type": "execute_result"
    }
   ],
   "source": [
    "df.columns"
   ]
  },
  {
   "cell_type": "code",
   "execution_count": 4,
   "id": "e5c897c9",
   "metadata": {},
   "outputs": [
    {
     "name": "stdout",
     "output_type": "stream",
     "text": [
      "Количество строк в датасете: 159,292\n"
     ]
    }
   ],
   "source": [
    "print(\"Количество строк в датасете:\", \"{:,.0f}\".format(df.shape[0]))"
   ]
  },
  {
   "cell_type": "markdown",
   "id": "66d2b592",
   "metadata": {},
   "source": [
    "Посмотрим на распределение позитивных и негативных комментариев. Мы ожидаем дисбаланс между ними. При обучении моделей нужно будет учитывать это."
   ]
  },
  {
   "cell_type": "code",
   "execution_count": 5,
   "id": "266de867",
   "metadata": {},
   "outputs": [
    {
     "data": {
      "image/png": "[encoded data removed]",
      "text/plain": [
       "<Figure size 504x432 with 1 Axes>"
      ]
     },
     "metadata": {
      "needs_background": "light"
     },
     "output_type": "display_data"
    }
   ],
   "source": [
    "fig, ax = plt.subplots(figsize = (7, 6))\n",
    "\n",
    "sns.countplot(x = df[\"toxic\"], order = df[\"toxic\"].value_counts(ascending = False).index,\n",
    "                    palette = sns.color_palette(\"RdBu_r\"), ax = ax)\n",
    "\n",
    "ax.bar_label(container = ax.containers[0],\n",
    "             labels = [\"{:,.2%}\".format(i) for i in df[\"toxic\"].value_counts(ascending = False, \n",
    "                                                                                   normalize = True).values])\n",
    "ax.set(xlabel = \"Целевой признак\", ylabel = \"Количество объектов\")\n",
    "\n",
    "fig.suptitle(\"Распределение позитивных и негативных комментариев в датасете\")\n",
    "plt.show()"
   ]
  },
  {
   "cell_type": "markdown",
   "id": "3bd2c27b",
   "metadata": {},
   "source": [
    "Таким образом, дисбаланс классов подтвердился. Количество негативных комментариев практически в 9 больше, чем позитивных. Перед обучением моделей мы исправим дисбаланс, а пока продолжим подготовку данных.  "
   ]
  },
  {
   "cell_type": "code",
   "execution_count": 6,
   "id": "6fbcf96b",
   "metadata": {},
   "outputs": [
    {
     "name": "stdout",
     "output_type": "stream",
     "text": [
      "CPU times: user 26 s, sys: 3.59 s, total: 29.6 s\n",
      "Wall time: 1min 34s\n"
     ]
    }
   ],
   "source": [
    "%%time\n",
    "\n",
    "m = Mystem()\n",
    "\n",
    "def lemmatize_text(text):\n",
    "    text = text.lower()\n",
    "    lemm_text = \"\".join(m.lemmatize(text))\n",
    "    cleared_text = re.sub(r'[^a-zA-Z]', ' ', lemm_text) \n",
    "    return \" \".join(cleared_text.split())\n",
    "\n",
    "df[\"lemm_text\"] = df[\"text\"].apply(lemmatize_text)\n",
    "df = df.drop(\"text\", axis = 1)"
   ]
  },
  {
   "cell_type": "code",
   "execution_count": 7,
   "id": "6eaaeffa",
   "metadata": {},
   "outputs": [
    {
     "data": {
      "text/html": [
       "<div>\n",
       "<style scoped>\n",
       "    .dataframe tbody tr th:only-of-type {\n",
       "        vertical-align: middle;\n",
       "    }\n",
       "\n",
       "    .dataframe tbody tr th {\n",
       "        vertical-align: top;\n",
       "    }\n",
       "\n",
       "    .dataframe thead th {\n",
       "        text-align: right;\n",
       "    }\n",
       "</style>\n",
       "<table border=\"1\" class=\"dataframe\">\n",
       "  <thead>\n",
       "    <tr style=\"text-align: right;\">\n",
       "      <th></th>\n",
       "      <th>toxic</th>\n",
       "      <th>lemm_text</th>\n",
       "    </tr>\n",
       "  </thead>\n",
       "  <tbody>\n",
       "    <tr>\n",
       "      <th>0</th>\n",
       "      <td>0</td>\n",
       "      <td>explanation why the edits made under my userna...</td>\n",
       "    </tr>\n",
       "    <tr>\n",
       "      <th>1</th>\n",
       "      <td>0</td>\n",
       "      <td>d aww he matches this background colour i m se...</td>\n",
       "    </tr>\n",
       "    <tr>\n",
       "      <th>2</th>\n",
       "      <td>0</td>\n",
       "      <td>hey man i m really not trying to edit war it s...</td>\n",
       "    </tr>\n",
       "    <tr>\n",
       "      <th>3</th>\n",
       "      <td>0</td>\n",
       "      <td>more i can t make any real suggestions on impr...</td>\n",
       "    </tr>\n",
       "    <tr>\n",
       "      <th>4</th>\n",
       "      <td>0</td>\n",
       "      <td>you sir are my hero any chance you remember wh...</td>\n",
       "    </tr>\n",
       "  </tbody>\n",
       "</table>\n",
       "</div>"
      ],
      "text/plain": [
       "   toxic                                          lemm_text\n",
       "0      0  explanation why the edits made under my userna...\n",
       "1      0  d aww he matches this background colour i m se...\n",
       "2      0  hey man i m really not trying to edit war it s...\n",
       "3      0  more i can t make any real suggestions on impr...\n",
       "4      0  you sir are my hero any chance you remember wh..."
      ]
     },
     "execution_count": 7,
     "metadata": {},
     "output_type": "execute_result"
    }
   ],
   "source": [
    "df.head()"
   ]
  },
  {
   "cell_type": "markdown",
   "id": "4e699787",
   "metadata": {},
   "source": [
    "На текущем этапе мы завершим подготовку данных на лемматизации. Так как мы будем применять `upsampling` и `downsampling`, чтобы подоброть дисбаланс классов, то нам нужно будет подготовить три набора датасетов. Поэтому создание мешка слов и классификацию тональности текста проделаем позднее."
   ]
  },
  {
   "cell_type": "markdown",
   "id": "d5c16551",
   "metadata": {},
   "source": [
    "### Шаг 2. Обучение разных моделей"
   ]
  },
  {
   "cell_type": "markdown",
   "id": "7fd456ed",
   "metadata": {},
   "source": [
    "Так как после создания мешка слов и классификации тональности текста возвращается объект типа `scipy.sparse.csr.csr_matrix`, то в процессе `upsampling` и `downsampling` мы не сможем конкатинизовать его, необходимое для слияния всех таблиц воедино. Поэтому нам придется создать лишние наборы данных с признакми и таргетами. Тем не менее, тестировать модели мы будем на выборке, которую созданим в основном разбиении данных.\n",
    "\n",
    "Минимизировать будет функция потерь - `log_loss` (логистическая функция ошибки), а качество модели оценим с помощью F1-метрики."
   ]
  },
  {
   "cell_type": "markdown",
   "id": "c8c8212a",
   "metadata": {},
   "source": [
    "##### Оценка моделей до исправления дисбаланса классов"
   ]
  },
  {
   "cell_type": "code",
   "execution_count": 8,
   "id": "e25a6e6f",
   "metadata": {},
   "outputs": [],
   "source": [
    "base_features = df.drop(\"toxic\", axis = 1)\n",
    "base_target = df.drop(\"lemm_text\", axis = 1)"
   ]
  },
  {
   "cell_type": "code",
   "execution_count": 9,
   "id": "37ec5080",
   "metadata": {},
   "outputs": [
    {
     "name": "stderr",
     "output_type": "stream",
     "text": [
      "[nltk_data] Downloading package stopwords to\n",
      "[nltk_data]     /Users/amirgafurov/nltk_data...\n",
      "[nltk_data]   Package stopwords is already up-to-date!\n"
     ]
    }
   ],
   "source": [
    "nltk.download(\"stopwords\")\n",
    "stop_words = set(stopwords.words(\"english\"))\n",
    "count_tf_idf = TfidfVectorizer(stop_words = stop_words)\n",
    "\n",
    "\n",
    "features = count_tf_idf.fit_transform(base_features[\"lemm_text\"].values.astype('U'))\n",
    "target = df.drop(\"lemm_text\", axis = 1)"
   ]
  },
  {
   "cell_type": "markdown",
   "id": "1342beb3",
   "metadata": {},
   "source": [
    "Разделим датасет на обучающую и тестовую. Доля тестовой выборки составит 20%, на обучающей выборке сможем провести кросс-валидацию."
   ]
  },
  {
   "cell_type": "code",
   "execution_count": 10,
   "id": "b73f7ee2",
   "metadata": {},
   "outputs": [
    {
     "name": "stdout",
     "output_type": "stream",
     "text": [
      "Размерность обучающего набора признаков: (127433, 169757)\n",
      "Размерность тестового набора признаков: (31859, 169757)\n"
     ]
    }
   ],
   "source": [
    "features_train, features_test, target_train, target_test = train_test_split(features, \n",
    "                                target, test_size = 0.2, random_state = 12345)\n",
    "\n",
    "\n",
    "print(\"Размерность обучающего набора признаков:\", features_train.shape)\n",
    "print(\"Размерность тестового набора признаков:\", features_test.shape)"
   ]
  },
  {
   "cell_type": "markdown",
   "id": "ab9fafbb",
   "metadata": {},
   "source": [
    "##### Логистическая регрессия"
   ]
  },
  {
   "cell_type": "code",
   "execution_count": 11,
   "id": "b56677db",
   "metadata": {},
   "outputs": [],
   "source": [
    "base_logistic_regression = GridSearchCV(\n",
    "    LogisticRegression(random_state = 12345), param_grid = {\"penalty\" : [\"l1\", \"l2\", \"elasticnet\", None]},\n",
    "    cv = 5, scoring = make_scorer(log_loss)\n",
    ")"
   ]
  },
  {
   "cell_type": "code",
   "execution_count": 12,
   "id": "0b667a28",
   "metadata": {},
   "outputs": [
    {
     "data": {
      "text/plain": [
       "GridSearchCV(cv=5, estimator=LogisticRegression(random_state=12345),\n",
       "             param_grid={'penalty': ['l1', 'l2', 'elasticnet', None]},\n",
       "             scoring=make_scorer(log_loss))"
      ]
     },
     "execution_count": 12,
     "metadata": {},
     "output_type": "execute_result"
    }
   ],
   "source": [
    "base_logistic_regression.fit(features_train, target_train)"
   ]
  },
  {
   "cell_type": "code",
   "execution_count": 13,
   "id": "24113321",
   "metadata": {},
   "outputs": [
    {
     "name": "stdout",
     "output_type": "stream",
     "text": [
      "Параметры лучшей модели: {'penalty': 'l2'}\n"
     ]
    }
   ],
   "source": [
    "print(\"Параметры лучшей модели:\", base_logistic_regression.best_params_)"
   ]
  },
  {
   "cell_type": "code",
   "execution_count": 14,
   "id": "5d054a07",
   "metadata": {},
   "outputs": [
    {
     "name": "stdout",
     "output_type": "stream",
     "text": [
      "Значение функции потерь в результате обучения логистической модели: 1.64\n"
     ]
    }
   ],
   "source": [
    "base_logistic_regression_score = base_logistic_regression.best_score_\n",
    "\n",
    "print(\"Значение функции потерь в результате обучения логистической модели:\", \n",
    "      \"{:,.2f}\".format(base_logistic_regression_score))"
   ]
  },
  {
   "cell_type": "markdown",
   "id": "c0d5f3f3",
   "metadata": {},
   "source": [
    "##### Решающее дерево"
   ]
  },
  {
   "cell_type": "code",
   "execution_count": 15,
   "id": "5f7175da",
   "metadata": {},
   "outputs": [],
   "source": [
    "base_decision_tree = GridSearchCV(\n",
    "    DecisionTreeClassifier(random_state = 12345),\n",
    "    param_grid = {\"max_depth\" : np.arange(1, 11, 2)},\n",
    "    cv = 5, scoring = make_scorer(log_loss)\n",
    ")"
   ]
  },
  {
   "cell_type": "code",
   "execution_count": 16,
   "id": "98803df0",
   "metadata": {},
   "outputs": [
    {
     "data": {
      "text/plain": [
       "GridSearchCV(cv=5, estimator=DecisionTreeClassifier(random_state=12345),\n",
       "             param_grid={'max_depth': array([1, 3, 5, 7, 9])},\n",
       "             scoring=make_scorer(log_loss))"
      ]
     },
     "execution_count": 16,
     "metadata": {},
     "output_type": "execute_result"
    }
   ],
   "source": [
    "base_decision_tree.fit(features_train, target_train)"
   ]
  },
  {
   "cell_type": "code",
   "execution_count": 17,
   "id": "1a3adc63",
   "metadata": {},
   "outputs": [
    {
     "name": "stdout",
     "output_type": "stream",
     "text": [
      "Параметры лучшей модели: {'max_depth': 1}\n"
     ]
    }
   ],
   "source": [
    "print(\"Параметры лучшей модели:\", base_decision_tree.best_params_)"
   ]
  },
  {
   "cell_type": "code",
   "execution_count": 18,
   "id": "de622d00",
   "metadata": {},
   "outputs": [
    {
     "name": "stdout",
     "output_type": "stream",
     "text": [
      "Значение функции потерь в результате обучения решающего дерева: 2.98\n"
     ]
    }
   ],
   "source": [
    "base_decision_tree_score = base_decision_tree.best_score_\n",
    "\n",
    "print(\"Значение функции потерь в результате обучения решающего дерева:\", \n",
    "      \"{:,.2f}\".format(base_decision_tree_score))"
   ]
  },
  {
   "cell_type": "markdown",
   "id": "6e6f36c0",
   "metadata": {},
   "source": [
    "##### CatBoostClassifier"
   ]
  },
  {
   "cell_type": "code",
   "execution_count": 19,
   "id": "f08adbcc",
   "metadata": {},
   "outputs": [],
   "source": [
    "base_pool = Pool(features_train, target_train)"
   ]
  },
  {
   "cell_type": "code",
   "execution_count": 20,
   "id": "df1757c3",
   "metadata": {},
   "outputs": [],
   "source": [
    "base_catboost = CatBoostClassifier(iterations = 1000, learning_rate = 0.5, random_state = 12345)"
   ]
  },
  {
   "cell_type": "code",
   "execution_count": 21,
   "id": "21dcb459",
   "metadata": {},
   "outputs": [
    {
     "data": {
      "application/vnd.jupyter.widget-view+json": {
       "model_id": "3ba7c51f935e41eab79a85f1ca9f9b99",
       "version_major": 2,
       "version_minor": 0
      },
      "text/plain": [
       "MetricVisualizer(layout=Layout(align_self='stretch', height='500px'))"
      ]
     },
     "metadata": {},
     "output_type": "display_data"
    },
    {
     "data": {
      "text/plain": [
       "<catboost.core.CatBoostClassifier at 0x7ff704634700>"
      ]
     },
     "execution_count": 21,
     "metadata": {},
     "output_type": "execute_result"
    }
   ],
   "source": [
    "base_catboost.fit(base_pool, early_stopping_rounds = 50, verbose = False, plot = True)"
   ]
  },
  {
   "cell_type": "code",
   "execution_count": 22,
   "id": "2a24ab1b",
   "metadata": {},
   "outputs": [
    {
     "name": "stdout",
     "output_type": "stream",
     "text": [
      "Значение функции потерь в результате обучения решающего дерева: 0.05\n"
     ]
    }
   ],
   "source": [
    "base_catboost_score = base_catboost.get_best_score()[\"learn\"][\"Logloss\"]\n",
    "\n",
    "print(\"Значение функции потерь в результате обучения решающего дерева:\", \n",
    "      \"{:,.2f}\".format(base_catboost_score))"
   ]
  },
  {
   "cell_type": "markdown",
   "id": "203a64ac",
   "metadata": {},
   "source": [
    "##### LGBMClassifier"
   ]
  },
  {
   "cell_type": "code",
   "execution_count": 23,
   "id": "bdda5f39",
   "metadata": {},
   "outputs": [],
   "source": [
    "base_lgbm = GridSearchCV(\n",
    "    LGBMClassifier(n_estimators = 1000, random_state = 12345),\n",
    "    param_grid = {\"learning_rate\" : [0.3, 0.5, 0.7]},\n",
    "    cv = 5, scoring = make_scorer(log_loss)\n",
    ")"
   ]
  },
  {
   "cell_type": "code",
   "execution_count": 24,
   "id": "498d0bf2",
   "metadata": {},
   "outputs": [
    {
     "data": {
      "text/plain": [
       "GridSearchCV(cv=5,\n",
       "             estimator=LGBMClassifier(n_estimators=1000, random_state=12345),\n",
       "             param_grid={'learning_rate': [0.3, 0.5, 0.7]},\n",
       "             scoring=make_scorer(log_loss))"
      ]
     },
     "execution_count": 24,
     "metadata": {},
     "output_type": "execute_result"
    }
   ],
   "source": [
    "base_lgbm.fit(features_train, target_train)"
   ]
  },
  {
   "cell_type": "code",
   "execution_count": 25,
   "id": "1ed97fe7",
   "metadata": {},
   "outputs": [
    {
     "name": "stdout",
     "output_type": "stream",
     "text": [
      "Параметры лучшей модели: {'learning_rate': 0.7}\n"
     ]
    }
   ],
   "source": [
    "print(\"Параметры лучшей модели:\", base_lgbm.best_params_)"
   ]
  },
  {
   "cell_type": "code",
   "execution_count": 26,
   "id": "b4921719",
   "metadata": {},
   "outputs": [
    {
     "name": "stdout",
     "output_type": "stream",
     "text": [
      "Значение функции потерь в результате обучения решающего дерева: 14.35\n"
     ]
    }
   ],
   "source": [
    "base_lgbm_score = base_lgbm.best_score_\n",
    "\n",
    "print(\"Значение функции потерь в результате обучения решающего дерева:\", \n",
    "      \"{:,.2f}\".format(base_lgbm_score))"
   ]
  },
  {
   "cell_type": "markdown",
   "id": "c3d0b2e5",
   "metadata": {},
   "source": [
    "##### Выбор лучшей модели"
   ]
  },
  {
   "cell_type": "markdown",
   "id": "60ea6919",
   "metadata": {},
   "source": [
    "Для выбора лучшей модели создадим отдельную таблицу со значениями `Log-loss`."
   ]
  },
  {
   "cell_type": "code",
   "execution_count": 27,
   "id": "35b98993",
   "metadata": {},
   "outputs": [
    {
     "data": {
      "text/html": [
       "<div>\n",
       "<style scoped>\n",
       "    .dataframe tbody tr th:only-of-type {\n",
       "        vertical-align: middle;\n",
       "    }\n",
       "\n",
       "    .dataframe tbody tr th {\n",
       "        vertical-align: top;\n",
       "    }\n",
       "\n",
       "    .dataframe thead th {\n",
       "        text-align: right;\n",
       "    }\n",
       "</style>\n",
       "<table border=\"1\" class=\"dataframe\">\n",
       "  <thead>\n",
       "    <tr style=\"text-align: right;\">\n",
       "      <th></th>\n",
       "      <th>Log-loss</th>\n",
       "    </tr>\n",
       "  </thead>\n",
       "  <tbody>\n",
       "    <tr>\n",
       "      <th>Logistic regression</th>\n",
       "      <td>1.642202</td>\n",
       "    </tr>\n",
       "    <tr>\n",
       "      <th>Decision tree</th>\n",
       "      <td>2.978944</td>\n",
       "    </tr>\n",
       "    <tr>\n",
       "      <th>CatBoostClassifier</th>\n",
       "      <td>0.054081</td>\n",
       "    </tr>\n",
       "    <tr>\n",
       "      <th>LGBMClassifier</th>\n",
       "      <td>14.348638</td>\n",
       "    </tr>\n",
       "  </tbody>\n",
       "</table>\n",
       "</div>"
      ],
      "text/plain": [
       "                      Log-loss\n",
       "Logistic regression   1.642202\n",
       "Decision tree         2.978944\n",
       "CatBoostClassifier    0.054081\n",
       "LGBMClassifier       14.348638"
      ]
     },
     "execution_count": 27,
     "metadata": {},
     "output_type": "execute_result"
    }
   ],
   "source": [
    "index = [\"Logistic regression\", \"Decision tree\", \"CatBoostClassifier\", \"LGBMClassifier\"]\n",
    "data = {\"Log-loss\" : [base_logistic_regression_score, \n",
    "                     base_decision_tree_score, base_catboost_score, base_lgbm_score]}\n",
    "base_model = pd.DataFrame(data = data, index = index)\n",
    "base_model"
   ]
  },
  {
   "cell_type": "markdown",
   "id": "5df84592",
   "metadata": {},
   "source": [
    "Таким образом, лучшей моделью становится `CatBoostClassifier`. Посчитаем F1-метрику для нее."
   ]
  },
  {
   "cell_type": "code",
   "execution_count": 28,
   "id": "e53a43f3",
   "metadata": {},
   "outputs": [],
   "source": [
    "base_catboost_predict = base_catboost.predict(features_test)"
   ]
  },
  {
   "cell_type": "code",
   "execution_count": 29,
   "id": "4f3d9a02",
   "metadata": {},
   "outputs": [
    {
     "data": {
      "text/plain": [
       "array([[28338,   291],\n",
       "       [ 1033,  2197]])"
      ]
     },
     "execution_count": 29,
     "metadata": {},
     "output_type": "execute_result"
    }
   ],
   "source": [
    "confusion_matrix(target_test, base_catboost_predict)"
   ]
  },
  {
   "cell_type": "markdown",
   "id": "e709f88b",
   "metadata": {},
   "source": [
    "Среди всех объектов, предсказанных положительным классом, 68% действительно оказались положительными."
   ]
  },
  {
   "cell_type": "code",
   "execution_count": 30,
   "id": "da071ad4",
   "metadata": {},
   "outputs": [
    {
     "name": "stdout",
     "output_type": "stream",
     "text": [
      "Значение метрики recall: 68.02%\n"
     ]
    }
   ],
   "source": [
    "print(\"Значение метрики recall:\", \"{:,.2%}\".format(recall_score(target_test, base_catboost_predict)))"
   ]
  },
  {
   "cell_type": "markdown",
   "id": "19f8e21d",
   "metadata": {},
   "source": [
    "Наша модель корректно определила чуть больше 88% среди всех положительных ответов."
   ]
  },
  {
   "cell_type": "code",
   "execution_count": 31,
   "id": "a4163cd5",
   "metadata": {},
   "outputs": [
    {
     "name": "stdout",
     "output_type": "stream",
     "text": [
      "Значение метрики precision: 88.30%\n"
     ]
    }
   ],
   "source": [
    "print(\"Значение метрики precision:\", \"{:,.2%}\".format(precision_score(target_test, base_catboost_predict)))"
   ]
  },
  {
   "cell_type": "code",
   "execution_count": 32,
   "id": "50d41f9d",
   "metadata": {},
   "outputs": [
    {
     "name": "stdout",
     "output_type": "stream",
     "text": [
      "F1-метрика: 0.77\n"
     ]
    }
   ],
   "source": [
    "print(\"F1-метрика:\", \"{:,.2f}\".format(f1_score(target_test, base_catboost_predict)))"
   ]
  },
  {
   "cell_type": "markdown",
   "id": "dceb199d",
   "metadata": {},
   "source": [
    "F1-мера составляет 0.77, что выше целевого значения в 0.75."
   ]
  },
  {
   "cell_type": "code",
   "execution_count": 33,
   "id": "6c49a4dd",
   "metadata": {},
   "outputs": [
    {
     "name": "stdout",
     "output_type": "stream",
     "text": [
      "Значение метрики ROC-AUC: 96.34%\n"
     ]
    }
   ],
   "source": [
    "base_catboost_probabilities = base_catboost.predict_proba(features_test)\n",
    "base_catboost_probabilities_one = base_catboost_probabilities[:, 1]\n",
    "\n",
    "print(\"Значение метрики ROC-AUC:\", \"{:,.2%}\".format(roc_auc_score(target_test, base_catboost_probabilities_one)))"
   ]
  },
  {
   "cell_type": "code",
   "execution_count": 34,
   "id": "f0c728a1",
   "metadata": {},
   "outputs": [
    {
     "data": {
      "image/png": "[encoded data removed]",
      "text/plain": [
       "<Figure size 576x288 with 1 Axes>"
      ]
     },
     "metadata": {
      "needs_background": "light"
     },
     "output_type": "display_data"
    }
   ],
   "source": [
    "precision, recall, thresholds = precision_recall_curve(target_test, base_catboost_probabilities_one)\n",
    "fpr, tpr, threshold = roc_curve(target_test, base_catboost_probabilities_one)\n",
    "plt.figure(figsize = (8, 4))\n",
    "plt.step(fpr, tpr, where = 'post')\n",
    "plt.plot(fpr, tpr)\n",
    "plt.xlim([0.0, 1.0])\n",
    "plt.ylim([0.0, 1.0])\n",
    "plt.xlabel('False Positive Rate')\n",
    "plt.ylabel('True Positive Rate')\n",
    "plt.title('ROC-кривая')\n",
    "plt.show()"
   ]
  },
  {
   "cell_type": "markdown",
   "id": "eebfb895",
   "metadata": {},
   "source": [
    "### Выводы\n",
    "---\n",
    "Таким образом, мы построили модель, которая показывает хороший резльтат. F1-мера составила 0.77, а, значит, цель работы выполнена. Наша модель корректно выявила 88% положительных комментариев среди всех положительных. Однако только 68% комментариев действительно оказываются положительными, если наша модель отметит их как положительный класс. Тем не менее, результаты нашей модели могут быть улучшены. Посмотрим, улучшатся ли рассмотренный выше метрики в результате `upsampling` и `downsampling`."
   ]
  },
  {
   "cell_type": "markdown",
   "id": "8fd01a93",
   "metadata": {},
   "source": [
    "##### Upsample"
   ]
  },
  {
   "cell_type": "markdown",
   "id": "2556cb1b",
   "metadata": {},
   "source": [
    "Напишем функцию, чтобы поменять баланс классов благодаря увеличению позитивных ответов."
   ]
  },
  {
   "cell_type": "code",
   "execution_count": 35,
   "id": "b29f42a3",
   "metadata": {},
   "outputs": [],
   "source": [
    "def upsample(features, target, repeat):\n",
    "    \n",
    "    features_zeros = features.loc[target[target[\"toxic\"] == 0].index]\n",
    "    features_ones = features.loc[target[target[\"toxic\"] == 1].index]\n",
    "    target_zeros = target[target[\"toxic\"] == 0]\n",
    "    target_ones = target[target[\"toxic\"] == 1]\n",
    "\n",
    "    features_upsampled = pd.concat([features_zeros] + [features_ones] * repeat)\n",
    "    target_unsampled = pd.concat([target_zeros] + [target_ones] * repeat)\n",
    "\n",
    "    return shuffle(features_upsampled, target_unsampled, random_state = 12345)"
   ]
  },
  {
   "cell_type": "code",
   "execution_count": 36,
   "id": "2c96c97f",
   "metadata": {},
   "outputs": [
    {
     "name": "stdout",
     "output_type": "stream",
     "text": [
      "(288780, 1)\n",
      "(288780, 1)\n"
     ]
    }
   ],
   "source": [
    "features_upsampled, target_upsampled = upsample(base_features, base_target, \n",
    "                    ceil(base_target[\"toxic\"].value_counts()[0] / base_target[\"toxic\"].value_counts()[1]))\n",
    "\n",
    "print(features_upsampled.shape)\n",
    "print(target_upsampled.shape)"
   ]
  },
  {
   "cell_type": "code",
   "execution_count": 37,
   "id": "78cf085f",
   "metadata": {},
   "outputs": [
    {
     "name": "stdout",
     "output_type": "stream",
     "text": [
      "(288780, 169757)\n"
     ]
    }
   ],
   "source": [
    "features_upsampled = count_tf_idf.fit_transform(features_upsampled[\"lemm_text\"].values.astype('U'))\n",
    "print(features_upsampled.shape)"
   ]
  },
  {
   "cell_type": "code",
   "execution_count": 38,
   "id": "b31041e1",
   "metadata": {},
   "outputs": [
    {
     "name": "stdout",
     "output_type": "stream",
     "text": [
      "Размерность обучающего набора признаков: (231024, 169757)\n",
      "Размерность тестового набора признаков: (57756, 169757)\n"
     ]
    }
   ],
   "source": [
    "features_upsampled_train, features_upsampled_test, target_upsampled_train, target_upsampled_test = (\n",
    "    train_test_split(features_upsampled, target_upsampled, test_size = 0.2, random_state = 12345)\n",
    ")\n",
    "\n",
    "print(\"Размерность обучающего набора признаков:\", features_upsampled_train.shape)\n",
    "print(\"Размерность тестового набора признаков:\", features_upsampled_test.shape)"
   ]
  },
  {
   "cell_type": "code",
   "execution_count": 39,
   "id": "cdbaa604",
   "metadata": {},
   "outputs": [],
   "source": [
    "upsampled_pool = Pool(features_upsampled_train, target_upsampled_train)"
   ]
  },
  {
   "cell_type": "code",
   "execution_count": 40,
   "id": "2aeace81",
   "metadata": {},
   "outputs": [],
   "source": [
    "upsampled_catboost = CatBoostClassifier(iterations = 1000, learning_rate = 0.5, random_state = 12345)"
   ]
  },
  {
   "cell_type": "code",
   "execution_count": 41,
   "id": "ec087318",
   "metadata": {},
   "outputs": [
    {
     "data": {
      "application/vnd.jupyter.widget-view+json": {
       "model_id": "f2e6368aeddb438aa437c691482802ec",
       "version_major": 2,
       "version_minor": 0
      },
      "text/plain": [
       "MetricVisualizer(layout=Layout(align_self='stretch', height='500px'))"
      ]
     },
     "metadata": {},
     "output_type": "display_data"
    },
    {
     "data": {
      "text/plain": [
       "<catboost.core.CatBoostClassifier at 0x7ff6fdd10190>"
      ]
     },
     "execution_count": 41,
     "metadata": {},
     "output_type": "execute_result"
    }
   ],
   "source": [
    "upsampled_catboost.fit(upsampled_pool, early_stopping_rounds = 50, verbose = False, plot = True)"
   ]
  },
  {
   "cell_type": "code",
   "execution_count": 42,
   "id": "51d769af",
   "metadata": {},
   "outputs": [],
   "source": [
    "upsampled_catboost_predict = upsampled_catboost.predict(features_test)"
   ]
  },
  {
   "cell_type": "code",
   "execution_count": 43,
   "id": "018a4e37",
   "metadata": {},
   "outputs": [
    {
     "data": {
      "text/plain": [
       "array([[27799,   830],\n",
       "       [   20,  3210]])"
      ]
     },
     "execution_count": 43,
     "metadata": {},
     "output_type": "execute_result"
    }
   ],
   "source": [
    "confusion_matrix(target_test, upsampled_catboost_predict)"
   ]
  },
  {
   "cell_type": "markdown",
   "id": "4ddab9ce",
   "metadata": {},
   "source": [
    "В результате обучения модели на выборке, где доля положительных и отрицательных комментариев примерно одинаковое, наша модель корректно чуть больше 99% положительных комментариев на тестовой выборке."
   ]
  },
  {
   "cell_type": "code",
   "execution_count": 44,
   "id": "1fa74491",
   "metadata": {},
   "outputs": [
    {
     "name": "stdout",
     "output_type": "stream",
     "text": [
      "Значение метрики recall: 99.38%\n"
     ]
    }
   ],
   "source": [
    "print(\"Значение метрики recall:\", \"{:,.2%}\".format(recall_score(target_test, upsampled_catboost_predict)))"
   ]
  },
  {
   "cell_type": "markdown",
   "id": "4228b973",
   "metadata": {},
   "source": [
    "Среди всех предсказаний положительных комментариев нашей моделью действительно положительными оказались чуть больше 79%. "
   ]
  },
  {
   "cell_type": "code",
   "execution_count": 45,
   "id": "92439db0",
   "metadata": {},
   "outputs": [
    {
     "name": "stdout",
     "output_type": "stream",
     "text": [
      "Значение метрики precision: 79.46%\n"
     ]
    }
   ],
   "source": [
    "print(\"Значение метрики precision:\", \"{:,.2%}\".format(precision_score(target_test, upsampled_catboost_predict)))"
   ]
  },
  {
   "cell_type": "markdown",
   "id": "715819f1",
   "metadata": {},
   "source": [
    "F1-мера теперь составила 0.88."
   ]
  },
  {
   "cell_type": "code",
   "execution_count": 46,
   "id": "59d8ddd9",
   "metadata": {},
   "outputs": [
    {
     "name": "stdout",
     "output_type": "stream",
     "text": [
      "F1-метрика: 0.88\n"
     ]
    }
   ],
   "source": [
    "print(\"F1-метрика:\", \"{:,.2f}\".format(f1_score(target_test, upsampled_catboost_predict)))"
   ]
  },
  {
   "cell_type": "code",
   "execution_count": 47,
   "id": "db044df2",
   "metadata": {},
   "outputs": [
    {
     "name": "stdout",
     "output_type": "stream",
     "text": [
      "Значение метрики ROC-AUC: 99.65%\n"
     ]
    }
   ],
   "source": [
    "upsampled_catboost_probabilities = upsampled_catboost.predict_proba(features_test)\n",
    "upsampled_catboost_probabilities_one = upsampled_catboost_probabilities[:, 1]\n",
    "\n",
    "print(\"Значение метрики ROC-AUC:\", \n",
    "      \"{:,.2%}\".format(roc_auc_score(target_test, upsampled_catboost_probabilities_one)))"
   ]
  },
  {
   "cell_type": "code",
   "execution_count": 48,
   "id": "b3dbe778",
   "metadata": {},
   "outputs": [
    {
     "data": {
      "image/png": "[encoded data removed]",
      "text/plain": [
       "<Figure size 576x288 with 1 Axes>"
      ]
     },
     "metadata": {
      "needs_background": "light"
     },
     "output_type": "display_data"
    }
   ],
   "source": [
    "precision, recall, thresholds = precision_recall_curve(target_test, upsampled_catboost_probabilities_one)\n",
    "fpr, tpr, threshold = roc_curve(target_test, upsampled_catboost_probabilities_one)\n",
    "plt.figure(figsize = (8, 4))\n",
    "plt.step(fpr, tpr, where = 'post')\n",
    "plt.plot(fpr, tpr)\n",
    "plt.xlim([0.0, 1.0])\n",
    "plt.ylim([0.0, 1.0])\n",
    "plt.xlabel('False Positive Rate')\n",
    "plt.ylabel('True Positive Rate')\n",
    "plt.title('ROC-кривая')\n",
    "plt.show()"
   ]
  },
  {
   "cell_type": "markdown",
   "id": "f03a3f92",
   "metadata": {},
   "source": [
    "### Выводы\n",
    "---\n",
    "Таким образом, методика `upsampling` привела к улучшению модели. Обучившись на наборе данных с примерно одинаковыми классами, наша модель начала еще лучше предсказывать положительные комментарии. Это выражается в улучшении всех рассматриваемых нами метрик (`recall`, `precision`, `F1`, `AUC-ROC`)."
   ]
  },
  {
   "cell_type": "markdown",
   "id": "f945a1fe",
   "metadata": {},
   "source": [
    "##### Downsample"
   ]
  },
  {
   "cell_type": "code",
   "execution_count": 49,
   "id": "94790079",
   "metadata": {},
   "outputs": [],
   "source": [
    "def downsample(features, target, fraction):\n",
    "    \n",
    "    features_zeros = features.loc[target[target[\"toxic\"] == 0].index]\n",
    "    features_ones = features.loc[target[target[\"toxic\"] == 1].index]\n",
    "    target_zeros = target[target[\"toxic\"] == 0]\n",
    "    target_ones = target[target[\"toxic\"] == 1]\n",
    "\n",
    "    features_downsampled = pd.concat(\n",
    "        [features_zeros.sample(frac = fraction, random_state = 12345)] + [features_ones]\n",
    "    )\n",
    "    \n",
    "    target_downsampled = pd.concat(\n",
    "        [target_zeros.sample(frac = fraction, random_state = 12345)] + [target_ones]\n",
    "    )\n",
    "\n",
    "    features_downsampled, target_downsampled = (\n",
    "        shuffle(features_downsampled, target_downsampled, random_state = 12345)\n",
    "    )\n",
    "\n",
    "    return features_downsampled, target_downsampled"
   ]
  },
  {
   "cell_type": "code",
   "execution_count": 50,
   "id": "c5c406be",
   "metadata": {},
   "outputs": [
    {
     "name": "stdout",
     "output_type": "stream",
     "text": [
      "(32372, 1)\n",
      "(32372, 1)\n"
     ]
    }
   ],
   "source": [
    "features_downsampled, target_downsampled = downsample(base_features, base_target, \n",
    "                    base_target[\"toxic\"].value_counts()[1] / base_target[\"toxic\"].value_counts()[0])\n",
    "\n",
    "print(features_downsampled.shape)\n",
    "print(target_downsampled.shape)"
   ]
  },
  {
   "cell_type": "code",
   "execution_count": 51,
   "id": "dfa5273d",
   "metadata": {},
   "outputs": [
    {
     "name": "stdout",
     "output_type": "stream",
     "text": [
      "(32372, 62474)\n"
     ]
    }
   ],
   "source": [
    "features_downsampled = count_tf_idf.fit_transform(features_downsampled[\"lemm_text\"].values.astype('U'))\n",
    "print(features_downsampled.shape)"
   ]
  },
  {
   "cell_type": "code",
   "execution_count": 52,
   "id": "4df5b7ec",
   "metadata": {},
   "outputs": [
    {
     "name": "stdout",
     "output_type": "stream",
     "text": [
      "Размерность обучающего набора признаков: (25897, 62474)\n",
      "Размерность тестового набора признаков: (6475, 62474)\n"
     ]
    }
   ],
   "source": [
    "features_downsampled_train, features_downsampled_test, target_downsampled_train, target_downsampled_test = (\n",
    "    train_test_split(features_downsampled, target_downsampled, test_size = 0.2, random_state = 12345)\n",
    ")\n",
    "\n",
    "print(\"Размерность обучающего набора признаков:\", features_downsampled_train.shape)\n",
    "print(\"Размерность тестового набора признаков:\", features_downsampled_test.shape)"
   ]
  },
  {
   "cell_type": "code",
   "execution_count": 53,
   "id": "e80373e9",
   "metadata": {},
   "outputs": [],
   "source": [
    "downsampled_pool = Pool(features_downsampled_train, target_downsampled_train)"
   ]
  },
  {
   "cell_type": "code",
   "execution_count": 54,
   "id": "7e2399b6",
   "metadata": {},
   "outputs": [],
   "source": [
    "downsampled_catboost = CatBoostClassifier(iterations = 1000, learning_rate = 0.5, random_state = 12345)"
   ]
  },
  {
   "cell_type": "code",
   "execution_count": 55,
   "id": "163747b4",
   "metadata": {},
   "outputs": [
    {
     "data": {
      "application/vnd.jupyter.widget-view+json": {
       "model_id": "323a4bf7722444dabf7327a3c08e1721",
       "version_major": 2,
       "version_minor": 0
      },
      "text/plain": [
       "MetricVisualizer(layout=Layout(align_self='stretch', height='500px'))"
      ]
     },
     "metadata": {},
     "output_type": "display_data"
    },
    {
     "data": {
      "text/plain": [
       "<catboost.core.CatBoostClassifier at 0x7ff70472ed00>"
      ]
     },
     "execution_count": 55,
     "metadata": {},
     "output_type": "execute_result"
    }
   ],
   "source": [
    "downsampled_catboost.fit(downsampled_pool, early_stopping_rounds = 50, verbose = False, plot = True)"
   ]
  },
  {
   "cell_type": "code",
   "execution_count": 56,
   "id": "c9d87a4a",
   "metadata": {},
   "outputs": [],
   "source": [
    "downsampled_catboost_predict = downsampled_catboost.predict(features_test)"
   ]
  },
  {
   "cell_type": "code",
   "execution_count": 57,
   "id": "76b71be2",
   "metadata": {},
   "outputs": [
    {
     "data": {
      "text/plain": [
       "array([[27620,  1009],\n",
       "       [ 3142,    88]])"
      ]
     },
     "execution_count": 57,
     "metadata": {},
     "output_type": "execute_result"
    }
   ],
   "source": [
    "confusion_matrix(target_test, downsampled_catboost_predict)"
   ]
  },
  {
   "cell_type": "code",
   "execution_count": 58,
   "id": "3b30d1a0",
   "metadata": {},
   "outputs": [
    {
     "name": "stdout",
     "output_type": "stream",
     "text": [
      "Значение метрики recall: 2.72%\n"
     ]
    }
   ],
   "source": [
    "print(\"Значение метрики recall:\", \"{:,.2%}\".format(recall_score(target_test, downsampled_catboost_predict)))"
   ]
  },
  {
   "cell_type": "code",
   "execution_count": 59,
   "id": "789d5bb4",
   "metadata": {},
   "outputs": [
    {
     "name": "stdout",
     "output_type": "stream",
     "text": [
      "Значение метрики precision: 8.02%\n"
     ]
    }
   ],
   "source": [
    "print(\"Значение метрики precision:\", \"{:,.2%}\".format(precision_score(target_test, downsampled_catboost_predict)))"
   ]
  },
  {
   "cell_type": "markdown",
   "id": "23df9227",
   "metadata": {},
   "source": [
    "Несмотря на то, что уменьшили количество негативных комментариев, сбалансировав их с положительными комментариями, общая обучающая выборка стала маленькой, в результате чего метрики существенно ухудшились."
   ]
  },
  {
   "cell_type": "code",
   "execution_count": 60,
   "id": "f708f6f6",
   "metadata": {},
   "outputs": [
    {
     "name": "stdout",
     "output_type": "stream",
     "text": [
      "F1-метрика: 0.04\n"
     ]
    }
   ],
   "source": [
    "print(\"F1-метрика:\", \"{:,.2f}\".format(f1_score(target_test, downsampled_catboost_predict)))"
   ]
  },
  {
   "cell_type": "code",
   "execution_count": 61,
   "id": "57c865b0",
   "metadata": {},
   "outputs": [
    {
     "name": "stdout",
     "output_type": "stream",
     "text": [
      "Значение метрики ROC-AUC: 47.98%\n"
     ]
    }
   ],
   "source": [
    "downsampled_catboost_probabilities = downsampled_catboost.predict_proba(features_test)\n",
    "downsampled_catboost_probabilities_one = downsampled_catboost_probabilities[:, 1]\n",
    "\n",
    "print(\"Значение метрики ROC-AUC:\", \n",
    "      \"{:,.2%}\".format(roc_auc_score(target_test, downsampled_catboost_probabilities_one)))"
   ]
  },
  {
   "cell_type": "code",
   "execution_count": 62,
   "id": "af850b5c",
   "metadata": {},
   "outputs": [
    {
     "data": {
      "image/png": "[encoded data removed]",
      "text/plain": [
       "<Figure size 576x288 with 1 Axes>"
      ]
     },
     "metadata": {
      "needs_background": "light"
     },
     "output_type": "display_data"
    }
   ],
   "source": [
    "precision, recall, thresholds = precision_recall_curve(target_test, downsampled_catboost_probabilities_one)\n",
    "fpr, tpr, threshold = roc_curve(target_test, downsampled_catboost_probabilities_one)\n",
    "plt.figure(figsize = (8, 4))\n",
    "plt.step(fpr, tpr, where = 'post')\n",
    "plt.plot(fpr, tpr)\n",
    "plt.xlim([0.0, 1.0])\n",
    "plt.ylim([0.0, 1.0])\n",
    "plt.xlabel('False Positive Rate')\n",
    "plt.ylabel('True Positive Rate')\n",
    "plt.title('ROC-кривая')\n",
    "plt.show()"
   ]
  },
  {
   "cell_type": "markdown",
   "id": "13caa437",
   "metadata": {},
   "source": [
    "### Выводы\n",
    "---\n",
    "Таким образом, техника `downsampling` привела к существенному ухудшению метрик. Наша модель стала даже хуже, чем базовая, которую мы обучали без корректировки дисбаланса классов."
   ]
  },
  {
   "cell_type": "markdown",
   "id": "e471fb86",
   "metadata": {},
   "source": [
    "### Шаг 3. Общие выводы\n",
    "---\n",
    "В данной работе:\n",
    "1. мы провели подготовку датасета с комментариями пользователей; \n",
    "2. мы перевели их в векторный вид, понятный для компьютера; \n",
    "3. мы проделали необходимые шаги, чтобы алгоритмы понимали тональность комментариев;\n",
    "4. мы оцениили модель до исправления дисбаланса классов и выбрали лучшую среди них;\n",
    "5. мы применили две техники для исправления дисбаланса классов и посмотрили, как они влияют на метрики.\n",
    "\n",
    "Таким образом, лучшей моделью стала `CatBoostClassifier` с 1 тыс. деревьев и коэффициентом обучения 0.5. До исправления баланса классов F1-мера составила 0.77, `recall` - 68.02%, `precision` - 88.30%, `ROC-AUC` - 96.34%.\n",
    "\n",
    "В результате применения `upsampling` модель улучшилась: F1-мера составила 0.88, `recall` - 99.38%, `precision` - 79.46%, `ROC-AUC` - 99.65%.\n",
    "\n",
    "Обратный эффект мы получили в результате применения `downsampling`. Все метрики существенно ухудшились."
   ]
  }
 ],
 "metadata": {
  "kernelspec": {
   "display_name": "Python 3 (ipykernel)",
   "language": "python",
   "name": "python3"
  },
  "language_info": {
   "codemirror_mode": {
    "name": "ipython",
    "version": 3
   },
   "file_extension": ".py",
   "mimetype": "text/x-python",
   "name": "python",
   "nbconvert_exporter": "python",
   "pygments_lexer": "ipython3",
   "version": "3.9.12"
  }
 },
 "nbformat": 4,
 "nbformat_minor": 5
}
