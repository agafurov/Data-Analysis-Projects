{
 "cells": [
  {
   "cell_type": "markdown",
   "metadata": {},
   "source": [
    "# Проектная работа: Отток клиентов"
   ]
  },
  {
   "cell_type": "markdown",
   "metadata": {},
   "source": [
    "## Описание проекта\n",
    "\n",
    "Из «Бета-Банка» стали уходить клиенты. Каждый месяц. Немного, но заметно. Банковские маркетологи посчитали: сохранять текущих клиентов дешевле, чем привлекать новых.\n",
    "\n",
    "Нам предоставлены исторические данные о поведении клиентов и расторжении договоров с банком.\n",
    "\n",
    "**Целью** данной проектной работы является разработка модели, которая могла бы успешно прогнозировать, уйдёт клиент из банка в ближайшее время или нет. \n",
    "\n",
    "**Задачи** проекта заключаются в следующем:\n",
    "1. Построении модели с большим значением F1-меры. **Минимальное** приемлемое значение F1-меры равняется 0.59.\n",
    "2. Проверка F1-меры на тестовой выборке.\n",
    "3. Подсчет AUC-ROC и сравнение её значения с F1-мерой.\n",
    "\n",
    "**Описание данных**:\n",
    "1. **Признаки**:\n",
    "    - `RowNumber` - индекс строки в данных\n",
    "    - `CustomerId` - уникальный идентификатор клиента\n",
    "    - `Surname` - фамилия\n",
    "    - `CreditScore` - кредитный рейтинг\n",
    "    - `Geography` - страна проживания\n",
    "    - `Gender` - пол\n",
    "    - `Age` - возраст\n",
    "    - `Tenure` - сколько лет человек является клиентом банка\n",
    "    - `Balance` - баланс на счёте\n",
    "    - `NumOfProducts` - количество продуктов банка, используемых клиентом\n",
    "    - `HasCrCard` - наличие кредитной карты\n",
    "    - `IsActiveMember` - активность клиента\n",
    "    - `EstimatedSalary` - предполагаемая зарплата\n",
    "\n",
    "2. **Целевой признак**:\n",
    "    - `Exited` - факт ухода клиента\n",
    "\n",
    "**План работы**:\n",
    "1. Загрузка и подготовка данных.\n",
    "2. Исследование баланса классов и обучение моделей без учёта дисбаланса.\n",
    "3. Улучшение качества моделей благодаря снижению дисбаланса классов.\n",
    "4. Выводы."
   ]
  },
  {
   "cell_type": "markdown",
   "metadata": {},
   "source": [
    "### Шаг 1. Загрузка и подготовка данных"
   ]
  },
  {
   "cell_type": "markdown",
   "metadata": {},
   "source": [
    "##### 1.1. Просмотр данных"
   ]
  },
  {
   "cell_type": "code",
   "execution_count": 1,
   "metadata": {},
   "outputs": [],
   "source": [
    "# импортируем необходимые библиотеки и модули\n",
    "import pandas as pd\n",
    "import numpy as np\n",
    "import seaborn as sns\n",
    "import matplotlib.pyplot as plt\n",
    "from sklearn.tree import DecisionTreeClassifier\n",
    "from sklearn.ensemble import RandomForestClassifier\n",
    "from sklearn.linear_model import LogisticRegression\n",
    "from sklearn.metrics import f1_score, roc_curve, roc_auc_score, recall_score, precision_score, confusion_matrix, accuracy_score, precision_recall_curve\n",
    "from sklearn.model_selection import train_test_split\n",
    "from sklearn.preprocessing import OrdinalEncoder, StandardScaler\n",
    "from sklearn.utils import shuffle"
   ]
  },
  {
   "cell_type": "code",
   "execution_count": 2,
   "metadata": {},
   "outputs": [
    {
     "data": {
      "text/html": [
       "<style type=\"text/css\">\n",
       "</style>\n",
       "<table id=\"T_8b8c9\">\n",
       "  <thead>\n",
       "    <tr>\n",
       "      <th class=\"blank level0\" >&nbsp;</th>\n",
       "      <th id=\"T_8b8c9_level0_col0\" class=\"col_heading level0 col0\" >RowNumber</th>\n",
       "      <th id=\"T_8b8c9_level0_col1\" class=\"col_heading level0 col1\" >CustomerId</th>\n",
       "      <th id=\"T_8b8c9_level0_col2\" class=\"col_heading level0 col2\" >Surname</th>\n",
       "      <th id=\"T_8b8c9_level0_col3\" class=\"col_heading level0 col3\" >CreditScore</th>\n",
       "      <th id=\"T_8b8c9_level0_col4\" class=\"col_heading level0 col4\" >Geography</th>\n",
       "      <th id=\"T_8b8c9_level0_col5\" class=\"col_heading level0 col5\" >Gender</th>\n",
       "      <th id=\"T_8b8c9_level0_col6\" class=\"col_heading level0 col6\" >Age</th>\n",
       "      <th id=\"T_8b8c9_level0_col7\" class=\"col_heading level0 col7\" >Tenure</th>\n",
       "      <th id=\"T_8b8c9_level0_col8\" class=\"col_heading level0 col8\" >Balance</th>\n",
       "      <th id=\"T_8b8c9_level0_col9\" class=\"col_heading level0 col9\" >NumOfProducts</th>\n",
       "      <th id=\"T_8b8c9_level0_col10\" class=\"col_heading level0 col10\" >HasCrCard</th>\n",
       "      <th id=\"T_8b8c9_level0_col11\" class=\"col_heading level0 col11\" >IsActiveMember</th>\n",
       "      <th id=\"T_8b8c9_level0_col12\" class=\"col_heading level0 col12\" >EstimatedSalary</th>\n",
       "      <th id=\"T_8b8c9_level0_col13\" class=\"col_heading level0 col13\" >Exited</th>\n",
       "    </tr>\n",
       "  </thead>\n",
       "  <tbody>\n",
       "    <tr>\n",
       "      <th id=\"T_8b8c9_level0_row0\" class=\"row_heading level0 row0\" >0</th>\n",
       "      <td id=\"T_8b8c9_row0_col0\" class=\"data row0 col0\" >1</td>\n",
       "      <td id=\"T_8b8c9_row0_col1\" class=\"data row0 col1\" >15634602</td>\n",
       "      <td id=\"T_8b8c9_row0_col2\" class=\"data row0 col2\" >Hargrave</td>\n",
       "      <td id=\"T_8b8c9_row0_col3\" class=\"data row0 col3\" >619</td>\n",
       "      <td id=\"T_8b8c9_row0_col4\" class=\"data row0 col4\" >France</td>\n",
       "      <td id=\"T_8b8c9_row0_col5\" class=\"data row0 col5\" >Female</td>\n",
       "      <td id=\"T_8b8c9_row0_col6\" class=\"data row0 col6\" >42</td>\n",
       "      <td id=\"T_8b8c9_row0_col7\" class=\"data row0 col7\" >2</td>\n",
       "      <td id=\"T_8b8c9_row0_col8\" class=\"data row0 col8\" >0.00</td>\n",
       "      <td id=\"T_8b8c9_row0_col9\" class=\"data row0 col9\" >1</td>\n",
       "      <td id=\"T_8b8c9_row0_col10\" class=\"data row0 col10\" >1</td>\n",
       "      <td id=\"T_8b8c9_row0_col11\" class=\"data row0 col11\" >1</td>\n",
       "      <td id=\"T_8b8c9_row0_col12\" class=\"data row0 col12\" >101,348.88</td>\n",
       "      <td id=\"T_8b8c9_row0_col13\" class=\"data row0 col13\" >1</td>\n",
       "    </tr>\n",
       "    <tr>\n",
       "      <th id=\"T_8b8c9_level0_row1\" class=\"row_heading level0 row1\" >1</th>\n",
       "      <td id=\"T_8b8c9_row1_col0\" class=\"data row1 col0\" >2</td>\n",
       "      <td id=\"T_8b8c9_row1_col1\" class=\"data row1 col1\" >15647311</td>\n",
       "      <td id=\"T_8b8c9_row1_col2\" class=\"data row1 col2\" >Hill</td>\n",
       "      <td id=\"T_8b8c9_row1_col3\" class=\"data row1 col3\" >608</td>\n",
       "      <td id=\"T_8b8c9_row1_col4\" class=\"data row1 col4\" >Spain</td>\n",
       "      <td id=\"T_8b8c9_row1_col5\" class=\"data row1 col5\" >Female</td>\n",
       "      <td id=\"T_8b8c9_row1_col6\" class=\"data row1 col6\" >41</td>\n",
       "      <td id=\"T_8b8c9_row1_col7\" class=\"data row1 col7\" >1</td>\n",
       "      <td id=\"T_8b8c9_row1_col8\" class=\"data row1 col8\" >83,807.86</td>\n",
       "      <td id=\"T_8b8c9_row1_col9\" class=\"data row1 col9\" >1</td>\n",
       "      <td id=\"T_8b8c9_row1_col10\" class=\"data row1 col10\" >0</td>\n",
       "      <td id=\"T_8b8c9_row1_col11\" class=\"data row1 col11\" >1</td>\n",
       "      <td id=\"T_8b8c9_row1_col12\" class=\"data row1 col12\" >112,542.58</td>\n",
       "      <td id=\"T_8b8c9_row1_col13\" class=\"data row1 col13\" >0</td>\n",
       "    </tr>\n",
       "    <tr>\n",
       "      <th id=\"T_8b8c9_level0_row2\" class=\"row_heading level0 row2\" >2</th>\n",
       "      <td id=\"T_8b8c9_row2_col0\" class=\"data row2 col0\" >3</td>\n",
       "      <td id=\"T_8b8c9_row2_col1\" class=\"data row2 col1\" >15619304</td>\n",
       "      <td id=\"T_8b8c9_row2_col2\" class=\"data row2 col2\" >Onio</td>\n",
       "      <td id=\"T_8b8c9_row2_col3\" class=\"data row2 col3\" >502</td>\n",
       "      <td id=\"T_8b8c9_row2_col4\" class=\"data row2 col4\" >France</td>\n",
       "      <td id=\"T_8b8c9_row2_col5\" class=\"data row2 col5\" >Female</td>\n",
       "      <td id=\"T_8b8c9_row2_col6\" class=\"data row2 col6\" >42</td>\n",
       "      <td id=\"T_8b8c9_row2_col7\" class=\"data row2 col7\" >8</td>\n",
       "      <td id=\"T_8b8c9_row2_col8\" class=\"data row2 col8\" >159,660.80</td>\n",
       "      <td id=\"T_8b8c9_row2_col9\" class=\"data row2 col9\" >3</td>\n",
       "      <td id=\"T_8b8c9_row2_col10\" class=\"data row2 col10\" >1</td>\n",
       "      <td id=\"T_8b8c9_row2_col11\" class=\"data row2 col11\" >0</td>\n",
       "      <td id=\"T_8b8c9_row2_col12\" class=\"data row2 col12\" >113,931.57</td>\n",
       "      <td id=\"T_8b8c9_row2_col13\" class=\"data row2 col13\" >1</td>\n",
       "    </tr>\n",
       "    <tr>\n",
       "      <th id=\"T_8b8c9_level0_row3\" class=\"row_heading level0 row3\" >3</th>\n",
       "      <td id=\"T_8b8c9_row3_col0\" class=\"data row3 col0\" >4</td>\n",
       "      <td id=\"T_8b8c9_row3_col1\" class=\"data row3 col1\" >15701354</td>\n",
       "      <td id=\"T_8b8c9_row3_col2\" class=\"data row3 col2\" >Boni</td>\n",
       "      <td id=\"T_8b8c9_row3_col3\" class=\"data row3 col3\" >699</td>\n",
       "      <td id=\"T_8b8c9_row3_col4\" class=\"data row3 col4\" >France</td>\n",
       "      <td id=\"T_8b8c9_row3_col5\" class=\"data row3 col5\" >Female</td>\n",
       "      <td id=\"T_8b8c9_row3_col6\" class=\"data row3 col6\" >39</td>\n",
       "      <td id=\"T_8b8c9_row3_col7\" class=\"data row3 col7\" >1</td>\n",
       "      <td id=\"T_8b8c9_row3_col8\" class=\"data row3 col8\" >0.00</td>\n",
       "      <td id=\"T_8b8c9_row3_col9\" class=\"data row3 col9\" >2</td>\n",
       "      <td id=\"T_8b8c9_row3_col10\" class=\"data row3 col10\" >0</td>\n",
       "      <td id=\"T_8b8c9_row3_col11\" class=\"data row3 col11\" >0</td>\n",
       "      <td id=\"T_8b8c9_row3_col12\" class=\"data row3 col12\" >93,826.63</td>\n",
       "      <td id=\"T_8b8c9_row3_col13\" class=\"data row3 col13\" >0</td>\n",
       "    </tr>\n",
       "    <tr>\n",
       "      <th id=\"T_8b8c9_level0_row4\" class=\"row_heading level0 row4\" >4</th>\n",
       "      <td id=\"T_8b8c9_row4_col0\" class=\"data row4 col0\" >5</td>\n",
       "      <td id=\"T_8b8c9_row4_col1\" class=\"data row4 col1\" >15737888</td>\n",
       "      <td id=\"T_8b8c9_row4_col2\" class=\"data row4 col2\" >Mitchell</td>\n",
       "      <td id=\"T_8b8c9_row4_col3\" class=\"data row4 col3\" >850</td>\n",
       "      <td id=\"T_8b8c9_row4_col4\" class=\"data row4 col4\" >Spain</td>\n",
       "      <td id=\"T_8b8c9_row4_col5\" class=\"data row4 col5\" >Female</td>\n",
       "      <td id=\"T_8b8c9_row4_col6\" class=\"data row4 col6\" >43</td>\n",
       "      <td id=\"T_8b8c9_row4_col7\" class=\"data row4 col7\" >2</td>\n",
       "      <td id=\"T_8b8c9_row4_col8\" class=\"data row4 col8\" >125,510.82</td>\n",
       "      <td id=\"T_8b8c9_row4_col9\" class=\"data row4 col9\" >1</td>\n",
       "      <td id=\"T_8b8c9_row4_col10\" class=\"data row4 col10\" >1</td>\n",
       "      <td id=\"T_8b8c9_row4_col11\" class=\"data row4 col11\" >1</td>\n",
       "      <td id=\"T_8b8c9_row4_col12\" class=\"data row4 col12\" >79,084.10</td>\n",
       "      <td id=\"T_8b8c9_row4_col13\" class=\"data row4 col13\" >0</td>\n",
       "    </tr>\n",
       "  </tbody>\n",
       "</table>\n"
      ],
      "text/plain": [
       "<pandas.io.formats.style.Styler at 0x7ff5ea0317f0>"
      ]
     },
     "execution_count": 2,
     "metadata": {},
     "output_type": "execute_result"
    }
   ],
   "source": [
    "# загрузим данные\n",
    "data = pd.read_csv(\"Churn.csv\")\n",
    "format_mapping = {\"Tenure\" : \"{:.0f}\", \"Balance\" : \"{:,.2f}\", \"EstimatedSalary\" : \"{:,.2f}\"}\n",
    "data.head().style.format(format_mapping)"
   ]
  },
  {
   "cell_type": "code",
   "execution_count": 3,
   "metadata": {},
   "outputs": [
    {
     "data": {
      "text/plain": [
       "(10000, 14)"
      ]
     },
     "execution_count": 3,
     "metadata": {},
     "output_type": "execute_result"
    }
   ],
   "source": [
    "# посмотрим на размерность данных\n",
    "data.shape"
   ]
  },
  {
   "cell_type": "markdown",
   "metadata": {},
   "source": [
    "В данных содержатся 10 тыс. строк и 14 столбцов. "
   ]
  },
  {
   "cell_type": "code",
   "execution_count": 4,
   "metadata": {},
   "outputs": [
    {
     "data": {
      "text/plain": [
       "Index(['RowNumber', 'CustomerId', 'Surname', 'CreditScore', 'Geography',\n",
       "       'Gender', 'Age', 'Tenure', 'Balance', 'NumOfProducts', 'HasCrCard',\n",
       "       'IsActiveMember', 'EstimatedSalary', 'Exited'],\n",
       "      dtype='object')"
      ]
     },
     "execution_count": 4,
     "metadata": {},
     "output_type": "execute_result"
    }
   ],
   "source": [
    "# посмотрим названия столбцов\n",
    "data.columns"
   ]
  },
  {
   "cell_type": "code",
   "execution_count": 5,
   "metadata": {},
   "outputs": [
    {
     "data": {
      "text/plain": [
       "RowNumber            int64\n",
       "CustomerId           int64\n",
       "Surname             object\n",
       "CreditScore          int64\n",
       "Geography           object\n",
       "Gender              object\n",
       "Age                  int64\n",
       "Tenure             float64\n",
       "Balance            float64\n",
       "NumOfProducts        int64\n",
       "HasCrCard            int64\n",
       "IsActiveMember       int64\n",
       "EstimatedSalary    float64\n",
       "Exited               int64\n",
       "dtype: object"
      ]
     },
     "execution_count": 5,
     "metadata": {},
     "output_type": "execute_result"
    }
   ],
   "source": [
    "# проверим типы данных на соответствие описанию данных\n",
    "data.dtypes"
   ]
  },
  {
   "cell_type": "markdown",
   "metadata": {},
   "source": [
    "Типы данных в столбце в целом соответствуют описанию. Данные столбца `Tenure` можно поменять с `float64` на `int64`, потому что года считаются в целых числах."
   ]
  },
  {
   "cell_type": "code",
   "execution_count": 6,
   "metadata": {},
   "outputs": [
    {
     "name": "stdout",
     "output_type": "stream",
     "text": [
      "<class 'pandas.core.frame.DataFrame'>\n",
      "RangeIndex: 10000 entries, 0 to 9999\n",
      "Data columns (total 14 columns):\n",
      " #   Column           Non-Null Count  Dtype  \n",
      "---  ------           --------------  -----  \n",
      " 0   RowNumber        10000 non-null  int64  \n",
      " 1   CustomerId       10000 non-null  int64  \n",
      " 2   Surname          10000 non-null  object \n",
      " 3   CreditScore      10000 non-null  int64  \n",
      " 4   Geography        10000 non-null  object \n",
      " 5   Gender           10000 non-null  object \n",
      " 6   Age              10000 non-null  int64  \n",
      " 7   Tenure           9091 non-null   float64\n",
      " 8   Balance          10000 non-null  float64\n",
      " 9   NumOfProducts    10000 non-null  int64  \n",
      " 10  HasCrCard        10000 non-null  int64  \n",
      " 11  IsActiveMember   10000 non-null  int64  \n",
      " 12  EstimatedSalary  10000 non-null  float64\n",
      " 13  Exited           10000 non-null  int64  \n",
      "dtypes: float64(3), int64(8), object(3)\n",
      "memory usage: 1.1+ MB\n"
     ]
    }
   ],
   "source": [
    "# обощим ранее проверенные характеристики данных и посмотрим количество пропусков\n",
    "data.info()"
   ]
  },
  {
   "cell_type": "markdown",
   "metadata": {},
   "source": [
    "#### Выводы:\n",
    "<hr> \n",
    "\n",
    "С учетом того, что целевой признак `Exited` принимает два значения: `1` и `0`, необходимо решить задачу типа бинарной классификации. Модели, которые применимы для данной категории задачи, - это `DecisionTreeClassifier`, `RandomForestClassifier` и `LogisticRegression`. Также необходимо обработать пропуски в столбце `Tenure`, так как они составляют примерно `10%` от общего объема данных, проверить наличие дубликатов или нулевых и отрацительных значений в тех столбцах, где их не должно быть. Возможно, между количественными признаками есть линейные связи, что также необходимо проверить."
   ]
  },
  {
   "cell_type": "markdown",
   "metadata": {},
   "source": [
    "##### 1.2. Предобработка данных"
   ]
  },
  {
   "cell_type": "markdown",
   "metadata": {},
   "source": [
    "##### 1.2.1. Заполнение пропусков"
   ]
  },
  {
   "cell_type": "markdown",
   "metadata": {},
   "source": [
    "В столбце `Tenure` есть пропуски, которые составляют примерно 10% от общего объема данных. Странно, что в таком столбце вообще есть пропуски, потому что банк должен фиксировать, с какой даты были установлены деловые отношения с клиентом. Возможно, это давние клиенты банка, поэтому часть данных по ним утеряна.\n",
    "\n",
    "Были рассмотрены разные варианты заполнения пропусков:\n",
    "- заполнение медианным значением на основе группированных данных;\n",
    "- заполнение случайным числом от 0 до 10;\n",
    "- заполнение нулями.\n",
    "\n",
    "Однако первые два варианта привели к укрупнению данных вокруг одного значения, что искажает распределение значений в данном столбце. Поэтому был принят третий вариант: мы будем считать клиентов, по которым значение `Tenure` пропущено, новыми, то есть с ними только в этом году были установлены деловые отношения."
   ]
  },
  {
   "cell_type": "code",
   "execution_count": 7,
   "metadata": {},
   "outputs": [
    {
     "data": {
      "image/png": "[encoded data removed]",
      "text/plain": [
       "<Figure size 576x288 with 1 Axes>"
      ]
     },
     "metadata": {
      "needs_background": "light"
     },
     "output_type": "display_data"
    }
   ],
   "source": [
    "# посмотрим распределение в столбце `Tenure` до заполнения пропусков\n",
    "plt.figure(figsize = (8, 4))\n",
    "data[\"Tenure\"].hist(bins = 50)\n",
    "plt.title(\"Распределение данных в `Tenure` до заполнения пропусков\")\n",
    "plt.xlabel(\"Количество лет\")\n",
    "plt.ylabel(\"Количество клиентов\")\n",
    "plt.show()"
   ]
  },
  {
   "cell_type": "code",
   "execution_count": 8,
   "metadata": {},
   "outputs": [
    {
     "name": "stdout",
     "output_type": "stream",
     "text": [
      "Количество пропусков в столбце Tenure: 0\n"
     ]
    }
   ],
   "source": [
    "# заполним пропуски нулями\n",
    "data[\"Tenure\"] = data[\"Tenure\"].fillna(0)\n",
    "print(\"Количество пропусков в столбце Tenure:\", data[\"Tenure\"].isna().sum())"
   ]
  },
  {
   "cell_type": "code",
   "execution_count": 9,
   "metadata": {},
   "outputs": [
    {
     "data": {
      "image/png": "[encoded data removed]",
      "text/plain": [
       "<Figure size 576x288 with 1 Axes>"
      ]
     },
     "metadata": {
      "needs_background": "light"
     },
     "output_type": "display_data"
    }
   ],
   "source": [
    "# посмотрим распределение в столбце `Tenure` после заполнения пропусков\n",
    "plt.figure(figsize = (8, 4))\n",
    "data[\"Tenure\"].hist(bins = 50)\n",
    "plt.title(\"Распределение данных по `Tenure` после заполнения пропусков\")\n",
    "plt.xlabel(\"Количество лет\")\n",
    "plt.ylabel(\"Количество клиентов\")\n",
    "plt.show()"
   ]
  },
  {
   "cell_type": "markdown",
   "metadata": {},
   "source": [
    "##### 1.2.2. Наличие дубликатов в данных"
   ]
  },
  {
   "cell_type": "markdown",
   "metadata": {},
   "source": [
    "Наличие дубликатов проверим в целом по таблице с данными, а не по столбцам. В конкретных столбцах могут быть дубликаты, но это не значит, что есть ошибка во всей строке."
   ]
  },
  {
   "cell_type": "code",
   "execution_count": 10,
   "metadata": {},
   "outputs": [
    {
     "name": "stdout",
     "output_type": "stream",
     "text": [
      "Количество дубликатов в данных: 0\n"
     ]
    }
   ],
   "source": [
    "# проверим количество дублирующих строк в данных\n",
    "print(\"Количество дубликатов в данных:\", data.duplicated().sum())"
   ]
  },
  {
   "cell_type": "markdown",
   "metadata": {},
   "source": [
    "##### 1.2.3. Наличие нулевых или отрицательных значений"
   ]
  },
  {
   "cell_type": "markdown",
   "metadata": {},
   "source": [
    "В некоторых столбцах априори не могут быть нулевые или отрицательные значения, поэтому нужно убедиться, что это действительно так. В случае обнаружения таких значений, нужно исправить их.\n",
    "\n",
    "Итак, мы не ожидаем увидеть нулевые или отрицательные значения в следующих столбцах:\n",
    "- CustomerId\n",
    "- CreditScore\n",
    "- Age\n",
    "\n",
    "Нулевые значения могут быть в следующих столбцах, но без отрицательных значений:\n",
    "- Tenure\n",
    "- Balance\n",
    "- NumOfProducts\n",
    "- EstimatedSalary\n",
    "\n",
    "В остальных столбцах мы не ожидаем ошибок, так как они представляют категориальные признаки клиентов банка."
   ]
  },
  {
   "cell_type": "code",
   "execution_count": 11,
   "metadata": {},
   "outputs": [
    {
     "name": "stdout",
     "output_type": "stream",
     "text": [
      "Наличие нулевых или отрицательных значений в колонке CustomerId: False\n",
      "Наличие нулевых или отрицательных значений в колонке CreditScore: False\n",
      "Наличие нулевых или отрицательных значений в колонке Age: False\n"
     ]
    }
   ],
   "source": [
    "first_column_group = [\"CustomerId\", \"CreditScore\", \"Age\"]\n",
    "\n",
    "for col in first_column_group:\n",
    "    print(f\"Наличие нулевых или отрицательных значений в колонке {col}: {any(data[col].unique() <= 0)}\")"
   ]
  },
  {
   "cell_type": "code",
   "execution_count": 12,
   "metadata": {},
   "outputs": [
    {
     "name": "stdout",
     "output_type": "stream",
     "text": [
      "Наличие отрицательных значений в колонке Tenure: False\n",
      "Наличие отрицательных значений в колонке Balance: False\n",
      "Наличие отрицательных значений в колонке NumOfProducts: False\n",
      "Наличие отрицательных значений в колонке EstimatedSalary: False\n"
     ]
    }
   ],
   "source": [
    "second_column_group = [\"Tenure\", \"Balance\", \"NumOfProducts\", \"EstimatedSalary\"]\n",
    "\n",
    "for col in second_column_group:\n",
    "    print(f\"Наличие отрицательных значений в колонке {col}: {any(data[col].unique() < 0)}\")"
   ]
  },
  {
   "cell_type": "markdown",
   "metadata": {},
   "source": [
    "##### 1.2.4. Наличие лишней колонки в данных"
   ]
  },
  {
   "cell_type": "markdown",
   "metadata": {},
   "source": [
    "Столбец `RowNumber` представляет собой индекс строки в данных. Его можно было бы указать как индекс в наборе данных при считывании. Однако индексация в этом столбце начинается с `1`, а не с `0`, как это принято в *Python*. Чтобы не сбиться с индексацией, оставим индексацию, принятую в *Python*, поэтому столбец `RowNumber` можно удалить из данных.\n",
    "\n",
    "Помимо этого, столбцы `CustomerId` и `Surname` скорее всего были созданы для быстрого поиска информации по клиентам банкам. Для целей обучения моделей они не играют никакой роли, поэтому их также удалим из набора данных."
   ]
  },
  {
   "cell_type": "code",
   "execution_count": 13,
   "metadata": {},
   "outputs": [
    {
     "data": {
      "text/html": [
       "<style type=\"text/css\">\n",
       "</style>\n",
       "<table id=\"T_ce563\">\n",
       "  <thead>\n",
       "    <tr>\n",
       "      <th class=\"blank level0\" >&nbsp;</th>\n",
       "      <th id=\"T_ce563_level0_col0\" class=\"col_heading level0 col0\" >CreditScore</th>\n",
       "      <th id=\"T_ce563_level0_col1\" class=\"col_heading level0 col1\" >Geography</th>\n",
       "      <th id=\"T_ce563_level0_col2\" class=\"col_heading level0 col2\" >Gender</th>\n",
       "      <th id=\"T_ce563_level0_col3\" class=\"col_heading level0 col3\" >Age</th>\n",
       "      <th id=\"T_ce563_level0_col4\" class=\"col_heading level0 col4\" >Tenure</th>\n",
       "      <th id=\"T_ce563_level0_col5\" class=\"col_heading level0 col5\" >Balance</th>\n",
       "      <th id=\"T_ce563_level0_col6\" class=\"col_heading level0 col6\" >NumOfProducts</th>\n",
       "      <th id=\"T_ce563_level0_col7\" class=\"col_heading level0 col7\" >HasCrCard</th>\n",
       "      <th id=\"T_ce563_level0_col8\" class=\"col_heading level0 col8\" >IsActiveMember</th>\n",
       "      <th id=\"T_ce563_level0_col9\" class=\"col_heading level0 col9\" >EstimatedSalary</th>\n",
       "      <th id=\"T_ce563_level0_col10\" class=\"col_heading level0 col10\" >Exited</th>\n",
       "    </tr>\n",
       "  </thead>\n",
       "  <tbody>\n",
       "    <tr>\n",
       "      <th id=\"T_ce563_level0_row0\" class=\"row_heading level0 row0\" >0</th>\n",
       "      <td id=\"T_ce563_row0_col0\" class=\"data row0 col0\" >619</td>\n",
       "      <td id=\"T_ce563_row0_col1\" class=\"data row0 col1\" >France</td>\n",
       "      <td id=\"T_ce563_row0_col2\" class=\"data row0 col2\" >Female</td>\n",
       "      <td id=\"T_ce563_row0_col3\" class=\"data row0 col3\" >42</td>\n",
       "      <td id=\"T_ce563_row0_col4\" class=\"data row0 col4\" >2</td>\n",
       "      <td id=\"T_ce563_row0_col5\" class=\"data row0 col5\" >0.00</td>\n",
       "      <td id=\"T_ce563_row0_col6\" class=\"data row0 col6\" >1</td>\n",
       "      <td id=\"T_ce563_row0_col7\" class=\"data row0 col7\" >1</td>\n",
       "      <td id=\"T_ce563_row0_col8\" class=\"data row0 col8\" >1</td>\n",
       "      <td id=\"T_ce563_row0_col9\" class=\"data row0 col9\" >101,348.88</td>\n",
       "      <td id=\"T_ce563_row0_col10\" class=\"data row0 col10\" >1</td>\n",
       "    </tr>\n",
       "    <tr>\n",
       "      <th id=\"T_ce563_level0_row1\" class=\"row_heading level0 row1\" >1</th>\n",
       "      <td id=\"T_ce563_row1_col0\" class=\"data row1 col0\" >608</td>\n",
       "      <td id=\"T_ce563_row1_col1\" class=\"data row1 col1\" >Spain</td>\n",
       "      <td id=\"T_ce563_row1_col2\" class=\"data row1 col2\" >Female</td>\n",
       "      <td id=\"T_ce563_row1_col3\" class=\"data row1 col3\" >41</td>\n",
       "      <td id=\"T_ce563_row1_col4\" class=\"data row1 col4\" >1</td>\n",
       "      <td id=\"T_ce563_row1_col5\" class=\"data row1 col5\" >83,807.86</td>\n",
       "      <td id=\"T_ce563_row1_col6\" class=\"data row1 col6\" >1</td>\n",
       "      <td id=\"T_ce563_row1_col7\" class=\"data row1 col7\" >0</td>\n",
       "      <td id=\"T_ce563_row1_col8\" class=\"data row1 col8\" >1</td>\n",
       "      <td id=\"T_ce563_row1_col9\" class=\"data row1 col9\" >112,542.58</td>\n",
       "      <td id=\"T_ce563_row1_col10\" class=\"data row1 col10\" >0</td>\n",
       "    </tr>\n",
       "    <tr>\n",
       "      <th id=\"T_ce563_level0_row2\" class=\"row_heading level0 row2\" >2</th>\n",
       "      <td id=\"T_ce563_row2_col0\" class=\"data row2 col0\" >502</td>\n",
       "      <td id=\"T_ce563_row2_col1\" class=\"data row2 col1\" >France</td>\n",
       "      <td id=\"T_ce563_row2_col2\" class=\"data row2 col2\" >Female</td>\n",
       "      <td id=\"T_ce563_row2_col3\" class=\"data row2 col3\" >42</td>\n",
       "      <td id=\"T_ce563_row2_col4\" class=\"data row2 col4\" >8</td>\n",
       "      <td id=\"T_ce563_row2_col5\" class=\"data row2 col5\" >159,660.80</td>\n",
       "      <td id=\"T_ce563_row2_col6\" class=\"data row2 col6\" >3</td>\n",
       "      <td id=\"T_ce563_row2_col7\" class=\"data row2 col7\" >1</td>\n",
       "      <td id=\"T_ce563_row2_col8\" class=\"data row2 col8\" >0</td>\n",
       "      <td id=\"T_ce563_row2_col9\" class=\"data row2 col9\" >113,931.57</td>\n",
       "      <td id=\"T_ce563_row2_col10\" class=\"data row2 col10\" >1</td>\n",
       "    </tr>\n",
       "    <tr>\n",
       "      <th id=\"T_ce563_level0_row3\" class=\"row_heading level0 row3\" >3</th>\n",
       "      <td id=\"T_ce563_row3_col0\" class=\"data row3 col0\" >699</td>\n",
       "      <td id=\"T_ce563_row3_col1\" class=\"data row3 col1\" >France</td>\n",
       "      <td id=\"T_ce563_row3_col2\" class=\"data row3 col2\" >Female</td>\n",
       "      <td id=\"T_ce563_row3_col3\" class=\"data row3 col3\" >39</td>\n",
       "      <td id=\"T_ce563_row3_col4\" class=\"data row3 col4\" >1</td>\n",
       "      <td id=\"T_ce563_row3_col5\" class=\"data row3 col5\" >0.00</td>\n",
       "      <td id=\"T_ce563_row3_col6\" class=\"data row3 col6\" >2</td>\n",
       "      <td id=\"T_ce563_row3_col7\" class=\"data row3 col7\" >0</td>\n",
       "      <td id=\"T_ce563_row3_col8\" class=\"data row3 col8\" >0</td>\n",
       "      <td id=\"T_ce563_row3_col9\" class=\"data row3 col9\" >93,826.63</td>\n",
       "      <td id=\"T_ce563_row3_col10\" class=\"data row3 col10\" >0</td>\n",
       "    </tr>\n",
       "    <tr>\n",
       "      <th id=\"T_ce563_level0_row4\" class=\"row_heading level0 row4\" >4</th>\n",
       "      <td id=\"T_ce563_row4_col0\" class=\"data row4 col0\" >850</td>\n",
       "      <td id=\"T_ce563_row4_col1\" class=\"data row4 col1\" >Spain</td>\n",
       "      <td id=\"T_ce563_row4_col2\" class=\"data row4 col2\" >Female</td>\n",
       "      <td id=\"T_ce563_row4_col3\" class=\"data row4 col3\" >43</td>\n",
       "      <td id=\"T_ce563_row4_col4\" class=\"data row4 col4\" >2</td>\n",
       "      <td id=\"T_ce563_row4_col5\" class=\"data row4 col5\" >125,510.82</td>\n",
       "      <td id=\"T_ce563_row4_col6\" class=\"data row4 col6\" >1</td>\n",
       "      <td id=\"T_ce563_row4_col7\" class=\"data row4 col7\" >1</td>\n",
       "      <td id=\"T_ce563_row4_col8\" class=\"data row4 col8\" >1</td>\n",
       "      <td id=\"T_ce563_row4_col9\" class=\"data row4 col9\" >79,084.10</td>\n",
       "      <td id=\"T_ce563_row4_col10\" class=\"data row4 col10\" >0</td>\n",
       "    </tr>\n",
       "  </tbody>\n",
       "</table>\n"
      ],
      "text/plain": [
       "<pandas.io.formats.style.Styler at 0x7ff5ea38ce20>"
      ]
     },
     "execution_count": 13,
     "metadata": {},
     "output_type": "execute_result"
    }
   ],
   "source": [
    "data = data.drop([\"RowNumber\", \"CustomerId\", \"Surname\"], axis = 1)\n",
    "data.head().style.format(format_mapping)"
   ]
  },
  {
   "cell_type": "markdown",
   "metadata": {},
   "source": [
    "##### 1.2.5. Наличие линейной связи между признаками"
   ]
  },
  {
   "cell_type": "markdown",
   "metadata": {},
   "source": [
    "Мы ожидаем, что между количественными признаками в данных могут линейные связи, поэтому проверим данное предположение, построив корреляционную дтаграмму."
   ]
  },
  {
   "cell_type": "code",
   "execution_count": 14,
   "metadata": {},
   "outputs": [
    {
     "data": {
      "image/png": "[encoded data removed]",
      "text/plain": [
       "<Figure size 576x288 with 2 Axes>"
      ]
     },
     "metadata": {
      "needs_background": "light"
     },
     "output_type": "display_data"
    }
   ],
   "source": [
    "correlation = data[[\"Tenure\", \"Balance\", \"NumOfProducts\", \"EstimatedSalary\"]].corr()\n",
    "\n",
    "triangle = np.triu(correlation)\n",
    "\n",
    "plt.figure(figsize = (8, 4))\n",
    "\n",
    "sns.heatmap(correlation, xticklabels = correlation.columns, yticklabels = correlation.columns, cmap = \"Accent\", center = 0, annot = True, mask = triangle)\n",
    "\n",
    "plt.title('Диаграмма корреляции', fontsize = 12)\n",
    "plt.xticks(fontsize = 8)\n",
    "plt.yticks(fontsize = 8)\n",
    "plt.show()"
   ]
  },
  {
   "cell_type": "markdown",
   "metadata": {},
   "source": [
    "### Выводы\n",
    "---\n",
    "В результате проверок критические недостатки в данных не обнаружены. Пропуски в столбце `Tenure` заполнены. Качество предоставленных данных оцивается как высокое."
   ]
  },
  {
   "cell_type": "markdown",
   "metadata": {},
   "source": [
    "### Шаг 2. Исследование баланса классов и обучение моделей без учёта дисбаланса"
   ]
  },
  {
   "cell_type": "markdown",
   "metadata": {},
   "source": [
    "##### 2.1. Подготовка признаков"
   ]
  },
  {
   "cell_type": "markdown",
   "metadata": {},
   "source": [
    "Наличие категориальных признаков приводит к ошибкам в алгоритмах, предназначенных для задачи классификации. Поэтому преобразуем категориальные признаки в численные с помощью техники прямого кодирования. При этом, чтобы не попасть в ловушку фиктивных признаков, удалим один из столбцов, которые добавляются в исходную таблицу в результате применения техники прямого кодирования."
   ]
  },
  {
   "cell_type": "code",
   "execution_count": 15,
   "metadata": {},
   "outputs": [
    {
     "data": {
      "text/html": [
       "<style type=\"text/css\">\n",
       "</style>\n",
       "<table id=\"T_be8be\">\n",
       "  <thead>\n",
       "    <tr>\n",
       "      <th class=\"blank level0\" >&nbsp;</th>\n",
       "      <th id=\"T_be8be_level0_col0\" class=\"col_heading level0 col0\" >CreditScore</th>\n",
       "      <th id=\"T_be8be_level0_col1\" class=\"col_heading level0 col1\" >Age</th>\n",
       "      <th id=\"T_be8be_level0_col2\" class=\"col_heading level0 col2\" >Tenure</th>\n",
       "      <th id=\"T_be8be_level0_col3\" class=\"col_heading level0 col3\" >Balance</th>\n",
       "      <th id=\"T_be8be_level0_col4\" class=\"col_heading level0 col4\" >NumOfProducts</th>\n",
       "      <th id=\"T_be8be_level0_col5\" class=\"col_heading level0 col5\" >HasCrCard</th>\n",
       "      <th id=\"T_be8be_level0_col6\" class=\"col_heading level0 col6\" >IsActiveMember</th>\n",
       "      <th id=\"T_be8be_level0_col7\" class=\"col_heading level0 col7\" >EstimatedSalary</th>\n",
       "      <th id=\"T_be8be_level0_col8\" class=\"col_heading level0 col8\" >Exited</th>\n",
       "      <th id=\"T_be8be_level0_col9\" class=\"col_heading level0 col9\" >Geography_Germany</th>\n",
       "      <th id=\"T_be8be_level0_col10\" class=\"col_heading level0 col10\" >Geography_Spain</th>\n",
       "      <th id=\"T_be8be_level0_col11\" class=\"col_heading level0 col11\" >Gender_Male</th>\n",
       "    </tr>\n",
       "  </thead>\n",
       "  <tbody>\n",
       "    <tr>\n",
       "      <th id=\"T_be8be_level0_row0\" class=\"row_heading level0 row0\" >0</th>\n",
       "      <td id=\"T_be8be_row0_col0\" class=\"data row0 col0\" >619</td>\n",
       "      <td id=\"T_be8be_row0_col1\" class=\"data row0 col1\" >42</td>\n",
       "      <td id=\"T_be8be_row0_col2\" class=\"data row0 col2\" >2</td>\n",
       "      <td id=\"T_be8be_row0_col3\" class=\"data row0 col3\" >0.00</td>\n",
       "      <td id=\"T_be8be_row0_col4\" class=\"data row0 col4\" >1</td>\n",
       "      <td id=\"T_be8be_row0_col5\" class=\"data row0 col5\" >1</td>\n",
       "      <td id=\"T_be8be_row0_col6\" class=\"data row0 col6\" >1</td>\n",
       "      <td id=\"T_be8be_row0_col7\" class=\"data row0 col7\" >101,348.88</td>\n",
       "      <td id=\"T_be8be_row0_col8\" class=\"data row0 col8\" >1</td>\n",
       "      <td id=\"T_be8be_row0_col9\" class=\"data row0 col9\" >0</td>\n",
       "      <td id=\"T_be8be_row0_col10\" class=\"data row0 col10\" >0</td>\n",
       "      <td id=\"T_be8be_row0_col11\" class=\"data row0 col11\" >0</td>\n",
       "    </tr>\n",
       "    <tr>\n",
       "      <th id=\"T_be8be_level0_row1\" class=\"row_heading level0 row1\" >1</th>\n",
       "      <td id=\"T_be8be_row1_col0\" class=\"data row1 col0\" >608</td>\n",
       "      <td id=\"T_be8be_row1_col1\" class=\"data row1 col1\" >41</td>\n",
       "      <td id=\"T_be8be_row1_col2\" class=\"data row1 col2\" >1</td>\n",
       "      <td id=\"T_be8be_row1_col3\" class=\"data row1 col3\" >83,807.86</td>\n",
       "      <td id=\"T_be8be_row1_col4\" class=\"data row1 col4\" >1</td>\n",
       "      <td id=\"T_be8be_row1_col5\" class=\"data row1 col5\" >0</td>\n",
       "      <td id=\"T_be8be_row1_col6\" class=\"data row1 col6\" >1</td>\n",
       "      <td id=\"T_be8be_row1_col7\" class=\"data row1 col7\" >112,542.58</td>\n",
       "      <td id=\"T_be8be_row1_col8\" class=\"data row1 col8\" >0</td>\n",
       "      <td id=\"T_be8be_row1_col9\" class=\"data row1 col9\" >0</td>\n",
       "      <td id=\"T_be8be_row1_col10\" class=\"data row1 col10\" >1</td>\n",
       "      <td id=\"T_be8be_row1_col11\" class=\"data row1 col11\" >0</td>\n",
       "    </tr>\n",
       "    <tr>\n",
       "      <th id=\"T_be8be_level0_row2\" class=\"row_heading level0 row2\" >2</th>\n",
       "      <td id=\"T_be8be_row2_col0\" class=\"data row2 col0\" >502</td>\n",
       "      <td id=\"T_be8be_row2_col1\" class=\"data row2 col1\" >42</td>\n",
       "      <td id=\"T_be8be_row2_col2\" class=\"data row2 col2\" >8</td>\n",
       "      <td id=\"T_be8be_row2_col3\" class=\"data row2 col3\" >159,660.80</td>\n",
       "      <td id=\"T_be8be_row2_col4\" class=\"data row2 col4\" >3</td>\n",
       "      <td id=\"T_be8be_row2_col5\" class=\"data row2 col5\" >1</td>\n",
       "      <td id=\"T_be8be_row2_col6\" class=\"data row2 col6\" >0</td>\n",
       "      <td id=\"T_be8be_row2_col7\" class=\"data row2 col7\" >113,931.57</td>\n",
       "      <td id=\"T_be8be_row2_col8\" class=\"data row2 col8\" >1</td>\n",
       "      <td id=\"T_be8be_row2_col9\" class=\"data row2 col9\" >0</td>\n",
       "      <td id=\"T_be8be_row2_col10\" class=\"data row2 col10\" >0</td>\n",
       "      <td id=\"T_be8be_row2_col11\" class=\"data row2 col11\" >0</td>\n",
       "    </tr>\n",
       "    <tr>\n",
       "      <th id=\"T_be8be_level0_row3\" class=\"row_heading level0 row3\" >3</th>\n",
       "      <td id=\"T_be8be_row3_col0\" class=\"data row3 col0\" >699</td>\n",
       "      <td id=\"T_be8be_row3_col1\" class=\"data row3 col1\" >39</td>\n",
       "      <td id=\"T_be8be_row3_col2\" class=\"data row3 col2\" >1</td>\n",
       "      <td id=\"T_be8be_row3_col3\" class=\"data row3 col3\" >0.00</td>\n",
       "      <td id=\"T_be8be_row3_col4\" class=\"data row3 col4\" >2</td>\n",
       "      <td id=\"T_be8be_row3_col5\" class=\"data row3 col5\" >0</td>\n",
       "      <td id=\"T_be8be_row3_col6\" class=\"data row3 col6\" >0</td>\n",
       "      <td id=\"T_be8be_row3_col7\" class=\"data row3 col7\" >93,826.63</td>\n",
       "      <td id=\"T_be8be_row3_col8\" class=\"data row3 col8\" >0</td>\n",
       "      <td id=\"T_be8be_row3_col9\" class=\"data row3 col9\" >0</td>\n",
       "      <td id=\"T_be8be_row3_col10\" class=\"data row3 col10\" >0</td>\n",
       "      <td id=\"T_be8be_row3_col11\" class=\"data row3 col11\" >0</td>\n",
       "    </tr>\n",
       "    <tr>\n",
       "      <th id=\"T_be8be_level0_row4\" class=\"row_heading level0 row4\" >4</th>\n",
       "      <td id=\"T_be8be_row4_col0\" class=\"data row4 col0\" >850</td>\n",
       "      <td id=\"T_be8be_row4_col1\" class=\"data row4 col1\" >43</td>\n",
       "      <td id=\"T_be8be_row4_col2\" class=\"data row4 col2\" >2</td>\n",
       "      <td id=\"T_be8be_row4_col3\" class=\"data row4 col3\" >125,510.82</td>\n",
       "      <td id=\"T_be8be_row4_col4\" class=\"data row4 col4\" >1</td>\n",
       "      <td id=\"T_be8be_row4_col5\" class=\"data row4 col5\" >1</td>\n",
       "      <td id=\"T_be8be_row4_col6\" class=\"data row4 col6\" >1</td>\n",
       "      <td id=\"T_be8be_row4_col7\" class=\"data row4 col7\" >79,084.10</td>\n",
       "      <td id=\"T_be8be_row4_col8\" class=\"data row4 col8\" >0</td>\n",
       "      <td id=\"T_be8be_row4_col9\" class=\"data row4 col9\" >0</td>\n",
       "      <td id=\"T_be8be_row4_col10\" class=\"data row4 col10\" >1</td>\n",
       "      <td id=\"T_be8be_row4_col11\" class=\"data row4 col11\" >0</td>\n",
       "    </tr>\n",
       "  </tbody>\n",
       "</table>\n"
      ],
      "text/plain": [
       "<pandas.io.formats.style.Styler at 0x7ff5ea1ac730>"
      ]
     },
     "execution_count": 15,
     "metadata": {},
     "output_type": "execute_result"
    }
   ],
   "source": [
    "data_ohe = pd.get_dummies(data, drop_first = True)\n",
    "data_ohe.head().style.format(format_mapping)"
   ]
  },
  {
   "cell_type": "markdown",
   "metadata": {},
   "source": [
    "Разброс в признаках с количественным значением может быть достаточно велик, из-за какой-нибудь признак будет расценен моделью более важным по сравнению с остальными, хотя все признаки одинаково значими. Устранить такое неравенство можно с помощью стандартизации данных."
   ]
  },
  {
   "cell_type": "code",
   "execution_count": 16,
   "metadata": {},
   "outputs": [
    {
     "data": {
      "text/html": [
       "<style type=\"text/css\">\n",
       "</style>\n",
       "<table id=\"T_7b175\">\n",
       "  <thead>\n",
       "    <tr>\n",
       "      <th class=\"blank level0\" >&nbsp;</th>\n",
       "      <th id=\"T_7b175_level0_col0\" class=\"col_heading level0 col0\" >CreditScore</th>\n",
       "      <th id=\"T_7b175_level0_col1\" class=\"col_heading level0 col1\" >Age</th>\n",
       "      <th id=\"T_7b175_level0_col2\" class=\"col_heading level0 col2\" >Tenure</th>\n",
       "      <th id=\"T_7b175_level0_col3\" class=\"col_heading level0 col3\" >Balance</th>\n",
       "      <th id=\"T_7b175_level0_col4\" class=\"col_heading level0 col4\" >NumOfProducts</th>\n",
       "      <th id=\"T_7b175_level0_col5\" class=\"col_heading level0 col5\" >HasCrCard</th>\n",
       "      <th id=\"T_7b175_level0_col6\" class=\"col_heading level0 col6\" >IsActiveMember</th>\n",
       "      <th id=\"T_7b175_level0_col7\" class=\"col_heading level0 col7\" >EstimatedSalary</th>\n",
       "      <th id=\"T_7b175_level0_col8\" class=\"col_heading level0 col8\" >Geography_Germany</th>\n",
       "      <th id=\"T_7b175_level0_col9\" class=\"col_heading level0 col9\" >Geography_Spain</th>\n",
       "      <th id=\"T_7b175_level0_col10\" class=\"col_heading level0 col10\" >Gender_Male</th>\n",
       "    </tr>\n",
       "  </thead>\n",
       "  <tbody>\n",
       "    <tr>\n",
       "      <th id=\"T_7b175_level0_row0\" class=\"row_heading level0 row0\" >226</th>\n",
       "      <td id=\"T_7b175_row0_col0\" class=\"data row0 col0\" >0.442805</td>\n",
       "      <td id=\"T_7b175_row0_col1\" class=\"data row0 col1\" >-0.841274</td>\n",
       "      <td id=\"T_7b175_row0_col2\" class=\"data row0 col2\" >1</td>\n",
       "      <td id=\"T_7b175_row0_col3\" class=\"data row0 col3\" >-1.22</td>\n",
       "      <td id=\"T_7b175_row0_col4\" class=\"data row0 col4\" >0.817772</td>\n",
       "      <td id=\"T_7b175_row0_col5\" class=\"data row0 col5\" >1</td>\n",
       "      <td id=\"T_7b175_row0_col6\" class=\"data row0 col6\" >1</td>\n",
       "      <td id=\"T_7b175_row0_col7\" class=\"data row0 col7\" >-1.27</td>\n",
       "      <td id=\"T_7b175_row0_col8\" class=\"data row0 col8\" >0</td>\n",
       "      <td id=\"T_7b175_row0_col9\" class=\"data row0 col9\" >0</td>\n",
       "      <td id=\"T_7b175_row0_col10\" class=\"data row0 col10\" >0</td>\n",
       "    </tr>\n",
       "    <tr>\n",
       "      <th id=\"T_7b175_level0_row1\" class=\"row_heading level0 row1\" >7756</th>\n",
       "      <td id=\"T_7b175_row1_col0\" class=\"data row1 col0\" >-0.310897</td>\n",
       "      <td id=\"T_7b175_row1_col1\" class=\"data row1 col1\" >-0.270730</td>\n",
       "      <td id=\"T_7b175_row1_col2\" class=\"data row1 col2\" >1</td>\n",
       "      <td id=\"T_7b175_row1_col3\" class=\"data row1 col3\" >0.64</td>\n",
       "      <td id=\"T_7b175_row1_col4\" class=\"data row1 col4\" >-0.896874</td>\n",
       "      <td id=\"T_7b175_row1_col5\" class=\"data row1 col5\" >1</td>\n",
       "      <td id=\"T_7b175_row1_col6\" class=\"data row1 col6\" >1</td>\n",
       "      <td id=\"T_7b175_row1_col7\" class=\"data row1 col7\" >0.96</td>\n",
       "      <td id=\"T_7b175_row1_col8\" class=\"data row1 col8\" >0</td>\n",
       "      <td id=\"T_7b175_row1_col9\" class=\"data row1 col9\" >1</td>\n",
       "      <td id=\"T_7b175_row1_col10\" class=\"data row1 col10\" >0</td>\n",
       "    </tr>\n",
       "    <tr>\n",
       "      <th id=\"T_7b175_level0_row2\" class=\"row_heading level0 row2\" >2065</th>\n",
       "      <td id=\"T_7b175_row2_col0\" class=\"data row2 col0\" >-0.259274</td>\n",
       "      <td id=\"T_7b175_row2_col1\" class=\"data row2 col1\" >-0.556002</td>\n",
       "      <td id=\"T_7b175_row2_col2\" class=\"data row2 col2\" >1</td>\n",
       "      <td id=\"T_7b175_row2_col3\" class=\"data row2 col3\" >-1.22</td>\n",
       "      <td id=\"T_7b175_row2_col4\" class=\"data row2 col4\" >0.817772</td>\n",
       "      <td id=\"T_7b175_row2_col5\" class=\"data row2 col5\" >1</td>\n",
       "      <td id=\"T_7b175_row2_col6\" class=\"data row2 col6\" >0</td>\n",
       "      <td id=\"T_7b175_row2_col7\" class=\"data row2 col7\" >0.66</td>\n",
       "      <td id=\"T_7b175_row2_col8\" class=\"data row2 col8\" >0</td>\n",
       "      <td id=\"T_7b175_row2_col9\" class=\"data row2 col9\" >0</td>\n",
       "      <td id=\"T_7b175_row2_col10\" class=\"data row2 col10\" >1</td>\n",
       "    </tr>\n",
       "    <tr>\n",
       "      <th id=\"T_7b175_level0_row3\" class=\"row_heading level0 row3\" >2800</th>\n",
       "      <td id=\"T_7b175_row3_col0\" class=\"data row3 col0\" >1.217157</td>\n",
       "      <td id=\"T_7b175_row3_col1\" class=\"data row3 col1\" >1.155631</td>\n",
       "      <td id=\"T_7b175_row3_col2\" class=\"data row3 col2\" >1</td>\n",
       "      <td id=\"T_7b175_row3_col3\" class=\"data row3 col3\" >1.29</td>\n",
       "      <td id=\"T_7b175_row3_col4\" class=\"data row3 col4\" >0.817772</td>\n",
       "      <td id=\"T_7b175_row3_col5\" class=\"data row3 col5\" >1</td>\n",
       "      <td id=\"T_7b175_row3_col6\" class=\"data row3 col6\" >0</td>\n",
       "      <td id=\"T_7b175_row3_col7\" class=\"data row3 col7\" >-1.04</td>\n",
       "      <td id=\"T_7b175_row3_col8\" class=\"data row3 col8\" >0</td>\n",
       "      <td id=\"T_7b175_row3_col9\" class=\"data row3 col9\" >0</td>\n",
       "      <td id=\"T_7b175_row3_col10\" class=\"data row3 col10\" >1</td>\n",
       "    </tr>\n",
       "    <tr>\n",
       "      <th id=\"T_7b175_level0_row4\" class=\"row_heading level0 row4\" >7028</th>\n",
       "      <td id=\"T_7b175_row4_col0\" class=\"data row4 col0\" >0.690598</td>\n",
       "      <td id=\"T_7b175_row4_col1\" class=\"data row4 col1\" >-1.221637</td>\n",
       "      <td id=\"T_7b175_row4_col2\" class=\"data row4 col2\" >-1</td>\n",
       "      <td id=\"T_7b175_row4_col3\" class=\"data row4 col3\" >1.14</td>\n",
       "      <td id=\"T_7b175_row4_col4\" class=\"data row4 col4\" >-0.896874</td>\n",
       "      <td id=\"T_7b175_row4_col5\" class=\"data row4 col5\" >0</td>\n",
       "      <td id=\"T_7b175_row4_col6\" class=\"data row4 col6\" >0</td>\n",
       "      <td id=\"T_7b175_row4_col7\" class=\"data row4 col7\" >-0.85</td>\n",
       "      <td id=\"T_7b175_row4_col8\" class=\"data row4 col8\" >1</td>\n",
       "      <td id=\"T_7b175_row4_col9\" class=\"data row4 col9\" >0</td>\n",
       "      <td id=\"T_7b175_row4_col10\" class=\"data row4 col10\" >1</td>\n",
       "    </tr>\n",
       "  </tbody>\n",
       "</table>\n"
      ],
      "text/plain": [
       "<pandas.io.formats.style.Styler at 0x7ff5ea9ab910>"
      ]
     },
     "execution_count": 16,
     "metadata": {},
     "output_type": "execute_result"
    }
   ],
   "source": [
    "features = data_ohe.drop(\"Exited\", axis = 1)\n",
    "target = data_ohe[\"Exited\"]\n",
    "\n",
    "features_train, features_valid, target_train, target_valid = train_test_split(\n",
    "    features, target, test_size = 0.25, random_state = 12345\n",
    ")\n",
    "\n",
    "numeric = ['CreditScore', 'Age', 'Tenure', 'Balance', 'NumOfProducts', 'EstimatedSalary']\n",
    "\n",
    "scaler = StandardScaler()\n",
    "scaler.fit(features_train.loc[:, numeric])\n",
    "\n",
    "features_train[numeric] = scaler.transform(features_train.loc[:, numeric])\n",
    "features_valid[numeric] = scaler.transform(features_valid.loc[:, numeric])\n",
    "\n",
    "processed_data = pd.concat([features_train, features_valid])\n",
    "processed_data.head().style.format(format_mapping)"
   ]
  },
  {
   "cell_type": "markdown",
   "metadata": {},
   "source": [
    "Обратно собираем таблицу целиком после всех манипуляций."
   ]
  },
  {
   "cell_type": "code",
   "execution_count": 17,
   "metadata": {},
   "outputs": [
    {
     "name": "stdout",
     "output_type": "stream",
     "text": [
      "(10000, 12)\n"
     ]
    }
   ],
   "source": [
    "processed_data = pd.concat([processed_data, data_ohe[\"Exited\"]], axis = 1)\n",
    "print(processed_data.shape)"
   ]
  },
  {
   "cell_type": "markdown",
   "metadata": {},
   "source": [
    "##### 2.2. Разделение данных на обучающую, валидационную и тестовую выборки"
   ]
  },
  {
   "cell_type": "markdown",
   "metadata": {},
   "source": [
    "Разделим набор данных на обучающую, валидационную и тестирующую выборки."
   ]
  },
  {
   "cell_type": "code",
   "execution_count": 18,
   "metadata": {},
   "outputs": [
    {
     "name": "stdout",
     "output_type": "stream",
     "text": [
      "(6000, 12)\n",
      "(2000, 12)\n",
      "(2000, 12)\n"
     ]
    }
   ],
   "source": [
    "# 60% данных - обучающая выборка\n",
    "df_train, temp = train_test_split(processed_data, test_size = 0.4, random_state = 12345)\n",
    "# валидационная и тестовые выборки - по 20% от всех данных\n",
    "df_valid, df_test = train_test_split(temp, test_size = 0.5, random_state = 12345)\n",
    "\n",
    "print(df_train.shape)\n",
    "print(df_valid.shape)\n",
    "print(df_test.shape)"
   ]
  },
  {
   "cell_type": "code",
   "execution_count": 19,
   "metadata": {},
   "outputs": [],
   "source": [
    "features_train = df_train.drop([\"Exited\"], axis = 1)\n",
    "target_train = df_train[\"Exited\"]\n",
    "\n",
    "features_valid = df_valid.drop([\"Exited\"], axis = 1)\n",
    "target_valid = df_valid[\"Exited\"]\n",
    "\n",
    "features_test = df_test.drop([\"Exited\"], axis = 1)\n",
    "target_test = df_test[\"Exited\"]"
   ]
  },
  {
   "cell_type": "markdown",
   "metadata": {},
   "source": [
    "##### 2.3. Обучение моделей без учета дисбаланса"
   ]
  },
  {
   "cell_type": "markdown",
   "metadata": {},
   "source": [
    "##### Дерево решений"
   ]
  },
  {
   "cell_type": "code",
   "execution_count": 20,
   "metadata": {},
   "outputs": [
    {
     "name": "stdout",
     "output_type": "stream",
     "text": [
      "Качество лучшей модели: 0.847\n",
      "Максимальная глубина лучшей модели: 6\n"
     ]
    }
   ],
   "source": [
    "best_model = None\n",
    "best_accuracy = 0\n",
    "max_depth = 0\n",
    "\n",
    "for depth in range(1, 11):\n",
    "    model = DecisionTreeClassifier(random_state = 12345, max_depth = depth)\n",
    "    model.fit(features_train, target_train)\n",
    "    predictions = model.predict(features_valid)\n",
    "    accuracy = accuracy_score(predictions, target_valid)\n",
    "    if accuracy > best_accuracy:\n",
    "        best_accuracy = accuracy\n",
    "        best_model = model\n",
    "        max_depth = depth\n",
    " \n",
    "print(f\"Качество лучшей модели: {best_accuracy.round(4)}\", \n",
    "      f\"Максимальная глубина лучшей модели: {max_depth}\", sep = \"\\n\")"
   ]
  },
  {
   "cell_type": "markdown",
   "metadata": {},
   "source": [
    "##### Алгоритм случайного леса"
   ]
  },
  {
   "cell_type": "code",
   "execution_count": 21,
   "metadata": {},
   "outputs": [
    {
     "name": "stdout",
     "output_type": "stream",
     "text": [
      "Качество лучшей модели: 0.854\n",
      "Число деревьев в лучшей модели: 190\n"
     ]
    }
   ],
   "source": [
    "best_model = None\n",
    "best_accuracy = 0\n",
    "best_est = 0\n",
    "\n",
    "for est in range(10, 201, 10):\n",
    "    model = RandomForestClassifier(random_state = 12345, n_estimators = est)\n",
    "    model.fit(features_train, target_train)\n",
    "    accuracy = model.score(features_valid, target_valid)\n",
    "    if accuracy > best_accuracy:\n",
    "        best_accuracy = accuracy\n",
    "        best_model = model\n",
    "        best_est = est\n",
    "\n",
    "print(f\"Качество лучшей модели: {best_accuracy.round(4)}\", \n",
    "      f\"Число деревьев в лучшей модели: {best_est}\", sep = \"\\n\")"
   ]
  },
  {
   "cell_type": "markdown",
   "metadata": {},
   "source": [
    "##### Логистическая регрессия"
   ]
  },
  {
   "cell_type": "code",
   "execution_count": 22,
   "metadata": {},
   "outputs": [
    {
     "name": "stdout",
     "output_type": "stream",
     "text": [
      "Качество лучшей модели: 0.7985\n",
      "Максимальное количество итераций: 100\n"
     ]
    }
   ],
   "source": [
    "best_model = None\n",
    "best_accuracy = 0\n",
    "best_iter = 0\n",
    "\n",
    "for iter in range(100, 1001, 50):\n",
    "    model = LogisticRegression(random_state = 12345, solver = \"lbfgs\", max_iter = iter)\n",
    "    model.fit(features_train, target_train)\n",
    "    accuracy = model.score(features_valid, target_valid)\n",
    "    if accuracy > best_accuracy:\n",
    "        best_accuracy = accuracy\n",
    "        best_model = model\n",
    "        best_iter = iter\n",
    "\n",
    "print(f\"Качество лучшей модели: {best_accuracy.round(4)}\", \n",
    "      f\"Максимальное количество итераций: {best_iter}\", sep = \"\\n\")"
   ]
  },
  {
   "cell_type": "markdown",
   "metadata": {},
   "source": [
    "На обучающей выборке самой качественной оказалась модель, построенная на алгоритме случайного леса. Ее качество составило 0.854, а количество деревьев - 190."
   ]
  },
  {
   "cell_type": "markdown",
   "metadata": {},
   "source": [
    "##### 2.4. Тестирование алгоритма случайного леса"
   ]
  },
  {
   "cell_type": "code",
   "execution_count": 23,
   "metadata": {},
   "outputs": [
    {
     "name": "stdout",
     "output_type": "stream",
     "text": [
      "Качество модели: 0.8705\n"
     ]
    }
   ],
   "source": [
    "model = RandomForestClassifier(random_state = 12345, n_estimators = 190) \n",
    "model.fit(features_train, target_train)\n",
    "predicted_valid = model.predict(features_test)\n",
    "accuracy_valid = accuracy_score(target_test, predicted_valid)\n",
    "print(f\"Качество модели: {accuracy_valid.round(4)}\")"
   ]
  },
  {
   "cell_type": "markdown",
   "metadata": {},
   "source": [
    "На тестовой выборке лучшая модель, выявленная в ходе обучения, продемонстрировала еще более высокий результат. Ее качество составило 0.8705."
   ]
  },
  {
   "cell_type": "markdown",
   "metadata": {},
   "source": [
    "##### 2. 5. Исследование баланса классов"
   ]
  },
  {
   "cell_type": "markdown",
   "metadata": {},
   "source": [
    "В исходных данных наблюдается сильный дисбаланс классов. В целевом признаке практически 80% отрицательных значений, то есть 80% клиентов банка еще не ушли от него. Поэтому их нужно удержить, а для этого нужна модель, которая с высокой долей вероятности сможет предсказать, уйдет ли клиент банка."
   ]
  },
  {
   "cell_type": "code",
   "execution_count": 24,
   "metadata": {},
   "outputs": [
    {
     "name": "stdout",
     "output_type": "stream",
     "text": [
      "0    0.7963\n",
      "1    0.2037\n",
      "Name: Exited, dtype: float64\n"
     ]
    },
    {
     "data": {
      "text/plain": [
       "<AxesSubplot:>"
      ]
     },
     "execution_count": 24,
     "metadata": {},
     "output_type": "execute_result"
    },
    {
     "data": {
      "image/png": "[encoded data removed]",
      "text/plain": [
       "<Figure size 432x288 with 1 Axes>"
      ]
     },
     "metadata": {
      "needs_background": "light"
     },
     "output_type": "display_data"
    }
   ],
   "source": [
    "class_frequency = processed_data[\"Exited\"].value_counts(normalize = True)\n",
    "print(class_frequency)\n",
    "class_frequency.plot(kind = \"bar\")"
   ]
  },
  {
   "cell_type": "markdown",
   "metadata": {},
   "source": [
    "В своих прогнозах на тестовой выборке выбранная нами модель предсказала, что практически 88% клиента не уйдут от банка."
   ]
  },
  {
   "cell_type": "code",
   "execution_count": 25,
   "metadata": {},
   "outputs": [
    {
     "name": "stdout",
     "output_type": "stream",
     "text": [
      "0    0.8755\n",
      "1    0.1245\n",
      "dtype: float64\n"
     ]
    },
    {
     "data": {
      "text/plain": [
       "<AxesSubplot:>"
      ]
     },
     "execution_count": 25,
     "metadata": {},
     "output_type": "execute_result"
    },
    {
     "data": {
      "image/png": "[encoded data removed]",
      "text/plain": [
       "<Figure size 432x288 with 1 Axes>"
      ]
     },
     "metadata": {
      "needs_background": "light"
     },
     "output_type": "display_data"
    }
   ],
   "source": [
    "predicted_valid = pd.Series(predicted_valid)\n",
    "class_frequency = predicted_valid.value_counts(normalize = True)\n",
    "print(class_frequency)\n",
    "class_frequency.plot(kind = \"bar\")"
   ]
  },
  {
   "cell_type": "markdown",
   "metadata": {},
   "source": [
    "Если заменить модель столбцом, состоящим из одних нулей, качество такой модели тоже окажется достаточно высокой. Поэтому выбранная нами модель пока что не пригодна для применения на практике, то есть проверку на адекватность она не прошла."
   ]
  },
  {
   "cell_type": "code",
   "execution_count": 26,
   "metadata": {},
   "outputs": [
    {
     "name": "stdout",
     "output_type": "stream",
     "text": [
      "0.7963\n"
     ]
    }
   ],
   "source": [
    "target_pred_constant = pd.Series(0, index = target.index)\n",
    "accuracy = accuracy_score(target, target_pred_constant)\n",
    "print(accuracy)"
   ]
  },
  {
   "cell_type": "markdown",
   "metadata": {},
   "source": [
    "##### 2.6. Метрики классификации"
   ]
  },
  {
   "cell_type": "markdown",
   "metadata": {},
   "source": [
    "Тем не менее, посчитаем метрики классификации. В матрице ошибок видим, что достаточно большое количество наблюдений модель классифицирует как 0, хотя на самом деле они принимают значения 1 (*False Negative* = 210)."
   ]
  },
  {
   "cell_type": "code",
   "execution_count": 27,
   "metadata": {},
   "outputs": [
    {
     "data": {
      "text/plain": [
       "array([[1541,   49],\n",
       "       [ 210,  200]])"
      ]
     },
     "execution_count": 27,
     "metadata": {},
     "output_type": "execute_result"
    }
   ],
   "source": [
    "confusion_matrix(target_test, predicted_valid)"
   ]
  },
  {
   "cell_type": "markdown",
   "metadata": {},
   "source": [
    "Метрика *recall* показывает, что наша модель выделила практически половину положительных ответов среди всех ответов."
   ]
  },
  {
   "cell_type": "code",
   "execution_count": 28,
   "metadata": {},
   "outputs": [
    {
     "name": "stdout",
     "output_type": "stream",
     "text": [
      "Значение метрики recall: 48.78%\n"
     ]
    }
   ],
   "source": [
    "print(\"Значение метрики recall:\", \"{:,.2%}\".format(recall_score(target_test, predicted_valid)))"
   ]
  },
  {
   "cell_type": "markdown",
   "metadata": {},
   "source": [
    "Метрика *precision* показывает, что 80% наблюдений, отмеченных моделью как положительные, действительно являются таковыми."
   ]
  },
  {
   "cell_type": "code",
   "execution_count": 29,
   "metadata": {},
   "outputs": [
    {
     "name": "stdout",
     "output_type": "stream",
     "text": [
      "Значение метрики precision: 80.32%\n"
     ]
    }
   ],
   "source": [
    "print(\"Значение метрики precision:\", \"{:,.2%}\".format(precision_score(target_test, predicted_valid)))"
   ]
  },
  {
   "cell_type": "markdown",
   "metadata": {},
   "source": [
    "А гармоническое среднее *recall* и *precision* равняется 60.70%."
   ]
  },
  {
   "cell_type": "code",
   "execution_count": 30,
   "metadata": {},
   "outputs": [
    {
     "name": "stdout",
     "output_type": "stream",
     "text": [
      "Значение F1-меры: 60.70%\n"
     ]
    }
   ],
   "source": [
    "print(\"Значение F1-меры:\", \"{:,.2%}\".format(f1_score(target_test, predicted_valid)))"
   ]
  },
  {
   "cell_type": "code",
   "execution_count": 31,
   "metadata": {},
   "outputs": [
    {
     "data": {
      "image/png": "[encoded data removed]",
      "text/plain": [
       "<Figure size 576x288 with 1 Axes>"
      ]
     },
     "metadata": {
      "needs_background": "light"
     },
     "output_type": "display_data"
    },
    {
     "name": "stdout",
     "output_type": "stream",
     "text": [
      "\n",
      "Значение метрики ROC-AUC: 86.08%\n"
     ]
    }
   ],
   "source": [
    "probabilities_valid = model.predict_proba(features_test)\n",
    "probabilities_one_valid = probabilities_valid[:, 1]\n",
    "precision, recall, thresholds = precision_recall_curve(target_test, probabilities_valid[:, 1])\n",
    "fpr, tpr, threshold = roc_curve(target_test, probabilities_one_valid)\n",
    "plt.figure(figsize = (8, 4))\n",
    "plt.step(fpr, tpr, where = 'post')\n",
    "plt.plot(fpr, tpr)\n",
    "plt.xlim([0.0, 1.0])\n",
    "plt.ylim([0.0, 1.0])\n",
    "plt.xlabel('False Positive Rate')\n",
    "plt.ylabel('True Positive Rate')\n",
    "plt.title('ROC-кривая')\n",
    "plt.show()\n",
    "print()\n",
    "print(\"Значение метрики ROC-AUC:\", \"{:,.2%}\".format(roc_auc_score(target_test, probabilities_one_valid)))"
   ]
  },
  {
   "cell_type": "markdown",
   "metadata": {},
   "source": [
    "### Шаг 3. Улучшение качества моделей благодаря увеличению выборки"
   ]
  },
  {
   "cell_type": "markdown",
   "metadata": {},
   "source": [
    "##### 3.1. Увеличение выборки"
   ]
  },
  {
   "cell_type": "markdown",
   "metadata": {},
   "source": [
    "Дисбаланс классов можно поправить, применив технику upsampling. Мы искуственно увеличим долю положительного класса в целевом признаке в обучающей выборке, чтобы модель качественнее научилась определять его."
   ]
  },
  {
   "cell_type": "code",
   "execution_count": 32,
   "metadata": {},
   "outputs": [
    {
     "name": "stdout",
     "output_type": "stream",
     "text": [
      "(6000, 11)\n",
      "(6000,)\n"
     ]
    }
   ],
   "source": [
    "print(features_train.shape)\n",
    "print(target_train.shape)"
   ]
  },
  {
   "cell_type": "code",
   "execution_count": 33,
   "metadata": {},
   "outputs": [
    {
     "name": "stdout",
     "output_type": "stream",
     "text": [
      "(9651, 11)\n",
      "(9651,)\n"
     ]
    }
   ],
   "source": [
    "def upsample(features, target, repeat = 4):\n",
    "    \n",
    "    features_zeros = features[target == 0]\n",
    "    features_ones = features[target == 1]\n",
    "    target_zeros = target[target == 0]\n",
    "    target_ones = target[target == 1]\n",
    "\n",
    "    features_upsampled = pd.concat([features_zeros] + [features_ones] * repeat)\n",
    "    target_unsampled = pd.concat([target_zeros] + [target_ones] * repeat)\n",
    "\n",
    "    return shuffle(features_upsampled, target_unsampled, random_state = 12345)\n",
    "\n",
    "features_upsampled, target_upsampled = upsample(features_train, target_train, 4)\n",
    "\n",
    "print(features_upsampled.shape)\n",
    "print(target_upsampled.shape)"
   ]
  },
  {
   "cell_type": "markdown",
   "metadata": {},
   "source": [
    "##### 3.2. Обучение моделей на увеличенной выборке"
   ]
  },
  {
   "cell_type": "markdown",
   "metadata": {},
   "source": [
    "Начнем поиск наилучшей модели на расширенной тестовой выборке."
   ]
  },
  {
   "cell_type": "markdown",
   "metadata": {},
   "source": [
    "##### Дерево решений"
   ]
  },
  {
   "cell_type": "code",
   "execution_count": 34,
   "metadata": {},
   "outputs": [
    {
     "name": "stdout",
     "output_type": "stream",
     "text": [
      "Качество лучшей модели: 0.757\n",
      "Максимальная глубина лучшей модели: 7\n"
     ]
    }
   ],
   "source": [
    "best_model = None\n",
    "best_accuracy = 0\n",
    "max_depth = 0\n",
    "\n",
    "for depth in range(1, 11):\n",
    "    model = DecisionTreeClassifier(random_state = 12345, max_depth = depth)\n",
    "    model.fit(features_upsampled, target_upsampled)\n",
    "    predictions = model.predict(features_valid)\n",
    "    accuracy = accuracy_score(predictions, target_valid)\n",
    "    if accuracy > best_accuracy:\n",
    "        best_accuracy = accuracy\n",
    "        best_model = model\n",
    "        max_depth = depth\n",
    " \n",
    "print(f\"Качество лучшей модели: {best_accuracy.round(4)}\", \n",
    "      f\"Максимальная глубина лучшей модели: {max_depth}\", sep = \"\\n\")"
   ]
  },
  {
   "cell_type": "markdown",
   "metadata": {},
   "source": [
    "##### Алгоритм случайного леса"
   ]
  },
  {
   "cell_type": "code",
   "execution_count": 35,
   "metadata": {},
   "outputs": [
    {
     "name": "stdout",
     "output_type": "stream",
     "text": [
      "Качество лучшей модели: 0.847\n",
      "Число деревьев в лучшей модели: 150\n"
     ]
    }
   ],
   "source": [
    "best_model = None\n",
    "best_accuracy = 0\n",
    "best_est = 0\n",
    "\n",
    "for est in range(10, 201, 10):\n",
    "    model = RandomForestClassifier(random_state = 12345, n_estimators = est)\n",
    "    model.fit(features_upsampled, target_upsampled)\n",
    "    accuracy = model.score(features_valid, target_valid)\n",
    "    if accuracy > best_accuracy:\n",
    "        best_accuracy = accuracy\n",
    "        best_model = model\n",
    "        best_est = est\n",
    "\n",
    "print(f\"Качество лучшей модели: {best_accuracy.round(4)}\", \n",
    "      f\"Число деревьев в лучшей модели: {best_est}\", sep = \"\\n\")"
   ]
  },
  {
   "cell_type": "markdown",
   "metadata": {},
   "source": [
    "##### Логистическая регрессия"
   ]
  },
  {
   "cell_type": "code",
   "execution_count": 36,
   "metadata": {},
   "outputs": [
    {
     "name": "stdout",
     "output_type": "stream",
     "text": [
      "Качество лучшей модели: 0.7055\n",
      "Максимальное количество итераций: 100\n"
     ]
    }
   ],
   "source": [
    "best_model = None\n",
    "best_accuracy = 0\n",
    "best_iter = 0\n",
    "\n",
    "for iter in range(100, 1001, 50):\n",
    "    model = LogisticRegression(random_state = 12345, solver = \"lbfgs\", max_iter = iter)\n",
    "    model.fit(features_upsampled, target_upsampled)\n",
    "    accuracy = model.score(features_valid, target_valid)\n",
    "    if accuracy > best_accuracy:\n",
    "        best_accuracy = accuracy\n",
    "        best_model = model\n",
    "        best_iter = iter\n",
    "\n",
    "print(f\"Качество лучшей модели: {best_accuracy.round(4)}\", \n",
    "      f\"Максимальное количество итераций: {best_iter}\", sep = \"\\n\")"
   ]
  },
  {
   "cell_type": "markdown",
   "metadata": {},
   "source": [
    "В результате поиска лучшей осталась модель, построенная на алгоритме случайного леса. Число деревьев стало меньше на 40 до 150, и качество незначительно снизилось. Стоит отметить существенное снижение качеств моделей, построенных на алгоритме решающего дерева (0.757 с максимальной грубиной 7) и логистической регрессии (0.7055 с максимальным количеством итераций 100). "
   ]
  },
  {
   "cell_type": "markdown",
   "metadata": {},
   "source": [
    "##### 3.3. Тестирование алгоритма случайного леса"
   ]
  },
  {
   "cell_type": "code",
   "execution_count": 37,
   "metadata": {},
   "outputs": [
    {
     "name": "stdout",
     "output_type": "stream",
     "text": [
      "Качество модели: 0.858\n"
     ]
    }
   ],
   "source": [
    "model = RandomForestClassifier(random_state = 12345, n_estimators = 150) \n",
    "model.fit(features_upsampled, target_upsampled)\n",
    "predicted_valid = model.predict(features_test)\n",
    "accuracy_valid = accuracy_score(target_test, predicted_valid)\n",
    "print(f\"Качество модели: {accuracy_valid.round(4)}\")"
   ]
  },
  {
   "cell_type": "markdown",
   "metadata": {},
   "source": [
    "На тестовой выборке алгоритм случайного леса также показал высокий результат."
   ]
  },
  {
   "cell_type": "markdown",
   "metadata": {},
   "source": [
    "##### 3.4. Метрики классификации"
   ]
  },
  {
   "cell_type": "markdown",
   "metadata": {},
   "source": [
    "В результате применения техники upsampling модель начала лучше определять положительные наблюдения в целевом признаке. Количество ложноотрицательных ответов уменьшилось, однако выросло число ложноположительных ответов. "
   ]
  },
  {
   "cell_type": "code",
   "execution_count": 38,
   "metadata": {},
   "outputs": [
    {
     "data": {
      "text/plain": [
       "array([[1487,  103],\n",
       "       [ 181,  229]])"
      ]
     },
     "execution_count": 38,
     "metadata": {},
     "output_type": "execute_result"
    }
   ],
   "source": [
    "confusion_matrix(target_test, predicted_valid)"
   ]
  },
  {
   "cell_type": "markdown",
   "metadata": {},
   "source": [
    "Теперь модель корректно определила чуть больше половины положительных наблюдей в целевом признаке. Ранее доля таких ответов составляла меньше чем половина наблюдений."
   ]
  },
  {
   "cell_type": "code",
   "execution_count": 39,
   "metadata": {},
   "outputs": [
    {
     "name": "stdout",
     "output_type": "stream",
     "text": [
      "Значение метрики recall: 55.85%\n"
     ]
    }
   ],
   "source": [
    "print(\"Значение метрики recall:\", \"{:,.2%}\".format(recall_score(target_test, predicted_valid)))"
   ]
  },
  {
   "cell_type": "markdown",
   "metadata": {},
   "source": [
    "Параллельно с этим снизилась доля корректно отмеченных моделью положительных ответов."
   ]
  },
  {
   "cell_type": "code",
   "execution_count": 40,
   "metadata": {},
   "outputs": [
    {
     "name": "stdout",
     "output_type": "stream",
     "text": [
      "Значение метрики precision: 68.98%\n"
     ]
    }
   ],
   "source": [
    "print(\"Значение метрики precision:\", \"{:,.2%}\".format(precision_score(target_test, predicted_valid)))"
   ]
  },
  {
   "cell_type": "markdown",
   "metadata": {},
   "source": [
    "Среднее гармоническое *recall* и *precision* увеличилась до 62%."
   ]
  },
  {
   "cell_type": "code",
   "execution_count": 41,
   "metadata": {},
   "outputs": [
    {
     "name": "stdout",
     "output_type": "stream",
     "text": [
      "Значение F1-меры: 61.73%\n"
     ]
    }
   ],
   "source": [
    "print(\"Значение F1-меры:\", \"{:,.2%}\".format(f1_score(target_test, predicted_valid)))"
   ]
  },
  {
   "cell_type": "code",
   "execution_count": 42,
   "metadata": {},
   "outputs": [
    {
     "data": {
      "image/png": "[encoded data removed]",
      "text/plain": [
       "<Figure size 576x288 with 1 Axes>"
      ]
     },
     "metadata": {
      "needs_background": "light"
     },
     "output_type": "display_data"
    },
    {
     "name": "stdout",
     "output_type": "stream",
     "text": [
      "\n",
      "Значение метрики ROC-AUC: 85.67%\n"
     ]
    }
   ],
   "source": [
    "probabilities_valid = model.predict_proba(features_test)\n",
    "probabilities_one_valid = probabilities_valid[:, 1]\n",
    "precision, recall, thresholds = precision_recall_curve(target_test, probabilities_valid[:, 1])\n",
    "fpr, tpr, threshold = roc_curve(target_test, probabilities_one_valid)\n",
    "plt.figure(figsize = (8, 4))\n",
    "plt.step(fpr, tpr, where = 'post')\n",
    "plt.plot(fpr, tpr)\n",
    "plt.xlim([0.0, 1.0])\n",
    "plt.ylim([0.0, 1.0])\n",
    "plt.xlabel('False Positive Rate')\n",
    "plt.ylabel('True Positive Rate')\n",
    "plt.title('ROC-кривая')\n",
    "plt.show()\n",
    "print()\n",
    "print(\"Значение метрики ROC-AUC:\", \"{:,.2%}\".format(roc_auc_score(target_test, probabilities_one_valid)))"
   ]
  },
  {
   "cell_type": "markdown",
   "metadata": {},
   "source": [
    "### Выводы\n",
    "---\n",
    "С увеличением выборки мы получили более качественную модель с улучшенными результатами."
   ]
  },
  {
   "cell_type": "markdown",
   "metadata": {},
   "source": [
    "### Шаг 4. Улучшение качества моделей благодаря уменьшению выборки"
   ]
  },
  {
   "cell_type": "markdown",
   "metadata": {},
   "source": [
    "##### 4.1. Метод уменьшения выборки"
   ]
  },
  {
   "cell_type": "code",
   "execution_count": 43,
   "metadata": {},
   "outputs": [
    {
     "name": "stdout",
     "output_type": "stream",
     "text": [
      "(6000, 11)\n",
      "(6000,)\n"
     ]
    }
   ],
   "source": [
    "print(features_train.shape)\n",
    "print(target_train.shape)"
   ]
  },
  {
   "cell_type": "code",
   "execution_count": 44,
   "metadata": {},
   "outputs": [
    {
     "name": "stdout",
     "output_type": "stream",
     "text": [
      "(2413, 11)\n",
      "(2413,)\n"
     ]
    }
   ],
   "source": [
    "def downsample(features, target, fraction):\n",
    "    features_zeros = features[target == 0]\n",
    "    features_ones = features[target == 1]\n",
    "    target_zeros = target[target == 0]\n",
    "    target_ones = target[target == 1]\n",
    "\n",
    "    features_downsampled = pd.concat([features_zeros.sample(frac = fraction, random_state = 12345)] + [features_ones])\n",
    "    target_downsampled = pd.concat([target_zeros.sample(frac = fraction, random_state = 12345)] + [target_ones])\n",
    "\n",
    "    features_downsampled, target_downsampled = shuffle(features_downsampled, target_downsampled, random_state = 12345)\n",
    "\n",
    "    return features_downsampled, target_downsampled\n",
    "\n",
    "features_downsampled, target_downsampled = downsample(features_train, target_train, 0.25)\n",
    "\n",
    "print(features_downsampled.shape)\n",
    "print(target_downsampled.shape)"
   ]
  },
  {
   "cell_type": "markdown",
   "metadata": {},
   "source": [
    "##### 4.2. Обучение моделей на уменьшенной выборке"
   ]
  },
  {
   "cell_type": "markdown",
   "metadata": {},
   "source": [
    "##### Дерево решений"
   ]
  },
  {
   "cell_type": "code",
   "execution_count": 45,
   "metadata": {},
   "outputs": [
    {
     "name": "stdout",
     "output_type": "stream",
     "text": [
      "Качество лучшей модели: 0.75\n",
      "Максимальная глубина лучшей модели: 6\n"
     ]
    }
   ],
   "source": [
    "best_model = None\n",
    "best_accuracy = 0\n",
    "max_depth = 0\n",
    "\n",
    "for depth in range(1, 11):\n",
    "    model = DecisionTreeClassifier(random_state = 12345, max_depth = depth)\n",
    "    model.fit(features_downsampled, target_downsampled)\n",
    "    predictions = model.predict(features_valid)\n",
    "    accuracy = accuracy_score(predictions, target_valid)\n",
    "    if accuracy > best_accuracy:\n",
    "        best_accuracy = accuracy\n",
    "        best_model = model\n",
    "        max_depth = depth\n",
    " \n",
    "print(f\"Качество лучшей модели: {best_accuracy.round(4)}\", \n",
    "      f\"Максимальная глубина лучшей модели: {max_depth}\", sep = \"\\n\")"
   ]
  },
  {
   "cell_type": "markdown",
   "metadata": {},
   "source": [
    "##### Алгоритм случайного леса"
   ]
  },
  {
   "cell_type": "code",
   "execution_count": 46,
   "metadata": {},
   "outputs": [
    {
     "name": "stdout",
     "output_type": "stream",
     "text": [
      "Качество лучшей модели: 0.7715\n",
      "Число деревьев в лучшей модели: 10\n"
     ]
    }
   ],
   "source": [
    "best_model = None\n",
    "best_accuracy = 0\n",
    "best_est = 0\n",
    "\n",
    "for est in range(10, 201, 10):\n",
    "    model = RandomForestClassifier(random_state = 12345, n_estimators = est)\n",
    "    model.fit(features_downsampled, target_downsampled)\n",
    "    accuracy = model.score(features_valid, target_valid)\n",
    "    if accuracy > best_accuracy:\n",
    "        best_accuracy = accuracy\n",
    "        best_model = model\n",
    "        best_est = est\n",
    "\n",
    "print(f\"Качество лучшей модели: {best_accuracy.round(4)}\", \n",
    "      f\"Число деревьев в лучшей модели: {best_est}\", sep = \"\\n\")"
   ]
  },
  {
   "cell_type": "markdown",
   "metadata": {},
   "source": [
    "##### Логистическая регрессия"
   ]
  },
  {
   "cell_type": "code",
   "execution_count": 47,
   "metadata": {},
   "outputs": [
    {
     "name": "stdout",
     "output_type": "stream",
     "text": [
      "Качество лучшей модели: 0.7065\n",
      "Максимальное количество итераций: 100\n"
     ]
    }
   ],
   "source": [
    "best_model = None\n",
    "best_accuracy = 0\n",
    "best_iter = 0\n",
    "\n",
    "for iter in range(100, 1001, 50):\n",
    "    model = LogisticRegression(random_state = 12345, solver = \"lbfgs\", max_iter = iter)\n",
    "    model.fit(features_downsampled, target_downsampled)\n",
    "    accuracy = model.score(features_valid, target_valid)\n",
    "    if accuracy > best_accuracy:\n",
    "        best_accuracy = accuracy\n",
    "        best_model = model\n",
    "        best_iter = iter\n",
    "\n",
    "print(f\"Качество лучшей модели: {best_accuracy.round(4)}\", \n",
    "      f\"Максимальное количество итераций: {best_iter}\", sep = \"\\n\")"
   ]
  },
  {
   "cell_type": "markdown",
   "metadata": {},
   "source": [
    "Первое, что бросается в глаза, глядя на полученные результаты, - это то, что качество каждой модели стало заметно ниже. В результате обучения на уменьшенной выборке лучшей моделью снова стала построенная на алгоритме случайного леса, хотя и разница с алгоритмом решающего дерева небольшая."
   ]
  },
  {
   "cell_type": "markdown",
   "metadata": {},
   "source": [
    "##### 4.3. Тестирование модели на алгоритме случайного леса"
   ]
  },
  {
   "cell_type": "code",
   "execution_count": 48,
   "metadata": {},
   "outputs": [
    {
     "name": "stdout",
     "output_type": "stream",
     "text": [
      "Качество модели: 0.779\n"
     ]
    }
   ],
   "source": [
    "model = RandomForestClassifier(random_state = 12345, n_estimators = 10)\n",
    "model.fit(features_downsampled, target_downsampled)\n",
    "predicted_valid = model.predict(features_test)\n",
    "accuracy_valid = accuracy_score(target_test, predicted_valid)\n",
    "print(f\"Качество модели: {accuracy_valid.round(4)}\")"
   ]
  },
  {
   "cell_type": "markdown",
   "metadata": {},
   "source": [
    "На тестовой выборке качество немного улучшилось. Корректную оценку модели получим, рассчитав метрики классификации."
   ]
  },
  {
   "cell_type": "markdown",
   "metadata": {},
   "source": [
    "##### 4.4. Метрики классификации"
   ]
  },
  {
   "cell_type": "markdown",
   "metadata": {},
   "source": [
    "В результате применения техники downsampling модель начала лучше определять положительные наблюдения в целевом признаке. Баланс между ложноположительными и ложноотрицательными ответами развернулся в обратную сторону, то есть ложноотрицательных ответов стало намного больше."
   ]
  },
  {
   "cell_type": "code",
   "execution_count": 49,
   "metadata": {},
   "outputs": [
    {
     "data": {
      "text/plain": [
       "array([[1268,  322],\n",
       "       [ 120,  290]])"
      ]
     },
     "execution_count": 49,
     "metadata": {},
     "output_type": "execute_result"
    }
   ],
   "source": [
    "confusion_matrix(target_test, predicted_valid)"
   ]
  },
  {
   "cell_type": "markdown",
   "metadata": {},
   "source": [
    "Теперь модель корректно определяет практически 71% положительных наблюдей в целевом признаке. Ранее доля таких ответов составляла чуть больше половины наблюдений."
   ]
  },
  {
   "cell_type": "code",
   "execution_count": 50,
   "metadata": {},
   "outputs": [
    {
     "name": "stdout",
     "output_type": "stream",
     "text": [
      "Значение метрики recall: 70.73%\n"
     ]
    }
   ],
   "source": [
    "print(\"Значение метрики recall:\", \"{:,.2%}\".format(recall_score(target_test, predicted_valid)))"
   ]
  },
  {
   "cell_type": "markdown",
   "metadata": {},
   "source": [
    "Параллельно с этим снизилась доля корректно отмеченных моделью положительных ответов."
   ]
  },
  {
   "cell_type": "code",
   "execution_count": 51,
   "metadata": {},
   "outputs": [
    {
     "name": "stdout",
     "output_type": "stream",
     "text": [
      "Значение метрики precision: 47.39%\n"
     ]
    }
   ],
   "source": [
    "print(\"Значение метрики precision:\", \"{:,.2%}\".format(precision_score(target_test, predicted_valid)))"
   ]
  },
  {
   "cell_type": "markdown",
   "metadata": {},
   "source": [
    "Однако среднее гармоническое *recall* и *precision* оказалось только 56.75%, что ниже целевого значения в 59%."
   ]
  },
  {
   "cell_type": "code",
   "execution_count": 52,
   "metadata": {},
   "outputs": [
    {
     "name": "stdout",
     "output_type": "stream",
     "text": [
      "Значение F1-меры: 56.75%\n"
     ]
    }
   ],
   "source": [
    "print(\"Значение F1-меры:\", \"{:,.2%}\".format(f1_score(target_test, predicted_valid)))"
   ]
  },
  {
   "cell_type": "code",
   "execution_count": 53,
   "metadata": {},
   "outputs": [
    {
     "data": {
      "image/png": "[encoded data removed]",
      "text/plain": [
       "<Figure size 576x288 with 1 Axes>"
      ]
     },
     "metadata": {
      "needs_background": "light"
     },
     "output_type": "display_data"
    },
    {
     "name": "stdout",
     "output_type": "stream",
     "text": [
      "\n",
      "Значение метрики ROC-AUC: 82.18%\n"
     ]
    }
   ],
   "source": [
    "probabilities_valid = model.predict_proba(features_test)\n",
    "probabilities_one_valid = probabilities_valid[:, 1]\n",
    "precision, recall, thresholds = precision_recall_curve(target_test, probabilities_valid[:, 1])\n",
    "fpr, tpr, threshold = roc_curve(target_test, probabilities_one_valid)\n",
    "plt.figure(figsize = (8, 4))\n",
    "plt.step(fpr, tpr, where = 'post')\n",
    "plt.plot(fpr, tpr)\n",
    "plt.xlim([0.0, 1.0])\n",
    "plt.ylim([0.0, 1.0])\n",
    "plt.xlabel('False Positive Rate')\n",
    "plt.ylabel('True Positive Rate')\n",
    "plt.title('ROC-кривая')\n",
    "plt.show()\n",
    "print()\n",
    "print(\"Значение метрики ROC-AUC:\", \"{:,.2%}\".format(roc_auc_score(target_test, probabilities_one_valid)))"
   ]
  },
  {
   "cell_type": "markdown",
   "metadata": {},
   "source": [
    "### Шаг 5. Выводы\n",
    "---\n",
    "Таким образом, в данной работе был исследован баланс классов, и были обучены модели без учета дисбаланса. Затем баланс классов был исправлен благодаря увеличению и уменьшению выборок, а модели - обучены снова.\n",
    "\n",
    "Модель, полученная в результате проделанной работы, построена на алгоритме случайного леса со 150 деревьями. Дисбаланс классов вносил существенный вклад на работу модели. Так, она давала отрицательные ответы в 9 из 10 наблюдений. В связи с этим необходимо было митигировать последствия классового дисбаланса, чтобы получить более корректные ответы от модели. В результате применения метода увеличения выборки метрики классификации получились приемлемыми. Полученная модель научилась корректно определять чуть больше половины положительных наблюдей в целевом признаке, а f1-мера равняется 61.73%.\n",
    "\n",
    "С другой стороны, метод уменьшения выборки привел к ухудшению метрик классификации. F1-мера упала до 56.75%."
   ]
  }
 ],
 "metadata": {
  "kernelspec": {
   "display_name": "Python 3 (ipykernel)",
   "language": "python",
   "name": "python3"
  },
  "language_info": {
   "codemirror_mode": {
    "name": "ipython",
    "version": 3
   },
   "file_extension": ".py",
   "mimetype": "text/x-python",
   "name": "python",
   "nbconvert_exporter": "python",
   "pygments_lexer": "ipython3",
   "version": "3.9.12"
  },
  "vscode": {
   "interpreter": {
    "hash": "40d3a090f54c6569ab1632332b64b2c03c39dcf918b08424e98f38b5ae0af88f"
   }
  }
 },
 "nbformat": 4,
 "nbformat_minor": 2
}
