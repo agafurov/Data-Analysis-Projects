{
 "cells": [
  {
   "cell_type": "markdown",
   "id": "aa01dbce",
   "metadata": {},
   "source": [
    "# Проектная работа: Исследование надёжности заёмщиков "
   ]
  },
  {
   "cell_type": "markdown",
   "id": "eaac683b",
   "metadata": {},
   "source": [
    "## Описание проекта\n",
    "\n",
    "Заказчик — кредитный отдел банка. Задача состоит в том, чтобы разобраться, влияет ли семейное положение и количество детей клиента на факт погашения кредита в срок. Входные данные от банка — статистика о платёжеспособности клиентов."
   ]
  },
  {
   "cell_type": "markdown",
   "id": "967694ec",
   "metadata": {},
   "source": [
    "### Шаг 1. Открытие таблицы и изучение общей информации о данных"
   ]
  },
  {
   "cell_type": "code",
   "execution_count": 1,
   "id": "79a18490",
   "metadata": {},
   "outputs": [
    {
     "data": {
      "text/html": [
       "<div>\n",
       "<style scoped>\n",
       "    .dataframe tbody tr th:only-of-type {\n",
       "        vertical-align: middle;\n",
       "    }\n",
       "\n",
       "    .dataframe tbody tr th {\n",
       "        vertical-align: top;\n",
       "    }\n",
       "\n",
       "    .dataframe thead th {\n",
       "        text-align: right;\n",
       "    }\n",
       "</style>\n",
       "<table border=\"1\" class=\"dataframe\">\n",
       "  <thead>\n",
       "    <tr style=\"text-align: right;\">\n",
       "      <th></th>\n",
       "      <th>children</th>\n",
       "      <th>days_employed</th>\n",
       "      <th>dob_years</th>\n",
       "      <th>education</th>\n",
       "      <th>education_id</th>\n",
       "      <th>family_status</th>\n",
       "      <th>family_status_id</th>\n",
       "      <th>gender</th>\n",
       "      <th>income_type</th>\n",
       "      <th>debt</th>\n",
       "      <th>total_income</th>\n",
       "      <th>purpose</th>\n",
       "    </tr>\n",
       "  </thead>\n",
       "  <tbody>\n",
       "    <tr>\n",
       "      <th>0</th>\n",
       "      <td>1</td>\n",
       "      <td>-8437.673028</td>\n",
       "      <td>42</td>\n",
       "      <td>высшее</td>\n",
       "      <td>0</td>\n",
       "      <td>женат / замужем</td>\n",
       "      <td>0</td>\n",
       "      <td>F</td>\n",
       "      <td>сотрудник</td>\n",
       "      <td>0</td>\n",
       "      <td>253875.639453</td>\n",
       "      <td>покупка жилья</td>\n",
       "    </tr>\n",
       "    <tr>\n",
       "      <th>1</th>\n",
       "      <td>1</td>\n",
       "      <td>-4024.803754</td>\n",
       "      <td>36</td>\n",
       "      <td>среднее</td>\n",
       "      <td>1</td>\n",
       "      <td>женат / замужем</td>\n",
       "      <td>0</td>\n",
       "      <td>F</td>\n",
       "      <td>сотрудник</td>\n",
       "      <td>0</td>\n",
       "      <td>112080.014102</td>\n",
       "      <td>приобретение автомобиля</td>\n",
       "    </tr>\n",
       "    <tr>\n",
       "      <th>2</th>\n",
       "      <td>0</td>\n",
       "      <td>-5623.422610</td>\n",
       "      <td>33</td>\n",
       "      <td>Среднее</td>\n",
       "      <td>1</td>\n",
       "      <td>женат / замужем</td>\n",
       "      <td>0</td>\n",
       "      <td>M</td>\n",
       "      <td>сотрудник</td>\n",
       "      <td>0</td>\n",
       "      <td>145885.952297</td>\n",
       "      <td>покупка жилья</td>\n",
       "    </tr>\n",
       "    <tr>\n",
       "      <th>3</th>\n",
       "      <td>3</td>\n",
       "      <td>-4124.747207</td>\n",
       "      <td>32</td>\n",
       "      <td>среднее</td>\n",
       "      <td>1</td>\n",
       "      <td>женат / замужем</td>\n",
       "      <td>0</td>\n",
       "      <td>M</td>\n",
       "      <td>сотрудник</td>\n",
       "      <td>0</td>\n",
       "      <td>267628.550329</td>\n",
       "      <td>дополнительное образование</td>\n",
       "    </tr>\n",
       "    <tr>\n",
       "      <th>4</th>\n",
       "      <td>0</td>\n",
       "      <td>340266.072047</td>\n",
       "      <td>53</td>\n",
       "      <td>среднее</td>\n",
       "      <td>1</td>\n",
       "      <td>гражданский брак</td>\n",
       "      <td>1</td>\n",
       "      <td>F</td>\n",
       "      <td>пенсионер</td>\n",
       "      <td>0</td>\n",
       "      <td>158616.077870</td>\n",
       "      <td>сыграть свадьбу</td>\n",
       "    </tr>\n",
       "    <tr>\n",
       "      <th>5</th>\n",
       "      <td>0</td>\n",
       "      <td>-926.185831</td>\n",
       "      <td>27</td>\n",
       "      <td>высшее</td>\n",
       "      <td>0</td>\n",
       "      <td>гражданский брак</td>\n",
       "      <td>1</td>\n",
       "      <td>M</td>\n",
       "      <td>компаньон</td>\n",
       "      <td>0</td>\n",
       "      <td>255763.565419</td>\n",
       "      <td>покупка жилья</td>\n",
       "    </tr>\n",
       "    <tr>\n",
       "      <th>6</th>\n",
       "      <td>0</td>\n",
       "      <td>-2879.202052</td>\n",
       "      <td>43</td>\n",
       "      <td>высшее</td>\n",
       "      <td>0</td>\n",
       "      <td>женат / замужем</td>\n",
       "      <td>0</td>\n",
       "      <td>F</td>\n",
       "      <td>компаньон</td>\n",
       "      <td>0</td>\n",
       "      <td>240525.971920</td>\n",
       "      <td>операции с жильем</td>\n",
       "    </tr>\n",
       "    <tr>\n",
       "      <th>7</th>\n",
       "      <td>0</td>\n",
       "      <td>-152.779569</td>\n",
       "      <td>50</td>\n",
       "      <td>СРЕДНЕЕ</td>\n",
       "      <td>1</td>\n",
       "      <td>женат / замужем</td>\n",
       "      <td>0</td>\n",
       "      <td>M</td>\n",
       "      <td>сотрудник</td>\n",
       "      <td>0</td>\n",
       "      <td>135823.934197</td>\n",
       "      <td>образование</td>\n",
       "    </tr>\n",
       "    <tr>\n",
       "      <th>8</th>\n",
       "      <td>2</td>\n",
       "      <td>-6929.865299</td>\n",
       "      <td>35</td>\n",
       "      <td>ВЫСШЕЕ</td>\n",
       "      <td>0</td>\n",
       "      <td>гражданский брак</td>\n",
       "      <td>1</td>\n",
       "      <td>F</td>\n",
       "      <td>сотрудник</td>\n",
       "      <td>0</td>\n",
       "      <td>95856.832424</td>\n",
       "      <td>на проведение свадьбы</td>\n",
       "    </tr>\n",
       "    <tr>\n",
       "      <th>9</th>\n",
       "      <td>0</td>\n",
       "      <td>-2188.756445</td>\n",
       "      <td>41</td>\n",
       "      <td>среднее</td>\n",
       "      <td>1</td>\n",
       "      <td>женат / замужем</td>\n",
       "      <td>0</td>\n",
       "      <td>M</td>\n",
       "      <td>сотрудник</td>\n",
       "      <td>0</td>\n",
       "      <td>144425.938277</td>\n",
       "      <td>покупка жилья для семьи</td>\n",
       "    </tr>\n",
       "    <tr>\n",
       "      <th>10</th>\n",
       "      <td>2</td>\n",
       "      <td>-4171.483647</td>\n",
       "      <td>36</td>\n",
       "      <td>высшее</td>\n",
       "      <td>0</td>\n",
       "      <td>женат / замужем</td>\n",
       "      <td>0</td>\n",
       "      <td>M</td>\n",
       "      <td>компаньон</td>\n",
       "      <td>0</td>\n",
       "      <td>113943.491460</td>\n",
       "      <td>покупка недвижимости</td>\n",
       "    </tr>\n",
       "    <tr>\n",
       "      <th>11</th>\n",
       "      <td>0</td>\n",
       "      <td>-792.701887</td>\n",
       "      <td>40</td>\n",
       "      <td>среднее</td>\n",
       "      <td>1</td>\n",
       "      <td>женат / замужем</td>\n",
       "      <td>0</td>\n",
       "      <td>F</td>\n",
       "      <td>сотрудник</td>\n",
       "      <td>0</td>\n",
       "      <td>77069.234271</td>\n",
       "      <td>покупка коммерческой недвижимости</td>\n",
       "    </tr>\n",
       "    <tr>\n",
       "      <th>12</th>\n",
       "      <td>0</td>\n",
       "      <td>NaN</td>\n",
       "      <td>65</td>\n",
       "      <td>среднее</td>\n",
       "      <td>1</td>\n",
       "      <td>гражданский брак</td>\n",
       "      <td>1</td>\n",
       "      <td>M</td>\n",
       "      <td>пенсионер</td>\n",
       "      <td>0</td>\n",
       "      <td>NaN</td>\n",
       "      <td>сыграть свадьбу</td>\n",
       "    </tr>\n",
       "    <tr>\n",
       "      <th>13</th>\n",
       "      <td>0</td>\n",
       "      <td>-1846.641941</td>\n",
       "      <td>54</td>\n",
       "      <td>неоконченное высшее</td>\n",
       "      <td>2</td>\n",
       "      <td>женат / замужем</td>\n",
       "      <td>0</td>\n",
       "      <td>F</td>\n",
       "      <td>сотрудник</td>\n",
       "      <td>0</td>\n",
       "      <td>130458.228857</td>\n",
       "      <td>приобретение автомобиля</td>\n",
       "    </tr>\n",
       "    <tr>\n",
       "      <th>14</th>\n",
       "      <td>0</td>\n",
       "      <td>-1844.956182</td>\n",
       "      <td>56</td>\n",
       "      <td>высшее</td>\n",
       "      <td>0</td>\n",
       "      <td>гражданский брак</td>\n",
       "      <td>1</td>\n",
       "      <td>F</td>\n",
       "      <td>компаньон</td>\n",
       "      <td>1</td>\n",
       "      <td>165127.911772</td>\n",
       "      <td>покупка жилой недвижимости</td>\n",
       "    </tr>\n",
       "  </tbody>\n",
       "</table>\n",
       "</div>"
      ],
      "text/plain": [
       "    children  days_employed  dob_years            education  education_id  \\\n",
       "0          1   -8437.673028         42               высшее             0   \n",
       "1          1   -4024.803754         36              среднее             1   \n",
       "2          0   -5623.422610         33              Среднее             1   \n",
       "3          3   -4124.747207         32              среднее             1   \n",
       "4          0  340266.072047         53              среднее             1   \n",
       "5          0    -926.185831         27               высшее             0   \n",
       "6          0   -2879.202052         43               высшее             0   \n",
       "7          0    -152.779569         50              СРЕДНЕЕ             1   \n",
       "8          2   -6929.865299         35               ВЫСШЕЕ             0   \n",
       "9          0   -2188.756445         41              среднее             1   \n",
       "10         2   -4171.483647         36               высшее             0   \n",
       "11         0    -792.701887         40              среднее             1   \n",
       "12         0            NaN         65              среднее             1   \n",
       "13         0   -1846.641941         54  неоконченное высшее             2   \n",
       "14         0   -1844.956182         56               высшее             0   \n",
       "\n",
       "       family_status  family_status_id gender income_type  debt  \\\n",
       "0    женат / замужем                 0      F   сотрудник     0   \n",
       "1    женат / замужем                 0      F   сотрудник     0   \n",
       "2    женат / замужем                 0      M   сотрудник     0   \n",
       "3    женат / замужем                 0      M   сотрудник     0   \n",
       "4   гражданский брак                 1      F   пенсионер     0   \n",
       "5   гражданский брак                 1      M   компаньон     0   \n",
       "6    женат / замужем                 0      F   компаньон     0   \n",
       "7    женат / замужем                 0      M   сотрудник     0   \n",
       "8   гражданский брак                 1      F   сотрудник     0   \n",
       "9    женат / замужем                 0      M   сотрудник     0   \n",
       "10   женат / замужем                 0      M   компаньон     0   \n",
       "11   женат / замужем                 0      F   сотрудник     0   \n",
       "12  гражданский брак                 1      M   пенсионер     0   \n",
       "13   женат / замужем                 0      F   сотрудник     0   \n",
       "14  гражданский брак                 1      F   компаньон     1   \n",
       "\n",
       "     total_income                            purpose  \n",
       "0   253875.639453                      покупка жилья  \n",
       "1   112080.014102            приобретение автомобиля  \n",
       "2   145885.952297                      покупка жилья  \n",
       "3   267628.550329         дополнительное образование  \n",
       "4   158616.077870                    сыграть свадьбу  \n",
       "5   255763.565419                      покупка жилья  \n",
       "6   240525.971920                  операции с жильем  \n",
       "7   135823.934197                        образование  \n",
       "8    95856.832424              на проведение свадьбы  \n",
       "9   144425.938277            покупка жилья для семьи  \n",
       "10  113943.491460               покупка недвижимости  \n",
       "11   77069.234271  покупка коммерческой недвижимости  \n",
       "12            NaN                    сыграть свадьбу  \n",
       "13  130458.228857            приобретение автомобиля  \n",
       "14  165127.911772         покупка жилой недвижимости  "
      ]
     },
     "execution_count": 1,
     "metadata": {},
     "output_type": "execute_result"
    }
   ],
   "source": [
    "import pandas as pd\n",
    "import numpy as np\n",
    "df = pd.read_csv(\"data.csv\")\n",
    "df.head(15)"
   ]
  },
  {
   "cell_type": "code",
   "execution_count": 2,
   "id": "23a532a6",
   "metadata": {},
   "outputs": [
    {
     "data": {
      "text/plain": [
       "Index(['children', 'days_employed', 'dob_years', 'education', 'education_id',\n",
       "       'family_status', 'family_status_id', 'gender', 'income_type', 'debt',\n",
       "       'total_income', 'purpose'],\n",
       "      dtype='object')"
      ]
     },
     "execution_count": 2,
     "metadata": {},
     "output_type": "execute_result"
    }
   ],
   "source": [
    "df.columns"
   ]
  },
  {
   "cell_type": "markdown",
   "id": "5c600eea",
   "metadata": {},
   "source": [
    "Данные содержат `12` столбцов:\n",
    "\n",
    "- `children` - количество детей в семье;\n",
    "- `days_employed` - общий трудовой стаж в днях;\n",
    "- `dob_years` - возраст клиента в годах;\n",
    "- `education` - уровень образования клиента;\n",
    "- `education_id` - идентификатор уровня образования;\n",
    "- `family_status` - семейное положение;\n",
    "- `family_status_id` - идентификатор семейного положения;\n",
    "- `gender` - пол клиента;\n",
    "- `income_type` - тип занятости;\n",
    "- `debt` - имел ли задолженность по возврату кредитов;\n",
    "- `total_income` - ежемесячный доход;\n",
    "- `purpose` - цель получения кредита;\n",
    "\n",
    "Наименования столбцов указаны в соответствии со змеиным регистром, необходимости их переименовывать нет. "
   ]
  },
  {
   "cell_type": "code",
   "execution_count": 3,
   "id": "7394d179",
   "metadata": {},
   "outputs": [
    {
     "data": {
      "text/plain": [
       "(21525, 12)"
      ]
     },
     "execution_count": 3,
     "metadata": {},
     "output_type": "execute_result"
    }
   ],
   "source": [
    "df.shape"
   ]
  },
  {
   "cell_type": "markdown",
   "id": "244e7d4c",
   "metadata": {},
   "source": [
    "Количество строк в данных равняется `21525`."
   ]
  },
  {
   "cell_type": "code",
   "execution_count": 4,
   "id": "eb2b8e52",
   "metadata": {},
   "outputs": [
    {
     "data": {
      "text/plain": [
       "children              int64\n",
       "days_employed       float64\n",
       "dob_years             int64\n",
       "education            object\n",
       "education_id          int64\n",
       "family_status        object\n",
       "family_status_id      int64\n",
       "gender               object\n",
       "income_type          object\n",
       "debt                  int64\n",
       "total_income        float64\n",
       "purpose              object\n",
       "dtype: object"
      ]
     },
     "execution_count": 4,
     "metadata": {},
     "output_type": "execute_result"
    }
   ],
   "source": [
    "df.dtypes"
   ]
  },
  {
   "cell_type": "markdown",
   "id": "dddf38f5",
   "metadata": {},
   "source": [
    "В данных присутствуют столбцы с разными типами данных: `int64` (целые числа), `float64` (числа с плавающей точкой), а также `object` (строковый тип данных). "
   ]
  },
  {
   "cell_type": "code",
   "execution_count": 5,
   "id": "42493da4",
   "metadata": {},
   "outputs": [
    {
     "name": "stdout",
     "output_type": "stream",
     "text": [
      "<class 'pandas.core.frame.DataFrame'>\n",
      "RangeIndex: 21525 entries, 0 to 21524\n",
      "Data columns (total 12 columns):\n",
      " #   Column            Non-Null Count  Dtype  \n",
      "---  ------            --------------  -----  \n",
      " 0   children          21525 non-null  int64  \n",
      " 1   days_employed     19351 non-null  float64\n",
      " 2   dob_years         21525 non-null  int64  \n",
      " 3   education         21525 non-null  object \n",
      " 4   education_id      21525 non-null  int64  \n",
      " 5   family_status     21525 non-null  object \n",
      " 6   family_status_id  21525 non-null  int64  \n",
      " 7   gender            21525 non-null  object \n",
      " 8   income_type       21525 non-null  object \n",
      " 9   debt              21525 non-null  int64  \n",
      " 10  total_income      19351 non-null  float64\n",
      " 11  purpose           21525 non-null  object \n",
      "dtypes: float64(2), int64(5), object(5)\n",
      "memory usage: 2.0+ MB\n"
     ]
    }
   ],
   "source": [
    "df.info()"
   ]
  },
  {
   "cell_type": "markdown",
   "id": "9b86ee05",
   "metadata": {},
   "source": [
    "Пропущенные значения присутствуют только в двух стоблцах таблицы, а именно: в `days_employed` и `total_income`."
   ]
  },
  {
   "cell_type": "markdown",
   "id": "b491b27f",
   "metadata": {},
   "source": [
    "### Выводы:\n",
    "<hr>\n",
    "\n",
    "Входные данные от банка выглядят немного сырыми. С первого взгляда на таблицу бросается в глаза столбец `days_employed`, так как содержит отрицательные данные. Помимо этого, дни рассчитываются в целых числах. Соответственно, необходимо поменять тип данных в столбце на `int64`. Также в столбце `education` данные заполнены с использованием разного регистра, необходимо столбец привести в единому регистру. В стоблец `total_income` следует округлить до двух знаков после запятой. Таким образом, при белгом взгляде на данные становится очевидным необходимость предварительной обработки."
   ]
  },
  {
   "cell_type": "markdown",
   "id": "f015b55e",
   "metadata": {},
   "source": [
    "### Шаг 2. Предобработка данных"
   ]
  },
  {
   "cell_type": "markdown",
   "id": "29295502",
   "metadata": {},
   "source": [
    "Приведем данные с столбцах `education` и `family_status` к нижнему регистру, это поможет позднее выявить дубликаты в данных."
   ]
  },
  {
   "cell_type": "code",
   "execution_count": 6,
   "id": "3b3342fb",
   "metadata": {},
   "outputs": [
    {
     "data": {
      "text/plain": [
       "array(['высшее', 'среднее', 'неоконченное высшее', 'начальное',\n",
       "       'ученая степень'], dtype=object)"
      ]
     },
     "execution_count": 6,
     "metadata": {},
     "output_type": "execute_result"
    }
   ],
   "source": [
    "df[\"education\"] = df[\"education\"].str.lower()\n",
    "df[\"education\"].unique()"
   ]
  },
  {
   "cell_type": "code",
   "execution_count": 7,
   "id": "f1896d71",
   "metadata": {},
   "outputs": [
    {
     "data": {
      "text/plain": [
       "array(['женат / замужем', 'гражданский брак', 'вдовец / вдова',\n",
       "       'в разводе', 'не женат / не замужем'], dtype=object)"
      ]
     },
     "execution_count": 7,
     "metadata": {},
     "output_type": "execute_result"
    }
   ],
   "source": [
    "df[\"family_status\"] = df[\"family_status\"].str.lower()\n",
    "df[\"family_status\"].unique()"
   ]
  },
  {
   "cell_type": "markdown",
   "id": "94fda6bb",
   "metadata": {},
   "source": [
    "Трудовой стаж в днях не может быть отрицательным, поэтому все отрицательные значения в `days_employed` нужно конвертировать в положительные."
   ]
  },
  {
   "cell_type": "code",
   "execution_count": 8,
   "id": "1ad3a894",
   "metadata": {},
   "outputs": [
    {
     "name": "stdout",
     "output_type": "stream",
     "text": [
      "Empty DataFrame\n",
      "Columns: [children, days_employed, dob_years, education, education_id, family_status, family_status_id, gender, income_type, debt, total_income, purpose]\n",
      "Index: []\n"
     ]
    }
   ],
   "source": [
    "df[\"days_employed\"] = abs(df[\"days_employed\"])\n",
    "print(df[df[\"days_employed\"] <= 0])"
   ]
  },
  {
   "cell_type": "markdown",
   "id": "d8771c4d",
   "metadata": {},
   "source": [
    "В столбце `days_employed` есть аномально высокие значения. Например, свыше 300 тыс. дней, что означает, что человек имеет трудовой стаж примерно в 800 лет. Значит, при вводе данных произошла ошибка. Предполагаем, что запятая, которая должна разделять целую и дробную части, была проставлена некорректно. Распределение тудового стажа в столбце `days_employed` имеет оргомный пробел начиная примерно с 19 тыс. дней, поэтому все, что свыше этой отметки, поделим на 1 тыс. Трудовой стаж в 19 тыс. дней выглядит более правдоподобным, в годовом исчислении примерно равняется 52 годам.   "
   ]
  },
  {
   "cell_type": "code",
   "execution_count": 9,
   "id": "1b07e182",
   "metadata": {},
   "outputs": [
    {
     "name": "stdout",
     "output_type": "stream",
     "text": [
      "Empty DataFrame\n",
      "Columns: [children, days_employed, dob_years, education, education_id, family_status, family_status_id, gender, income_type, debt, total_income, purpose]\n",
      "Index: []\n"
     ]
    }
   ],
   "source": [
    "# df.loc[df.days_employed >= 19000, \"days_employed\"] = df[\"days_employed\"] / 1000\n",
    "df.loc[df[\"days_employed\"] >= 19000, \"days_employed\"] = df[\"days_employed\"] / 1000\n",
    "print(df[df[\"days_employed\"] >= 19000])"
   ]
  },
  {
   "cell_type": "markdown",
   "id": "884abac9",
   "metadata": {},
   "source": [
    "В столбце `children` также выявлены ошибки в данных, которые, по нашему мнению, возникли в процессе ввода значений."
   ]
  },
  {
   "cell_type": "code",
   "execution_count": 10,
   "id": "2ff9facd",
   "metadata": {},
   "outputs": [
    {
     "data": {
      "text/plain": [
       "array([1, 0, 3, 2, 4, 5])"
      ]
     },
     "execution_count": 10,
     "metadata": {},
     "output_type": "execute_result"
    }
   ],
   "source": [
    "df.loc[df[\"children\"] == 20, 'children'] = 2\n",
    "df.loc[df[\"children\"] == -1, 'children'] = 1\n",
    "df.children.unique()"
   ]
  },
  {
   "cell_type": "markdown",
   "id": "3d3838dc",
   "metadata": {},
   "source": [
    "В столбце `gender` есть строчка со значением `XNA`, в ней пол клиента не определен. Учитывая объем данных, эту строку можно удалить из таблицы, не искажая результаты анализа."
   ]
  },
  {
   "cell_type": "code",
   "execution_count": 11,
   "id": "37d0b644",
   "metadata": {},
   "outputs": [
    {
     "name": "stdout",
     "output_type": "stream",
     "text": [
      "Empty DataFrame\n",
      "Columns: [children, days_employed, dob_years, education, education_id, family_status, family_status_id, gender, income_type, debt, total_income, purpose]\n",
      "Index: []\n"
     ]
    }
   ],
   "source": [
    "df = df[(df[\"gender\"] != \"XNA\")]\n",
    "print(df[df[\"gender\"] == \"XNA\"])"
   ]
  },
  {
   "cell_type": "markdown",
   "id": "a61b1436",
   "metadata": {},
   "source": [
    "В столбцах `days_employed` и `total_income` есть пропущенные значения. Для их заполнения посчитаны медианные значения, потому что медиана более устойчива к выбросам в данных, чем арифметическое среднее. В расчете медианы по столбцу `days_employed` данные сгрупированы по `education_id` (уровню образования) и `family_status_id` (семейному положению), а по столбцу `total_income` - по `education_id` (уровню образования) и `gender` (полу). Более детальная группировка приводит к тому, что пропущенные данные не заполняются."
   ]
  },
  {
   "cell_type": "code",
   "execution_count": 12,
   "id": "ccec5a80",
   "metadata": {},
   "outputs": [
    {
     "data": {
      "text/plain": [
       "children            0\n",
       "days_employed       0\n",
       "dob_years           0\n",
       "education           0\n",
       "education_id        0\n",
       "family_status       0\n",
       "family_status_id    0\n",
       "gender              0\n",
       "income_type         0\n",
       "debt                0\n",
       "total_income        0\n",
       "purpose             0\n",
       "dtype: int64"
      ]
     },
     "execution_count": 12,
     "metadata": {},
     "output_type": "execute_result"
    }
   ],
   "source": [
    "df['days_employed'] = df.groupby([\"education_id\", \n",
    "                                  \"family_status_id\"])[\"days_employed\"].apply(lambda x: x.fillna(x.median()))\n",
    "df['total_income'] = df.groupby([\"education_id\", \"gender\"])[\"total_income\"].apply(lambda x: x.fillna(x.median()))\n",
    "df.isna().sum()"
   ]
  },
  {
   "cell_type": "markdown",
   "id": "1aae3a59",
   "metadata": {},
   "source": [
    "В столбце `dob_years` (возраст клиента) есть нулевые значения. Видимо, эта группа клиентов не хотела указывать свой возраст и оставила указанное поле пустым. Поменяем нули в этих строчках на `np.nan`, а затем заменим их на медианные значения в зависимости от пола клиента."
   ]
  },
  {
   "cell_type": "code",
   "execution_count": 13,
   "id": "1fb7394c",
   "metadata": {},
   "outputs": [
    {
     "data": {
      "text/plain": [
       "array([42., 36., 33., 32., 53., 27., 43., 50., 35., 41., 40., 65., 54.,\n",
       "       56., 26., 48., 24., 21., 57., 67., 28., 63., 62., 47., 34., 68.,\n",
       "       25., 31., 30., 20., 49., 37., 45., 61., 64., 44., 52., 46., 23.,\n",
       "       38., 39., 51., 59., 29., 60., 55., 58., 71., 22., 73., 66., 69.,\n",
       "       19., 72., 70., 74., 75.])"
      ]
     },
     "execution_count": 13,
     "metadata": {},
     "output_type": "execute_result"
    }
   ],
   "source": [
    "df.loc[df[\"dob_years\"] == 0, \"dob_years\"] = np.nan\n",
    "df['dob_years'] = df.groupby(\"gender\")[\"dob_years\"].apply(lambda x: x.fillna(x.median()))\n",
    "df[\"dob_years\"].unique()"
   ]
  },
  {
   "cell_type": "markdown",
   "id": "a7ff9272",
   "metadata": {},
   "source": [
    "В столбце `days_employed` установим тип данных `int64`, а в столбце `total_income` оставим `float64`, но округлим до двух знаком после запятой."
   ]
  },
  {
   "cell_type": "code",
   "execution_count": 14,
   "id": "1978f073",
   "metadata": {},
   "outputs": [
    {
     "data": {
      "text/plain": [
       "days_employed      int64\n",
       "total_income     float64\n",
       "dtype: object"
      ]
     },
     "execution_count": 14,
     "metadata": {},
     "output_type": "execute_result"
    }
   ],
   "source": [
    "df[\"days_employed\"] = df[\"days_employed\"].astype(\"int\").round()\n",
    "df[\"total_income\"] = df[\"total_income\"].astype(\"float\").round(2)\n",
    "df[[\"days_employed\", \"total_income\"]].dtypes"
   ]
  },
  {
   "cell_type": "markdown",
   "id": "085651b4",
   "metadata": {},
   "source": [
    "С помощью метода `drop_duplicates()` удалим все дубликаты из данных и сбросим индексацию благодаря методу `reset_index()` с атрибутом `drop = True`."
   ]
  },
  {
   "cell_type": "code",
   "execution_count": 15,
   "id": "a13c27a1",
   "metadata": {},
   "outputs": [
    {
     "data": {
      "text/plain": [
       "0"
      ]
     },
     "execution_count": 15,
     "metadata": {},
     "output_type": "execute_result"
    }
   ],
   "source": [
    "df = df.drop_duplicates().reset_index(drop = True)\n",
    "df.duplicated().sum()"
   ]
  },
  {
   "cell_type": "markdown",
   "id": "714fde33",
   "metadata": {},
   "source": [
    "Создадим два отдельных словаря для столбцов `education` и `family_status`, в них будут храниться соответствующие значения из `education_id` и `family_status_id`."
   ]
  },
  {
   "cell_type": "code",
   "execution_count": 16,
   "id": "25b198c2",
   "metadata": {},
   "outputs": [
    {
     "data": {
      "text/html": [
       "<div>\n",
       "<style scoped>\n",
       "    .dataframe tbody tr th:only-of-type {\n",
       "        vertical-align: middle;\n",
       "    }\n",
       "\n",
       "    .dataframe tbody tr th {\n",
       "        vertical-align: top;\n",
       "    }\n",
       "\n",
       "    .dataframe thead th {\n",
       "        text-align: right;\n",
       "    }\n",
       "</style>\n",
       "<table border=\"1\" class=\"dataframe\">\n",
       "  <thead>\n",
       "    <tr style=\"text-align: right;\">\n",
       "      <th></th>\n",
       "      <th>education</th>\n",
       "      <th>education_id</th>\n",
       "    </tr>\n",
       "  </thead>\n",
       "  <tbody>\n",
       "    <tr>\n",
       "      <th>0</th>\n",
       "      <td>высшее</td>\n",
       "      <td>0</td>\n",
       "    </tr>\n",
       "    <tr>\n",
       "      <th>1</th>\n",
       "      <td>начальное</td>\n",
       "      <td>3</td>\n",
       "    </tr>\n",
       "    <tr>\n",
       "      <th>2</th>\n",
       "      <td>неоконченное высшее</td>\n",
       "      <td>2</td>\n",
       "    </tr>\n",
       "    <tr>\n",
       "      <th>3</th>\n",
       "      <td>среднее</td>\n",
       "      <td>1</td>\n",
       "    </tr>\n",
       "    <tr>\n",
       "      <th>4</th>\n",
       "      <td>ученая степень</td>\n",
       "      <td>4</td>\n",
       "    </tr>\n",
       "  </tbody>\n",
       "</table>\n",
       "</div>"
      ],
      "text/plain": [
       "             education  education_id\n",
       "0               высшее             0\n",
       "1            начальное             3\n",
       "2  неоконченное высшее             2\n",
       "3              среднее             1\n",
       "4       ученая степень             4"
      ]
     },
     "execution_count": 16,
     "metadata": {},
     "output_type": "execute_result"
    }
   ],
   "source": [
    "education_dict = df.pivot_table(index = \"education\", values = \"education_id\")\n",
    "education_dict[\"education\"] = education_dict.index\n",
    "education_dict = education_dict[[\"education\", \"education_id\"]].reset_index(drop = True)\n",
    "education_dict"
   ]
  },
  {
   "cell_type": "code",
   "execution_count": 17,
   "id": "8d5d1d24",
   "metadata": {},
   "outputs": [
    {
     "data": {
      "text/html": [
       "<div>\n",
       "<style scoped>\n",
       "    .dataframe tbody tr th:only-of-type {\n",
       "        vertical-align: middle;\n",
       "    }\n",
       "\n",
       "    .dataframe tbody tr th {\n",
       "        vertical-align: top;\n",
       "    }\n",
       "\n",
       "    .dataframe thead th {\n",
       "        text-align: right;\n",
       "    }\n",
       "</style>\n",
       "<table border=\"1\" class=\"dataframe\">\n",
       "  <thead>\n",
       "    <tr style=\"text-align: right;\">\n",
       "      <th></th>\n",
       "      <th>family_status</th>\n",
       "      <th>family_status_id</th>\n",
       "    </tr>\n",
       "  </thead>\n",
       "  <tbody>\n",
       "    <tr>\n",
       "      <th>0</th>\n",
       "      <td>в разводе</td>\n",
       "      <td>3</td>\n",
       "    </tr>\n",
       "    <tr>\n",
       "      <th>1</th>\n",
       "      <td>вдовец / вдова</td>\n",
       "      <td>2</td>\n",
       "    </tr>\n",
       "    <tr>\n",
       "      <th>2</th>\n",
       "      <td>гражданский брак</td>\n",
       "      <td>1</td>\n",
       "    </tr>\n",
       "    <tr>\n",
       "      <th>3</th>\n",
       "      <td>женат / замужем</td>\n",
       "      <td>0</td>\n",
       "    </tr>\n",
       "    <tr>\n",
       "      <th>4</th>\n",
       "      <td>не женат / не замужем</td>\n",
       "      <td>4</td>\n",
       "    </tr>\n",
       "  </tbody>\n",
       "</table>\n",
       "</div>"
      ],
      "text/plain": [
       "           family_status  family_status_id\n",
       "0              в разводе                 3\n",
       "1         вдовец / вдова                 2\n",
       "2       гражданский брак                 1\n",
       "3        женат / замужем                 0\n",
       "4  не женат / не замужем                 4"
      ]
     },
     "execution_count": 17,
     "metadata": {},
     "output_type": "execute_result"
    }
   ],
   "source": [
    "family_status_dict = df.pivot_table(index = \"family_status\", values = \"family_status_id\")\n",
    "family_status_dict[\"family_status\"] = family_status_dict.index\n",
    "family_status_dict = family_status_dict[[\"family_status\", \"family_status_id\"]].reset_index(drop = True)\n",
    "family_status_dict"
   ]
  },
  {
   "cell_type": "markdown",
   "id": "49619a4b",
   "metadata": {},
   "source": [
    "Так как мы создали соответствующие словари, то столбцы `education` и `family_status` можно удалить из таблицы с помощью метода `drop()`. В случае необходимости можно обратиться к словарям для соотнесения идентификатора уровню образования или семейному положению."
   ]
  },
  {
   "cell_type": "code",
   "execution_count": 18,
   "id": "e98330d8",
   "metadata": {},
   "outputs": [
    {
     "data": {
      "text/plain": [
       "Index(['children', 'days_employed', 'dob_years', 'education_id',\n",
       "       'family_status_id', 'gender', 'income_type', 'debt', 'total_income',\n",
       "       'purpose'],\n",
       "      dtype='object')"
      ]
     },
     "execution_count": 18,
     "metadata": {},
     "output_type": "execute_result"
    }
   ],
   "source": [
    "df = df.drop([\"education\", \"family_status\"], axis = 1)\n",
    "df.columns"
   ]
  },
  {
   "cell_type": "markdown",
   "id": "f4d1b494",
   "metadata": {},
   "source": [
    "Создадим отдельный столбец, в котором категоризируем клиентов банка в зависимости от `total_income` (ежемесячного дохода). Данный столбец поможет позднее для ответа на вопросы исследования."
   ]
  },
  {
   "cell_type": "code",
   "execution_count": 19,
   "id": "d27513ca",
   "metadata": {},
   "outputs": [
    {
     "data": {
      "text/html": [
       "<div>\n",
       "<style scoped>\n",
       "    .dataframe tbody tr th:only-of-type {\n",
       "        vertical-align: middle;\n",
       "    }\n",
       "\n",
       "    .dataframe tbody tr th {\n",
       "        vertical-align: top;\n",
       "    }\n",
       "\n",
       "    .dataframe thead th {\n",
       "        text-align: right;\n",
       "    }\n",
       "</style>\n",
       "<table border=\"1\" class=\"dataframe\">\n",
       "  <thead>\n",
       "    <tr style=\"text-align: right;\">\n",
       "      <th></th>\n",
       "      <th>children</th>\n",
       "      <th>days_employed</th>\n",
       "      <th>dob_years</th>\n",
       "      <th>education_id</th>\n",
       "      <th>family_status_id</th>\n",
       "      <th>gender</th>\n",
       "      <th>income_type</th>\n",
       "      <th>debt</th>\n",
       "      <th>total_income</th>\n",
       "      <th>purpose</th>\n",
       "      <th>total_income_category</th>\n",
       "    </tr>\n",
       "  </thead>\n",
       "  <tbody>\n",
       "    <tr>\n",
       "      <th>0</th>\n",
       "      <td>1</td>\n",
       "      <td>8437</td>\n",
       "      <td>42.0</td>\n",
       "      <td>0</td>\n",
       "      <td>0</td>\n",
       "      <td>F</td>\n",
       "      <td>сотрудник</td>\n",
       "      <td>0</td>\n",
       "      <td>253875.64</td>\n",
       "      <td>покупка жилья</td>\n",
       "      <td>B</td>\n",
       "    </tr>\n",
       "    <tr>\n",
       "      <th>1</th>\n",
       "      <td>1</td>\n",
       "      <td>4024</td>\n",
       "      <td>36.0</td>\n",
       "      <td>1</td>\n",
       "      <td>0</td>\n",
       "      <td>F</td>\n",
       "      <td>сотрудник</td>\n",
       "      <td>0</td>\n",
       "      <td>112080.01</td>\n",
       "      <td>приобретение автомобиля</td>\n",
       "      <td>C</td>\n",
       "    </tr>\n",
       "    <tr>\n",
       "      <th>2</th>\n",
       "      <td>0</td>\n",
       "      <td>5623</td>\n",
       "      <td>33.0</td>\n",
       "      <td>1</td>\n",
       "      <td>0</td>\n",
       "      <td>M</td>\n",
       "      <td>сотрудник</td>\n",
       "      <td>0</td>\n",
       "      <td>145885.95</td>\n",
       "      <td>покупка жилья</td>\n",
       "      <td>C</td>\n",
       "    </tr>\n",
       "    <tr>\n",
       "      <th>3</th>\n",
       "      <td>3</td>\n",
       "      <td>4124</td>\n",
       "      <td>32.0</td>\n",
       "      <td>1</td>\n",
       "      <td>0</td>\n",
       "      <td>M</td>\n",
       "      <td>сотрудник</td>\n",
       "      <td>0</td>\n",
       "      <td>267628.55</td>\n",
       "      <td>дополнительное образование</td>\n",
       "      <td>B</td>\n",
       "    </tr>\n",
       "    <tr>\n",
       "      <th>4</th>\n",
       "      <td>0</td>\n",
       "      <td>340</td>\n",
       "      <td>53.0</td>\n",
       "      <td>1</td>\n",
       "      <td>1</td>\n",
       "      <td>F</td>\n",
       "      <td>пенсионер</td>\n",
       "      <td>0</td>\n",
       "      <td>158616.08</td>\n",
       "      <td>сыграть свадьбу</td>\n",
       "      <td>C</td>\n",
       "    </tr>\n",
       "  </tbody>\n",
       "</table>\n",
       "</div>"
      ],
      "text/plain": [
       "   children  days_employed  dob_years  education_id  family_status_id gender  \\\n",
       "0         1           8437       42.0             0                 0      F   \n",
       "1         1           4024       36.0             1                 0      F   \n",
       "2         0           5623       33.0             1                 0      M   \n",
       "3         3           4124       32.0             1                 0      M   \n",
       "4         0            340       53.0             1                 1      F   \n",
       "\n",
       "  income_type  debt  total_income                     purpose  \\\n",
       "0   сотрудник     0     253875.64               покупка жилья   \n",
       "1   сотрудник     0     112080.01     приобретение автомобиля   \n",
       "2   сотрудник     0     145885.95               покупка жилья   \n",
       "3   сотрудник     0     267628.55  дополнительное образование   \n",
       "4   пенсионер     0     158616.08             сыграть свадьбу   \n",
       "\n",
       "  total_income_category  \n",
       "0                     B  \n",
       "1                     C  \n",
       "2                     C  \n",
       "3                     B  \n",
       "4                     C  "
      ]
     },
     "execution_count": 19,
     "metadata": {},
     "output_type": "execute_result"
    }
   ],
   "source": [
    "def total_income_category(total_income):\n",
    "    if total_income <= 30000:\n",
    "        return \"E\"\n",
    "    elif 30001 <= total_income <= 50000:\n",
    "        return \"D\"\n",
    "    elif 50001 <= total_income <= 200000:\n",
    "        return \"C\"\n",
    "    elif 200001 <= total_income <= 1000000:\n",
    "        return \"B\"\n",
    "    return \"A\"\n",
    "\n",
    "df[\"total_income_category\"] = df[\"total_income\"].apply(total_income_category)\n",
    "df.head()"
   ]
  },
  {
   "cell_type": "markdown",
   "id": "40b763f0",
   "metadata": {},
   "source": [
    "Категоризацию клиентов банка можно выполнить также и в зависимости от `purpose` (целей получения кредита)."
   ]
  },
  {
   "cell_type": "code",
   "execution_count": 20,
   "id": "eade86fb",
   "metadata": {},
   "outputs": [
    {
     "data": {
      "text/plain": [
       "array(['операции с недвижимостью', 'операции с автомобилем',\n",
       "       'получение образования', 'проведение свадьбы'], dtype=object)"
      ]
     },
     "execution_count": 20,
     "metadata": {},
     "output_type": "execute_result"
    }
   ],
   "source": [
    "def purpose_category(purpose):\n",
    "    \n",
    "    accomodation = [\"покупка жилья\", \"операции с жильем\", \"покупка жилья для семьи\", \"покупка недвижимости\",\n",
    "               \"покупка коммерческой недвижимости\", \"покупка жилой недвижимости\", \n",
    "                \"строительство собственной недвижимости\", \"недвижимость\", \"строительство недвижимости\",\n",
    "               \"операции с коммерческой недвижимостью\", \"строительство жилой недвижимости\", \"жилье\", \n",
    "               \"операции со своей недвижимостью\", \"операции с недвижимостью\", \"покупка жилья для сдачи\",\n",
    "               \"покупка своего жилья\", \"ремонт жилью\"]\n",
    "    \n",
    "    education = [\"высшее образование\", \"дополнительное образование\", \"заняться высшим образованием\", \n",
    "            \"заняться образованием\", \"образование\", \"получение высшего образования\", \n",
    "             \"получение дополнительного образования\", \"получение образования\", \n",
    "            \"профильное образование\"]\n",
    "    \n",
    "    marriage = [\"на проведение свадьбы\", \"свадьба\", \"сыграть свадьбу\"]\n",
    "    \n",
    "    automobile = [\"автомобили\", \"автомобиль\", \"на покупку автомобиля\", \"на покупку подержанного автомобиля\", \n",
    "              \"на покупку своего автомобиля\", \"приобретение автомобиля\", \"свой автомобиль\",\n",
    "             \"сделка с автомобилем\", \"сделка с подержанным автомобилем\"]\n",
    "    \n",
    "    \n",
    "    if purpose in automobile:\n",
    "        return \"операции с автомобилем\"\n",
    "    elif purpose in accomodation:\n",
    "        return \"операции с недвижимостью\"\n",
    "    elif purpose in marriage:\n",
    "        return \"проведение свадьбы\"\n",
    "    elif purpose in education:\n",
    "        return \"получение образования\"\n",
    "\n",
    "df[\"purpose_category\"] = df[\"purpose\"].apply(purpose_category)\n",
    "df[\"purpose_category\"].unique()"
   ]
  },
  {
   "cell_type": "markdown",
   "id": "f5b10b3e",
   "metadata": {},
   "source": [
    "### Шаг 3. Ответы на вопросы"
   ]
  },
  {
   "cell_type": "markdown",
   "id": "ea0e0d2e",
   "metadata": {},
   "source": [
    "- Есть ли зависимость между количеством детей и возвратом кредита в срок?"
   ]
  },
  {
   "cell_type": "code",
   "execution_count": 21,
   "id": "c00c3fe1",
   "metadata": {},
   "outputs": [
    {
     "data": {
      "text/html": [
       "<div>\n",
       "<style scoped>\n",
       "    .dataframe tbody tr th:only-of-type {\n",
       "        vertical-align: middle;\n",
       "    }\n",
       "\n",
       "    .dataframe tbody tr th {\n",
       "        vertical-align: top;\n",
       "    }\n",
       "\n",
       "    .dataframe thead tr th {\n",
       "        text-align: left;\n",
       "    }\n",
       "\n",
       "    .dataframe thead tr:last-of-type th {\n",
       "        text-align: right;\n",
       "    }\n",
       "</style>\n",
       "<table border=\"1\" class=\"dataframe\">\n",
       "  <thead>\n",
       "    <tr>\n",
       "      <th></th>\n",
       "      <th colspan=\"3\" halign=\"left\">debt</th>\n",
       "    </tr>\n",
       "    <tr>\n",
       "      <th></th>\n",
       "      <th>count</th>\n",
       "      <th>sum</th>\n",
       "      <th>mean</th>\n",
       "    </tr>\n",
       "    <tr>\n",
       "      <th>children</th>\n",
       "      <th></th>\n",
       "      <th></th>\n",
       "      <th></th>\n",
       "    </tr>\n",
       "  </thead>\n",
       "  <tbody>\n",
       "    <tr>\n",
       "      <th>0</th>\n",
       "      <td>14090</td>\n",
       "      <td>1063</td>\n",
       "      <td>7.54%</td>\n",
       "    </tr>\n",
       "    <tr>\n",
       "      <th>1</th>\n",
       "      <td>4855</td>\n",
       "      <td>445</td>\n",
       "      <td>9.17%</td>\n",
       "    </tr>\n",
       "    <tr>\n",
       "      <th>2</th>\n",
       "      <td>2128</td>\n",
       "      <td>202</td>\n",
       "      <td>9.49%</td>\n",
       "    </tr>\n",
       "    <tr>\n",
       "      <th>3</th>\n",
       "      <td>330</td>\n",
       "      <td>27</td>\n",
       "      <td>8.18%</td>\n",
       "    </tr>\n",
       "    <tr>\n",
       "      <th>4</th>\n",
       "      <td>41</td>\n",
       "      <td>4</td>\n",
       "      <td>9.76%</td>\n",
       "    </tr>\n",
       "    <tr>\n",
       "      <th>5</th>\n",
       "      <td>9</td>\n",
       "      <td>0</td>\n",
       "      <td>0.0%</td>\n",
       "    </tr>\n",
       "  </tbody>\n",
       "</table>\n",
       "</div>"
      ],
      "text/plain": [
       "           debt             \n",
       "          count   sum   mean\n",
       "children                    \n",
       "0         14090  1063  7.54%\n",
       "1          4855   445  9.17%\n",
       "2          2128   202  9.49%\n",
       "3           330    27  8.18%\n",
       "4            41     4  9.76%\n",
       "5             9     0   0.0%"
      ]
     },
     "execution_count": 21,
     "metadata": {},
     "output_type": "execute_result"
    }
   ],
   "source": [
    "child_ptable = df.groupby(\"children\").agg({\"debt\" : [\"count\", \"sum\", lambda x: \n",
    "                                                     str(round(x.mean() * 100, 2)) + \"%\"]})\n",
    "child_ptable = child_ptable.rename(columns = {\"<lambda_0>\" : \"mean\"})\n",
    "child_ptable"
   ]
  },
  {
   "cell_type": "markdown",
   "id": "f09d7e5b",
   "metadata": {},
   "source": [
    "В целом, задолженность по кредитам меньше у тех клиентов, у которых нет детей. С появлением детей задолженность по кредитом в среднем растет на 1.5%. Стоит отметить, что чем больше детей, тем меньше наблюдений, поэтому сложно говорить о репрезентативности данных."
   ]
  },
  {
   "cell_type": "markdown",
   "id": "b18eeeb0",
   "metadata": {},
   "source": [
    "- Есть ли зависимость между семейным положением и возвратом кредита в срок?"
   ]
  },
  {
   "cell_type": "code",
   "execution_count": 22,
   "id": "7a9f6ad9",
   "metadata": {},
   "outputs": [
    {
     "data": {
      "text/html": [
       "<div>\n",
       "<style scoped>\n",
       "    .dataframe tbody tr th:only-of-type {\n",
       "        vertical-align: middle;\n",
       "    }\n",
       "\n",
       "    .dataframe tbody tr th {\n",
       "        vertical-align: top;\n",
       "    }\n",
       "\n",
       "    .dataframe thead tr th {\n",
       "        text-align: left;\n",
       "    }\n",
       "\n",
       "    .dataframe thead tr:last-of-type th {\n",
       "        text-align: right;\n",
       "    }\n",
       "</style>\n",
       "<table border=\"1\" class=\"dataframe\">\n",
       "  <thead>\n",
       "    <tr>\n",
       "      <th></th>\n",
       "      <th colspan=\"3\" halign=\"left\">debt</th>\n",
       "    </tr>\n",
       "    <tr>\n",
       "      <th></th>\n",
       "      <th>count</th>\n",
       "      <th>sum</th>\n",
       "      <th>mean</th>\n",
       "    </tr>\n",
       "    <tr>\n",
       "      <th>family_status_id</th>\n",
       "      <th></th>\n",
       "      <th></th>\n",
       "      <th></th>\n",
       "    </tr>\n",
       "  </thead>\n",
       "  <tbody>\n",
       "    <tr>\n",
       "      <th>0</th>\n",
       "      <td>12339</td>\n",
       "      <td>931</td>\n",
       "      <td>7.55%</td>\n",
       "    </tr>\n",
       "    <tr>\n",
       "      <th>1</th>\n",
       "      <td>4150</td>\n",
       "      <td>388</td>\n",
       "      <td>9.35%</td>\n",
       "    </tr>\n",
       "    <tr>\n",
       "      <th>2</th>\n",
       "      <td>959</td>\n",
       "      <td>63</td>\n",
       "      <td>6.57%</td>\n",
       "    </tr>\n",
       "    <tr>\n",
       "      <th>3</th>\n",
       "      <td>1195</td>\n",
       "      <td>85</td>\n",
       "      <td>7.11%</td>\n",
       "    </tr>\n",
       "    <tr>\n",
       "      <th>4</th>\n",
       "      <td>2810</td>\n",
       "      <td>274</td>\n",
       "      <td>9.75%</td>\n",
       "    </tr>\n",
       "  </tbody>\n",
       "</table>\n",
       "</div>"
      ],
      "text/plain": [
       "                   debt            \n",
       "                  count  sum   mean\n",
       "family_status_id                   \n",
       "0                 12339  931  7.55%\n",
       "1                  4150  388  9.35%\n",
       "2                   959   63  6.57%\n",
       "3                  1195   85  7.11%\n",
       "4                  2810  274  9.75%"
      ]
     },
     "execution_count": 22,
     "metadata": {},
     "output_type": "execute_result"
    }
   ],
   "source": [
    "family_ptable = df.groupby(\"family_status_id\").agg({\"debt\" : [\"count\", \"sum\", lambda x:\n",
    "                                                    str(round(x.mean() * 100, 2)) + \"%\"]})\n",
    "family_ptable = family_ptable.rename(columns = {\"<lambda_0>\" : \"mean\"})\n",
    "family_ptable"
   ]
  },
  {
   "cell_type": "markdown",
   "id": "dc34c584",
   "metadata": {},
   "source": [
    "Клиенты, состоящие в разводе, в среднем меньше имеют задолженность по кредитам. Примерно на таком же уровне находится задлженность женатых / замужних клиентов. Наименьшую задолженность по кредитам имеют состоящие в гражданском браке. "
   ]
  },
  {
   "cell_type": "markdown",
   "id": "247988c5",
   "metadata": {},
   "source": [
    "- Есть ли зависимость между уровнем дохода и возвратом кредита в срок?"
   ]
  },
  {
   "cell_type": "code",
   "execution_count": 23,
   "id": "b5d92b2b",
   "metadata": {},
   "outputs": [
    {
     "data": {
      "text/html": [
       "<div>\n",
       "<style scoped>\n",
       "    .dataframe tbody tr th:only-of-type {\n",
       "        vertical-align: middle;\n",
       "    }\n",
       "\n",
       "    .dataframe tbody tr th {\n",
       "        vertical-align: top;\n",
       "    }\n",
       "\n",
       "    .dataframe thead tr th {\n",
       "        text-align: left;\n",
       "    }\n",
       "\n",
       "    .dataframe thead tr:last-of-type th {\n",
       "        text-align: right;\n",
       "    }\n",
       "</style>\n",
       "<table border=\"1\" class=\"dataframe\">\n",
       "  <thead>\n",
       "    <tr>\n",
       "      <th></th>\n",
       "      <th colspan=\"3\" halign=\"left\">debt</th>\n",
       "    </tr>\n",
       "    <tr>\n",
       "      <th></th>\n",
       "      <th>count</th>\n",
       "      <th>sum</th>\n",
       "      <th>mean</th>\n",
       "    </tr>\n",
       "    <tr>\n",
       "      <th>total_income_category</th>\n",
       "      <th></th>\n",
       "      <th></th>\n",
       "      <th></th>\n",
       "    </tr>\n",
       "  </thead>\n",
       "  <tbody>\n",
       "    <tr>\n",
       "      <th>A</th>\n",
       "      <td>25</td>\n",
       "      <td>2</td>\n",
       "      <td>8.0%</td>\n",
       "    </tr>\n",
       "    <tr>\n",
       "      <th>B</th>\n",
       "      <td>5209</td>\n",
       "      <td>364</td>\n",
       "      <td>6.99%</td>\n",
       "    </tr>\n",
       "    <tr>\n",
       "      <th>C</th>\n",
       "      <td>15847</td>\n",
       "      <td>1352</td>\n",
       "      <td>8.53%</td>\n",
       "    </tr>\n",
       "    <tr>\n",
       "      <th>D</th>\n",
       "      <td>350</td>\n",
       "      <td>21</td>\n",
       "      <td>6.0%</td>\n",
       "    </tr>\n",
       "    <tr>\n",
       "      <th>E</th>\n",
       "      <td>22</td>\n",
       "      <td>2</td>\n",
       "      <td>9.09%</td>\n",
       "    </tr>\n",
       "  </tbody>\n",
       "</table>\n",
       "</div>"
      ],
      "text/plain": [
       "                        debt             \n",
       "                       count   sum   mean\n",
       "total_income_category                    \n",
       "A                         25     2   8.0%\n",
       "B                       5209   364  6.99%\n",
       "C                      15847  1352  8.53%\n",
       "D                        350    21   6.0%\n",
       "E                         22     2  9.09%"
      ]
     },
     "execution_count": 23,
     "metadata": {},
     "output_type": "execute_result"
    }
   ],
   "source": [
    "total_income_ptable = df.groupby(\"total_income_category\").agg({\"debt\" : [\"count\", \"sum\", lambda x:\n",
    "                                                    str(round(x.mean() * 100, 2)) + \"%\"]})\n",
    "total_income_ptable = total_income_ptable.rename(columns = {\"<lambda_0>\" : \"mean\"})\n",
    "total_income_ptable"
   ]
  },
  {
   "cell_type": "markdown",
   "id": "179fe25b",
   "metadata": {},
   "source": [
    "В разрезе по уровню доходов количество наблюдений в категориях `A`, `D` и `E` небольшое, из-за чего сложно делать какие-то выводы. Наибольшое количество клиентов имеют ежемесячные доходы от 50001 до 200000, они же продемонстрировали существенный уровень задолженности по кредитам. Категория на ступеньку выше имеет меньше задолженности по кредитам благодаря тому, что ежемесячные доходы данной категории клиентов выше."
   ]
  },
  {
   "cell_type": "markdown",
   "id": "7ac8237c",
   "metadata": {},
   "source": [
    "- Как разные цели кредита влияют на его возврат в срок?"
   ]
  },
  {
   "cell_type": "code",
   "execution_count": 24,
   "id": "d8bed463",
   "metadata": {},
   "outputs": [
    {
     "data": {
      "text/html": [
       "<div>\n",
       "<style scoped>\n",
       "    .dataframe tbody tr th:only-of-type {\n",
       "        vertical-align: middle;\n",
       "    }\n",
       "\n",
       "    .dataframe tbody tr th {\n",
       "        vertical-align: top;\n",
       "    }\n",
       "\n",
       "    .dataframe thead tr th {\n",
       "        text-align: left;\n",
       "    }\n",
       "\n",
       "    .dataframe thead tr:last-of-type th {\n",
       "        text-align: right;\n",
       "    }\n",
       "</style>\n",
       "<table border=\"1\" class=\"dataframe\">\n",
       "  <thead>\n",
       "    <tr>\n",
       "      <th></th>\n",
       "      <th colspan=\"3\" halign=\"left\">debt</th>\n",
       "    </tr>\n",
       "    <tr>\n",
       "      <th></th>\n",
       "      <th>count</th>\n",
       "      <th>sum</th>\n",
       "      <th>mean</th>\n",
       "    </tr>\n",
       "    <tr>\n",
       "      <th>purpose_category</th>\n",
       "      <th></th>\n",
       "      <th></th>\n",
       "      <th></th>\n",
       "    </tr>\n",
       "  </thead>\n",
       "  <tbody>\n",
       "    <tr>\n",
       "      <th>операции с автомобилем</th>\n",
       "      <td>4306</td>\n",
       "      <td>403</td>\n",
       "      <td>9.36%</td>\n",
       "    </tr>\n",
       "    <tr>\n",
       "      <th>операции с недвижимостью</th>\n",
       "      <td>10810</td>\n",
       "      <td>782</td>\n",
       "      <td>7.23%</td>\n",
       "    </tr>\n",
       "    <tr>\n",
       "      <th>получение образования</th>\n",
       "      <td>4013</td>\n",
       "      <td>370</td>\n",
       "      <td>9.22%</td>\n",
       "    </tr>\n",
       "    <tr>\n",
       "      <th>проведение свадьбы</th>\n",
       "      <td>2324</td>\n",
       "      <td>186</td>\n",
       "      <td>8.0%</td>\n",
       "    </tr>\n",
       "  </tbody>\n",
       "</table>\n",
       "</div>"
      ],
      "text/plain": [
       "                           debt            \n",
       "                          count  sum   mean\n",
       "purpose_category                           \n",
       "операции с автомобилем     4306  403  9.36%\n",
       "операции с недвижимостью  10810  782  7.23%\n",
       "получение образования      4013  370  9.22%\n",
       "проведение свадьбы         2324  186   8.0%"
      ]
     },
     "execution_count": 24,
     "metadata": {},
     "output_type": "execute_result"
    }
   ],
   "source": [
    "purpose_ptable = df.groupby(\"purpose_category\").agg({\"debt\" : [\"count\", \"sum\", lambda x:\n",
    "                                                    str(round(x.mean() * 100, 2)) + \"%\"]})\n",
    "purpose_ptable = purpose_ptable.rename(columns = {\"<lambda_0>\" : \"mean\"})\n",
    "purpose_ptable"
   ]
  },
  {
   "cell_type": "markdown",
   "id": "07d66e2b",
   "metadata": {},
   "source": [
    "Клиенты, которые берут кредит для операций с недвижимостью, в среднем имеют меньше задолженности. Зачастую кредит под залог недвижимости берется на длительный срок, ежемесячные платежи относительно низкие. Поэтому процент задолженности в данной категории наименьший. На проведение свадьбы обычно требуется меньше денег, соответственно, резмер кредита под данную цель может быть небольшим, из-за чего его проще возвращать банку. Кредит на образование обычно берут студенты, которые после обучения испытывают трудности с поиском работы для начинающих специалистов. В связи с этим могут быть задолженности."
   ]
  },
  {
   "cell_type": "markdown",
   "id": "a16fdc20",
   "metadata": {},
   "source": [
    "### Шаг 4. Общий вывод "
   ]
  },
  {
   "cell_type": "markdown",
   "id": "59162b37",
   "metadata": {},
   "source": [
    "Таким образом, мы проанализировали входные данные от банка, выделили разные категории клиентов и вычислили процент задолженности по ним. Данные расчеты могут быть бэнчмарком для банка при установлении разных риск-метрик для тех или иных категорий клиентов (например, PD - probability of default). "
   ]
  }
 ],
 "metadata": {
  "kernelspec": {
   "display_name": "Python 3 (ipykernel)",
   "language": "python",
   "name": "python3"
  },
  "language_info": {
   "codemirror_mode": {
    "name": "ipython",
    "version": 3
   },
   "file_extension": ".py",
   "mimetype": "text/x-python",
   "name": "python",
   "nbconvert_exporter": "python",
   "pygments_lexer": "ipython3",
   "version": "3.9.12"
  }
 },
 "nbformat": 4,
 "nbformat_minor": 5
}
