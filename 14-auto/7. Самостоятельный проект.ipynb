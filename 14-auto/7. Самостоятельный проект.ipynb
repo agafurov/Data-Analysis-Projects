{
 "cells": [
  {
   "cell_type": "markdown",
   "id": "6ef0eacc",
   "metadata": {},
   "source": [
    "# Проектная работа: Определение стоимости автомобилей"
   ]
  },
  {
   "cell_type": "markdown",
   "id": "1f84c066",
   "metadata": {},
   "source": [
    "## Описание проекта\n",
    "\n",
    "Сервис по продаже автомобилей с пробегом «Не бит, не крашен» разрабатывает приложение, чтобы привлечь новых клиентов. В нём можно будет узнать рыночную стоимость своего автомобиля.\n",
    "\n",
    "В нашем распоряжении данные о технических характеристиках, комплектации и ценах других автомобилей.\n",
    "\n",
    "**Целью** данной работы является построение модели, которая умеет определять рыночную стоимость автомобиля. \n",
    "\n",
    "Критерии, которые важны заказчику:\n",
    "\n",
    "- качество предсказания;\n",
    "- время обучения модели;\n",
    "- время предсказания модели.\n",
    "\n",
    "В связи с этим перед нами стоят следующие **задачи**:\n",
    "\n",
    "- подготовить данные;\n",
    "- обучить разные модели;\n",
    "- проанализировать время обучения, время предсказания и качество моделей;\n",
    "- на основе критериев от заказчика выбрать лучшую модель.\n",
    "\n",
    "**Примечания**:\n",
    "- для оценки качества моделей будем применять метрику RMSE;\n",
    "- значение метрики RMSE должно быть меньше 2500.\n",
    "\n",
    "**Описание данных**:\n",
    "- **Признаки**:\n",
    "    - `DateCrawled` — дата скачивания анкеты из базы;\n",
    "    - `VehicleType` — тип автомобильного кузова;\n",
    "    - `RegistrationYear` — год регистрации автомобиля;\n",
    "    - `Gearbox` — тип коробки передач;\n",
    "    - `Power` — мощность (л. с.);\n",
    "    - `Model` — модель автомобиля;\n",
    "    - `Kilometer` — пробег (км);\n",
    "    - `RegistrationMonth` — месяц регистрации автомобиля;\n",
    "    - `FuelType` — тип топлива;\n",
    "    - `Brand` — марка автомобиля;\n",
    "    - `Repaired` — была машина в ремонте или нет;\n",
    "    - `DateCreated` — дата создания анкеты;\n",
    "    - `NumberOfPictures` — количество фотографий автомобиля;\n",
    "    - `PostalCode` — почтовый индекс владельца анкеты (пользователя);\n",
    "    - `LastSeen` — дата последней активности пользователя;\n",
    "- **Целевой признак**:\n",
    "    - `Price` - цена (евро). \n",
    "\n",
    "**План проектной работы**:\n",
    "1. Загрузка и изучение данных;\n",
    "2. Предобработка данных;\n",
    "3. Подготовка выборки для обучения моделей;\n",
    "4. Обучение моделей, анализ времени обучения и предсказания и качества моделей; \n",
    "5. Выбор лучшей модели и проверка ее качества на тестовой выборке;\n",
    "6. Выводы."
   ]
  },
  {
   "cell_type": "markdown",
   "id": "b61c1590",
   "metadata": {},
   "source": [
    "### Шаг 1. Загрузка и изучение данных"
   ]
  },
  {
   "cell_type": "code",
   "execution_count": 1,
   "id": "c01ad80e",
   "metadata": {},
   "outputs": [],
   "source": [
    "import random\n",
    "import pandas as pd\n",
    "import numpy as np\n",
    "import seaborn as sns\n",
    "import matplotlib.pyplot as plt\n",
    "import matplotlib as mpl\n",
    "import lightgbm as lgb\n",
    "from scipy import stats as st\n",
    "from sklearn.preprocessing import StandardScaler, OrdinalEncoder\n",
    "from sklearn.model_selection import GridSearchCV, RandomizedSearchCV, train_test_split\n",
    "from sklearn.linear_model import LinearRegression, Ridge, Lasso, ElasticNet\n",
    "from sklearn.tree import DecisionTreeRegressor\n",
    "from sklearn.metrics import mean_squared_error, r2_score\n",
    "from lightgbm import LGBMRegressor\n",
    "\n",
    "\n",
    "\n",
    "%matplotlib inline "
   ]
  },
  {
   "cell_type": "code",
   "execution_count": 2,
   "id": "578deec6",
   "metadata": {},
   "outputs": [
    {
     "data": {
      "text/html": [
       "<div>\n",
       "<style scoped>\n",
       "    .dataframe tbody tr th:only-of-type {\n",
       "        vertical-align: middle;\n",
       "    }\n",
       "\n",
       "    .dataframe tbody tr th {\n",
       "        vertical-align: top;\n",
       "    }\n",
       "\n",
       "    .dataframe thead th {\n",
       "        text-align: right;\n",
       "    }\n",
       "</style>\n",
       "<table border=\"1\" class=\"dataframe\">\n",
       "  <thead>\n",
       "    <tr style=\"text-align: right;\">\n",
       "      <th></th>\n",
       "      <th>DateCrawled</th>\n",
       "      <th>Price</th>\n",
       "      <th>VehicleType</th>\n",
       "      <th>RegistrationYear</th>\n",
       "      <th>Gearbox</th>\n",
       "      <th>Power</th>\n",
       "      <th>Model</th>\n",
       "      <th>Kilometer</th>\n",
       "      <th>RegistrationMonth</th>\n",
       "      <th>FuelType</th>\n",
       "      <th>Brand</th>\n",
       "      <th>Repaired</th>\n",
       "      <th>DateCreated</th>\n",
       "      <th>NumberOfPictures</th>\n",
       "      <th>PostalCode</th>\n",
       "      <th>LastSeen</th>\n",
       "    </tr>\n",
       "  </thead>\n",
       "  <tbody>\n",
       "    <tr>\n",
       "      <th>0</th>\n",
       "      <td>2016-03-24 11:52:17</td>\n",
       "      <td>480</td>\n",
       "      <td>NaN</td>\n",
       "      <td>1993</td>\n",
       "      <td>manual</td>\n",
       "      <td>0</td>\n",
       "      <td>golf</td>\n",
       "      <td>150000</td>\n",
       "      <td>0</td>\n",
       "      <td>petrol</td>\n",
       "      <td>volkswagen</td>\n",
       "      <td>NaN</td>\n",
       "      <td>2016-03-24 00:00:00</td>\n",
       "      <td>0</td>\n",
       "      <td>70435</td>\n",
       "      <td>2016-04-07 03:16:57</td>\n",
       "    </tr>\n",
       "    <tr>\n",
       "      <th>1</th>\n",
       "      <td>2016-03-24 10:58:45</td>\n",
       "      <td>18300</td>\n",
       "      <td>coupe</td>\n",
       "      <td>2011</td>\n",
       "      <td>manual</td>\n",
       "      <td>190</td>\n",
       "      <td>NaN</td>\n",
       "      <td>125000</td>\n",
       "      <td>5</td>\n",
       "      <td>gasoline</td>\n",
       "      <td>audi</td>\n",
       "      <td>yes</td>\n",
       "      <td>2016-03-24 00:00:00</td>\n",
       "      <td>0</td>\n",
       "      <td>66954</td>\n",
       "      <td>2016-04-07 01:46:50</td>\n",
       "    </tr>\n",
       "    <tr>\n",
       "      <th>2</th>\n",
       "      <td>2016-03-14 12:52:21</td>\n",
       "      <td>9800</td>\n",
       "      <td>suv</td>\n",
       "      <td>2004</td>\n",
       "      <td>auto</td>\n",
       "      <td>163</td>\n",
       "      <td>grand</td>\n",
       "      <td>125000</td>\n",
       "      <td>8</td>\n",
       "      <td>gasoline</td>\n",
       "      <td>jeep</td>\n",
       "      <td>NaN</td>\n",
       "      <td>2016-03-14 00:00:00</td>\n",
       "      <td>0</td>\n",
       "      <td>90480</td>\n",
       "      <td>2016-04-05 12:47:46</td>\n",
       "    </tr>\n",
       "    <tr>\n",
       "      <th>3</th>\n",
       "      <td>2016-03-17 16:54:04</td>\n",
       "      <td>1500</td>\n",
       "      <td>small</td>\n",
       "      <td>2001</td>\n",
       "      <td>manual</td>\n",
       "      <td>75</td>\n",
       "      <td>golf</td>\n",
       "      <td>150000</td>\n",
       "      <td>6</td>\n",
       "      <td>petrol</td>\n",
       "      <td>volkswagen</td>\n",
       "      <td>no</td>\n",
       "      <td>2016-03-17 00:00:00</td>\n",
       "      <td>0</td>\n",
       "      <td>91074</td>\n",
       "      <td>2016-03-17 17:40:17</td>\n",
       "    </tr>\n",
       "    <tr>\n",
       "      <th>4</th>\n",
       "      <td>2016-03-31 17:25:20</td>\n",
       "      <td>3600</td>\n",
       "      <td>small</td>\n",
       "      <td>2008</td>\n",
       "      <td>manual</td>\n",
       "      <td>69</td>\n",
       "      <td>fabia</td>\n",
       "      <td>90000</td>\n",
       "      <td>7</td>\n",
       "      <td>gasoline</td>\n",
       "      <td>skoda</td>\n",
       "      <td>no</td>\n",
       "      <td>2016-03-31 00:00:00</td>\n",
       "      <td>0</td>\n",
       "      <td>60437</td>\n",
       "      <td>2016-04-06 10:17:21</td>\n",
       "    </tr>\n",
       "  </tbody>\n",
       "</table>\n",
       "</div>"
      ],
      "text/plain": [
       "           DateCrawled  Price VehicleType  RegistrationYear Gearbox  Power  \\\n",
       "0  2016-03-24 11:52:17    480         NaN              1993  manual      0   \n",
       "1  2016-03-24 10:58:45  18300       coupe              2011  manual    190   \n",
       "2  2016-03-14 12:52:21   9800         suv              2004    auto    163   \n",
       "3  2016-03-17 16:54:04   1500       small              2001  manual     75   \n",
       "4  2016-03-31 17:25:20   3600       small              2008  manual     69   \n",
       "\n",
       "   Model  Kilometer  RegistrationMonth  FuelType       Brand Repaired  \\\n",
       "0   golf     150000                  0    petrol  volkswagen      NaN   \n",
       "1    NaN     125000                  5  gasoline        audi      yes   \n",
       "2  grand     125000                  8  gasoline        jeep      NaN   \n",
       "3   golf     150000                  6    petrol  volkswagen       no   \n",
       "4  fabia      90000                  7  gasoline       skoda       no   \n",
       "\n",
       "           DateCreated  NumberOfPictures  PostalCode             LastSeen  \n",
       "0  2016-03-24 00:00:00                 0       70435  2016-04-07 03:16:57  \n",
       "1  2016-03-24 00:00:00                 0       66954  2016-04-07 01:46:50  \n",
       "2  2016-03-14 00:00:00                 0       90480  2016-04-05 12:47:46  \n",
       "3  2016-03-17 00:00:00                 0       91074  2016-03-17 17:40:17  \n",
       "4  2016-03-31 00:00:00                 0       60437  2016-04-06 10:17:21  "
      ]
     },
     "execution_count": 2,
     "metadata": {},
     "output_type": "execute_result"
    }
   ],
   "source": [
    "df = pd.read_csv(\"autos.csv\")\n",
    "df.head()"
   ]
  },
  {
   "cell_type": "code",
   "execution_count": 3,
   "id": "570df679",
   "metadata": {},
   "outputs": [
    {
     "data": {
      "text/plain": [
       "(354369, 16)"
      ]
     },
     "execution_count": 3,
     "metadata": {},
     "output_type": "execute_result"
    }
   ],
   "source": [
    "df.shape"
   ]
  },
  {
   "cell_type": "markdown",
   "id": "3a835590",
   "metadata": {},
   "source": [
    "Датасет содержит более 350 тыс. строк и 16 столбцов."
   ]
  },
  {
   "cell_type": "code",
   "execution_count": 4,
   "id": "b7dec8c4",
   "metadata": {},
   "outputs": [
    {
     "data": {
      "text/plain": [
       "Index(['DateCrawled', 'Price', 'VehicleType', 'RegistrationYear', 'Gearbox',\n",
       "       'Power', 'Model', 'Kilometer', 'RegistrationMonth', 'FuelType', 'Brand',\n",
       "       'Repaired', 'DateCreated', 'NumberOfPictures', 'PostalCode',\n",
       "       'LastSeen'],\n",
       "      dtype='object')"
      ]
     },
     "execution_count": 4,
     "metadata": {},
     "output_type": "execute_result"
    }
   ],
   "source": [
    "df.columns"
   ]
  },
  {
   "cell_type": "code",
   "execution_count": 5,
   "id": "85892263",
   "metadata": {},
   "outputs": [
    {
     "data": {
      "text/plain": [
       "DateCrawled          object\n",
       "Price                 int64\n",
       "VehicleType          object\n",
       "RegistrationYear      int64\n",
       "Gearbox              object\n",
       "Power                 int64\n",
       "Model                object\n",
       "Kilometer             int64\n",
       "RegistrationMonth     int64\n",
       "FuelType             object\n",
       "Brand                object\n",
       "Repaired             object\n",
       "DateCreated          object\n",
       "NumberOfPictures      int64\n",
       "PostalCode            int64\n",
       "LastSeen             object\n",
       "dtype: object"
      ]
     },
     "execution_count": 5,
     "metadata": {},
     "output_type": "execute_result"
    }
   ],
   "source": [
    "df.dtypes"
   ]
  },
  {
   "cell_type": "markdown",
   "id": "1a568570",
   "metadata": {},
   "source": [
    "В столбцах датасета содержатся только два типа данных - `object` и `int64`. В тех столбцах, где представлены даты, можно было бы поменять тип данных с `object` на `datetime`, однако эти признаки могут быть непригодны для обучения модели."
   ]
  },
  {
   "cell_type": "code",
   "execution_count": 6,
   "id": "392b12ff",
   "metadata": {},
   "outputs": [
    {
     "name": "stdout",
     "output_type": "stream",
     "text": [
      "<class 'pandas.core.frame.DataFrame'>\n",
      "RangeIndex: 354369 entries, 0 to 354368\n",
      "Data columns (total 16 columns):\n",
      " #   Column             Non-Null Count   Dtype \n",
      "---  ------             --------------   ----- \n",
      " 0   DateCrawled        354369 non-null  object\n",
      " 1   Price              354369 non-null  int64 \n",
      " 2   VehicleType        316879 non-null  object\n",
      " 3   RegistrationYear   354369 non-null  int64 \n",
      " 4   Gearbox            334536 non-null  object\n",
      " 5   Power              354369 non-null  int64 \n",
      " 6   Model              334664 non-null  object\n",
      " 7   Kilometer          354369 non-null  int64 \n",
      " 8   RegistrationMonth  354369 non-null  int64 \n",
      " 9   FuelType           321474 non-null  object\n",
      " 10  Brand              354369 non-null  object\n",
      " 11  Repaired           283215 non-null  object\n",
      " 12  DateCreated        354369 non-null  object\n",
      " 13  NumberOfPictures   354369 non-null  int64 \n",
      " 14  PostalCode         354369 non-null  int64 \n",
      " 15  LastSeen           354369 non-null  object\n",
      "dtypes: int64(7), object(9)\n",
      "memory usage: 43.3+ MB\n"
     ]
    }
   ],
   "source": [
    "df.info()"
   ]
  },
  {
   "cell_type": "markdown",
   "id": "607e6a68",
   "metadata": {},
   "source": [
    "В датасете присутствуют признаки с пропущенными значениями."
   ]
  },
  {
   "cell_type": "code",
   "execution_count": 7,
   "id": "38b846bc",
   "metadata": {},
   "outputs": [
    {
     "data": {
      "text/plain": [
       "4"
      ]
     },
     "execution_count": 7,
     "metadata": {},
     "output_type": "execute_result"
    }
   ],
   "source": [
    "df.duplicated().sum()"
   ]
  },
  {
   "cell_type": "markdown",
   "id": "dd184c5b",
   "metadata": {},
   "source": [
    "Набор данных содержит 4 объекта, которые дублируют друг друга."
   ]
  },
  {
   "cell_type": "markdown",
   "id": "7cc7edf9",
   "metadata": {},
   "source": [
    "### Выводы\n",
    "---\n",
    "Таким образом, перед нами задача регрессии. Целевой признак - стоимость автомобиля (`price`), в качестве признаков предлагаются 16 столбцов, которые содержатся в датасете. Однако не все пригодны для построения моделей. Группа признаков (`DateCrawled`, `DateCreated`, `NumberOfPictures`, `PostalCode`, `LastSeen`) вовсе не характеризуют автомобили в датасете, а признаки `RegistrationMonth` и `RegistrationYear` имеют схожую природу, т.е. сообщают нам дату регистрации автомобиля, однако последний признак носит более ценную информацию об автомобиле. Поэтому лишние признаки исключим из датасета, и тем самым необходимость менять тип данных пропадает. Также посмотрим на дублирующие объекты и избавимся от них, если действительно произошло многоразовое копирование одного и того же объекта."
   ]
  },
  {
   "cell_type": "markdown",
   "id": "e3af2ed7",
   "metadata": {},
   "source": [
    "### Шаг 2. Предобработка данных"
   ]
  },
  {
   "cell_type": "markdown",
   "id": "080620fe",
   "metadata": {},
   "source": [
    "##### Удаление дубликатов"
   ]
  },
  {
   "cell_type": "code",
   "execution_count": 8,
   "id": "0d1b7601",
   "metadata": {},
   "outputs": [
    {
     "data": {
      "text/html": [
       "<div>\n",
       "<style scoped>\n",
       "    .dataframe tbody tr th:only-of-type {\n",
       "        vertical-align: middle;\n",
       "    }\n",
       "\n",
       "    .dataframe tbody tr th {\n",
       "        vertical-align: top;\n",
       "    }\n",
       "\n",
       "    .dataframe thead th {\n",
       "        text-align: right;\n",
       "    }\n",
       "</style>\n",
       "<table border=\"1\" class=\"dataframe\">\n",
       "  <thead>\n",
       "    <tr style=\"text-align: right;\">\n",
       "      <th></th>\n",
       "      <th>DateCrawled</th>\n",
       "      <th>Price</th>\n",
       "      <th>VehicleType</th>\n",
       "      <th>RegistrationYear</th>\n",
       "      <th>Gearbox</th>\n",
       "      <th>Power</th>\n",
       "      <th>Model</th>\n",
       "      <th>Kilometer</th>\n",
       "      <th>RegistrationMonth</th>\n",
       "      <th>FuelType</th>\n",
       "      <th>Brand</th>\n",
       "      <th>Repaired</th>\n",
       "      <th>DateCreated</th>\n",
       "      <th>NumberOfPictures</th>\n",
       "      <th>PostalCode</th>\n",
       "      <th>LastSeen</th>\n",
       "    </tr>\n",
       "  </thead>\n",
       "  <tbody>\n",
       "    <tr>\n",
       "      <th>171088</th>\n",
       "      <td>2016-03-08 18:42:48</td>\n",
       "      <td>1799</td>\n",
       "      <td>coupe</td>\n",
       "      <td>1999</td>\n",
       "      <td>auto</td>\n",
       "      <td>193</td>\n",
       "      <td>clk</td>\n",
       "      <td>20000</td>\n",
       "      <td>7</td>\n",
       "      <td>petrol</td>\n",
       "      <td>mercedes_benz</td>\n",
       "      <td>no</td>\n",
       "      <td>2016-03-08 00:00:00</td>\n",
       "      <td>0</td>\n",
       "      <td>89518</td>\n",
       "      <td>2016-03-09 09:46:57</td>\n",
       "    </tr>\n",
       "    <tr>\n",
       "      <th>231258</th>\n",
       "      <td>2016-03-28 00:56:10</td>\n",
       "      <td>1000</td>\n",
       "      <td>small</td>\n",
       "      <td>2002</td>\n",
       "      <td>manual</td>\n",
       "      <td>83</td>\n",
       "      <td>other</td>\n",
       "      <td>150000</td>\n",
       "      <td>1</td>\n",
       "      <td>petrol</td>\n",
       "      <td>suzuki</td>\n",
       "      <td>no</td>\n",
       "      <td>2016-03-28 00:00:00</td>\n",
       "      <td>0</td>\n",
       "      <td>66589</td>\n",
       "      <td>2016-03-28 08:46:21</td>\n",
       "    </tr>\n",
       "    <tr>\n",
       "      <th>258109</th>\n",
       "      <td>2016-04-03 09:01:15</td>\n",
       "      <td>4699</td>\n",
       "      <td>coupe</td>\n",
       "      <td>2003</td>\n",
       "      <td>auto</td>\n",
       "      <td>218</td>\n",
       "      <td>clk</td>\n",
       "      <td>125000</td>\n",
       "      <td>6</td>\n",
       "      <td>petrol</td>\n",
       "      <td>mercedes_benz</td>\n",
       "      <td>yes</td>\n",
       "      <td>2016-04-03 00:00:00</td>\n",
       "      <td>0</td>\n",
       "      <td>75196</td>\n",
       "      <td>2016-04-07 09:44:54</td>\n",
       "    </tr>\n",
       "    <tr>\n",
       "      <th>325651</th>\n",
       "      <td>2016-03-18 18:46:15</td>\n",
       "      <td>1999</td>\n",
       "      <td>wagon</td>\n",
       "      <td>2001</td>\n",
       "      <td>manual</td>\n",
       "      <td>131</td>\n",
       "      <td>passat</td>\n",
       "      <td>150000</td>\n",
       "      <td>7</td>\n",
       "      <td>gasoline</td>\n",
       "      <td>volkswagen</td>\n",
       "      <td>no</td>\n",
       "      <td>2016-03-18 00:00:00</td>\n",
       "      <td>0</td>\n",
       "      <td>36391</td>\n",
       "      <td>2016-03-18 18:46:15</td>\n",
       "    </tr>\n",
       "  </tbody>\n",
       "</table>\n",
       "</div>"
      ],
      "text/plain": [
       "                DateCrawled  Price VehicleType  RegistrationYear Gearbox  \\\n",
       "171088  2016-03-08 18:42:48   1799       coupe              1999    auto   \n",
       "231258  2016-03-28 00:56:10   1000       small              2002  manual   \n",
       "258109  2016-04-03 09:01:15   4699       coupe              2003    auto   \n",
       "325651  2016-03-18 18:46:15   1999       wagon              2001  manual   \n",
       "\n",
       "        Power   Model  Kilometer  RegistrationMonth  FuelType          Brand  \\\n",
       "171088    193     clk      20000                  7    petrol  mercedes_benz   \n",
       "231258     83   other     150000                  1    petrol         suzuki   \n",
       "258109    218     clk     125000                  6    petrol  mercedes_benz   \n",
       "325651    131  passat     150000                  7  gasoline     volkswagen   \n",
       "\n",
       "       Repaired          DateCreated  NumberOfPictures  PostalCode  \\\n",
       "171088       no  2016-03-08 00:00:00                 0       89518   \n",
       "231258       no  2016-03-28 00:00:00                 0       66589   \n",
       "258109      yes  2016-04-03 00:00:00                 0       75196   \n",
       "325651       no  2016-03-18 00:00:00                 0       36391   \n",
       "\n",
       "                   LastSeen  \n",
       "171088  2016-03-09 09:46:57  \n",
       "231258  2016-03-28 08:46:21  \n",
       "258109  2016-04-07 09:44:54  \n",
       "325651  2016-03-18 18:46:15  "
      ]
     },
     "execution_count": 8,
     "metadata": {},
     "output_type": "execute_result"
    }
   ],
   "source": [
    "df[df.duplicated()]"
   ]
  },
  {
   "cell_type": "code",
   "execution_count": 9,
   "id": "c25be9b9",
   "metadata": {},
   "outputs": [
    {
     "data": {
      "text/html": [
       "<div>\n",
       "<style scoped>\n",
       "    .dataframe tbody tr th:only-of-type {\n",
       "        vertical-align: middle;\n",
       "    }\n",
       "\n",
       "    .dataframe tbody tr th {\n",
       "        vertical-align: top;\n",
       "    }\n",
       "\n",
       "    .dataframe thead th {\n",
       "        text-align: right;\n",
       "    }\n",
       "</style>\n",
       "<table border=\"1\" class=\"dataframe\">\n",
       "  <thead>\n",
       "    <tr style=\"text-align: right;\">\n",
       "      <th></th>\n",
       "      <th>DateCrawled</th>\n",
       "      <th>Price</th>\n",
       "      <th>VehicleType</th>\n",
       "      <th>RegistrationYear</th>\n",
       "      <th>Gearbox</th>\n",
       "      <th>Power</th>\n",
       "      <th>Model</th>\n",
       "      <th>Kilometer</th>\n",
       "      <th>RegistrationMonth</th>\n",
       "      <th>FuelType</th>\n",
       "      <th>Brand</th>\n",
       "      <th>Repaired</th>\n",
       "      <th>DateCreated</th>\n",
       "      <th>NumberOfPictures</th>\n",
       "      <th>PostalCode</th>\n",
       "      <th>LastSeen</th>\n",
       "    </tr>\n",
       "  </thead>\n",
       "  <tbody>\n",
       "    <tr>\n",
       "      <th>88087</th>\n",
       "      <td>2016-03-08 18:42:48</td>\n",
       "      <td>1799</td>\n",
       "      <td>coupe</td>\n",
       "      <td>1999</td>\n",
       "      <td>auto</td>\n",
       "      <td>193</td>\n",
       "      <td>clk</td>\n",
       "      <td>20000</td>\n",
       "      <td>7</td>\n",
       "      <td>petrol</td>\n",
       "      <td>mercedes_benz</td>\n",
       "      <td>no</td>\n",
       "      <td>2016-03-08 00:00:00</td>\n",
       "      <td>0</td>\n",
       "      <td>89518</td>\n",
       "      <td>2016-03-09 09:46:57</td>\n",
       "    </tr>\n",
       "    <tr>\n",
       "      <th>171088</th>\n",
       "      <td>2016-03-08 18:42:48</td>\n",
       "      <td>1799</td>\n",
       "      <td>coupe</td>\n",
       "      <td>1999</td>\n",
       "      <td>auto</td>\n",
       "      <td>193</td>\n",
       "      <td>clk</td>\n",
       "      <td>20000</td>\n",
       "      <td>7</td>\n",
       "      <td>petrol</td>\n",
       "      <td>mercedes_benz</td>\n",
       "      <td>no</td>\n",
       "      <td>2016-03-08 00:00:00</td>\n",
       "      <td>0</td>\n",
       "      <td>89518</td>\n",
       "      <td>2016-03-09 09:46:57</td>\n",
       "    </tr>\n",
       "  </tbody>\n",
       "</table>\n",
       "</div>"
      ],
      "text/plain": [
       "                DateCrawled  Price VehicleType  RegistrationYear Gearbox  \\\n",
       "88087   2016-03-08 18:42:48   1799       coupe              1999    auto   \n",
       "171088  2016-03-08 18:42:48   1799       coupe              1999    auto   \n",
       "\n",
       "        Power Model  Kilometer  RegistrationMonth FuelType          Brand  \\\n",
       "88087     193   clk      20000                  7   petrol  mercedes_benz   \n",
       "171088    193   clk      20000                  7   petrol  mercedes_benz   \n",
       "\n",
       "       Repaired          DateCreated  NumberOfPictures  PostalCode  \\\n",
       "88087        no  2016-03-08 00:00:00                 0       89518   \n",
       "171088       no  2016-03-08 00:00:00                 0       89518   \n",
       "\n",
       "                   LastSeen  \n",
       "88087   2016-03-09 09:46:57  \n",
       "171088  2016-03-09 09:46:57  "
      ]
     },
     "execution_count": 9,
     "metadata": {},
     "output_type": "execute_result"
    }
   ],
   "source": [
    "df[df[\"DateCrawled\"] == \"2016-03-08 18:42:48\"]"
   ]
  },
  {
   "cell_type": "code",
   "execution_count": 10,
   "id": "47b69658",
   "metadata": {},
   "outputs": [
    {
     "data": {
      "text/html": [
       "<div>\n",
       "<style scoped>\n",
       "    .dataframe tbody tr th:only-of-type {\n",
       "        vertical-align: middle;\n",
       "    }\n",
       "\n",
       "    .dataframe tbody tr th {\n",
       "        vertical-align: top;\n",
       "    }\n",
       "\n",
       "    .dataframe thead th {\n",
       "        text-align: right;\n",
       "    }\n",
       "</style>\n",
       "<table border=\"1\" class=\"dataframe\">\n",
       "  <thead>\n",
       "    <tr style=\"text-align: right;\">\n",
       "      <th></th>\n",
       "      <th>DateCrawled</th>\n",
       "      <th>Price</th>\n",
       "      <th>VehicleType</th>\n",
       "      <th>RegistrationYear</th>\n",
       "      <th>Gearbox</th>\n",
       "      <th>Power</th>\n",
       "      <th>Model</th>\n",
       "      <th>Kilometer</th>\n",
       "      <th>RegistrationMonth</th>\n",
       "      <th>FuelType</th>\n",
       "      <th>Brand</th>\n",
       "      <th>Repaired</th>\n",
       "      <th>DateCreated</th>\n",
       "      <th>NumberOfPictures</th>\n",
       "      <th>PostalCode</th>\n",
       "      <th>LastSeen</th>\n",
       "    </tr>\n",
       "  </thead>\n",
       "  <tbody>\n",
       "    <tr>\n",
       "      <th>90964</th>\n",
       "      <td>2016-03-28 00:56:10</td>\n",
       "      <td>1000</td>\n",
       "      <td>small</td>\n",
       "      <td>2002</td>\n",
       "      <td>manual</td>\n",
       "      <td>83</td>\n",
       "      <td>other</td>\n",
       "      <td>150000</td>\n",
       "      <td>1</td>\n",
       "      <td>petrol</td>\n",
       "      <td>suzuki</td>\n",
       "      <td>no</td>\n",
       "      <td>2016-03-28 00:00:00</td>\n",
       "      <td>0</td>\n",
       "      <td>66589</td>\n",
       "      <td>2016-03-28 08:46:21</td>\n",
       "    </tr>\n",
       "    <tr>\n",
       "      <th>231258</th>\n",
       "      <td>2016-03-28 00:56:10</td>\n",
       "      <td>1000</td>\n",
       "      <td>small</td>\n",
       "      <td>2002</td>\n",
       "      <td>manual</td>\n",
       "      <td>83</td>\n",
       "      <td>other</td>\n",
       "      <td>150000</td>\n",
       "      <td>1</td>\n",
       "      <td>petrol</td>\n",
       "      <td>suzuki</td>\n",
       "      <td>no</td>\n",
       "      <td>2016-03-28 00:00:00</td>\n",
       "      <td>0</td>\n",
       "      <td>66589</td>\n",
       "      <td>2016-03-28 08:46:21</td>\n",
       "    </tr>\n",
       "  </tbody>\n",
       "</table>\n",
       "</div>"
      ],
      "text/plain": [
       "                DateCrawled  Price VehicleType  RegistrationYear Gearbox  \\\n",
       "90964   2016-03-28 00:56:10   1000       small              2002  manual   \n",
       "231258  2016-03-28 00:56:10   1000       small              2002  manual   \n",
       "\n",
       "        Power  Model  Kilometer  RegistrationMonth FuelType   Brand Repaired  \\\n",
       "90964      83  other     150000                  1   petrol  suzuki       no   \n",
       "231258     83  other     150000                  1   petrol  suzuki       no   \n",
       "\n",
       "                DateCreated  NumberOfPictures  PostalCode             LastSeen  \n",
       "90964   2016-03-28 00:00:00                 0       66589  2016-03-28 08:46:21  \n",
       "231258  2016-03-28 00:00:00                 0       66589  2016-03-28 08:46:21  "
      ]
     },
     "execution_count": 10,
     "metadata": {},
     "output_type": "execute_result"
    }
   ],
   "source": [
    "df[df[\"DateCrawled\"] == \"2016-03-28 00:56:10\"]"
   ]
  },
  {
   "cell_type": "code",
   "execution_count": 11,
   "id": "458239f5",
   "metadata": {},
   "outputs": [
    {
     "data": {
      "text/html": [
       "<div>\n",
       "<style scoped>\n",
       "    .dataframe tbody tr th:only-of-type {\n",
       "        vertical-align: middle;\n",
       "    }\n",
       "\n",
       "    .dataframe tbody tr th {\n",
       "        vertical-align: top;\n",
       "    }\n",
       "\n",
       "    .dataframe thead th {\n",
       "        text-align: right;\n",
       "    }\n",
       "</style>\n",
       "<table border=\"1\" class=\"dataframe\">\n",
       "  <thead>\n",
       "    <tr style=\"text-align: right;\">\n",
       "      <th></th>\n",
       "      <th>DateCrawled</th>\n",
       "      <th>Price</th>\n",
       "      <th>VehicleType</th>\n",
       "      <th>RegistrationYear</th>\n",
       "      <th>Gearbox</th>\n",
       "      <th>Power</th>\n",
       "      <th>Model</th>\n",
       "      <th>Kilometer</th>\n",
       "      <th>RegistrationMonth</th>\n",
       "      <th>FuelType</th>\n",
       "      <th>Brand</th>\n",
       "      <th>Repaired</th>\n",
       "      <th>DateCreated</th>\n",
       "      <th>NumberOfPictures</th>\n",
       "      <th>PostalCode</th>\n",
       "      <th>LastSeen</th>\n",
       "    </tr>\n",
       "  </thead>\n",
       "  <tbody>\n",
       "    <tr>\n",
       "      <th>187735</th>\n",
       "      <td>2016-04-03 09:01:15</td>\n",
       "      <td>4699</td>\n",
       "      <td>coupe</td>\n",
       "      <td>2003</td>\n",
       "      <td>auto</td>\n",
       "      <td>218</td>\n",
       "      <td>clk</td>\n",
       "      <td>125000</td>\n",
       "      <td>6</td>\n",
       "      <td>petrol</td>\n",
       "      <td>mercedes_benz</td>\n",
       "      <td>yes</td>\n",
       "      <td>2016-04-03 00:00:00</td>\n",
       "      <td>0</td>\n",
       "      <td>75196</td>\n",
       "      <td>2016-04-07 09:44:54</td>\n",
       "    </tr>\n",
       "    <tr>\n",
       "      <th>258109</th>\n",
       "      <td>2016-04-03 09:01:15</td>\n",
       "      <td>4699</td>\n",
       "      <td>coupe</td>\n",
       "      <td>2003</td>\n",
       "      <td>auto</td>\n",
       "      <td>218</td>\n",
       "      <td>clk</td>\n",
       "      <td>125000</td>\n",
       "      <td>6</td>\n",
       "      <td>petrol</td>\n",
       "      <td>mercedes_benz</td>\n",
       "      <td>yes</td>\n",
       "      <td>2016-04-03 00:00:00</td>\n",
       "      <td>0</td>\n",
       "      <td>75196</td>\n",
       "      <td>2016-04-07 09:44:54</td>\n",
       "    </tr>\n",
       "  </tbody>\n",
       "</table>\n",
       "</div>"
      ],
      "text/plain": [
       "                DateCrawled  Price VehicleType  RegistrationYear Gearbox  \\\n",
       "187735  2016-04-03 09:01:15   4699       coupe              2003    auto   \n",
       "258109  2016-04-03 09:01:15   4699       coupe              2003    auto   \n",
       "\n",
       "        Power Model  Kilometer  RegistrationMonth FuelType          Brand  \\\n",
       "187735    218   clk     125000                  6   petrol  mercedes_benz   \n",
       "258109    218   clk     125000                  6   petrol  mercedes_benz   \n",
       "\n",
       "       Repaired          DateCreated  NumberOfPictures  PostalCode  \\\n",
       "187735      yes  2016-04-03 00:00:00                 0       75196   \n",
       "258109      yes  2016-04-03 00:00:00                 0       75196   \n",
       "\n",
       "                   LastSeen  \n",
       "187735  2016-04-07 09:44:54  \n",
       "258109  2016-04-07 09:44:54  "
      ]
     },
     "execution_count": 11,
     "metadata": {},
     "output_type": "execute_result"
    }
   ],
   "source": [
    "df[df[\"DateCrawled\"] == \"2016-04-03 09:01:15\"]"
   ]
  },
  {
   "cell_type": "code",
   "execution_count": 12,
   "id": "bc0f4021",
   "metadata": {},
   "outputs": [
    {
     "data": {
      "text/html": [
       "<div>\n",
       "<style scoped>\n",
       "    .dataframe tbody tr th:only-of-type {\n",
       "        vertical-align: middle;\n",
       "    }\n",
       "\n",
       "    .dataframe tbody tr th {\n",
       "        vertical-align: top;\n",
       "    }\n",
       "\n",
       "    .dataframe thead th {\n",
       "        text-align: right;\n",
       "    }\n",
       "</style>\n",
       "<table border=\"1\" class=\"dataframe\">\n",
       "  <thead>\n",
       "    <tr style=\"text-align: right;\">\n",
       "      <th></th>\n",
       "      <th>DateCrawled</th>\n",
       "      <th>Price</th>\n",
       "      <th>VehicleType</th>\n",
       "      <th>RegistrationYear</th>\n",
       "      <th>Gearbox</th>\n",
       "      <th>Power</th>\n",
       "      <th>Model</th>\n",
       "      <th>Kilometer</th>\n",
       "      <th>RegistrationMonth</th>\n",
       "      <th>FuelType</th>\n",
       "      <th>Brand</th>\n",
       "      <th>Repaired</th>\n",
       "      <th>DateCreated</th>\n",
       "      <th>NumberOfPictures</th>\n",
       "      <th>PostalCode</th>\n",
       "      <th>LastSeen</th>\n",
       "    </tr>\n",
       "  </thead>\n",
       "  <tbody>\n",
       "    <tr>\n",
       "      <th>41529</th>\n",
       "      <td>2016-03-18 18:46:15</td>\n",
       "      <td>1999</td>\n",
       "      <td>wagon</td>\n",
       "      <td>2001</td>\n",
       "      <td>manual</td>\n",
       "      <td>131</td>\n",
       "      <td>passat</td>\n",
       "      <td>150000</td>\n",
       "      <td>7</td>\n",
       "      <td>gasoline</td>\n",
       "      <td>volkswagen</td>\n",
       "      <td>no</td>\n",
       "      <td>2016-03-18 00:00:00</td>\n",
       "      <td>0</td>\n",
       "      <td>36391</td>\n",
       "      <td>2016-03-18 18:46:15</td>\n",
       "    </tr>\n",
       "    <tr>\n",
       "      <th>325651</th>\n",
       "      <td>2016-03-18 18:46:15</td>\n",
       "      <td>1999</td>\n",
       "      <td>wagon</td>\n",
       "      <td>2001</td>\n",
       "      <td>manual</td>\n",
       "      <td>131</td>\n",
       "      <td>passat</td>\n",
       "      <td>150000</td>\n",
       "      <td>7</td>\n",
       "      <td>gasoline</td>\n",
       "      <td>volkswagen</td>\n",
       "      <td>no</td>\n",
       "      <td>2016-03-18 00:00:00</td>\n",
       "      <td>0</td>\n",
       "      <td>36391</td>\n",
       "      <td>2016-03-18 18:46:15</td>\n",
       "    </tr>\n",
       "  </tbody>\n",
       "</table>\n",
       "</div>"
      ],
      "text/plain": [
       "                DateCrawled  Price VehicleType  RegistrationYear Gearbox  \\\n",
       "41529   2016-03-18 18:46:15   1999       wagon              2001  manual   \n",
       "325651  2016-03-18 18:46:15   1999       wagon              2001  manual   \n",
       "\n",
       "        Power   Model  Kilometer  RegistrationMonth  FuelType       Brand  \\\n",
       "41529     131  passat     150000                  7  gasoline  volkswagen   \n",
       "325651    131  passat     150000                  7  gasoline  volkswagen   \n",
       "\n",
       "       Repaired          DateCreated  NumberOfPictures  PostalCode  \\\n",
       "41529        no  2016-03-18 00:00:00                 0       36391   \n",
       "325651       no  2016-03-18 00:00:00                 0       36391   \n",
       "\n",
       "                   LastSeen  \n",
       "41529   2016-03-18 18:46:15  \n",
       "325651  2016-03-18 18:46:15  "
      ]
     },
     "execution_count": 12,
     "metadata": {},
     "output_type": "execute_result"
    }
   ],
   "source": [
    "df[df[\"DateCrawled\"] == \"2016-03-18 18:46:15\"]"
   ]
  },
  {
   "cell_type": "markdown",
   "id": "8c70c32a",
   "metadata": {},
   "source": [
    "Действительно в датасете 4 объекта дублировались, в чем мы убедились после того, как нашли их. Теперь может удалить их. "
   ]
  },
  {
   "cell_type": "code",
   "execution_count": 13,
   "id": "c702b748",
   "metadata": {},
   "outputs": [],
   "source": [
    "df = df.drop_duplicates()"
   ]
  },
  {
   "cell_type": "code",
   "execution_count": 14,
   "id": "d42e5503",
   "metadata": {},
   "outputs": [
    {
     "data": {
      "text/plain": [
       "0"
      ]
     },
     "execution_count": 14,
     "metadata": {},
     "output_type": "execute_result"
    }
   ],
   "source": [
    "df.duplicated().sum()"
   ]
  },
  {
   "cell_type": "markdown",
   "id": "1a4bea8f",
   "metadata": {},
   "source": [
    "##### Удаление из датасета лишних признаков"
   ]
  },
  {
   "cell_type": "code",
   "execution_count": 15,
   "id": "a794bc51",
   "metadata": {},
   "outputs": [],
   "source": [
    "df = df.drop([\"DateCrawled\", \"DateCreated\", \"NumberOfPictures\", \n",
    "              \"PostalCode\", \"LastSeen\", \"RegistrationMonth\"], axis = 1)"
   ]
  },
  {
   "cell_type": "code",
   "execution_count": 16,
   "id": "86025193",
   "metadata": {},
   "outputs": [
    {
     "data": {
      "text/plain": [
       "(354365, 10)"
      ]
     },
     "execution_count": 16,
     "metadata": {},
     "output_type": "execute_result"
    }
   ],
   "source": [
    "df.shape"
   ]
  },
  {
   "cell_type": "markdown",
   "id": "570c9d0f",
   "metadata": {},
   "source": [
    "Мы исключили 6 признаков, которые непригодны для построения моделей."
   ]
  },
  {
   "cell_type": "markdown",
   "id": "c918aadf",
   "metadata": {},
   "source": [
    "##### Обработка пропущенных значений"
   ]
  },
  {
   "cell_type": "code",
   "execution_count": 17,
   "id": "2d3bc8db",
   "metadata": {},
   "outputs": [
    {
     "data": {
      "text/plain": [
       "Repaired            71154\n",
       "VehicleType         37490\n",
       "FuelType            32895\n",
       "Gearbox             19833\n",
       "Model               19705\n",
       "Price                   0\n",
       "RegistrationYear        0\n",
       "Power                   0\n",
       "Kilometer               0\n",
       "Brand                   0\n",
       "dtype: int64"
      ]
     },
     "execution_count": 17,
     "metadata": {},
     "output_type": "execute_result"
    }
   ],
   "source": [
    "df.isna().sum().sort_values(ascending = False)"
   ]
  },
  {
   "cell_type": "markdown",
   "id": "d664856d",
   "metadata": {},
   "source": [
    "Как видно, пропущенные значения присутствуют только в признаках с категориальными данными."
   ]
  },
  {
   "cell_type": "code",
   "execution_count": 18,
   "id": "94045b63",
   "metadata": {},
   "outputs": [
    {
     "name": "stdout",
     "output_type": "stream",
     "text": [
      "Repaired unique values:\n",
      "[nan 'yes' 'no']\n",
      "\n",
      "VehicleType unique values:\n",
      "[nan 'coupe' 'suv' 'small' 'sedan' 'convertible' 'bus' 'wagon' 'other']\n",
      "\n",
      "FuelType unique values:\n",
      "['petrol' 'gasoline' nan 'lpg' 'other' 'hybrid' 'cng' 'electric']\n",
      "\n",
      "Gearbox unique values:\n",
      "['manual' 'auto' nan]\n",
      "\n",
      "Model unique values:\n",
      "['golf' nan 'grand' 'fabia' '3er' '2_reihe' 'other' 'c_max' '3_reihe'\n",
      " 'passat' 'navara' 'ka' 'polo' 'twingo' 'a_klasse' 'scirocco' '5er'\n",
      " 'meriva' 'arosa' 'c4' 'civic' 'transporter' 'punto' 'e_klasse' 'clio'\n",
      " 'kadett' 'kangoo' 'corsa' 'one' 'fortwo' '1er' 'b_klasse' 'signum'\n",
      " 'astra' 'a8' 'jetta' 'fiesta' 'c_klasse' 'micra' 'vito' 'sprinter' '156'\n",
      " 'escort' 'forester' 'xc_reihe' 'scenic' 'a4' 'a1' 'insignia' 'combo'\n",
      " 'focus' 'tt' 'a6' 'jazz' 'omega' 'slk' '7er' '80' '147' '100' 'z_reihe'\n",
      " 'sportage' 'sorento' 'v40' 'ibiza' 'mustang' 'eos' 'touran' 'getz' 'a3'\n",
      " 'almera' 'megane' 'lupo' 'r19' 'zafira' 'caddy' 'mondeo' 'cordoba' 'colt'\n",
      " 'impreza' 'vectra' 'berlingo' 'tiguan' 'i_reihe' 'espace' 'sharan'\n",
      " '6_reihe' 'panda' 'up' 'seicento' 'ceed' '5_reihe' 'yeti' 'octavia' 'mii'\n",
      " 'rx_reihe' '6er' 'modus' 'fox' 'matiz' 'beetle' 'c1' 'rio' 'touareg'\n",
      " 'logan' 'spider' 'cuore' 's_max' 'a2' 'galaxy' 'c3' 'viano' 's_klasse'\n",
      " '1_reihe' 'avensis' 'roomster' 'sl' 'kaefer' 'santa' 'cooper' 'leon'\n",
      " '4_reihe' 'a5' '500' 'laguna' 'ptcruiser' 'clk' 'primera' 'x_reihe'\n",
      " 'exeo' '159' 'transit' 'juke' 'qashqai' 'carisma' 'accord' 'corolla'\n",
      " 'lanos' 'phaeton' 'verso' 'swift' 'rav' 'picanto' 'boxster' 'kalos'\n",
      " 'superb' 'stilo' 'alhambra' 'mx_reihe' 'roadster' 'ypsilon' 'cayenne'\n",
      " 'galant' 'justy' '90' 'sirion' 'crossfire' 'agila' 'duster' 'cr_reihe'\n",
      " 'v50' 'c_reihe' 'v_klasse' 'm_klasse' 'yaris' 'c5' 'aygo' 'cc' 'carnival'\n",
      " 'fusion' '911' 'bora' 'forfour' 'm_reihe' 'cl' 'tigra' '300c' 'spark'\n",
      " 'v70' 'kuga' 'x_type' 'ducato' 's_type' 'x_trail' 'toledo' 'altea'\n",
      " 'voyager' 'calibra' 'bravo' 'antara' 'tucson' 'citigo' 'jimny' 'wrangler'\n",
      " 'lybra' 'q7' 'lancer' 'captiva' 'c2' 'discovery' 'freelander' 'sandero'\n",
      " 'note' '900' 'cherokee' 'clubman' 'samara' 'defender' '601' 'cx_reihe'\n",
      " 'legacy' 'pajero' 'auris' 'niva' 's60' 'nubira' 'vivaro' 'g_klasse'\n",
      " 'lodgy' '850' 'range_rover' 'q3' 'serie_2' 'glk' 'charade' 'croma'\n",
      " 'outlander' 'doblo' 'musa' 'move' '9000' 'v60' '145' 'aveo' '200' 'b_max'\n",
      " 'range_rover_sport' 'terios' 'rangerover' 'q5' 'range_rover_evoque'\n",
      " 'materia' 'delta' 'gl' 'kalina' 'amarok' 'elefantino' 'i3' 'kappa'\n",
      " 'serie_3' 'serie_1']\n",
      "\n"
     ]
    }
   ],
   "source": [
    "for col in [\"Repaired\", \"VehicleType\", \"FuelType\", \"Gearbox\", \"Model\"]:\n",
    "    print(f\"{col} unique values:\", df[col].unique(), sep = \"\\n\")\n",
    "    print()"
   ]
  },
  {
   "cell_type": "markdown",
   "id": "9b0e9896",
   "metadata": {},
   "source": [
    "Так как некоторые признаки взаимосвязаны в датасете, то нам необходимо заполнять пропуски таким образом, чтобы не нарушить общую логику в данных. Например, вряд ли электрокар может быть выпущен в XX веке, или некоторые модели автомобилей выпускаются только с определенным кузовом. Поэтому алгоритм при заполнении должен быть достаточно сложным, который учитывает все эти особенности. \n",
    "\n",
    "Однако в большинстве признаков, которые содержат пропуски, есть значение `other`, и это должно нам помочь. Если мы заполним пропущенные значения в признаках `VehicleType`, `FuelType` и `Model` значением `other`, то мы не нарушим общую логику, заложенную в датасет. \n",
    "\n",
    "В признаке `Repaired` могут быть только два значения. Была ли машина в ремонте или нет не зависит от остальных признаков, поэтому мы можем заполнить случаным образом.\n",
    "\n",
    "При заполнении `Gearbox` будем придерживаться консервативного подхода. Автоматическая коробка передач стала популярной в новейшее время, и, как правило, автомобили с механической коробкой передач встречаются чаще. Поэтому в объектах с пропущенными значениями укажем механическую коробку передач."
   ]
  },
  {
   "cell_type": "code",
   "execution_count": 19,
   "id": "44709d2c",
   "metadata": {},
   "outputs": [],
   "source": [
    "random.seed(12345)\n",
    "repaired_before = df[\"Repaired\"]\n",
    "df[\"Repaired\"] = df[\"Repaired\"].fillna(random.choice(df[\"Repaired\"].unique()[1:]))\n",
    "repaired_after = df[\"Repaired\"]"
   ]
  },
  {
   "cell_type": "code",
   "execution_count": 20,
   "id": "98824eb9",
   "metadata": {},
   "outputs": [],
   "source": [
    "df[\"Gearbox\"] = df[\"Gearbox\"].fillna(df[\"Gearbox\"].value_counts(normalize = True).idxmax())"
   ]
  },
  {
   "cell_type": "code",
   "execution_count": 21,
   "id": "71cebb53",
   "metadata": {},
   "outputs": [
    {
     "data": {
      "text/plain": [
       "Repaired    0\n",
       "Gearbox     0\n",
       "dtype: int64"
      ]
     },
     "execution_count": 21,
     "metadata": {},
     "output_type": "execute_result"
    }
   ],
   "source": [
    "df[[\"Repaired\", \"Gearbox\"]].isna().sum()"
   ]
  },
  {
   "cell_type": "markdown",
   "id": "c43e6b92",
   "metadata": {},
   "source": [
    "Пропущенных значений больше нет."
   ]
  },
  {
   "cell_type": "code",
   "execution_count": 22,
   "id": "80d9c5ab",
   "metadata": {},
   "outputs": [
    {
     "data": {
      "image/png": "[encoded data removed]",
      "text/plain": [
       "<Figure size 1296x432 with 2 Axes>"
      ]
     },
     "metadata": {
      "needs_background": "light"
     },
     "output_type": "display_data"
    }
   ],
   "source": [
    "fig = plt.figure(figsize = (18, 6))\n",
    "ax1 = fig.add_subplot(121)\n",
    "ax2 = fig.add_subplot(122)\n",
    "\n",
    "sns.countplot(x = repaired_before, order = repaired_before.value_counts(ascending = False).index,\n",
    "                    palette = sns.color_palette(\"RdBu_r\"), ax = ax1)\n",
    "\n",
    "ax1.bar_label(container = ax1.containers[0],\n",
    "             labels = [\"{:,.2%}\".format(i) for i in repaired_before.value_counts(ascending = False, \n",
    "                                                                                   normalize = True).values])\n",
    "ax1.set(xlabel = \"Была машина в ремонте или нет\", ylabel = \"Количество объектов\")\n",
    "\n",
    "\n",
    "sns.countplot(x = repaired_after, order = repaired_after.value_counts(ascending = False).index,\n",
    "                    palette = sns.color_palette(\"RdBu_r\"), ax = ax2)\n",
    "\n",
    "ax2.bar_label(container = ax2.containers[0],\n",
    "             labels = [\"{:,.2%}\".format(i) for i in repaired_after.value_counts(ascending = False, \n",
    "                                                                                   normalize = True).values])\n",
    "ax2.set(xlabel = \"Была машина в ремонте или нет\", ylabel = \"Количество объектов\")\n",
    "\n",
    "fig.suptitle(\"Изменение долей машин, которые были и не были в ремонте, до и после заполнения пропусков\")\n",
    "plt.show()"
   ]
  },
  {
   "cell_type": "markdown",
   "id": "eabb14c3",
   "metadata": {},
   "source": [
    "На примере `Repaired` видим, что баланс классов существенно не изменился. Также результат заполнения пропусков на `other` в остальных признаках посмотрим на примере `VehicleType`. Ниже диаграмма до заполнения пропусков."
   ]
  },
  {
   "cell_type": "code",
   "execution_count": 23,
   "id": "1a17ee25",
   "metadata": {},
   "outputs": [
    {
     "data": {
      "image/png": "[encoded data removed]",
      "text/plain": [
       "<Figure size 1296x432 with 1 Axes>"
      ]
     },
     "metadata": {
      "needs_background": "light"
     },
     "output_type": "display_data"
    }
   ],
   "source": [
    "fig, ax = plt.subplots(figsize = (18, 6))\n",
    "ax = sns.countplot(data = df, x = \"VehicleType\", \n",
    "                   order = df[\"VehicleType\"].value_counts(ascending = False).index,\n",
    "                  palette = sns.color_palette(\"Spectral_r\", 10))\n",
    "ax.bar_label(container = ax.containers[0],\n",
    "             labels = [\"{:,.2%}\".format(i) for i in df[\"VehicleType\"].value_counts(ascending = False, \n",
    "                                                                                   normalize = True).values])\n",
    "plt.title(\"Диаграмма типов автомобильного кузова до заполнения пропущенных значений\")\n",
    "plt.xlabel(\"Тип автомобильного кузова\")\n",
    "plt.ylabel(\"Количество объектов\")\n",
    "plt.show()"
   ]
  },
  {
   "cell_type": "code",
   "execution_count": 24,
   "id": "fcf0f802",
   "metadata": {},
   "outputs": [
    {
     "data": {
      "text/plain": [
       "VehicleType    0\n",
       "FuelType       0\n",
       "Model          0\n",
       "dtype: int64"
      ]
     },
     "execution_count": 24,
     "metadata": {},
     "output_type": "execute_result"
    }
   ],
   "source": [
    "df[\"VehicleType\"] = df[\"VehicleType\"].fillna(\"other\")\n",
    "df[\"FuelType\"] = df[\"FuelType\"].fillna(\"other\")\n",
    "df[\"Model\"] = df[\"Model\"].fillna(\"other\")\n",
    "\n",
    "df[[\"VehicleType\", \"FuelType\", \"Model\"]].isna().sum()"
   ]
  },
  {
   "cell_type": "markdown",
   "id": "de5b5524",
   "metadata": {},
   "source": [
    "Пропущенных значений в признаках `VehicleType`, `FuelType` и `Model` больше нет, посмотрим, как поменялся баланс классов в `VehicleType`. "
   ]
  },
  {
   "cell_type": "code",
   "execution_count": 25,
   "id": "b168b459",
   "metadata": {},
   "outputs": [
    {
     "data": {
      "image/png": "[encoded data removed]",
      "text/plain": [
       "<Figure size 1296x432 with 1 Axes>"
      ]
     },
     "metadata": {
      "needs_background": "light"
     },
     "output_type": "display_data"
    }
   ],
   "source": [
    "fig, ax = plt.subplots(figsize = (18, 6))\n",
    "ax = sns.countplot(data = df, x = \"VehicleType\", \n",
    "                   order = df[\"VehicleType\"].value_counts(ascending = False).index,\n",
    "                  palette = sns.color_palette(\"Spectral_r\", 10))\n",
    "ax.bar_label(container = ax.containers[0],\n",
    "             labels = [\"{:,.2%}\".format(i) for i in df[\"VehicleType\"].value_counts(ascending = False, \n",
    "                                                                                   normalize = True).values])\n",
    "plt.title(\"Диаграмма типов автомобильного кузова после заполнения пропущенных значений\")\n",
    "plt.xlabel(\"Тип автомобильного кузова\")\n",
    "plt.ylabel(\"Количество объектов\")\n",
    "plt.show()"
   ]
  },
  {
   "cell_type": "markdown",
   "id": "ee9eef85",
   "metadata": {},
   "source": [
    "Доля `other` заметно выросла."
   ]
  },
  {
   "cell_type": "markdown",
   "id": "1d51a470",
   "metadata": {},
   "source": [
    "##### Проверка адекватности значений в признаках"
   ]
  },
  {
   "cell_type": "markdown",
   "id": "7c6352ac",
   "metadata": {},
   "source": [
    "Аномальные значения присутствуют в `Price`, `RegistrationYear` и `Power`, обнаружить их поможет диаграмма размаха. Построим такую диаграмму для каждого признака и разберем по отдельности."
   ]
  },
  {
   "cell_type": "code",
   "execution_count": 26,
   "id": "e98e0fbb",
   "metadata": {},
   "outputs": [
    {
     "data": {
      "text/html": [
       "<div>\n",
       "<style scoped>\n",
       "    .dataframe tbody tr th:only-of-type {\n",
       "        vertical-align: middle;\n",
       "    }\n",
       "\n",
       "    .dataframe tbody tr th {\n",
       "        vertical-align: top;\n",
       "    }\n",
       "\n",
       "    .dataframe thead th {\n",
       "        text-align: right;\n",
       "    }\n",
       "</style>\n",
       "<table border=\"1\" class=\"dataframe\">\n",
       "  <thead>\n",
       "    <tr style=\"text-align: right;\">\n",
       "      <th></th>\n",
       "      <th>count</th>\n",
       "      <th>mean</th>\n",
       "      <th>std</th>\n",
       "      <th>min</th>\n",
       "      <th>25%</th>\n",
       "      <th>50%</th>\n",
       "      <th>75%</th>\n",
       "      <th>max</th>\n",
       "    </tr>\n",
       "  </thead>\n",
       "  <tbody>\n",
       "    <tr>\n",
       "      <th>Price</th>\n",
       "      <td>354365.0</td>\n",
       "      <td>4416.679830</td>\n",
       "      <td>4514.176349</td>\n",
       "      <td>0.0</td>\n",
       "      <td>1050.0</td>\n",
       "      <td>2700.0</td>\n",
       "      <td>6400.0</td>\n",
       "      <td>20000.0</td>\n",
       "    </tr>\n",
       "    <tr>\n",
       "      <th>RegistrationYear</th>\n",
       "      <td>354365.0</td>\n",
       "      <td>2004.234481</td>\n",
       "      <td>90.228466</td>\n",
       "      <td>1000.0</td>\n",
       "      <td>1999.0</td>\n",
       "      <td>2003.0</td>\n",
       "      <td>2008.0</td>\n",
       "      <td>9999.0</td>\n",
       "    </tr>\n",
       "    <tr>\n",
       "      <th>Power</th>\n",
       "      <td>354365.0</td>\n",
       "      <td>110.093816</td>\n",
       "      <td>189.851330</td>\n",
       "      <td>0.0</td>\n",
       "      <td>69.0</td>\n",
       "      <td>105.0</td>\n",
       "      <td>143.0</td>\n",
       "      <td>20000.0</td>\n",
       "    </tr>\n",
       "  </tbody>\n",
       "</table>\n",
       "</div>"
      ],
      "text/plain": [
       "                     count         mean          std     min     25%     50%  \\\n",
       "Price             354365.0  4416.679830  4514.176349     0.0  1050.0  2700.0   \n",
       "RegistrationYear  354365.0  2004.234481    90.228466  1000.0  1999.0  2003.0   \n",
       "Power             354365.0   110.093816   189.851330     0.0    69.0   105.0   \n",
       "\n",
       "                     75%      max  \n",
       "Price             6400.0  20000.0  \n",
       "RegistrationYear  2008.0   9999.0  \n",
       "Power              143.0  20000.0  "
      ]
     },
     "execution_count": 26,
     "metadata": {},
     "output_type": "execute_result"
    }
   ],
   "source": [
    "df[[\"Price\", \"RegistrationYear\", \"Power\"]].describe().T"
   ]
  },
  {
   "cell_type": "code",
   "execution_count": 27,
   "id": "26e43bfe",
   "metadata": {},
   "outputs": [
    {
     "data": {
      "image/png": "[encoded data removed]",
      "text/plain": [
       "<Figure size 1296x432 with 3 Axes>"
      ]
     },
     "metadata": {
      "needs_background": "light"
     },
     "output_type": "display_data"
    }
   ],
   "source": [
    "fig = plt.figure(figsize = (18, 6))\n",
    "ax1 = fig.add_subplot(131)\n",
    "ax2 = fig.add_subplot(132)\n",
    "ax3 = fig.add_subplot(133)\n",
    "sns.set_style(\"dark\")\n",
    "\n",
    "sns.boxplot(data = df, x = \"Price\", notch = True, flierprops = {\"marker\" : \"x\"},\n",
    "            boxprops = {\"facecolor\" : (.4, .6, .8, .5)}, medianprops = {\"color\" : \"coral\"}, ax = ax1)\n",
    "ax1.set(xlabel = \"Цена автомобиля\")\n",
    "\n",
    "sns.boxplot(data = df, x = \"RegistrationYear\", notch = True, flierprops = {\"marker\" : \"x\"},\n",
    "            boxprops = {\"facecolor\" : (.4, .6, .8, .5)}, medianprops = {\"color\" : \"coral\"}, ax = ax2)\n",
    "ax2.set(xlabel = \"Год регистрации\")\n",
    "\n",
    "sns.boxplot(data = df, x = \"Power\", notch = True, flierprops = {\"marker\" : \"x\"},\n",
    "            boxprops = {\"facecolor\" : (.4, .6, .8, .5)}, medianprops = {\"color\" : \"coral\"}, ax = ax3)\n",
    "ax3.set(xlabel = \"Мощность\")\n",
    "\n",
    "plt.suptitle(\"Диаграммы размаха для празнаков Price, RegistrationYear и Power до удаления аномальных значений\")\n",
    "plt.show()"
   ]
  },
  {
   "cell_type": "markdown",
   "id": "dac94901",
   "metadata": {},
   "source": [
    "Как видно на диаграммах размаха, большое количество аномальных значений присутствует в признаках `RegistrationYear` и `Power`, в признакое `Price` тоже есть аномальные значения. Посмотрим, какую долю занимают аномальные значения в общем наборе данных. Для этого напишем функцию, которая посчитает наблюдаемые минимумы и максимумы диаграммы размаха. "
   ]
  },
  {
   "cell_type": "code",
   "execution_count": 28,
   "id": "53c7aeff",
   "metadata": {},
   "outputs": [],
   "source": [
    "def caps_calculation(data):\n",
    "    upper_quartile = np.percentile(data, 75)\n",
    "    lower_quartile = np.percentile(data, 25)\n",
    "    \n",
    "    iqr = upper_quartile - lower_quartile\n",
    "    \n",
    "    lower_cap = data[data >= lower_quartile - 1.5 * iqr].min()\n",
    "    upper_cap = data[data <= upper_quartile + 1.5 * iqr].max()\n",
    "    \n",
    "    return (lower_cap, upper_cap)    "
   ]
  },
  {
   "cell_type": "code",
   "execution_count": 29,
   "id": "47c6888e",
   "metadata": {},
   "outputs": [
    {
     "name": "stdout",
     "output_type": "stream",
     "text": [
      "Диапозон наблюдаемых минимума и максимума для признака Price: (0, 14400)\n"
     ]
    }
   ],
   "source": [
    "print(\"Диапозон наблюдаемых минимума и максимума для признака Price:\", caps_calculation(df[\"Price\"]))"
   ]
  },
  {
   "cell_type": "code",
   "execution_count": 30,
   "id": "5ff65fcb",
   "metadata": {},
   "outputs": [
    {
     "name": "stdout",
     "output_type": "stream",
     "text": [
      "Диапозон наблюдаемых минимума и максимума для признака RegistrationYear: (1986, 2019)\n"
     ]
    }
   ],
   "source": [
    "print(\"Диапозон наблюдаемых минимума и максимума для признака RegistrationYear:\", \n",
    "      caps_calculation(df[\"RegistrationYear\"]))"
   ]
  },
  {
   "cell_type": "code",
   "execution_count": 31,
   "id": "74ebaf3d",
   "metadata": {},
   "outputs": [
    {
     "name": "stdout",
     "output_type": "stream",
     "text": [
      "Диапозон наблюдаемых минимума и максимума для признака Power: (0, 254)\n"
     ]
    }
   ],
   "source": [
    "print(\"Диапозон наблюдаемых минимума и максимума для признака Power:\", caps_calculation(df[\"Power\"]))"
   ]
  },
  {
   "cell_type": "markdown",
   "id": "1feaa863",
   "metadata": {},
   "source": [
    "В результате рассчета наблюдаемых минимумов и максимумов диаграмм размаха мы видим, что для признаков Price и Power минимумы равняются 0. Логика подсказывает, что такого быть не должно. Значит, посмотрим, какую долю занимают в данных аномальные значения, включая и исключая 0. \n",
    "\n",
    "Стоит также отметить, что верхняя граница даты скачивания анкеты из базы - 2016 год, следовательно, верхняя граница года регистрации автомобиля должна равняться 2016 году. Здесь мы отдельно посмотрим, какую долю занимают данные от 2017 до 2019 годов. "
   ]
  },
  {
   "cell_type": "code",
   "execution_count": 32,
   "id": "02c02c78",
   "metadata": {},
   "outputs": [
    {
     "name": "stdout",
     "output_type": "stream",
     "text": [
      "Доля аномальных значений в признаке Price: 5.36%\n",
      "Доля аномальных значений в признаке Price, включая значение 0: 8.40%\n"
     ]
    }
   ],
   "source": [
    "print(\"Доля аномальных значений в признаке Price:\", \n",
    "      \"{:,.2%}\".format(1 - len(df.query(\"0 <= Price <= 14400\")) / len(df)))\n",
    "\n",
    "print(\"Доля аномальных значений в признаке Price, включая значение 0:\", \n",
    "      \"{:,.2%}\".format(1 - len(df.query(\"1 <= Price <= 14400\")) / len(df)))"
   ]
  },
  {
   "cell_type": "code",
   "execution_count": 33,
   "id": "96382a49",
   "metadata": {},
   "outputs": [
    {
     "name": "stdout",
     "output_type": "stream",
     "text": [
      "Доля аномальных значений в признаке RegistrationYear: 1.78%\n",
      "Доля аномальных значений в признаке RegistrationYear с 2017 по 2019 гг.: 4.07%\n"
     ]
    }
   ],
   "source": [
    "print(\"Доля аномальных значений в признаке RegistrationYear:\", \n",
    "      \"{:,.2%}\".format(1 - len(df.query(\"1986 <= RegistrationYear <= 2019\")) / len(df)))\n",
    "print(\"Доля аномальных значений в признаке RegistrationYear с 2017 по 2019 гг.:\", \n",
    "      \"{:,.2%}\".format(len(df.query(\"2017 <= RegistrationYear <= 2019\")) / len(df)))"
   ]
  },
  {
   "cell_type": "code",
   "execution_count": 34,
   "id": "187a886f",
   "metadata": {},
   "outputs": [
    {
     "name": "stdout",
     "output_type": "stream",
     "text": [
      "Доля аномальных значений в признаке Power: 2.07%\n",
      "Доля аномальных значений в признаке Power, включая значение 0: 13.42%\n"
     ]
    }
   ],
   "source": [
    "print(\"Доля аномальных значений в признаке Power:\", \n",
    "      \"{:,.2%}\".format(1 - len(df.query(\"0 <= Power <= 254\")) / len(df)))\n",
    "\n",
    "print(\"Доля аномальных значений в признаке Power, включая значение 0:\", \n",
    "      \"{:,.2%}\".format(1 - len(df.query(\"1 <= Power <= 254\")) / len(df)))"
   ]
  },
  {
   "cell_type": "markdown",
   "id": "cd19ea47",
   "metadata": {},
   "source": [
    "Таким образом, в признаке Price доля аномальных значений составляет чуть больше 5%, а нулевые значения составляют примерно 3% от общего объема данных. А в признаках RegistrationYear и Power наблюдаются примерно по 2% аномальных значений. Однако доля нулевых значений в Power более 11%. Тем не менее, и в Price, и в Power не должны быть нулевые значения, а если мы удалим, то протеряем существенную долю исходных данных. Сгруппируем данные по `Brand`, `Model` и `RegistrationYear` и заменим нулевые значения `Price` и `Power` медианами."
   ]
  },
  {
   "cell_type": "code",
   "execution_count": 35,
   "id": "7bac843c",
   "metadata": {},
   "outputs": [],
   "source": [
    "df[\"Price\"] = df.groupby([\"Brand\", \"Model\", \"RegistrationYear\"])[\"Price\"].apply(lambda x: x.replace(0, x.median()))\n",
    "df[\"Power\"] = df.groupby([\"Brand\", \"Model\", \"RegistrationYear\"])[\"Power\"].apply(lambda x: x.replace(0, x.median()))"
   ]
  },
  {
   "cell_type": "code",
   "execution_count": 36,
   "id": "b44d8cce",
   "metadata": {},
   "outputs": [],
   "source": [
    "df[\"RegistrationYear\"] = df.groupby([\"Brand\", \n",
    "                                     \"Model\"])[\"RegistrationYear\"].apply(lambda x: x.replace(2017, x.median()))\n",
    "df[\"RegistrationYear\"] = df.groupby([\"Brand\", \n",
    "                                     \"Model\"])[\"RegistrationYear\"].apply(lambda x: x.replace(2018, x.median()))\n",
    "df[\"RegistrationYear\"] = df.groupby([\"Brand\", \n",
    "                                     \"Model\"])[\"RegistrationYear\"].apply(lambda x: x.replace(2019, x.median()))"
   ]
  },
  {
   "cell_type": "code",
   "execution_count": 37,
   "id": "2a089df6",
   "metadata": {},
   "outputs": [
    {
     "data": {
      "image/png": "[encoded data removed]",
      "text/plain": [
       "<Figure size 1296x432 with 3 Axes>"
      ]
     },
     "metadata": {},
     "output_type": "display_data"
    }
   ],
   "source": [
    "fig = plt.figure(figsize = (18, 6))\n",
    "ax1 = fig.add_subplot(131)\n",
    "ax2 = fig.add_subplot(132)\n",
    "ax3 = fig.add_subplot(133)\n",
    "sns.set_style(\"dark\")\n",
    "\n",
    "sns.boxplot(data = df.query(\"1 <= Price <= 14400\"), x = \"Price\", notch = True, flierprops = {\"marker\" : \"x\"},\n",
    "            boxprops = {\"facecolor\" : (.4, .6, .8, .5)}, medianprops = {\"color\" : \"coral\"}, ax = ax1)\n",
    "ax1.set(xlabel = \"Цена автомобиля\")\n",
    "\n",
    "sns.boxplot(data = df.query(\"1986 <= RegistrationYear <= 2016\"), x = \"RegistrationYear\", notch = True, \n",
    "            flierprops = {\"marker\" : \"x\"}, boxprops = {\"facecolor\" : (.4, .6, .8, .5)}, \n",
    "            medianprops = {\"color\" : \"coral\"}, ax = ax2)\n",
    "ax2.set(xlabel = \"Год регистрации\")\n",
    "\n",
    "sns.boxplot(data = df.query(\"1 <= Power <= 254\"), x = \"Power\", notch = True, flierprops = {\"marker\" : \"x\"}, \n",
    "            boxprops = {\"facecolor\" : (.4, .6, .8, .5)}, medianprops = {\"color\" : \"coral\"}, ax = ax3)\n",
    "ax3.set(xlabel = \"Мощность\")\n",
    "\n",
    "plt.suptitle(\"Диаграммы размаха для празнаков Price, RegistrationYear и Power после удаления аномальных значений\")\n",
    "plt.show()"
   ]
  },
  {
   "cell_type": "code",
   "execution_count": 410,
   "id": "1ed98463",
   "metadata": {},
   "outputs": [],
   "source": [
    "df = df.query(\"(1 <= Price <= 14400) & (1986 <= RegistrationYear <= 2016) & \\\n",
    "              (1 <= Power <= 254)\").reset_index(drop = True)"
   ]
  },
  {
   "cell_type": "code",
   "execution_count": 411,
   "id": "ecd05dc9",
   "metadata": {},
   "outputs": [
    {
     "name": "stdout",
     "output_type": "stream",
     "text": [
      "Объем данных, который был исключен из датасета в качестве аномальных значений: 9.05%\n"
     ]
    }
   ],
   "source": [
    "print(\"Объем данных, который был исключен из датасета в качестве аномальных значений:\", \n",
    "      \"{:,.2%}\".format(1 - len(df) / 354365))"
   ]
  },
  {
   "cell_type": "markdown",
   "id": "e80330f1",
   "metadata": {},
   "source": [
    "Таким образом, из датасета были исключены чуть больше 9% данных в качестве аномальных значений."
   ]
  },
  {
   "cell_type": "markdown",
   "id": "641b4310",
   "metadata": {},
   "source": [
    "### Шаг 3. Подготовка выборки для обучения моделей"
   ]
  },
  {
   "cell_type": "markdown",
   "id": "d92142e0",
   "metadata": {},
   "source": [
    "В нашем датасете есть много категориальных признаков. Для обучения моделей необходимо их закодировать. Выбор метода кодирования зависит от того, важен ли в этом признаке порядок. В случае, если порядок не важен, то есть мы не можем сказать, что какой-то класс в данном категориальном признаке лучше, чем другой, то мы воспользуемся прямым кодированием (`one-hot encoding`), в противном случае нужно будет применять порядкое кодирование (`ordinal encoding`).\n",
    "\n",
    "Вместе с тем надо помнить, что под некоторые виды моделей подходит определенная кодировка. Так, для древовидных моделей будем применять порядковое кодирование."
   ]
  },
  {
   "cell_type": "markdown",
   "id": "dbcefc12",
   "metadata": {},
   "source": [
    "##### Исходные данные"
   ]
  },
  {
   "cell_type": "markdown",
   "id": "352f0778",
   "metadata": {},
   "source": [
    "Также стоит стандартизировать признаки `RegistrationYear`, `Power` и `Kilometer`, потому что у них разные масштабы, иначе модель может посчитать, что один из этих признаков важнее, чем другой.\n",
    "\n",
    "Для стандартизации указанных признаков разобьем данные на обучающую и тестовую выборки. Валидационную выборку выделять нет необходимости, потому что в процессе обучения будем применять кросс-валидацию. На обучающую выборку отведем 80% от общего набора данных, а остальные 20% - на тестирование модели. В кросс-валидации число блоков традиционно будет равняться 5, то есть на каждой итерации из 80% от общего набора данных 16% будут выделены для валидации."
   ]
  },
  {
   "cell_type": "code",
   "execution_count": 412,
   "id": "ab87a9da",
   "metadata": {},
   "outputs": [
    {
     "name": "stdout",
     "output_type": "stream",
     "text": [
      "Размерность набора данных с признаками: (322282, 9)\n",
      "Размерность набора данных с таргетом: (322282,)\n"
     ]
    }
   ],
   "source": [
    "features = df.drop(\"Price\", axis = 1)\n",
    "target = df[\"Price\"]\n",
    "\n",
    "print(\"Размерность набора данных с признаками:\", features.shape)\n",
    "print(\"Размерность набора данных с таргетом:\", target.shape)"
   ]
  },
  {
   "cell_type": "code",
   "execution_count": 413,
   "id": "f60e558b",
   "metadata": {},
   "outputs": [
    {
     "name": "stdout",
     "output_type": "stream",
     "text": [
      "Размер обучающей выборки для признаков: (257825, 9)\n",
      "Размер обучающей выборки для таргета: (257825,)\n",
      "Размер тестовой выборки для признаков: (64457, 9)\n",
      "Размер тестовой выборки для таргета: (64457,)\n"
     ]
    }
   ],
   "source": [
    "# разделим данные на обучающую и тестовую выборки\n",
    "features_train, features_test, target_train, target_test = train_test_split(features, \n",
    "                target, test_size = 0.2, random_state = 1234)\n",
    "\n",
    "# здесь же стандартизируем необходимые признаки\n",
    "numeric = [\"RegistrationYear\", \"Power\", \"Kilometer\"]\n",
    "\n",
    "scaler = StandardScaler()\n",
    "scaler.fit(features_train.loc[:, numeric])\n",
    "features_train[numeric] = scaler.transform(features_train.loc[:, numeric])\n",
    "features_test[numeric] = scaler.transform(features_test.loc[:, numeric])\n",
    "\n",
    "print(\"Размер обучающей выборки для признаков:\", features_train.shape)\n",
    "print(\"Размер обучающей выборки для таргета:\", target_train.shape)\n",
    "print(\"Размер тестовой выборки для признаков:\", features_test.shape)\n",
    "print(\"Размер тестовой выборки для таргета:\", target_test.shape)"
   ]
  },
  {
   "cell_type": "markdown",
   "id": "d9f69e16",
   "metadata": {},
   "source": [
    "##### Прямое кодирование"
   ]
  },
  {
   "cell_type": "code",
   "execution_count": 414,
   "id": "6926e8fc",
   "metadata": {},
   "outputs": [
    {
     "name": "stdout",
     "output_type": "stream",
     "text": [
      "Размер обучающей выборки для признаков в результате прямого кодирования: (257825, 301)\n"
     ]
    }
   ],
   "source": [
    "# применим прямое кодирование на обучающем наборе признаков\n",
    "features_train_ohe = pd.get_dummies(features_train, drop_first = True)\n",
    "print(\"Размер обучающей выборки для признаков в результате прямого кодирования:\", features_train_ohe.shape)"
   ]
  },
  {
   "cell_type": "code",
   "execution_count": 415,
   "id": "9581f458",
   "metadata": {},
   "outputs": [
    {
     "name": "stdout",
     "output_type": "stream",
     "text": [
      "Размер тестовой выборки для признаков в результате прямого кодирования: (64457, 301)\n"
     ]
    }
   ],
   "source": [
    "# применим прямое кодирование на тестовом наборе признаков\n",
    "features_test_ohe = pd.get_dummies(features_test, drop_first = True)\n",
    "print(\"Размер тестовой выборки для признаков в результате прямого кодирования:\", features_test_ohe.shape)"
   ]
  },
  {
   "cell_type": "markdown",
   "id": "345e0964",
   "metadata": {},
   "source": [
    "##### Порядковое кодирование"
   ]
  },
  {
   "cell_type": "code",
   "execution_count": 416,
   "id": "da56565b",
   "metadata": {},
   "outputs": [
    {
     "name": "stdout",
     "output_type": "stream",
     "text": [
      "Размер обучающей выборки для признаков в результате порядкового кодирования: (257825, 9)\n"
     ]
    }
   ],
   "source": [
    "train_encoder = OrdinalEncoder()\n",
    "features_train_ordinal = pd.DataFrame(train_encoder.fit_transform(features_train), columns = features_train.columns)\n",
    "print(\"Размер обучающей выборки для признаков в результате порядкового кодирования:\", features_train_ordinal.shape)"
   ]
  },
  {
   "cell_type": "code",
   "execution_count": 417,
   "id": "000f9391",
   "metadata": {},
   "outputs": [
    {
     "name": "stdout",
     "output_type": "stream",
     "text": [
      "Размер тестовой выборки для признаков в результате порядкового кодирования: (64457, 9)\n"
     ]
    }
   ],
   "source": [
    "test_encoder = OrdinalEncoder()\n",
    "features_test_ordinal = pd.DataFrame(test_encoder.fit_transform(features_test), columns = features_test.columns)\n",
    "print(\"Размер тестовой выборки для признаков в результате порядкового кодирования:\", features_test_ordinal.shape)"
   ]
  },
  {
   "cell_type": "markdown",
   "id": "05d0e6fa",
   "metadata": {},
   "source": [
    "### Шаг 4. Обучение моделей, анализ времени обучения и предсказания и качества моделей"
   ]
  },
  {
   "cell_type": "markdown",
   "id": "616be333",
   "metadata": {},
   "source": [
    "##### Linear regression"
   ]
  },
  {
   "cell_type": "code",
   "execution_count": 418,
   "id": "a9aa5630",
   "metadata": {},
   "outputs": [
    {
     "name": "stdout",
     "output_type": "stream",
     "text": [
      "CPU times: user 1min 5s, sys: 5.12 s, total: 1min 10s\n",
      "Wall time: 27 s\n"
     ]
    },
    {
     "data": {
      "text/plain": [
       "GridSearchCV(cv=5, estimator=LinearRegression(),\n",
       "             param_grid={'fit_intercept': [True, False]},\n",
       "             scoring='neg_mean_squared_error')"
      ]
     },
     "execution_count": 418,
     "metadata": {},
     "output_type": "execute_result"
    }
   ],
   "source": [
    "%%time\n",
    "\n",
    "simple_linear_regression = GridSearchCV(\n",
    "    LinearRegression(),\n",
    "    param_grid = {\"fit_intercept\" : [True, False]},\n",
    "    cv = 5,\n",
    "    scoring = \"neg_mean_squared_error\"\n",
    ")\n",
    "simple_linear_regression.fit(features_train_ohe, target_train)"
   ]
  },
  {
   "cell_type": "code",
   "execution_count": 419,
   "id": "88f9a40d",
   "metadata": {},
   "outputs": [
    {
     "data": {
      "text/plain": [
       "{'fit_intercept': True}"
      ]
     },
     "execution_count": 419,
     "metadata": {},
     "output_type": "execute_result"
    }
   ],
   "source": [
    "simple_linear_regression.best_params_"
   ]
  },
  {
   "cell_type": "code",
   "execution_count": 420,
   "id": "07a3d54a",
   "metadata": {},
   "outputs": [
    {
     "data": {
      "text/plain": [
       "array([2.60353003, 2.20656819])"
      ]
     },
     "execution_count": 420,
     "metadata": {},
     "output_type": "execute_result"
    }
   ],
   "source": [
    "# среднее время обучения каждой модели в секундах\n",
    "simple_linear_regression.cv_results_[\"mean_fit_time\"]"
   ]
  },
  {
   "cell_type": "code",
   "execution_count": 421,
   "id": "5207375f",
   "metadata": {},
   "outputs": [
    {
     "data": {
      "text/plain": [
       "array([0.04520321, 0.0341073 ])"
      ]
     },
     "execution_count": 421,
     "metadata": {},
     "output_type": "execute_result"
    }
   ],
   "source": [
    "simple_linear_regression.cv_results_[\"mean_score_time\"]"
   ]
  },
  {
   "cell_type": "code",
   "execution_count": 422,
   "id": "f032aad5",
   "metadata": {},
   "outputs": [
    {
     "name": "stdout",
     "output_type": "stream",
     "text": [
      "RMSE для простой линейной регрессии на обучающей выборке: 1960.71\n"
     ]
    }
   ],
   "source": [
    "print(\"RMSE для простой линейной регрессии на обучающей выборке:\", \n",
    "      (np.sqrt(-simple_linear_regression.best_score_)).round(2))"
   ]
  },
  {
   "cell_type": "markdown",
   "id": "a8fc5dbc",
   "metadata": {},
   "source": [
    "Как видим из результатов, была обучена модель простой регрессии с двумя гиперпараметрами. Лучшей моделью оказалась та, которая не содержит свободного члена. Они обучилась за 2.20656819 сек., а значение RMSE в результате кросс-валидации составило 1960.71."
   ]
  },
  {
   "cell_type": "markdown",
   "id": "91e6351e",
   "metadata": {},
   "source": [
    "##### Ridge regression"
   ]
  },
  {
   "cell_type": "code",
   "execution_count": 423,
   "id": "59b6b45d",
   "metadata": {},
   "outputs": [
    {
     "name": "stdout",
     "output_type": "stream",
     "text": [
      "CPU times: user 10min 37s, sys: 42.5 s, total: 11min 20s\n",
      "Wall time: 4min 5s\n"
     ]
    },
    {
     "data": {
      "text/plain": [
       "GridSearchCV(cv=5, estimator=Ridge(random_state=12345),\n",
       "             param_grid={'alpha': [0.1, 1, 10, 100],\n",
       "                         'solver': ['auto', 'svd', 'cholesky', 'lsqr',\n",
       "                                    'sparse_cg']},\n",
       "             scoring='neg_mean_squared_error')"
      ]
     },
     "execution_count": 423,
     "metadata": {},
     "output_type": "execute_result"
    }
   ],
   "source": [
    "%%time\n",
    "\n",
    "ridge_regression = GridSearchCV(\n",
    "    Ridge(random_state = 12345),\n",
    "    param_grid = {\"alpha\" : [0.1, 1, 10, 100], \"solver\" : [\"auto\", \"svd\", \"cholesky\", \"lsqr\", \"sparse_cg\"]},\n",
    "    cv = 5,\n",
    "    scoring = \"neg_mean_squared_error\"\n",
    ")\n",
    "ridge_regression.fit(features_train_ohe, target_train)"
   ]
  },
  {
   "cell_type": "code",
   "execution_count": 424,
   "id": "ae31bf5b",
   "metadata": {},
   "outputs": [
    {
     "data": {
      "text/plain": [
       "{'alpha': 1, 'solver': 'auto'}"
      ]
     },
     "execution_count": 424,
     "metadata": {},
     "output_type": "execute_result"
    }
   ],
   "source": [
    "ridge_regression.best_params_"
   ]
  },
  {
   "cell_type": "code",
   "execution_count": 425,
   "id": "a9a5c6dc",
   "metadata": {},
   "outputs": [
    {
     "data": {
      "text/plain": [
       "array([1.20695615, 3.41940818, 1.15314794, 2.5245975 , 3.51903396,\n",
       "       1.2752594 , 3.83074021, 1.21406231, 3.02693734, 3.7226037 ,\n",
       "       1.30402718, 3.53570127, 1.18750281, 2.64333663, 3.2743082 ,\n",
       "       1.16415415, 3.39567256, 1.18101373, 2.2830564 , 2.82360187])"
      ]
     },
     "execution_count": 425,
     "metadata": {},
     "output_type": "execute_result"
    }
   ],
   "source": [
    "ridge_regression.cv_results_[\"mean_fit_time\"]"
   ]
  },
  {
   "cell_type": "code",
   "execution_count": 426,
   "id": "29eefe36",
   "metadata": {},
   "outputs": [
    {
     "data": {
      "text/plain": [
       "array([0.04349136, 0.03742762, 0.03483167, 0.05552082, 0.05613079,\n",
       "       0.04359617, 0.04067025, 0.03643408, 0.05704489, 0.0603425 ,\n",
       "       0.03743291, 0.04016018, 0.03791575, 0.04735818, 0.13136945,\n",
       "       0.03594847, 0.03492975, 0.03545642, 0.03918624, 0.06116371])"
      ]
     },
     "execution_count": 426,
     "metadata": {},
     "output_type": "execute_result"
    }
   ],
   "source": [
    "ridge_regression.cv_results_[\"mean_score_time\"]"
   ]
  },
  {
   "cell_type": "code",
   "execution_count": 428,
   "id": "66459e43",
   "metadata": {},
   "outputs": [
    {
     "name": "stdout",
     "output_type": "stream",
     "text": [
      "RMSE для гребневой регрессии на обучающей выборке: 1960.55\n"
     ]
    }
   ],
   "source": [
    "print(\"RMSE для гребневой регрессии на обучающей выборке:\", \n",
    "      np.sqrt(-ridge_regression.best_score_).round(2))"
   ]
  },
  {
   "cell_type": "markdown",
   "id": "7d7ffef4",
   "metadata": {},
   "source": [
    "Как видим из результатов, была обучена гребневая регрессия с двадцетью гиперпараметрами. Лучшая модель обучилась за  1.2752594 сек., а значение RMSE в результате кросс-валидации составило 1960.55."
   ]
  },
  {
   "cell_type": "markdown",
   "id": "a750e9fe",
   "metadata": {},
   "source": [
    "##### LASSO regression"
   ]
  },
  {
   "cell_type": "code",
   "execution_count": 429,
   "id": "e962e2ba",
   "metadata": {},
   "outputs": [
    {
     "name": "stdout",
     "output_type": "stream",
     "text": [
      "CPU times: user 14min 39s, sys: 10.6 s, total: 14min 50s\n",
      "Wall time: 4min\n"
     ]
    },
    {
     "data": {
      "text/plain": [
       "GridSearchCV(cv=5, estimator=Lasso(random_state=12345),\n",
       "             param_grid={'alpha': [0.1, 1, 10, 100]},\n",
       "             scoring='neg_mean_squared_error')"
      ]
     },
     "execution_count": 429,
     "metadata": {},
     "output_type": "execute_result"
    }
   ],
   "source": [
    "%%time\n",
    "\n",
    "lasso_regression = GridSearchCV(\n",
    "    Lasso(random_state = 12345),\n",
    "    param_grid = {\"alpha\" : [0.1, 1, 10, 100]},\n",
    "    cv = 5,\n",
    "    scoring = \"neg_mean_squared_error\"\n",
    ")\n",
    "lasso_regression.fit(features_train_ohe, target_train)"
   ]
  },
  {
   "cell_type": "code",
   "execution_count": 430,
   "id": "fd4099b1",
   "metadata": {},
   "outputs": [
    {
     "data": {
      "text/plain": [
       "{'alpha': 0.1}"
      ]
     },
     "execution_count": 430,
     "metadata": {},
     "output_type": "execute_result"
    }
   ],
   "source": [
    "lasso_regression.best_params_"
   ]
  },
  {
   "cell_type": "code",
   "execution_count": 431,
   "id": "ffbcfaf5",
   "metadata": {},
   "outputs": [
    {
     "data": {
      "text/plain": [
       "array([32.41701298,  4.27643628,  1.92816925,  1.51169853])"
      ]
     },
     "execution_count": 431,
     "metadata": {},
     "output_type": "execute_result"
    }
   ],
   "source": [
    "lasso_regression.cv_results_[\"mean_fit_time\"]"
   ]
  },
  {
   "cell_type": "code",
   "execution_count": 432,
   "id": "c9655f12",
   "metadata": {},
   "outputs": [
    {
     "data": {
      "text/plain": [
       "array([0.04419656, 0.03608708, 0.03633995, 0.03656564])"
      ]
     },
     "execution_count": 432,
     "metadata": {},
     "output_type": "execute_result"
    }
   ],
   "source": [
    "lasso_regression.cv_results_[\"mean_score_time\"]"
   ]
  },
  {
   "cell_type": "code",
   "execution_count": 433,
   "id": "1440e081",
   "metadata": {},
   "outputs": [
    {
     "name": "stdout",
     "output_type": "stream",
     "text": [
      "RMSE для LASSO-регрессии на обучающей выборке: 1962.03\n"
     ]
    }
   ],
   "source": [
    "print(\"RMSE для LASSO-регрессии на обучающей выборке:\", \n",
    "      np.sqrt(-lasso_regression.best_score_).round(2))"
   ]
  },
  {
   "cell_type": "markdown",
   "id": "1028bccd",
   "metadata": {},
   "source": [
    "Как видим из результатов, была обучена LASSO-регрессия с четыремя гиперпараметрами. Лучшая модель обучилась за  32.41701298 сек., а значение RMSE в результате кросс-валидации составило 1962.03."
   ]
  },
  {
   "cell_type": "markdown",
   "id": "13b6bf65",
   "metadata": {},
   "source": [
    "##### Decision Tree Regression"
   ]
  },
  {
   "cell_type": "code",
   "execution_count": 434,
   "id": "f679c084",
   "metadata": {},
   "outputs": [
    {
     "name": "stdout",
     "output_type": "stream",
     "text": [
      "CPU times: user 10.9 s, sys: 452 ms, total: 11.3 s\n",
      "Wall time: 11 s\n"
     ]
    },
    {
     "data": {
      "text/plain": [
       "GridSearchCV(cv=5, estimator=DecisionTreeRegressor(random_state=12345),\n",
       "             param_grid={'max_depth': array([ 1,  2,  3,  4,  5,  6,  7,  8,  9, 10])},\n",
       "             scoring='neg_mean_squared_error')"
      ]
     },
     "execution_count": 434,
     "metadata": {},
     "output_type": "execute_result"
    }
   ],
   "source": [
    "%%time\n",
    "\n",
    "decision_tree_regression = GridSearchCV(\n",
    "    DecisionTreeRegressor(random_state = 12345),\n",
    "    param_grid = {\"max_depth\" : np.arange(1, 11)},\n",
    "    cv = 5,\n",
    "    scoring = \"neg_mean_squared_error\"\n",
    ")\n",
    "decision_tree_regression.fit(features_train_ordinal, target_train)"
   ]
  },
  {
   "cell_type": "code",
   "execution_count": 435,
   "id": "f00e519e",
   "metadata": {},
   "outputs": [
    {
     "data": {
      "text/plain": [
       "{'max_depth': 10}"
      ]
     },
     "execution_count": 435,
     "metadata": {},
     "output_type": "execute_result"
    }
   ],
   "source": [
    "decision_tree_regression.best_params_"
   ]
  },
  {
   "cell_type": "code",
   "execution_count": 436,
   "id": "995c7e83",
   "metadata": {},
   "outputs": [
    {
     "data": {
      "text/plain": [
       "array([0.12631626, 0.08505278, 0.1178113 , 0.14975667, 0.19516616,\n",
       "       0.23090739, 0.25382094, 0.27359433, 0.29662099, 0.32493119])"
      ]
     },
     "execution_count": 436,
     "metadata": {},
     "output_type": "execute_result"
    }
   ],
   "source": [
    "decision_tree_regression.cv_results_[\"mean_fit_time\"]"
   ]
  },
  {
   "cell_type": "code",
   "execution_count": 437,
   "id": "c52b6675",
   "metadata": {},
   "outputs": [
    {
     "data": {
      "text/plain": [
       "array([0.00348616, 0.0028831 , 0.00323586, 0.00361714, 0.00395479,\n",
       "       0.00427399, 0.0045186 , 0.00484753, 0.00526285, 0.00575266])"
      ]
     },
     "execution_count": 437,
     "metadata": {},
     "output_type": "execute_result"
    }
   ],
   "source": [
    "decision_tree_regression.cv_results_[\"mean_score_time\"]"
   ]
  },
  {
   "cell_type": "code",
   "execution_count": 438,
   "id": "014535be",
   "metadata": {},
   "outputs": [
    {
     "name": "stdout",
     "output_type": "stream",
     "text": [
      "RMSE для решающего дерева на обучающей выборке: 1602.33\n"
     ]
    }
   ],
   "source": [
    "print(\"RMSE для решающего дерева на обучающей выборке:\", \n",
    "      np.sqrt(-decision_tree_regression.best_score_).round(2))"
   ]
  },
  {
   "cell_type": "markdown",
   "id": "919d3582",
   "metadata": {},
   "source": [
    "Как видим из результатов, было обучено решающее дерево с десятью гиперпараметрами. Лучшая модель обучилась за  0.32493119 сек., а значение RMSE в результате кросс-валидации составило 1602.33."
   ]
  },
  {
   "cell_type": "markdown",
   "id": "413ac3a7",
   "metadata": {},
   "source": [
    "##### LGBM Regression"
   ]
  },
  {
   "cell_type": "code",
   "execution_count": 439,
   "id": "5c1ece35",
   "metadata": {},
   "outputs": [
    {
     "name": "stdout",
     "output_type": "stream",
     "text": [
      "CPU times: user 46min 28s, sys: 1min 58s, total: 48min 26s\n",
      "Wall time: 10min 49s\n"
     ]
    },
    {
     "data": {
      "text/plain": [
       "GridSearchCV(cv=5, estimator=LGBMRegressor(random_state=12345),\n",
       "             param_grid={'max_depth': array([ 1,  2,  3,  4,  5,  6,  7,  8,  9, 10]),\n",
       "                         'n_estimators': array([100, 200, 300, 400, 500])},\n",
       "             scoring='neg_mean_squared_error')"
      ]
     },
     "execution_count": 439,
     "metadata": {},
     "output_type": "execute_result"
    }
   ],
   "source": [
    "%%time\n",
    "\n",
    "lgbm_regression = GridSearchCV(\n",
    "    LGBMRegressor(random_state = 12345),\n",
    "    param_grid = {\"max_depth\" : np.arange(1, 11), \"n_estimators\" : np.arange(100, 501, 100)},\n",
    "    cv = 5,\n",
    "    scoring = \"neg_mean_squared_error\"\n",
    ")\n",
    "lgbm_regression.fit(features_train_ohe, target_train)"
   ]
  },
  {
   "cell_type": "code",
   "execution_count": 440,
   "id": "107bd820",
   "metadata": {},
   "outputs": [
    {
     "data": {
      "text/plain": [
       "{'max_depth': 10, 'n_estimators': 500}"
      ]
     },
     "execution_count": 440,
     "metadata": {},
     "output_type": "execute_result"
    }
   ],
   "source": [
    "lgbm_regression.best_params_"
   ]
  },
  {
   "cell_type": "code",
   "execution_count": 441,
   "id": "f8b05367",
   "metadata": {},
   "outputs": [
    {
     "data": {
      "text/plain": [
       "array([ 1.46916976,  1.51098499,  1.57407217,  1.65766258,  1.74228797,\n",
       "        1.44950652,  1.54542904,  1.66917963,  1.76343279,  1.83845859,\n",
       "        1.49059577,  1.59224772,  1.70047541,  1.84475164,  1.96545296,\n",
       "        1.52491155,  1.63507237,  1.80198197,  1.96713133,  2.0971777 ,\n",
       "        1.68567805, 13.01318512,  2.50587769,  2.22000084,  2.29530444,\n",
       "        1.6531023 ,  1.83249865,  2.02597814,  2.22581525,  2.44368472,\n",
       "        1.65539408,  1.83354487,  2.05949202,  2.27813444,  2.54008784,\n",
       "        1.64659376,  4.49365077,  2.11123605,  2.38181038,  2.59457703,\n",
       "        1.73278971,  1.93001475,  2.21653304,  2.53539762,  2.75760751,\n",
       "        1.72734342,  1.91722956,  2.17335086,  2.37566404,  2.6220439 ])"
      ]
     },
     "execution_count": 441,
     "metadata": {},
     "output_type": "execute_result"
    }
   ],
   "source": [
    "lgbm_regression.cv_results_[\"mean_fit_time\"]"
   ]
  },
  {
   "cell_type": "code",
   "execution_count": 442,
   "id": "fbed4eff",
   "metadata": {},
   "outputs": [
    {
     "data": {
      "text/plain": [
       "array([0.19762797, 0.21358099, 0.23161273, 0.25058537, 0.26872864,\n",
       "       0.20547652, 0.23652368, 0.26228795, 0.28733978, 0.31388187,\n",
       "       0.21639767, 0.25133829, 0.28715367, 0.31851759, 0.35756316,\n",
       "       0.22369785, 0.27020655, 0.322051  , 0.37754364, 0.42047057,\n",
       "       0.24235253, 0.29618168, 0.38929954, 0.42952638, 0.47240438,\n",
       "       0.25508671, 0.31995602, 0.38345923, 0.44310727, 0.52077723,\n",
       "       0.25842972, 0.32794356, 0.40767479, 0.48457026, 0.56930461,\n",
       "       0.26811466, 0.38220696, 0.41300721, 0.4893662 , 0.55546799,\n",
       "       0.27884035, 0.3569325 , 0.43018193, 0.50256057, 0.57396607,\n",
       "       0.27637763, 0.35952511, 0.43166475, 0.48795362, 0.55254059])"
      ]
     },
     "execution_count": 442,
     "metadata": {},
     "output_type": "execute_result"
    }
   ],
   "source": [
    "lgbm_regression.cv_results_[\"mean_score_time\"]"
   ]
  },
  {
   "cell_type": "code",
   "execution_count": 443,
   "id": "4ff6db85",
   "metadata": {},
   "outputs": [
    {
     "name": "stdout",
     "output_type": "stream",
     "text": [
      "RMSE для LGBM регрессии на обучающей выборке: 1319.5\n"
     ]
    }
   ],
   "source": [
    "print(\"RMSE для LGBM регрессии на обучающей выборке:\", \n",
    "      np.sqrt(-lgbm_regression.best_score_).round(2))"
   ]
  },
  {
   "cell_type": "markdown",
   "id": "b8362f32",
   "metadata": {},
   "source": [
    "Как видим из результатов, была обучена LGBM-регрессия с пятьюдесятью разными гиперпараметрами. Лучшая модель обучилась за  2.6220439 сек., а значение RMSE в результате кросс-валидации составило 1319.5."
   ]
  },
  {
   "cell_type": "markdown",
   "id": "b8e825e9",
   "metadata": {},
   "source": [
    "### Шаг 5. Выбор лучшей модели и проверка ее качества на тестовой выборке"
   ]
  },
  {
   "cell_type": "markdown",
   "id": "2db38046",
   "metadata": {},
   "source": [
    "##### Выбор лучшей модели"
   ]
  },
  {
   "cell_type": "markdown",
   "id": "06bc41e7",
   "metadata": {},
   "source": [
    "Соберем полученные результаты в единую таблицу и сделаем выводы по ней."
   ]
  },
  {
   "cell_type": "code",
   "execution_count": 450,
   "id": "55c93392",
   "metadata": {},
   "outputs": [
    {
     "data": {
      "text/html": [
       "<style type=\"text/css\">\n",
       "</style>\n",
       "<table id=\"T_ac59b\">\n",
       "  <thead>\n",
       "    <tr>\n",
       "      <th class=\"blank level0\" >&nbsp;</th>\n",
       "      <th id=\"T_ac59b_level0_col0\" class=\"col_heading level0 col0\" >Время обучения, сек</th>\n",
       "      <th id=\"T_ac59b_level0_col1\" class=\"col_heading level0 col1\" >Время предсказания, сек</th>\n",
       "      <th id=\"T_ac59b_level0_col2\" class=\"col_heading level0 col2\" >RMSE</th>\n",
       "    </tr>\n",
       "  </thead>\n",
       "  <tbody>\n",
       "    <tr>\n",
       "      <th id=\"T_ac59b_level0_row0\" class=\"row_heading level0 row0\" >LinearRegression</th>\n",
       "      <td id=\"T_ac59b_row0_col0\" class=\"data row0 col0\" >2.21</td>\n",
       "      <td id=\"T_ac59b_row0_col1\" class=\"data row0 col1\" >0.03</td>\n",
       "      <td id=\"T_ac59b_row0_col2\" class=\"data row0 col2\" >1,960.71</td>\n",
       "    </tr>\n",
       "    <tr>\n",
       "      <th id=\"T_ac59b_level0_row1\" class=\"row_heading level0 row1\" >Ridge</th>\n",
       "      <td id=\"T_ac59b_row1_col0\" class=\"data row1 col0\" >1.28</td>\n",
       "      <td id=\"T_ac59b_row1_col1\" class=\"data row1 col1\" >0.04</td>\n",
       "      <td id=\"T_ac59b_row1_col2\" class=\"data row1 col2\" >1,960.55</td>\n",
       "    </tr>\n",
       "    <tr>\n",
       "      <th id=\"T_ac59b_level0_row2\" class=\"row_heading level0 row2\" >Lasso</th>\n",
       "      <td id=\"T_ac59b_row2_col0\" class=\"data row2 col0\" >32.42</td>\n",
       "      <td id=\"T_ac59b_row2_col1\" class=\"data row2 col1\" >0.04</td>\n",
       "      <td id=\"T_ac59b_row2_col2\" class=\"data row2 col2\" >1,962.03</td>\n",
       "    </tr>\n",
       "    <tr>\n",
       "      <th id=\"T_ac59b_level0_row3\" class=\"row_heading level0 row3\" >DecisionTreeRegressor</th>\n",
       "      <td id=\"T_ac59b_row3_col0\" class=\"data row3 col0\" >0.32</td>\n",
       "      <td id=\"T_ac59b_row3_col1\" class=\"data row3 col1\" >0.01</td>\n",
       "      <td id=\"T_ac59b_row3_col2\" class=\"data row3 col2\" >1,602.33</td>\n",
       "    </tr>\n",
       "    <tr>\n",
       "      <th id=\"T_ac59b_level0_row4\" class=\"row_heading level0 row4\" >LGBMRegressor</th>\n",
       "      <td id=\"T_ac59b_row4_col0\" class=\"data row4 col0\" >2.62</td>\n",
       "      <td id=\"T_ac59b_row4_col1\" class=\"data row4 col1\" >0.55</td>\n",
       "      <td id=\"T_ac59b_row4_col2\" class=\"data row4 col2\" >1,319.50</td>\n",
       "    </tr>\n",
       "  </tbody>\n",
       "</table>\n"
      ],
      "text/plain": [
       "<pandas.io.formats.style.Styler at 0x7f95f5319370>"
      ]
     },
     "execution_count": 450,
     "metadata": {},
     "output_type": "execute_result"
    }
   ],
   "source": [
    "index = ['LinearRegression',\n",
    "         'Ridge',\n",
    "         'Lasso',\n",
    "         'DecisionTreeRegressor',\n",
    "         'LGBMRegressor']\n",
    "\n",
    "data = {\n",
    "    \"Время обучения, сек\" : [2.20656819, 1.2752594, 32.41701298, 0.32493119, 2.6220439],\n",
    "    \"Время предсказания, сек\" : [0.0341073, 0.04359617, 0.04419656, 0.00575266, 0.55254059],\n",
    "    \"RMSE\" : [1960.71, 1960.55, 1962.03, 1602.33, 1319.5]\n",
    "}\n",
    "\n",
    "\n",
    "final_results = pd.DataFrame(data = data, index = index)\n",
    "final_results.style.format(\"{:,.2f}\")"
   ]
  },
  {
   "cell_type": "markdown",
   "id": "88c0788f",
   "metadata": {},
   "source": [
    "Таким образом, мы видим, что среди моделей линейной регрессии лучшей является гребневая. Однако она уступает по показателю RMSE решающему дереву и LGMB-регрессии. Решающее дерево обучается и предсказывает быстрее остальных моделей и по показателю RMSE демонстрирует не худший результат. LGMB-регрессия лучше всех минимизирует показатель RMSE, однако обучается и предсказывает немного дольше.\n",
    "\n",
    "Несмотря на время обучения и предсказания, LGMBRegressor получается лучшей моделью, потому что у нее лучшее значение метрики RMSE."
   ]
  },
  {
   "cell_type": "markdown",
   "id": "d09ffb32",
   "metadata": {},
   "source": [
    "##### LGBM Regression"
   ]
  },
  {
   "cell_type": "code",
   "execution_count": 447,
   "id": "8fb609c1",
   "metadata": {},
   "outputs": [
    {
     "name": "stdout",
     "output_type": "stream",
     "text": [
      "CPU times: user 4.4 s, sys: 175 ms, total: 4.58 s\n",
      "Wall time: 730 ms\n"
     ]
    }
   ],
   "source": [
    "%%time\n",
    "\n",
    "lgbm_regression_prediction = lgbm_regression.predict(features_test_ohe)"
   ]
  },
  {
   "cell_type": "code",
   "execution_count": 448,
   "id": "90ac976f",
   "metadata": {},
   "outputs": [
    {
     "name": "stdout",
     "output_type": "stream",
     "text": [
      "RMSE для LGBM-регрессии на тестовой выборке 1358.15\n"
     ]
    }
   ],
   "source": [
    "print(\"RMSE для LGBM-регрессии на тестовой выборке\", \n",
    "      np.sqrt(mean_squared_error(target_test, lgbm_regression_prediction)).round(2))"
   ]
  },
  {
   "cell_type": "markdown",
   "id": "7ea2eebf",
   "metadata": {},
   "source": [
    "### Шаг 6. Выводы\n",
    "---\n",
    "В данной работе мы проделали:\n",
    "\n",
    "1. Предобработку данных: удалили дубликаты, заполнили пропущенные значения и исключили из набора данных признаки, которые не пригодны для обучения моделей;\n",
    "\n",
    "2. Подготовку отобранных признаков к обучению моделей: применили прямое кодирование и устранили разность масштабов;\n",
    "\n",
    "3. Обучение моделей: обучили 5 разных моделей (`LinearRegression`, `Ridge`, `Lasso`, `DecisionTreeRegressor`, `LGBMRegressor`) и засекли время обучения каждой;\n",
    "\n",
    "4. Оценку моделей: сделали прогнозы с помощью каждой модели и получили значение RMSE.\n",
    "\n",
    "Таким образом, можно выделить несколько особенностей в полученных результатах:\n",
    "\n",
    "1. Чем сложнее модель, и большее количество гиперпараметров она содержит, тем больше требуется времени для ее обучения. Это вполне очевидная закономерность, потому что перебирается большее количество сочетаний разных гиперпараметров;\n",
    "\n",
    "2. Однако, как правило, чем сложнее модель, тем лучше минимизируется функция потерь.\n",
    "\n",
    "При выборе лучшей модели в данной задаче мы должны найти компромисс между результатом минимизации функции потерь и временем обучения. Таким компромиссом нам видится решающее дерево, потому что оно показало результат намного превосходящее линейную регрессию, включая те, что с регуляризацией (большой необходимости в гребневой регрессии и Lasso-регрессии не было, потому что мультиколлинеарности между признаками нет, но мы их оценили, чтобы проверить, насколько улучшатся результаты линейной регрессии), и по времени обучение заняло приемлемое время. Однако все зависит от того, как расставить акценты между результатом и временем обучения. В целом, все модели предсказывают достаточно быстро, поэтому на этот показатель большого внимания не уделяем при выборе модели."
   ]
  }
 ],
 "metadata": {
  "kernelspec": {
   "display_name": "Python 3 (ipykernel)",
   "language": "python",
   "name": "python3"
  },
  "language_info": {
   "codemirror_mode": {
    "name": "ipython",
    "version": 3
   },
   "file_extension": ".py",
   "mimetype": "text/x-python",
   "name": "python",
   "nbconvert_exporter": "python",
   "pygments_lexer": "ipython3",
   "version": "3.9.12"
  }
 },
 "nbformat": 4,
 "nbformat_minor": 5
}
