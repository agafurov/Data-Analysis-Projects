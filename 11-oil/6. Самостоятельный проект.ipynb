{
 "cells": [
  {
   "cell_type": "markdown",
   "id": "92c654a6",
   "metadata": {},
   "source": [
    "# Проектная работа: Выбор локации для скважины"
   ]
  },
  {
   "cell_type": "markdown",
   "id": "ff00487c",
   "metadata": {},
   "source": [
    "## Описание проекта\n",
    "\n",
    "Добывающей компании «ГлавРосГосНефть» необходимо решить, где бурить новую скважину. Локация обычно выбирается на основе следующих шагов:\n",
    "- В избранном регионе собирают характеристики для скважин: качество нефти и объём её запасов;\n",
    "- Строят модель для предсказания объёма запасов в новых скважинах;\n",
    "- Выбирают скважины с самыми высокими оценками значений;\n",
    "- Определяют регион с максимальной суммарной прибылью отобранных скважин.\n",
    "\n",
    "Нам предоставлены пробы нефти в трёх регионах. Характеристики для каждой скважины в регионе уже известны. \n",
    "\n",
    "**Целью** проектной работы является выявление региона, который наилучшим образом подходит для бурения новой скважины.\n",
    "\n",
    "**Задачами** проектной работы являются:\n",
    "- построение модели для определения региона, где добыча принесёт наибольшую прибыль; \n",
    "- анализ возможной прибыли;\n",
    "- анализ рисков техникой Bootstrap.\n",
    "\n",
    "**Описание данных:**\n",
    "- Обучающие признаки:\n",
    "    - `id` - уникальный идентификатор скважины;\n",
    "    - `f0`, `f1`, `f2` - три признака точек (неважно, что они означают, но сами признаки значимы);\n",
    "- Целевой признак:\n",
    "    - `product` - объём запасов в скважине (тыс. баррелей).\n",
    "\n",
    "**Условия задачи:**\n",
    "- Для обучения модели подходит только линейная регрессия (остальные — недостаточно предсказуемые);\n",
    "- При разведке региона исследуют 500 точек, из которых с помощью машинного обучения выбирают 200 лучших для разработки;\n",
    "- Бюджет на разработку скважин в регионе — 10 млрд рублей;\n",
    "- При нынешних ценах один баррель сырья приносит 450 рублей дохода. Доход с каждой единицы продукта составляет 450 тыс. рублей, поскольку объём указан в тысячах баррелей;\n",
    "- После оценки рисков нужно оставить лишь те регионы, в которых вероятность убытков меньше 2.5%. Среди них выбирают регион с наибольшей средней прибылью.\n",
    "\n",
    "**План проектной работы:**\n",
    "1. Загрузка и подготовка данных;\n",
    "2. Обучение и проверка моделей для каждого региона;\n",
    "3. Подготовительная работа к расчёту прибыли;\n",
    "4. Написание функции для расчёта прибыли по выбранным скважинам и предсказаниям модели;\n",
    "5. Рассчет рисков и прибыли для каждого региона;\n",
    "6. Выводы."
   ]
  },
  {
   "cell_type": "markdown",
   "id": "93d62800",
   "metadata": {},
   "source": [
    "### Шаг 1.  Открытие таблиц и изучение общей информации о данных"
   ]
  },
  {
   "cell_type": "code",
   "execution_count": 1,
   "id": "2c56b2c8",
   "metadata": {},
   "outputs": [],
   "source": [
    "# импортируем все необходимые библиотеки\n",
    "import pandas as pd\n",
    "import numpy as np\n",
    "import matplotlib as mpl\n",
    "import matplotlib.pyplot as plt\n",
    "import seaborn as sns\n",
    "import scipy.stats as st\n",
    "from sklearn.model_selection import train_test_split\n",
    "from sklearn.linear_model import LinearRegression\n",
    "from sklearn.metrics import mean_squared_error, r2_score\n",
    "from sklearn.preprocessing import StandardScaler\n",
    "\n",
    "\n",
    "\n",
    "%matplotlib inline"
   ]
  },
  {
   "cell_type": "code",
   "execution_count": 2,
   "id": "719e2a82",
   "metadata": {},
   "outputs": [],
   "source": [
    "# считываем все данные\n",
    "df1 = pd.read_csv(\"geo_data_0.csv\")\n",
    "df2 = pd.read_csv(\"geo_data_1.csv\")\n",
    "df3 = pd.read_csv(\"geo_data_2.csv\")"
   ]
  },
  {
   "cell_type": "markdown",
   "id": "8cfadf0c",
   "metadata": {},
   "source": [
    "Так как нам необходимо изучить три региона, то одни и те же действия придется проделывать трижды. По этой причине напишем функцию, которую можно будет применить ко всем датасетам. Функция `primary_analysis` достаточно простая, с ее помощью можно будет вызвать инструменты первичного анализа и сделать выводы. "
   ]
  },
  {
   "cell_type": "code",
   "execution_count": 3,
   "id": "76cfc04c",
   "metadata": {},
   "outputs": [],
   "source": [
    "def primary_analysis(df):\n",
    "    print(\"Первые пять строчек датафрема:\")\n",
    "    display(df.head())\n",
    "    print()\n",
    "    print(\"Размерность датафрейма:\")\n",
    "    display(df.shape)\n",
    "    print()\n",
    "    print(\"Типы данных в столбцах датафрейма:\")\n",
    "    display(df.dtypes)\n",
    "    print()\n",
    "    print(\"Сводная информация о датафрейме:\")\n",
    "    display(df.info())\n",
    "    print()\n",
    "    print(\"Количество дубликатов в датафрейме:\")\n",
    "    display(df.duplicated().sum())\n",
    "    print()\n",
    "    print(\"Описательная статистика о датафрейме:\")\n",
    "    display(df.describe(percentiles = [0.05, 0.25, 0.5, 0.75, 0.95, 0.99]).T)\n",
    "    print()\n",
    "    print(\"Корреляция между столбцами датафрейма:\")\n",
    "    correlation = df.corr()\n",
    "    triangle = np.triu(correlation)\n",
    "    plt.figure(figsize = (8, 4))\n",
    "    sns.heatmap(correlation, xticklabels = correlation.columns, yticklabels = correlation.columns, \n",
    "                cmap = \"RdBu\", center = 0, annot = True, mask = triangle) \n",
    "    plt.title('Диаграмма корреляции', fontsize = 12)\n",
    "    plt.xticks(fontsize = 8)\n",
    "    plt.yticks(fontsize = 8)\n",
    "    plt.show()"
   ]
  },
  {
   "cell_type": "markdown",
   "id": "500bc969",
   "metadata": {},
   "source": [
    "##### 1.1. Первичный анализ датасета про первый регион"
   ]
  },
  {
   "cell_type": "code",
   "execution_count": 4,
   "id": "05ff330c",
   "metadata": {},
   "outputs": [
    {
     "name": "stdout",
     "output_type": "stream",
     "text": [
      "Первые пять строчек датафрема:\n"
     ]
    },
    {
     "data": {
      "text/html": [
       "<div>\n",
       "<style scoped>\n",
       "    .dataframe tbody tr th:only-of-type {\n",
       "        vertical-align: middle;\n",
       "    }\n",
       "\n",
       "    .dataframe tbody tr th {\n",
       "        vertical-align: top;\n",
       "    }\n",
       "\n",
       "    .dataframe thead th {\n",
       "        text-align: right;\n",
       "    }\n",
       "</style>\n",
       "<table border=\"1\" class=\"dataframe\">\n",
       "  <thead>\n",
       "    <tr style=\"text-align: right;\">\n",
       "      <th></th>\n",
       "      <th>id</th>\n",
       "      <th>f0</th>\n",
       "      <th>f1</th>\n",
       "      <th>f2</th>\n",
       "      <th>product</th>\n",
       "    </tr>\n",
       "  </thead>\n",
       "  <tbody>\n",
       "    <tr>\n",
       "      <th>0</th>\n",
       "      <td>txEyH</td>\n",
       "      <td>0.705745</td>\n",
       "      <td>-0.497823</td>\n",
       "      <td>1.221170</td>\n",
       "      <td>105.280062</td>\n",
       "    </tr>\n",
       "    <tr>\n",
       "      <th>1</th>\n",
       "      <td>2acmU</td>\n",
       "      <td>1.334711</td>\n",
       "      <td>-0.340164</td>\n",
       "      <td>4.365080</td>\n",
       "      <td>73.037750</td>\n",
       "    </tr>\n",
       "    <tr>\n",
       "      <th>2</th>\n",
       "      <td>409Wp</td>\n",
       "      <td>1.022732</td>\n",
       "      <td>0.151990</td>\n",
       "      <td>1.419926</td>\n",
       "      <td>85.265647</td>\n",
       "    </tr>\n",
       "    <tr>\n",
       "      <th>3</th>\n",
       "      <td>iJLyR</td>\n",
       "      <td>-0.032172</td>\n",
       "      <td>0.139033</td>\n",
       "      <td>2.978566</td>\n",
       "      <td>168.620776</td>\n",
       "    </tr>\n",
       "    <tr>\n",
       "      <th>4</th>\n",
       "      <td>Xdl7t</td>\n",
       "      <td>1.988431</td>\n",
       "      <td>0.155413</td>\n",
       "      <td>4.751769</td>\n",
       "      <td>154.036647</td>\n",
       "    </tr>\n",
       "  </tbody>\n",
       "</table>\n",
       "</div>"
      ],
      "text/plain": [
       "      id        f0        f1        f2     product\n",
       "0  txEyH  0.705745 -0.497823  1.221170  105.280062\n",
       "1  2acmU  1.334711 -0.340164  4.365080   73.037750\n",
       "2  409Wp  1.022732  0.151990  1.419926   85.265647\n",
       "3  iJLyR -0.032172  0.139033  2.978566  168.620776\n",
       "4  Xdl7t  1.988431  0.155413  4.751769  154.036647"
      ]
     },
     "metadata": {},
     "output_type": "display_data"
    },
    {
     "name": "stdout",
     "output_type": "stream",
     "text": [
      "\n",
      "Размерность датафрейма:\n"
     ]
    },
    {
     "data": {
      "text/plain": [
       "(100000, 5)"
      ]
     },
     "metadata": {},
     "output_type": "display_data"
    },
    {
     "name": "stdout",
     "output_type": "stream",
     "text": [
      "\n",
      "Типы данных в столбцах датафрейма:\n"
     ]
    },
    {
     "data": {
      "text/plain": [
       "id          object\n",
       "f0         float64\n",
       "f1         float64\n",
       "f2         float64\n",
       "product    float64\n",
       "dtype: object"
      ]
     },
     "metadata": {},
     "output_type": "display_data"
    },
    {
     "name": "stdout",
     "output_type": "stream",
     "text": [
      "\n",
      "Сводная информация о датафрейме:\n",
      "<class 'pandas.core.frame.DataFrame'>\n",
      "RangeIndex: 100000 entries, 0 to 99999\n",
      "Data columns (total 5 columns):\n",
      " #   Column   Non-Null Count   Dtype  \n",
      "---  ------   --------------   -----  \n",
      " 0   id       100000 non-null  object \n",
      " 1   f0       100000 non-null  float64\n",
      " 2   f1       100000 non-null  float64\n",
      " 3   f2       100000 non-null  float64\n",
      " 4   product  100000 non-null  float64\n",
      "dtypes: float64(4), object(1)\n",
      "memory usage: 3.8+ MB\n"
     ]
    },
    {
     "data": {
      "text/plain": [
       "None"
      ]
     },
     "metadata": {},
     "output_type": "display_data"
    },
    {
     "name": "stdout",
     "output_type": "stream",
     "text": [
      "\n",
      "Количество дубликатов в датафрейме:\n"
     ]
    },
    {
     "data": {
      "text/plain": [
       "0"
      ]
     },
     "metadata": {},
     "output_type": "display_data"
    },
    {
     "name": "stdout",
     "output_type": "stream",
     "text": [
      "\n",
      "Описательная статистика о датафрейме:\n"
     ]
    },
    {
     "data": {
      "text/html": [
       "<div>\n",
       "<style scoped>\n",
       "    .dataframe tbody tr th:only-of-type {\n",
       "        vertical-align: middle;\n",
       "    }\n",
       "\n",
       "    .dataframe tbody tr th {\n",
       "        vertical-align: top;\n",
       "    }\n",
       "\n",
       "    .dataframe thead th {\n",
       "        text-align: right;\n",
       "    }\n",
       "</style>\n",
       "<table border=\"1\" class=\"dataframe\">\n",
       "  <thead>\n",
       "    <tr style=\"text-align: right;\">\n",
       "      <th></th>\n",
       "      <th>count</th>\n",
       "      <th>mean</th>\n",
       "      <th>std</th>\n",
       "      <th>min</th>\n",
       "      <th>5%</th>\n",
       "      <th>25%</th>\n",
       "      <th>50%</th>\n",
       "      <th>75%</th>\n",
       "      <th>95%</th>\n",
       "      <th>99%</th>\n",
       "      <th>max</th>\n",
       "    </tr>\n",
       "  </thead>\n",
       "  <tbody>\n",
       "    <tr>\n",
       "      <th>f0</th>\n",
       "      <td>100000.0</td>\n",
       "      <td>0.500419</td>\n",
       "      <td>0.871832</td>\n",
       "      <td>-1.408605</td>\n",
       "      <td>-0.940431</td>\n",
       "      <td>-0.072580</td>\n",
       "      <td>0.502360</td>\n",
       "      <td>1.073581</td>\n",
       "      <td>1.939265</td>\n",
       "      <td>2.082334</td>\n",
       "      <td>2.362331</td>\n",
       "    </tr>\n",
       "    <tr>\n",
       "      <th>f1</th>\n",
       "      <td>100000.0</td>\n",
       "      <td>0.250143</td>\n",
       "      <td>0.504433</td>\n",
       "      <td>-0.848218</td>\n",
       "      <td>-0.514661</td>\n",
       "      <td>-0.200881</td>\n",
       "      <td>0.250252</td>\n",
       "      <td>0.700646</td>\n",
       "      <td>1.015524</td>\n",
       "      <td>1.121338</td>\n",
       "      <td>1.343769</td>\n",
       "    </tr>\n",
       "    <tr>\n",
       "      <th>f2</th>\n",
       "      <td>100000.0</td>\n",
       "      <td>2.502647</td>\n",
       "      <td>3.248248</td>\n",
       "      <td>-12.088328</td>\n",
       "      <td>-2.862016</td>\n",
       "      <td>0.287748</td>\n",
       "      <td>2.515969</td>\n",
       "      <td>4.715088</td>\n",
       "      <td>7.840264</td>\n",
       "      <td>9.969349</td>\n",
       "      <td>16.003790</td>\n",
       "    </tr>\n",
       "    <tr>\n",
       "      <th>product</th>\n",
       "      <td>100000.0</td>\n",
       "      <td>92.500000</td>\n",
       "      <td>44.288691</td>\n",
       "      <td>0.000000</td>\n",
       "      <td>24.019137</td>\n",
       "      <td>56.497507</td>\n",
       "      <td>91.849972</td>\n",
       "      <td>128.564089</td>\n",
       "      <td>161.206333</td>\n",
       "      <td>180.351516</td>\n",
       "      <td>185.364347</td>\n",
       "    </tr>\n",
       "  </tbody>\n",
       "</table>\n",
       "</div>"
      ],
      "text/plain": [
       "            count       mean        std        min         5%        25%  \\\n",
       "f0       100000.0   0.500419   0.871832  -1.408605  -0.940431  -0.072580   \n",
       "f1       100000.0   0.250143   0.504433  -0.848218  -0.514661  -0.200881   \n",
       "f2       100000.0   2.502647   3.248248 -12.088328  -2.862016   0.287748   \n",
       "product  100000.0  92.500000  44.288691   0.000000  24.019137  56.497507   \n",
       "\n",
       "               50%         75%         95%         99%         max  \n",
       "f0        0.502360    1.073581    1.939265    2.082334    2.362331  \n",
       "f1        0.250252    0.700646    1.015524    1.121338    1.343769  \n",
       "f2        2.515969    4.715088    7.840264    9.969349   16.003790  \n",
       "product  91.849972  128.564089  161.206333  180.351516  185.364347  "
      ]
     },
     "metadata": {},
     "output_type": "display_data"
    },
    {
     "name": "stdout",
     "output_type": "stream",
     "text": [
      "\n",
      "Корреляция между столбцами датафрейма:\n"
     ]
    },
    {
     "data": {
      "image/png": "[encoded data removed]",
      "text/plain": [
       "<Figure size 576x288 with 2 Axes>"
      ]
     },
     "metadata": {
      "needs_background": "light"
     },
     "output_type": "display_data"
    }
   ],
   "source": [
    "primary_analysis(df1)"
   ]
  },
  {
   "cell_type": "markdown",
   "id": "22fa7cd7",
   "metadata": {},
   "source": [
    "### Выводы\n",
    "---\n",
    "Датасет содержит 100 тыс. строк и 5 столбцов. Типы данных в каждом столбце корректные. Пропущенных значений в наборе данных нет. Дубликаты отсутствуют. Так как мы не знаем, что стоят за обучающими признаками, то мы не знаем, могут ли они принимать отрицательные значения. Столбец `product` показывает объём запасов в скважине (в тыс. баррелей), запасы могут иссякнуть, но отрицательного значения не могут принять. Минимальное значение в данном столбце - 0, значит, необходимости корректировать значения нет. Высокой корреляции между обучающими признаками нет, мультиколлинеарность в датасете отсутствует."
   ]
  },
  {
   "cell_type": "markdown",
   "id": "2a545b14",
   "metadata": {},
   "source": [
    "##### 1.2. Первичный анализ датасета про второй регион"
   ]
  },
  {
   "cell_type": "code",
   "execution_count": 5,
   "id": "18d29324",
   "metadata": {},
   "outputs": [
    {
     "name": "stdout",
     "output_type": "stream",
     "text": [
      "Первые пять строчек датафрема:\n"
     ]
    },
    {
     "data": {
      "text/html": [
       "<div>\n",
       "<style scoped>\n",
       "    .dataframe tbody tr th:only-of-type {\n",
       "        vertical-align: middle;\n",
       "    }\n",
       "\n",
       "    .dataframe tbody tr th {\n",
       "        vertical-align: top;\n",
       "    }\n",
       "\n",
       "    .dataframe thead th {\n",
       "        text-align: right;\n",
       "    }\n",
       "</style>\n",
       "<table border=\"1\" class=\"dataframe\">\n",
       "  <thead>\n",
       "    <tr style=\"text-align: right;\">\n",
       "      <th></th>\n",
       "      <th>id</th>\n",
       "      <th>f0</th>\n",
       "      <th>f1</th>\n",
       "      <th>f2</th>\n",
       "      <th>product</th>\n",
       "    </tr>\n",
       "  </thead>\n",
       "  <tbody>\n",
       "    <tr>\n",
       "      <th>0</th>\n",
       "      <td>kBEdx</td>\n",
       "      <td>-15.001348</td>\n",
       "      <td>-8.276000</td>\n",
       "      <td>-0.005876</td>\n",
       "      <td>3.179103</td>\n",
       "    </tr>\n",
       "    <tr>\n",
       "      <th>1</th>\n",
       "      <td>62mP7</td>\n",
       "      <td>14.272088</td>\n",
       "      <td>-3.475083</td>\n",
       "      <td>0.999183</td>\n",
       "      <td>26.953261</td>\n",
       "    </tr>\n",
       "    <tr>\n",
       "      <th>2</th>\n",
       "      <td>vyE1P</td>\n",
       "      <td>6.263187</td>\n",
       "      <td>-5.948386</td>\n",
       "      <td>5.001160</td>\n",
       "      <td>134.766305</td>\n",
       "    </tr>\n",
       "    <tr>\n",
       "      <th>3</th>\n",
       "      <td>KcrkZ</td>\n",
       "      <td>-13.081196</td>\n",
       "      <td>-11.506057</td>\n",
       "      <td>4.999415</td>\n",
       "      <td>137.945408</td>\n",
       "    </tr>\n",
       "    <tr>\n",
       "      <th>4</th>\n",
       "      <td>AHL4O</td>\n",
       "      <td>12.702195</td>\n",
       "      <td>-8.147433</td>\n",
       "      <td>5.004363</td>\n",
       "      <td>134.766305</td>\n",
       "    </tr>\n",
       "  </tbody>\n",
       "</table>\n",
       "</div>"
      ],
      "text/plain": [
       "      id         f0         f1        f2     product\n",
       "0  kBEdx -15.001348  -8.276000 -0.005876    3.179103\n",
       "1  62mP7  14.272088  -3.475083  0.999183   26.953261\n",
       "2  vyE1P   6.263187  -5.948386  5.001160  134.766305\n",
       "3  KcrkZ -13.081196 -11.506057  4.999415  137.945408\n",
       "4  AHL4O  12.702195  -8.147433  5.004363  134.766305"
      ]
     },
     "metadata": {},
     "output_type": "display_data"
    },
    {
     "name": "stdout",
     "output_type": "stream",
     "text": [
      "\n",
      "Размерность датафрейма:\n"
     ]
    },
    {
     "data": {
      "text/plain": [
       "(100000, 5)"
      ]
     },
     "metadata": {},
     "output_type": "display_data"
    },
    {
     "name": "stdout",
     "output_type": "stream",
     "text": [
      "\n",
      "Типы данных в столбцах датафрейма:\n"
     ]
    },
    {
     "data": {
      "text/plain": [
       "id          object\n",
       "f0         float64\n",
       "f1         float64\n",
       "f2         float64\n",
       "product    float64\n",
       "dtype: object"
      ]
     },
     "metadata": {},
     "output_type": "display_data"
    },
    {
     "name": "stdout",
     "output_type": "stream",
     "text": [
      "\n",
      "Сводная информация о датафрейме:\n",
      "<class 'pandas.core.frame.DataFrame'>\n",
      "RangeIndex: 100000 entries, 0 to 99999\n",
      "Data columns (total 5 columns):\n",
      " #   Column   Non-Null Count   Dtype  \n",
      "---  ------   --------------   -----  \n",
      " 0   id       100000 non-null  object \n",
      " 1   f0       100000 non-null  float64\n",
      " 2   f1       100000 non-null  float64\n",
      " 3   f2       100000 non-null  float64\n",
      " 4   product  100000 non-null  float64\n",
      "dtypes: float64(4), object(1)\n",
      "memory usage: 3.8+ MB\n"
     ]
    },
    {
     "data": {
      "text/plain": [
       "None"
      ]
     },
     "metadata": {},
     "output_type": "display_data"
    },
    {
     "name": "stdout",
     "output_type": "stream",
     "text": [
      "\n",
      "Количество дубликатов в датафрейме:\n"
     ]
    },
    {
     "data": {
      "text/plain": [
       "0"
      ]
     },
     "metadata": {},
     "output_type": "display_data"
    },
    {
     "name": "stdout",
     "output_type": "stream",
     "text": [
      "\n",
      "Описательная статистика о датафрейме:\n"
     ]
    },
    {
     "data": {
      "text/html": [
       "<div>\n",
       "<style scoped>\n",
       "    .dataframe tbody tr th:only-of-type {\n",
       "        vertical-align: middle;\n",
       "    }\n",
       "\n",
       "    .dataframe tbody tr th {\n",
       "        vertical-align: top;\n",
       "    }\n",
       "\n",
       "    .dataframe thead th {\n",
       "        text-align: right;\n",
       "    }\n",
       "</style>\n",
       "<table border=\"1\" class=\"dataframe\">\n",
       "  <thead>\n",
       "    <tr style=\"text-align: right;\">\n",
       "      <th></th>\n",
       "      <th>count</th>\n",
       "      <th>mean</th>\n",
       "      <th>std</th>\n",
       "      <th>min</th>\n",
       "      <th>5%</th>\n",
       "      <th>25%</th>\n",
       "      <th>50%</th>\n",
       "      <th>75%</th>\n",
       "      <th>95%</th>\n",
       "      <th>99%</th>\n",
       "      <th>max</th>\n",
       "    </tr>\n",
       "  </thead>\n",
       "  <tbody>\n",
       "    <tr>\n",
       "      <th>f0</th>\n",
       "      <td>100000.0</td>\n",
       "      <td>1.141296</td>\n",
       "      <td>8.965932</td>\n",
       "      <td>-31.609576</td>\n",
       "      <td>-12.706888</td>\n",
       "      <td>-6.298551</td>\n",
       "      <td>1.153055</td>\n",
       "      <td>8.621015</td>\n",
       "      <td>15.024181</td>\n",
       "      <td>18.863531</td>\n",
       "      <td>29.421755</td>\n",
       "    </tr>\n",
       "    <tr>\n",
       "      <th>f1</th>\n",
       "      <td>100000.0</td>\n",
       "      <td>-4.796579</td>\n",
       "      <td>5.119872</td>\n",
       "      <td>-26.358598</td>\n",
       "      <td>-13.190846</td>\n",
       "      <td>-8.267985</td>\n",
       "      <td>-4.813172</td>\n",
       "      <td>-1.332816</td>\n",
       "      <td>3.667425</td>\n",
       "      <td>7.139352</td>\n",
       "      <td>18.734063</td>\n",
       "    </tr>\n",
       "    <tr>\n",
       "      <th>f2</th>\n",
       "      <td>100000.0</td>\n",
       "      <td>2.494541</td>\n",
       "      <td>1.703572</td>\n",
       "      <td>-0.018144</td>\n",
       "      <td>-0.002644</td>\n",
       "      <td>1.000021</td>\n",
       "      <td>2.011479</td>\n",
       "      <td>3.999904</td>\n",
       "      <td>5.002640</td>\n",
       "      <td>5.007810</td>\n",
       "      <td>5.019721</td>\n",
       "    </tr>\n",
       "    <tr>\n",
       "      <th>product</th>\n",
       "      <td>100000.0</td>\n",
       "      <td>68.825000</td>\n",
       "      <td>45.944423</td>\n",
       "      <td>0.000000</td>\n",
       "      <td>0.000000</td>\n",
       "      <td>26.953261</td>\n",
       "      <td>57.085625</td>\n",
       "      <td>107.813044</td>\n",
       "      <td>137.945408</td>\n",
       "      <td>137.945408</td>\n",
       "      <td>137.945408</td>\n",
       "    </tr>\n",
       "  </tbody>\n",
       "</table>\n",
       "</div>"
      ],
      "text/plain": [
       "            count       mean        std        min         5%        25%  \\\n",
       "f0       100000.0   1.141296   8.965932 -31.609576 -12.706888  -6.298551   \n",
       "f1       100000.0  -4.796579   5.119872 -26.358598 -13.190846  -8.267985   \n",
       "f2       100000.0   2.494541   1.703572  -0.018144  -0.002644   1.000021   \n",
       "product  100000.0  68.825000  45.944423   0.000000   0.000000  26.953261   \n",
       "\n",
       "               50%         75%         95%         99%         max  \n",
       "f0        1.153055    8.621015   15.024181   18.863531   29.421755  \n",
       "f1       -4.813172   -1.332816    3.667425    7.139352   18.734063  \n",
       "f2        2.011479    3.999904    5.002640    5.007810    5.019721  \n",
       "product  57.085625  107.813044  137.945408  137.945408  137.945408  "
      ]
     },
     "metadata": {},
     "output_type": "display_data"
    },
    {
     "name": "stdout",
     "output_type": "stream",
     "text": [
      "\n",
      "Корреляция между столбцами датафрейма:\n"
     ]
    },
    {
     "data": {
      "image/png": "[encoded data removed]",
      "text/plain": [
       "<Figure size 576x288 with 2 Axes>"
      ]
     },
     "metadata": {
      "needs_background": "light"
     },
     "output_type": "display_data"
    }
   ],
   "source": [
    "primary_analysis(df2)"
   ]
  },
  {
   "cell_type": "markdown",
   "id": "46b6de72",
   "metadata": {},
   "source": [
    "### Выводы\n",
    "---\n",
    "Аналогично первому датасету, второй набор данных имеет такую же размерность, содержит корректный тип данных в столбцах и не имеет пропущенных значений и дубликатов. Признаки `f0` и `f1` принимают значения из более широкого диапозона, значения стандартных отклонений у этих признаков подтверждают эту мысль. Вызывает опасение то, что между целевым признаком `product` и признаком `f2` корреляция равняется 1."
   ]
  },
  {
   "cell_type": "markdown",
   "id": "7a92cff5",
   "metadata": {},
   "source": [
    "##### 1.3. Первичный анализ датасета про третий регион"
   ]
  },
  {
   "cell_type": "code",
   "execution_count": 6,
   "id": "77c03a44",
   "metadata": {},
   "outputs": [
    {
     "name": "stdout",
     "output_type": "stream",
     "text": [
      "Первые пять строчек датафрема:\n"
     ]
    },
    {
     "data": {
      "text/html": [
       "<div>\n",
       "<style scoped>\n",
       "    .dataframe tbody tr th:only-of-type {\n",
       "        vertical-align: middle;\n",
       "    }\n",
       "\n",
       "    .dataframe tbody tr th {\n",
       "        vertical-align: top;\n",
       "    }\n",
       "\n",
       "    .dataframe thead th {\n",
       "        text-align: right;\n",
       "    }\n",
       "</style>\n",
       "<table border=\"1\" class=\"dataframe\">\n",
       "  <thead>\n",
       "    <tr style=\"text-align: right;\">\n",
       "      <th></th>\n",
       "      <th>id</th>\n",
       "      <th>f0</th>\n",
       "      <th>f1</th>\n",
       "      <th>f2</th>\n",
       "      <th>product</th>\n",
       "    </tr>\n",
       "  </thead>\n",
       "  <tbody>\n",
       "    <tr>\n",
       "      <th>0</th>\n",
       "      <td>fwXo0</td>\n",
       "      <td>-1.146987</td>\n",
       "      <td>0.963328</td>\n",
       "      <td>-0.828965</td>\n",
       "      <td>27.758673</td>\n",
       "    </tr>\n",
       "    <tr>\n",
       "      <th>1</th>\n",
       "      <td>WJtFt</td>\n",
       "      <td>0.262778</td>\n",
       "      <td>0.269839</td>\n",
       "      <td>-2.530187</td>\n",
       "      <td>56.069697</td>\n",
       "    </tr>\n",
       "    <tr>\n",
       "      <th>2</th>\n",
       "      <td>ovLUW</td>\n",
       "      <td>0.194587</td>\n",
       "      <td>0.289035</td>\n",
       "      <td>-5.586433</td>\n",
       "      <td>62.871910</td>\n",
       "    </tr>\n",
       "    <tr>\n",
       "      <th>3</th>\n",
       "      <td>q6cA6</td>\n",
       "      <td>2.236060</td>\n",
       "      <td>-0.553760</td>\n",
       "      <td>0.930038</td>\n",
       "      <td>114.572842</td>\n",
       "    </tr>\n",
       "    <tr>\n",
       "      <th>4</th>\n",
       "      <td>WPMUX</td>\n",
       "      <td>-0.515993</td>\n",
       "      <td>1.716266</td>\n",
       "      <td>5.899011</td>\n",
       "      <td>149.600746</td>\n",
       "    </tr>\n",
       "  </tbody>\n",
       "</table>\n",
       "</div>"
      ],
      "text/plain": [
       "      id        f0        f1        f2     product\n",
       "0  fwXo0 -1.146987  0.963328 -0.828965   27.758673\n",
       "1  WJtFt  0.262778  0.269839 -2.530187   56.069697\n",
       "2  ovLUW  0.194587  0.289035 -5.586433   62.871910\n",
       "3  q6cA6  2.236060 -0.553760  0.930038  114.572842\n",
       "4  WPMUX -0.515993  1.716266  5.899011  149.600746"
      ]
     },
     "metadata": {},
     "output_type": "display_data"
    },
    {
     "name": "stdout",
     "output_type": "stream",
     "text": [
      "\n",
      "Размерность датафрейма:\n"
     ]
    },
    {
     "data": {
      "text/plain": [
       "(100000, 5)"
      ]
     },
     "metadata": {},
     "output_type": "display_data"
    },
    {
     "name": "stdout",
     "output_type": "stream",
     "text": [
      "\n",
      "Типы данных в столбцах датафрейма:\n"
     ]
    },
    {
     "data": {
      "text/plain": [
       "id          object\n",
       "f0         float64\n",
       "f1         float64\n",
       "f2         float64\n",
       "product    float64\n",
       "dtype: object"
      ]
     },
     "metadata": {},
     "output_type": "display_data"
    },
    {
     "name": "stdout",
     "output_type": "stream",
     "text": [
      "\n",
      "Сводная информация о датафрейме:\n",
      "<class 'pandas.core.frame.DataFrame'>\n",
      "RangeIndex: 100000 entries, 0 to 99999\n",
      "Data columns (total 5 columns):\n",
      " #   Column   Non-Null Count   Dtype  \n",
      "---  ------   --------------   -----  \n",
      " 0   id       100000 non-null  object \n",
      " 1   f0       100000 non-null  float64\n",
      " 2   f1       100000 non-null  float64\n",
      " 3   f2       100000 non-null  float64\n",
      " 4   product  100000 non-null  float64\n",
      "dtypes: float64(4), object(1)\n",
      "memory usage: 3.8+ MB\n"
     ]
    },
    {
     "data": {
      "text/plain": [
       "None"
      ]
     },
     "metadata": {},
     "output_type": "display_data"
    },
    {
     "name": "stdout",
     "output_type": "stream",
     "text": [
      "\n",
      "Количество дубликатов в датафрейме:\n"
     ]
    },
    {
     "data": {
      "text/plain": [
       "0"
      ]
     },
     "metadata": {},
     "output_type": "display_data"
    },
    {
     "name": "stdout",
     "output_type": "stream",
     "text": [
      "\n",
      "Описательная статистика о датафрейме:\n"
     ]
    },
    {
     "data": {
      "text/html": [
       "<div>\n",
       "<style scoped>\n",
       "    .dataframe tbody tr th:only-of-type {\n",
       "        vertical-align: middle;\n",
       "    }\n",
       "\n",
       "    .dataframe tbody tr th {\n",
       "        vertical-align: top;\n",
       "    }\n",
       "\n",
       "    .dataframe thead th {\n",
       "        text-align: right;\n",
       "    }\n",
       "</style>\n",
       "<table border=\"1\" class=\"dataframe\">\n",
       "  <thead>\n",
       "    <tr style=\"text-align: right;\">\n",
       "      <th></th>\n",
       "      <th>count</th>\n",
       "      <th>mean</th>\n",
       "      <th>std</th>\n",
       "      <th>min</th>\n",
       "      <th>5%</th>\n",
       "      <th>25%</th>\n",
       "      <th>50%</th>\n",
       "      <th>75%</th>\n",
       "      <th>95%</th>\n",
       "      <th>99%</th>\n",
       "      <th>max</th>\n",
       "    </tr>\n",
       "  </thead>\n",
       "  <tbody>\n",
       "    <tr>\n",
       "      <th>f0</th>\n",
       "      <td>100000.0</td>\n",
       "      <td>0.002023</td>\n",
       "      <td>1.732045</td>\n",
       "      <td>-8.760004</td>\n",
       "      <td>-2.847974</td>\n",
       "      <td>-1.162288</td>\n",
       "      <td>0.009424</td>\n",
       "      <td>1.158535</td>\n",
       "      <td>2.851247</td>\n",
       "      <td>4.057783</td>\n",
       "      <td>7.238262</td>\n",
       "    </tr>\n",
       "    <tr>\n",
       "      <th>f1</th>\n",
       "      <td>100000.0</td>\n",
       "      <td>-0.002081</td>\n",
       "      <td>1.730417</td>\n",
       "      <td>-7.084020</td>\n",
       "      <td>-2.836316</td>\n",
       "      <td>-1.174820</td>\n",
       "      <td>-0.009482</td>\n",
       "      <td>1.163678</td>\n",
       "      <td>2.845834</td>\n",
       "      <td>4.020189</td>\n",
       "      <td>7.844801</td>\n",
       "    </tr>\n",
       "    <tr>\n",
       "      <th>f2</th>\n",
       "      <td>100000.0</td>\n",
       "      <td>2.495128</td>\n",
       "      <td>3.473445</td>\n",
       "      <td>-11.970335</td>\n",
       "      <td>-3.193020</td>\n",
       "      <td>0.130359</td>\n",
       "      <td>2.484236</td>\n",
       "      <td>4.858794</td>\n",
       "      <td>8.227100</td>\n",
       "      <td>10.511973</td>\n",
       "      <td>16.739402</td>\n",
       "    </tr>\n",
       "    <tr>\n",
       "      <th>product</th>\n",
       "      <td>100000.0</td>\n",
       "      <td>95.000000</td>\n",
       "      <td>44.749921</td>\n",
       "      <td>0.000000</td>\n",
       "      <td>24.678170</td>\n",
       "      <td>59.450441</td>\n",
       "      <td>94.925613</td>\n",
       "      <td>130.595027</td>\n",
       "      <td>165.665158</td>\n",
       "      <td>184.995815</td>\n",
       "      <td>190.029838</td>\n",
       "    </tr>\n",
       "  </tbody>\n",
       "</table>\n",
       "</div>"
      ],
      "text/plain": [
       "            count       mean        std        min         5%        25%  \\\n",
       "f0       100000.0   0.002023   1.732045  -8.760004  -2.847974  -1.162288   \n",
       "f1       100000.0  -0.002081   1.730417  -7.084020  -2.836316  -1.174820   \n",
       "f2       100000.0   2.495128   3.473445 -11.970335  -3.193020   0.130359   \n",
       "product  100000.0  95.000000  44.749921   0.000000  24.678170  59.450441   \n",
       "\n",
       "               50%         75%         95%         99%         max  \n",
       "f0        0.009424    1.158535    2.851247    4.057783    7.238262  \n",
       "f1       -0.009482    1.163678    2.845834    4.020189    7.844801  \n",
       "f2        2.484236    4.858794    8.227100   10.511973   16.739402  \n",
       "product  94.925613  130.595027  165.665158  184.995815  190.029838  "
      ]
     },
     "metadata": {},
     "output_type": "display_data"
    },
    {
     "name": "stdout",
     "output_type": "stream",
     "text": [
      "\n",
      "Корреляция между столбцами датафрейма:\n"
     ]
    },
    {
     "data": {
      "image/png": "[encoded data removed]",
      "text/plain": [
       "<Figure size 576x288 with 2 Axes>"
      ]
     },
     "metadata": {
      "needs_background": "light"
     },
     "output_type": "display_data"
    }
   ],
   "source": [
    "primary_analysis(df3)"
   ]
  },
  {
   "cell_type": "markdown",
   "id": "1bd86d06",
   "metadata": {},
   "source": [
    "Третий датасет аналогичен предыдущим двум по размерности, типу данных в столбцах, пропускам и дубликатам. Разброс в фичах не вызывает опасений, корреляции - нормальные. "
   ]
  },
  {
   "cell_type": "markdown",
   "id": "e122d165",
   "metadata": {},
   "source": [
    "### Шаг 2. Обучение и проверка моделей для каждого региона"
   ]
  },
  {
   "cell_type": "markdown",
   "id": "44fddd98",
   "metadata": {},
   "source": [
    "##### 2.1. Написание необходимых функций"
   ]
  },
  {
   "cell_type": "markdown",
   "id": "11be67ec",
   "metadata": {},
   "source": [
    "Так как по условиям задачи необходимо применить только модель линейной регрессии, то спецификация модели будет выглядеть следующий образом:\n",
    "\n",
    "- $product_i = \\beta_1 + \\beta_2f0_i + \\beta_3f1_i + \\beta_4f2_i + \\epsilon_i$, где:\n",
    "    - $product_i$ - объясняемая переменная;\n",
    "    - $f0_i, f1_i, f2_i$ - набор регрессоров; \n",
    "    - $\\beta_1, \\beta_2, \\beta_3, \\beta_4$ - коэффициенты при регрессорах;\n",
    "    - $\\epsilon_i$ - случайная составляющая.\n",
    "\n",
    "В результате мы должны получить оцененную модель следующего вида:\n",
    "- $\\hat{product_i} = \\hat{\\beta_1} + \\hat{\\beta_2}f0_i + \\hat{\\beta_3}f1_i + \\hat{\\beta_4}f2_i$, \n",
    "    - $\\hat{product_i}$ - прогнозное значение объясняемой переменной;\n",
    "    - $f0_i, f1_i, f2_i$ - набор регрессоров;\n",
    "    - $\\hat{\\beta_1}, \\hat{\\beta_2}, \\hat{\\beta_3}, \\hat{\\beta_4}$ - оценки коэффициентов при регрессорах.\n",
    "    \n",
    "В библиотеке `scikit-learn` в модуле `linear_model` есть функция для оценки линейной модели методом наименьших квадратов `LinearRegression`. В данной функции есть два гиперпараметра:\n",
    "1. `fit_intercept` - отвечает за наличие свободного коэффициента в модели. В нашей модели это $\\beta_1$. По умолчанию значение данного гиперпараметра - `True`. Но мы попробуем задать значение `False`, чтобы посмотреть, как изменится качество модели.\n",
    "\n",
    "2. `normalize` - отвечает за нормализацию набора регрессоров. По умолчанию значение данного гиперпараметра - `False`. Чтобы изменить его, необходимо самостоятельно нормализовать регрессоры с помощью `StandardScaler()`.\n",
    "\n",
    "Таким образом, чтобы выполнить все действия, напишем несколько функций:\n",
    "- `data_split` - возвращает данные, разбитые на обучающую и валидационную выборки;\n",
    "- `model_evaluation_first` - возвращает оценку модели линейной регрессии с гиперпараметром `fit_intercept` `True`;\n",
    "- `model_evaluation_second` - возвращает оценку модели линейной регрессии с гиперпараметром `fit_intercept` `False`;\n",
    "- `data_scale` - возвращает нормализованные данные.\n",
    "\n",
    "Помимо прочего, мы также посчитаем значение `R2` для каждой модели, чтобы сразу же проверить ее на адекватность."
   ]
  },
  {
   "cell_type": "code",
   "execution_count": 7,
   "id": "f3c750ab",
   "metadata": {},
   "outputs": [],
   "source": [
    "# из датасета также исключаем стобец id, так как он не понадобится для оценки модели\n",
    "def data_split(df):\n",
    "    features = df.drop([\"id\", \"product\"], axis = 1)\n",
    "    target = df[\"product\"]\n",
    "    features_train, features_valid, target_train, target_valid = train_test_split(features, \n",
    "                target, test_size = 0.25, random_state = 12345) \n",
    "    return features_train, features_valid, target_train, target_valid"
   ]
  },
  {
   "cell_type": "code",
   "execution_count": 8,
   "id": "8fd742e5",
   "metadata": {},
   "outputs": [],
   "source": [
    "def model_evaluation_first(features_train, features_valid, target_train, target_valid):\n",
    "    model = LinearRegression()\n",
    "    model.fit(features_train, target_train)\n",
    "    predictions_valid = model.predict(features_valid)\n",
    "\n",
    "    result = np.sqrt(mean_squared_error(target_valid, predictions_valid))\n",
    "    r2 = r2_score(target_valid, predictions_valid)\n",
    "    average_reserves = pd.Series(predictions_valid).mean()\n",
    "\n",
    "    print(\"RMSE модели:\", \"{:,.2f}\".format(result))\n",
    "    print(\"Коэффициент детерминации:\", \"{:,.2%}\".format(r2))\n",
    "    print(\"Средний запас предсказанного сырья:\", \"{:,.2f}\".format(average_reserves), \"тыс. баррелей\")"
   ]
  },
  {
   "cell_type": "code",
   "execution_count": 9,
   "id": "c6424ff5",
   "metadata": {},
   "outputs": [],
   "source": [
    "def model_evaluation_second(features_train, features_valid, target_train, target_valid):\n",
    "    model = LinearRegression(fit_intercept = False)\n",
    "    model.fit(features_train, target_train)\n",
    "    predictions_valid = model.predict(features_valid)\n",
    "\n",
    "    result = np.sqrt(mean_squared_error(target_valid, predictions_valid))\n",
    "    r2 = r2_score(target_valid, predictions_valid)\n",
    "    average_reserves = pd.Series(predictions_valid).mean()\n",
    "\n",
    "    print(\"RMSE модели:\", \"{:,.2f}\".format(result))\n",
    "    print(\"Коэффициент детерминации:\", \"{:,.2%}\".format(r2))\n",
    "    print(\"Средний запас предсказанного сырья:\", \"{:,.2f}\".format(average_reserves), \"тыс. баррелей\") "
   ]
  },
  {
   "cell_type": "code",
   "execution_count": 10,
   "id": "d5731df1",
   "metadata": {},
   "outputs": [],
   "source": [
    "def data_scale(features_train, features_valid):\n",
    "    scaler = StandardScaler()\n",
    "    scaler.fit(features_train)\n",
    "    features_train_scaled = scaler.transform(features_train)\n",
    "    features_valid_scaled = scaler.transform(features_valid)\n",
    "    return features_train_scaled, features_valid_scaled"
   ]
  },
  {
   "cell_type": "markdown",
   "id": "9593fbfa",
   "metadata": {},
   "source": [
    "##### 2.2. Оценка модели для первого региона"
   ]
  },
  {
   "cell_type": "code",
   "execution_count": 11,
   "id": "b9db5363",
   "metadata": {},
   "outputs": [
    {
     "name": "stdout",
     "output_type": "stream",
     "text": [
      "(75000, 3)\n",
      "(75000,)\n",
      "(25000, 3)\n",
      "(25000,)\n"
     ]
    }
   ],
   "source": [
    "df1_features_train, df1_features_valid, df1_target_train, df1_target_valid = data_split(df1)\n",
    "print(df1_features_train.shape)\n",
    "print(df1_target_train.shape)\n",
    "print(df1_features_valid.shape)\n",
    "print(df1_target_valid.shape)"
   ]
  },
  {
   "cell_type": "code",
   "execution_count": 12,
   "id": "8b5f445d",
   "metadata": {},
   "outputs": [
    {
     "name": "stdout",
     "output_type": "stream",
     "text": [
      "RMSE модели: 37.58\n",
      "Коэффициент детерминации: 27.99%\n",
      "Средний запас предсказанного сырья: 92.59 тыс. баррелей\n"
     ]
    }
   ],
   "source": [
    "model_evaluation_first(df1_features_train, df1_features_valid, df1_target_train, df1_target_valid)"
   ]
  },
  {
   "cell_type": "code",
   "execution_count": 13,
   "id": "3ea82b0a",
   "metadata": {},
   "outputs": [
    {
     "name": "stdout",
     "output_type": "stream",
     "text": [
      "RMSE модели: 60.44\n",
      "Коэффициент детерминации: -86.26%\n",
      "Средний запас предсказанного сырья: 63.16 тыс. баррелей\n"
     ]
    }
   ],
   "source": [
    "model_evaluation_second(df1_features_train, df1_features_valid, df1_target_train, df1_target_valid)"
   ]
  },
  {
   "cell_type": "code",
   "execution_count": 14,
   "id": "fd0ca3b2",
   "metadata": {},
   "outputs": [],
   "source": [
    "df1_features_train_scaled, df1_features_valid_scaled = data_scale(df1_features_train, df1_features_valid)"
   ]
  },
  {
   "cell_type": "code",
   "execution_count": 15,
   "id": "ab13f115",
   "metadata": {},
   "outputs": [
    {
     "name": "stdout",
     "output_type": "stream",
     "text": [
      "RMSE модели: 37.58\n",
      "Коэффициент детерминации: 27.99%\n",
      "Средний запас предсказанного сырья: 92.59 тыс. баррелей\n"
     ]
    }
   ],
   "source": [
    "model_evaluation_first(df1_features_train_scaled, df1_features_valid_scaled, df1_target_train, df1_target_valid)"
   ]
  },
  {
   "cell_type": "code",
   "execution_count": 16,
   "id": "d815516d",
   "metadata": {},
   "outputs": [
    {
     "name": "stdout",
     "output_type": "stream",
     "text": [
      "RMSE модели: 99.49\n",
      "Коэффициент детерминации: -404.74%\n",
      "Средний запас предсказанного сырья: -0.05 тыс. баррелей\n"
     ]
    }
   ],
   "source": [
    "model_evaluation_second(df1_features_train_scaled, df1_features_valid_scaled, df1_target_train, df1_target_valid)"
   ]
  },
  {
   "cell_type": "markdown",
   "id": "7bf8827e",
   "metadata": {},
   "source": [
    "### Выводы\n",
    "---\n",
    "В результате все расчетов самой адекватной моделью оказалась самая первая. Нормализация данных никак не повлияла на результаты оценки, а исключение свободного коэффициента привело к ее ухудшению. Наименьшее значение `RMSE` - 37.58, однако коэффициент детерминации всего лишь 0.28. Это означает, что модель предсказывает лучшее, чем простое среднее значение объясняемой переменной, однако она объясняет только 28% разброса в общем разбросе объясняемой переменной. Средний запас предсказанного сырья равняется 92.59 тыс. баррелей."
   ]
  },
  {
   "cell_type": "markdown",
   "id": "afb0ba60",
   "metadata": {},
   "source": [
    "##### 2.3. Оценка модели для второго региона"
   ]
  },
  {
   "cell_type": "code",
   "execution_count": 17,
   "id": "7535ecd3",
   "metadata": {},
   "outputs": [
    {
     "name": "stdout",
     "output_type": "stream",
     "text": [
      "(75000, 3)\n",
      "(75000,)\n",
      "(25000, 3)\n",
      "(25000,)\n"
     ]
    }
   ],
   "source": [
    "df2_features_train, df2_features_valid, df2_target_train, df2_target_valid = data_split(df2)\n",
    "print(df2_features_train.shape)\n",
    "print(df2_target_train.shape)\n",
    "print(df2_features_valid.shape)\n",
    "print(df2_target_valid.shape)"
   ]
  },
  {
   "cell_type": "code",
   "execution_count": 18,
   "id": "5f59adc6",
   "metadata": {},
   "outputs": [
    {
     "name": "stdout",
     "output_type": "stream",
     "text": [
      "RMSE модели: 0.89\n",
      "Коэффициент детерминации: 99.96%\n",
      "Средний запас предсказанного сырья: 68.73 тыс. баррелей\n"
     ]
    }
   ],
   "source": [
    "model_evaluation_first(df2_features_train, df2_features_valid, df2_target_train, df2_target_valid)"
   ]
  },
  {
   "cell_type": "code",
   "execution_count": 19,
   "id": "02a41f23",
   "metadata": {},
   "outputs": [
    {
     "name": "stdout",
     "output_type": "stream",
     "text": [
      "RMSE модели: 1.21\n",
      "Коэффициент детерминации: 99.93%\n",
      "Средний запас предсказанного сырья: 68.33 тыс. баррелей\n"
     ]
    }
   ],
   "source": [
    "model_evaluation_second(df2_features_train, df2_features_valid, df2_target_train, df2_target_valid)"
   ]
  },
  {
   "cell_type": "code",
   "execution_count": 20,
   "id": "1b601d13",
   "metadata": {},
   "outputs": [],
   "source": [
    "df2_features_train_scaled, df2_features_valid_scaled = data_scale(df2_features_train, df2_features_valid)"
   ]
  },
  {
   "cell_type": "code",
   "execution_count": 21,
   "id": "94919943",
   "metadata": {},
   "outputs": [
    {
     "name": "stdout",
     "output_type": "stream",
     "text": [
      "RMSE модели: 0.89\n",
      "Коэффициент детерминации: 99.96%\n",
      "Средний запас предсказанного сырья: 68.73 тыс. баррелей\n"
     ]
    }
   ],
   "source": [
    "model_evaluation_first(df2_features_train_scaled, df2_features_valid_scaled, df2_target_train, df2_target_valid)"
   ]
  },
  {
   "cell_type": "code",
   "execution_count": 22,
   "id": "7c1d1aff",
   "metadata": {},
   "outputs": [
    {
     "name": "stdout",
     "output_type": "stream",
     "text": [
      "RMSE модели: 68.86\n",
      "Коэффициент детерминации: -123.88%\n",
      "Средний запас предсказанного сырья: -0.13 тыс. баррелей\n"
     ]
    }
   ],
   "source": [
    "model_evaluation_second(df2_features_train_scaled, df2_features_valid_scaled, df2_target_train, df2_target_valid)"
   ]
  },
  {
   "cell_type": "markdown",
   "id": "5cd3792c",
   "metadata": {},
   "source": [
    "### Выводы\n",
    "---\n",
    "Аналогично первому региону во втором регионе лучшей моделью стала самая первая. Исключение свободного коэффициента и нормализация приводят к ухудшению качества модели. `RMSE` - 0.89, коэффициент детерминации равняется практически 100%. Это происходит потому, что корреляция между `f2` и `product` практически равна 1. Средний запас предсказанного сырья: 68.33 тыс. баррелей."
   ]
  },
  {
   "cell_type": "markdown",
   "id": "2826db48",
   "metadata": {},
   "source": [
    "##### 2.4. Оценка модели для третьего региона"
   ]
  },
  {
   "cell_type": "code",
   "execution_count": 23,
   "id": "6e97366d",
   "metadata": {},
   "outputs": [
    {
     "name": "stdout",
     "output_type": "stream",
     "text": [
      "(75000, 3)\n",
      "(75000,)\n",
      "(25000, 3)\n",
      "(25000,)\n"
     ]
    }
   ],
   "source": [
    "df3_features_train, df3_features_valid, df3_target_train, df3_target_valid = data_split(df3)\n",
    "print(df3_features_train.shape)\n",
    "print(df3_target_train.shape)\n",
    "print(df3_features_valid.shape)\n",
    "print(df3_target_valid.shape)"
   ]
  },
  {
   "cell_type": "code",
   "execution_count": 24,
   "id": "79852288",
   "metadata": {},
   "outputs": [
    {
     "name": "stdout",
     "output_type": "stream",
     "text": [
      "RMSE модели: 40.03\n",
      "Коэффициент детерминации: 20.52%\n",
      "Средний запас предсказанного сырья: 94.97 тыс. баррелей\n"
     ]
    }
   ],
   "source": [
    "model_evaluation_first(df3_features_train, df3_features_valid, df3_target_train, df3_target_valid)"
   ]
  },
  {
   "cell_type": "code",
   "execution_count": 25,
   "id": "666a6aa9",
   "metadata": {},
   "outputs": [
    {
     "name": "stdout",
     "output_type": "stream",
     "text": [
      "RMSE модели: 76.65\n",
      "Коэффициент детерминации: -191.38%\n",
      "Средний запас предсказанного сырья: 41.60 тыс. баррелей\n"
     ]
    }
   ],
   "source": [
    "model_evaluation_second(df3_features_train, df3_features_valid, df3_target_train, df3_target_valid)"
   ]
  },
  {
   "cell_type": "code",
   "execution_count": 26,
   "id": "9bfdafed",
   "metadata": {},
   "outputs": [],
   "source": [
    "df3_features_train_scaled, df3_features_valid_scaled = data_scale(df3_features_train, df3_features_valid)"
   ]
  },
  {
   "cell_type": "code",
   "execution_count": 27,
   "id": "53f1d15b",
   "metadata": {},
   "outputs": [
    {
     "name": "stdout",
     "output_type": "stream",
     "text": [
      "RMSE модели: 40.03\n",
      "Коэффициент детерминации: 20.52%\n",
      "Средний запас предсказанного сырья: 94.97 тыс. баррелей\n"
     ]
    }
   ],
   "source": [
    "model_evaluation_first(df3_features_train_scaled, df3_features_valid_scaled, df3_target_train, df3_target_valid)"
   ]
  },
  {
   "cell_type": "code",
   "execution_count": 28,
   "id": "7c49f1cf",
   "metadata": {},
   "outputs": [
    {
     "name": "stdout",
     "output_type": "stream",
     "text": [
      "RMSE модели: 103.05\n",
      "Коэффициент детерминации: -426.70%\n",
      "Средний запас предсказанного сырья: -0.07 тыс. баррелей\n"
     ]
    }
   ],
   "source": [
    "model_evaluation_second(df3_features_train_scaled, df3_features_valid_scaled, df3_target_train, df3_target_valid)"
   ]
  },
  {
   "cell_type": "markdown",
   "id": "e0d5b662",
   "metadata": {},
   "source": [
    "### Выводы\n",
    "---\n",
    "Результаты оценки моделей для третьего региона показали такой же тренд, как и у первых двух регионах. Лучшая модель показала `RMSE` в 40.03, но коэффициент детерминации очень низкий. Доля объясненного разброса в общем разбросе объясняемой переменной составляет всего лишь 21%. Это означает, что существует и другие объясняющие регрессоры, которые мы не включили в модель. Средний запас предсказанного сырья равняется 94.97 тыс. баррелей."
   ]
  },
  {
   "cell_type": "markdown",
   "id": "f2cb3467",
   "metadata": {},
   "source": [
    "##### 2.5. Итоговые модели для каждого региона"
   ]
  },
  {
   "cell_type": "markdown",
   "id": "93b02ab9",
   "metadata": {},
   "source": [
    "По итогам оценок выше мы пришли к выводу, что всех трех регионах лучшей моделью является та, которая содержит в себе свободный коэффициент, а нормализация регрессоров не приводит к изменению результатов, т.е. является лишним действием. Значит, к каждому датасету применим модель со свободным коэффициентом и сохраним прогнозные значения. Для этих целей напишем еще одну функцию `final_model`.  "
   ]
  },
  {
   "cell_type": "code",
   "execution_count": 29,
   "id": "a5f57084",
   "metadata": {},
   "outputs": [],
   "source": [
    "def final_model(features_train, features_valid, target_train, target_valid):\n",
    "    model = LinearRegression()\n",
    "    model.fit(features_train, target_train)\n",
    "    predictions_valid = model.predict(features_valid)\n",
    "    predictions_valid = pd.Series(predictions_valid, index = target_valid.index)\n",
    "\n",
    "    result = np.sqrt(mean_squared_error(target_valid, predictions_valid))\n",
    "    r2 = r2_score(target_valid, predictions_valid)\n",
    "    average_reserves = predictions_valid.mean()\n",
    "\n",
    "    print(\"RMSE модели:\", \"{:,.2f}\".format(result))\n",
    "    print(\"Коэффициент детерминации:\", \"{:,.2%}\".format(r2))\n",
    "    print(\"Средний запас предсказанного сырья:\", \"{:,.2f}\".format(average_reserves), \"тыс. баррелей\")\n",
    "    \n",
    "    return result, r2, average_reserves, predictions_valid"
   ]
  },
  {
   "cell_type": "code",
   "execution_count": 30,
   "id": "f6b808ac",
   "metadata": {},
   "outputs": [
    {
     "name": "stdout",
     "output_type": "stream",
     "text": [
      "RMSE модели: 37.58\n",
      "Коэффициент детерминации: 27.99%\n",
      "Средний запас предсказанного сырья: 92.59 тыс. баррелей\n"
     ]
    }
   ],
   "source": [
    "df1_result, df1_r2, df1_average_reserves, df1_predictions_valid = final_model(df1_features_train, \n",
    "                df1_features_valid, df1_target_train, df1_target_valid)"
   ]
  },
  {
   "cell_type": "code",
   "execution_count": 31,
   "id": "edf06e2e",
   "metadata": {},
   "outputs": [
    {
     "name": "stdout",
     "output_type": "stream",
     "text": [
      "RMSE модели: 0.89\n",
      "Коэффициент детерминации: 99.96%\n",
      "Средний запас предсказанного сырья: 68.73 тыс. баррелей\n"
     ]
    }
   ],
   "source": [
    "df2_result, df2_r2, df2_average_reserves, df2_predictions_valid = final_model(df2_features_train, \n",
    "                df2_features_valid, df2_target_train, df2_target_valid)"
   ]
  },
  {
   "cell_type": "code",
   "execution_count": 32,
   "id": "c0af9e55",
   "metadata": {},
   "outputs": [
    {
     "name": "stdout",
     "output_type": "stream",
     "text": [
      "RMSE модели: 40.03\n",
      "Коэффициент детерминации: 20.52%\n",
      "Средний запас предсказанного сырья: 94.97 тыс. баррелей\n"
     ]
    }
   ],
   "source": [
    "df3_result, df3_r2, df3_average_reserves, df3_predictions_valid = final_model(df3_features_train, \n",
    "                df3_features_valid, df3_target_train, df3_target_valid)"
   ]
  },
  {
   "cell_type": "markdown",
   "id": "0d02a17d",
   "metadata": {},
   "source": [
    "### Шаг 3. Подготовка к расчету прибыли"
   ]
  },
  {
   "cell_type": "markdown",
   "id": "b1c6e744",
   "metadata": {},
   "source": [
    "##### 3.1. Сохранение в отдельных переменных ключевых значений для расчетов"
   ]
  },
  {
   "cell_type": "code",
   "execution_count": 33,
   "id": "ac08af70",
   "metadata": {},
   "outputs": [],
   "source": [
    "#Мы расчитываем прибыль в тысячах рублей за тысячу барелей, поэтому 10 милиардов сохранен таким образом\n",
    "budget = 1e+07 \n",
    "chosen_points = 500\n",
    "best_points = 200\n",
    "price_per_barrel = 450"
   ]
  },
  {
   "cell_type": "markdown",
   "id": "415c970a",
   "metadata": {},
   "source": [
    "##### 3.2.  Рассчет достаточного объёма сырья для безубыточной разработки новой скважины"
   ]
  },
  {
   "cell_type": "code",
   "execution_count": 34,
   "id": "d2235c01",
   "metadata": {},
   "outputs": [
    {
     "name": "stdout",
     "output_type": "stream",
     "text": [
      "Средний доход с точки для безубыточной разработки новой скважины: 50,000.00 тыс. руб.\n"
     ]
    }
   ],
   "source": [
    "average_profit_per_point = budget / best_points\n",
    "print(\"Средний доход с точки для безубыточной разработки новой скважины:\", \n",
    "      \"{:,.2f}\".format(average_profit_per_point), \"тыс. руб.\")"
   ]
  },
  {
   "cell_type": "code",
   "execution_count": 35,
   "id": "ca74b1f5",
   "metadata": {},
   "outputs": [
    {
     "name": "stdout",
     "output_type": "stream",
     "text": [
      "Достаточный объём сырья в точке для безубыточной разработки новой скважины: 111.11 тыс. баррелей\n"
     ]
    }
   ],
   "source": [
    "average_barrel_per_point = average_profit_per_point / price_per_barrel\n",
    "print(\"Достаточный объём сырья в точке для безубыточной разработки новой скважины:\", \n",
    "      \"{:,.2f}\".format(average_barrel_per_point), \"тыс. баррелей\")"
   ]
  },
  {
   "cell_type": "code",
   "execution_count": 36,
   "id": "5c5c278a",
   "metadata": {},
   "outputs": [
    {
     "name": "stdout",
     "output_type": "stream",
     "text": [
      "Средний объём сырья, необходимый в регионе: 22,222.22 тыс. баррелей\n"
     ]
    }
   ],
   "source": [
    "average_barrel_per_region = budget / price_per_barrel\n",
    "print(\"Средний объём сырья, необходимый в регионе:\", \n",
    "      \"{:,.2f}\".format(average_barrel_per_region), \"тыс. баррелей\")"
   ]
  },
  {
   "cell_type": "code",
   "execution_count": 37,
   "id": "d42318b0",
   "metadata": {},
   "outputs": [
    {
     "name": "stdout",
     "output_type": "stream",
     "text": [
      "Средний запас фактической нефти на скважину в первом регионе 92.50 тыс. баррелей\n"
     ]
    }
   ],
   "source": [
    "print(\"Средний запас фактической нефти на скважину в первом регионе\", \n",
    "      \"{:,.2f}\".format(df1[\"product\"].mean()), \"тыс. баррелей\")"
   ]
  },
  {
   "cell_type": "code",
   "execution_count": 38,
   "id": "730ee8b7",
   "metadata": {},
   "outputs": [
    {
     "name": "stdout",
     "output_type": "stream",
     "text": [
      "Средний запас фактической нефти на скважину во втором регионе 68.83 тыс. баррелей\n"
     ]
    }
   ],
   "source": [
    "print(\"Средний запас фактической нефти на скважину во втором регионе\", \n",
    "      \"{:,.2f}\".format(df2[\"product\"].mean()), \"тыс. баррелей\")"
   ]
  },
  {
   "cell_type": "code",
   "execution_count": 39,
   "id": "63631673",
   "metadata": {},
   "outputs": [
    {
     "name": "stdout",
     "output_type": "stream",
     "text": [
      "Средний запас фактической нефти на скважину в третьем регионе 95.00 тыс. баррелей\n"
     ]
    }
   ],
   "source": [
    "print(\"Средний запас фактической нефти на скважину в третьем регионе\", \n",
    "      \"{:,.2f}\".format(df3[\"product\"].mean()), \"тыс. баррелей\")"
   ]
  },
  {
   "cell_type": "markdown",
   "id": "0529c749",
   "metadata": {},
   "source": [
    "### Итог\n",
    "---\n",
    "В данном шаге были заданы все необходимые переменные и сохранены их соответствующие значения согласно условиям задачи. Также были посчитаны:\n",
    "- средний доход с точки для безубыточной разработки новой скважины;\n",
    "- достаточный объём сырья в точке для безубыточной разработки новой скважины;\n",
    "- средний запас фактической нефти на скважину в каждом регионе."
   ]
  },
  {
   "cell_type": "markdown",
   "id": "ee3536b8",
   "metadata": {},
   "source": [
    "### Шаг 4. Написание функции для расчёта прибыли по выбранным скважинам и предсказаниям модели"
   ]
  },
  {
   "cell_type": "markdown",
   "id": "e06a37aa",
   "metadata": {},
   "source": [
    "Напишем функцию `profit_calculation`, которая на вход принимает реальные объёмы запасов в скважине в валидационной выборке, прогнозны по объёмам запасов в скважине и количество таких скважен. Функция сортирует прогнозные значения по убыванию, сохраняет их индексы и из реальных объемов выбирает соответствующие ранее сохраненным индексам значения. По итогу она возвращает посчитанную выручку для региона."
   ]
  },
  {
   "cell_type": "code",
   "execution_count": 40,
   "id": "c3945a21",
   "metadata": {},
   "outputs": [],
   "source": [
    "def profit_calculation(real_product, predicted_product, count):\n",
    "    predict_sorted = predicted_product.sort_values(ascending=False)\n",
    "    selected = real_product[predict_sorted.index][:count]\n",
    "    return price_per_barrel * selected.sum() - budget"
   ]
  },
  {
   "cell_type": "markdown",
   "id": "1e203f3e",
   "metadata": {},
   "source": [
    "### Шаг 5. Рассчет рисков и прибыли для каждого региона"
   ]
  },
  {
   "cell_type": "code",
   "execution_count": 41,
   "id": "589f7ae9",
   "metadata": {},
   "outputs": [],
   "source": [
    "state = np.random.RandomState(12345)\n",
    "\n",
    "def bootstrap(real_product, predicted_product):\n",
    "    values=[]\n",
    "    loss = 0\n",
    "    for i in range(1000):\n",
    "        real_product_sample = real_product.sample(replace = True, random_state = state, n = chosen_points)\n",
    "        predicted_product_sample = predicted_product[real_product_sample.index]\n",
    "        profit = profit_calculation(real_product, predicted_product_sample, best_points)\n",
    "        if profit < 0:\n",
    "            loss +=1\n",
    "        values.append(profit)\n",
    "    \n",
    "    values = pd.Series(values)\n",
    "    lower = values.quantile(0.025)\n",
    "    upper = values.quantile(0.975)\n",
    "    average = values.mean()\n",
    "    risk = loss / 1000\n",
    "    return values, average, lower, upper, risk"
   ]
  },
  {
   "cell_type": "code",
   "execution_count": 42,
   "id": "e04c3fa7",
   "metadata": {},
   "outputs": [
    {
     "name": "stdout",
     "output_type": "stream",
     "text": [
      "Данные по первому региону:\n",
      "Средняя прибыль по региону = 396,164.98 тыс.руб.\n",
      "95% доверительный интервал от -111,215.55 до 909,766.94 тыс.руб.\n",
      "Процент риска 6.90%\n"
     ]
    }
   ],
   "source": [
    "df1_values, df1_average, df1_lower, df1_upper, df1_risk = bootstrap(df1_target_valid, df1_predictions_valid)\n",
    "print('Данные по первому региону:')\n",
    "print('Средняя прибыль по региону = {:,.2f} тыс.руб.'.format(df1_average))\n",
    "print('95% доверительный интервал от {:,.2f} до {:,.2f} тыс.руб.'.format(df1_lower, df1_upper))\n",
    "print('Процент риска {:.2%}'.format(df1_risk))"
   ]
  },
  {
   "cell_type": "code",
   "execution_count": 43,
   "id": "77829ee2",
   "metadata": {},
   "outputs": [
    {
     "data": {
      "text/plain": [
       "<Figure size 720x360 with 0 Axes>"
      ]
     },
     "metadata": {},
     "output_type": "display_data"
    },
    {
     "data": {
      "image/png": "[encoded data removed]",
      "text/plain": [
       "<Figure size 360x360 with 1 Axes>"
      ]
     },
     "metadata": {
      "needs_background": "light"
     },
     "output_type": "display_data"
    }
   ],
   "source": [
    "plt.figure(figsize = (10, 5))\n",
    "sns.displot(df1_values, bins = 50, kde = True, color = 'blue')\n",
    "plt.axvline(df1_values.quantile(0.025), 0, color = \"red\") # нижняя граница доверительного интервала\n",
    "plt.axvline(df1_values.quantile(0.975), 0, color = \"red\") # верхняя граница доверительного интервала\n",
    "plt.title('Распределение прибыли по первому региону')\n",
    "plt.xlabel('Суммарная прибыль по региону в тыс. руб.')\n",
    "plt.ylabel('Вероятность')\n",
    "plt.show()"
   ]
  },
  {
   "cell_type": "code",
   "execution_count": 44,
   "id": "3541564a",
   "metadata": {},
   "outputs": [
    {
     "name": "stdout",
     "output_type": "stream",
     "text": [
      "Данные по второму региону:\n",
      "Средняя прибыль по региону = 461,155.82 тыс.руб.\n",
      "95% доверительный интервал от 78,050.81 до 862,952.06 тыс.руб.\n",
      "Процент риска 0.70%\n"
     ]
    }
   ],
   "source": [
    "df2_values, df2_average, df2_lower, df2_upper, df2_risk = bootstrap(df2_target_valid, df2_predictions_valid)\n",
    "print('Данные по второму региону:')\n",
    "print('Средняя прибыль по региону = {:,.2f} тыс.руб.'.format(df2_average))\n",
    "print('95% доверительный интервал от {:,.2f} до {:,.2f} тыс.руб.'.format(df2_lower, df2_upper))\n",
    "print('Процент риска {:.2%}'.format(df2_risk))"
   ]
  },
  {
   "cell_type": "code",
   "execution_count": 45,
   "id": "69db49db",
   "metadata": {},
   "outputs": [
    {
     "data": {
      "text/plain": [
       "<Figure size 720x360 with 0 Axes>"
      ]
     },
     "metadata": {},
     "output_type": "display_data"
    },
    {
     "data": {
      "image/png": "[encoded data removed]",
      "text/plain": [
       "<Figure size 360x360 with 1 Axes>"
      ]
     },
     "metadata": {
      "needs_background": "light"
     },
     "output_type": "display_data"
    }
   ],
   "source": [
    "plt.figure(figsize = (10, 5))\n",
    "sns.displot(df2_values, bins = 50, kde = True, color = 'green')\n",
    "plt.axvline(df2_values.quantile(0.025), 0, color = \"red\") # нижняя граница доверительного интервала\n",
    "plt.axvline(df2_values.quantile(0.975), 0, color = \"red\") # верхняя граница доверительного интервала\n",
    "plt.title('Распределение прибыли по второму региону')\n",
    "plt.xlabel('Суммарная прибыль по региону в тыс. руб.')\n",
    "plt.ylabel('Вероятность')\n",
    "plt.show()"
   ]
  },
  {
   "cell_type": "code",
   "execution_count": 46,
   "id": "d1b2d114",
   "metadata": {},
   "outputs": [
    {
     "name": "stdout",
     "output_type": "stream",
     "text": [
      "Данные по третьему региону:\n",
      "Средняя прибыль по региону = 392,950.48 тыс.руб.\n",
      "95% доверительный интервал от -112,227.63 до 934,562.91 тыс.руб.\n",
      "Процент риска 6.50%\n"
     ]
    }
   ],
   "source": [
    "df3_values, df3_average, df3_lower, df3_upper, df3_risk = bootstrap(df3_target_valid, df3_predictions_valid)\n",
    "print('Данные по третьему региону:')\n",
    "print('Средняя прибыль по региону = {:,.2f} тыс.руб.'.format(df3_average))\n",
    "print('95% доверительный интервал от {:,.2f} до {:,.2f} тыс.руб.'.format(df3_lower, df3_upper))\n",
    "print('Процент риска {:.2%}'.format(df3_risk))"
   ]
  },
  {
   "cell_type": "code",
   "execution_count": 47,
   "id": "3d728ab7",
   "metadata": {},
   "outputs": [
    {
     "data": {
      "text/plain": [
       "<Figure size 720x360 with 0 Axes>"
      ]
     },
     "metadata": {},
     "output_type": "display_data"
    },
    {
     "data": {
      "image/png": "[encoded data removed]",
      "text/plain": [
       "<Figure size 360x360 with 1 Axes>"
      ]
     },
     "metadata": {
      "needs_background": "light"
     },
     "output_type": "display_data"
    }
   ],
   "source": [
    "plt.figure(figsize = (10, 5))\n",
    "sns.displot(df3_values, bins = 50, kde = True, color = 'darkblue')\n",
    "plt.axvline(df3_values.quantile(0.025), 0, color = \"red\") # нижняя граница доверительного интервала\n",
    "plt.axvline(df3_values.quantile(0.975), 0, color = \"red\") # верхняя граница доверительного интервала\n",
    "plt.title('Распределение прибыли по третьему региону')\n",
    "plt.xlabel('Суммарная прибыль по региону в тыс. руб.')\n",
    "plt.ylabel('Вероятность')\n",
    "plt.show()"
   ]
  },
  {
   "cell_type": "markdown",
   "id": "353555c3",
   "metadata": {},
   "source": [
    "### Выводы\n",
    "---\n",
    "В данной работе были проанализированы три регона, были построены модели, которые наилучшим образом прогнозируют объемы запасов в скважинах на основе имеющихся данных, были построены распределения прибыли для каждого региона с помощью Bootstrap.\n",
    "\n",
    "В результате второй регион показал лучший результат в плане ожидаемой прибыли и возможного уровня риска. Главной причиной стало то, что между `f2` и `product` в датасете есть большая корреляция. Следовательно, прогнозная сила модели получается высокой.\n",
    "\n",
    "Второй регион лидирует как по значению средней прибыли, так и по уровню риска. 95%-й интервал прогнозируемой прибыли для данного региона не принимает отрицательное значение. Всего лишь 0.7% значений данного распределения принимают отрицательные значения."
   ]
  }
 ],
 "metadata": {
  "kernelspec": {
   "display_name": "Python 3 (ipykernel)",
   "language": "python",
   "name": "python3"
  },
  "language_info": {
   "codemirror_mode": {
    "name": "ipython",
    "version": 3
   },
   "file_extension": ".py",
   "mimetype": "text/x-python",
   "name": "python",
   "nbconvert_exporter": "python",
   "pygments_lexer": "ipython3",
   "version": "3.9.12"
  }
 },
 "nbformat": 4,
 "nbformat_minor": 5
}
