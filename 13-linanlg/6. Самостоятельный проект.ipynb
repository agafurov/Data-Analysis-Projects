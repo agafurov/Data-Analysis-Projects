{
 "cells": [
  {
   "cell_type": "markdown",
   "id": "49607a6f",
   "metadata": {},
   "source": [
    "# Проектная работа: Защита персональных данных клиентов"
   ]
  },
  {
   "cell_type": "markdown",
   "id": "0e0af46c",
   "metadata": {},
   "source": [
    "### Описание проекта\n",
    "\n",
    "Нам нужно защитить данные клиентов страховой компании «Хоть потоп». Для этого разработаем такой метод преобразования данных, чтобы по ним было сложно восстановить персональную информацию. Также обоснуем корректность его работы.\n",
    "\n",
    "Нужно защитить данные, чтобы при преобразовании качество моделей машинного обучения не ухудшилось. Подбирать наилучшую модель не требуется.\n",
    "\n",
    "**Целью** данной работы является разработка алгоритма преобразования данных. **Задачами** проектной работы являются:\n",
    "1. Изучить вопрос изменения качества линейной регрессии, если признаки умножают на обратимую матрицу;\n",
    "2. Предложиить алгоритм преобразования данных для решения задачи;\n",
    "3. Реализовать предложенный алгоритм.\n",
    "\n",
    "**Описание данных**:\n",
    "1. **Признаки**: пол, возраст и зарплата застрахованного, количество членов его семьи.\n",
    "2. **Целевой признак**: количество страховых выплат клиенту за последние 5 лет.\n",
    "\n",
    "**План проектной работы**:\n",
    "1. Загрузка и изучение данных;\n",
    "2. Изучение вопроса о том, как меняется качество линейной регрессии;\n",
    "3. Алгоритм преобразования данных;\n",
    "4. Реализация алгоритма с применением матричных операций;\n",
    "5. Выводы."
   ]
  },
  {
   "cell_type": "markdown",
   "id": "7488baf4",
   "metadata": {},
   "source": [
    "### Шаг 1. Загрузка и изучение данных"
   ]
  },
  {
   "cell_type": "code",
   "execution_count": 1,
   "id": "febb1309",
   "metadata": {},
   "outputs": [],
   "source": [
    "import pandas as pd\n",
    "import numpy as np\n",
    "from sklearn.model_selection import train_test_split\n",
    "from sklearn.preprocessing import StandardScaler\n",
    "from sklearn.pipeline import Pipeline\n",
    "from sklearn.linear_model import LinearRegression\n",
    "from sklearn.metrics import r2_score"
   ]
  },
  {
   "cell_type": "code",
   "execution_count": 2,
   "id": "830cc343",
   "metadata": {},
   "outputs": [
    {
     "data": {
      "text/html": [
       "<style type=\"text/css\">\n",
       "</style>\n",
       "<table id=\"T_fef68\">\n",
       "  <thead>\n",
       "    <tr>\n",
       "      <th class=\"blank level0\" >&nbsp;</th>\n",
       "      <th id=\"T_fef68_level0_col0\" class=\"col_heading level0 col0\" >Пол</th>\n",
       "      <th id=\"T_fef68_level0_col1\" class=\"col_heading level0 col1\" >Возраст</th>\n",
       "      <th id=\"T_fef68_level0_col2\" class=\"col_heading level0 col2\" >Зарплата</th>\n",
       "      <th id=\"T_fef68_level0_col3\" class=\"col_heading level0 col3\" >Члены семьи</th>\n",
       "      <th id=\"T_fef68_level0_col4\" class=\"col_heading level0 col4\" >Страховые выплаты</th>\n",
       "    </tr>\n",
       "  </thead>\n",
       "  <tbody>\n",
       "    <tr>\n",
       "      <th id=\"T_fef68_level0_row0\" class=\"row_heading level0 row0\" >0</th>\n",
       "      <td id=\"T_fef68_row0_col0\" class=\"data row0 col0\" >1</td>\n",
       "      <td id=\"T_fef68_row0_col1\" class=\"data row0 col1\" >41</td>\n",
       "      <td id=\"T_fef68_row0_col2\" class=\"data row0 col2\" >49,600.00</td>\n",
       "      <td id=\"T_fef68_row0_col3\" class=\"data row0 col3\" >1</td>\n",
       "      <td id=\"T_fef68_row0_col4\" class=\"data row0 col4\" >0</td>\n",
       "    </tr>\n",
       "    <tr>\n",
       "      <th id=\"T_fef68_level0_row1\" class=\"row_heading level0 row1\" >1</th>\n",
       "      <td id=\"T_fef68_row1_col0\" class=\"data row1 col0\" >0</td>\n",
       "      <td id=\"T_fef68_row1_col1\" class=\"data row1 col1\" >46</td>\n",
       "      <td id=\"T_fef68_row1_col2\" class=\"data row1 col2\" >38,000.00</td>\n",
       "      <td id=\"T_fef68_row1_col3\" class=\"data row1 col3\" >1</td>\n",
       "      <td id=\"T_fef68_row1_col4\" class=\"data row1 col4\" >1</td>\n",
       "    </tr>\n",
       "    <tr>\n",
       "      <th id=\"T_fef68_level0_row2\" class=\"row_heading level0 row2\" >2</th>\n",
       "      <td id=\"T_fef68_row2_col0\" class=\"data row2 col0\" >0</td>\n",
       "      <td id=\"T_fef68_row2_col1\" class=\"data row2 col1\" >29</td>\n",
       "      <td id=\"T_fef68_row2_col2\" class=\"data row2 col2\" >21,000.00</td>\n",
       "      <td id=\"T_fef68_row2_col3\" class=\"data row2 col3\" >0</td>\n",
       "      <td id=\"T_fef68_row2_col4\" class=\"data row2 col4\" >0</td>\n",
       "    </tr>\n",
       "    <tr>\n",
       "      <th id=\"T_fef68_level0_row3\" class=\"row_heading level0 row3\" >3</th>\n",
       "      <td id=\"T_fef68_row3_col0\" class=\"data row3 col0\" >0</td>\n",
       "      <td id=\"T_fef68_row3_col1\" class=\"data row3 col1\" >21</td>\n",
       "      <td id=\"T_fef68_row3_col2\" class=\"data row3 col2\" >41,700.00</td>\n",
       "      <td id=\"T_fef68_row3_col3\" class=\"data row3 col3\" >2</td>\n",
       "      <td id=\"T_fef68_row3_col4\" class=\"data row3 col4\" >0</td>\n",
       "    </tr>\n",
       "    <tr>\n",
       "      <th id=\"T_fef68_level0_row4\" class=\"row_heading level0 row4\" >4</th>\n",
       "      <td id=\"T_fef68_row4_col0\" class=\"data row4 col0\" >1</td>\n",
       "      <td id=\"T_fef68_row4_col1\" class=\"data row4 col1\" >28</td>\n",
       "      <td id=\"T_fef68_row4_col2\" class=\"data row4 col2\" >26,100.00</td>\n",
       "      <td id=\"T_fef68_row4_col3\" class=\"data row4 col3\" >0</td>\n",
       "      <td id=\"T_fef68_row4_col4\" class=\"data row4 col4\" >0</td>\n",
       "    </tr>\n",
       "  </tbody>\n",
       "</table>\n"
      ],
      "text/plain": [
       "<pandas.io.formats.style.Styler at 0x7faa6ced5220>"
      ]
     },
     "execution_count": 2,
     "metadata": {},
     "output_type": "execute_result"
    }
   ],
   "source": [
    "df = pd.read_csv(\"insurance.csv\")\n",
    "mapping = {\"Возраст\" : \"{:,.0f}\", \"Зарплата\" : \"{:,.2f}\"}\n",
    "df.head().style.format(mapping)"
   ]
  },
  {
   "cell_type": "code",
   "execution_count": 3,
   "id": "cd1b9eb6",
   "metadata": {},
   "outputs": [
    {
     "data": {
      "text/plain": [
       "(5000, 5)"
      ]
     },
     "execution_count": 3,
     "metadata": {},
     "output_type": "execute_result"
    }
   ],
   "source": [
    "df.shape"
   ]
  },
  {
   "cell_type": "markdown",
   "id": "e1976cbc",
   "metadata": {},
   "source": [
    "Представленный датасет содержит 5 тыс. строк и 5 столбцов."
   ]
  },
  {
   "cell_type": "code",
   "execution_count": 4,
   "id": "b05f590a",
   "metadata": {},
   "outputs": [
    {
     "data": {
      "text/plain": [
       "Пол                    int64\n",
       "Возраст              float64\n",
       "Зарплата             float64\n",
       "Члены семьи            int64\n",
       "Страховые выплаты      int64\n",
       "dtype: object"
      ]
     },
     "execution_count": 4,
     "metadata": {},
     "output_type": "execute_result"
    }
   ],
   "source": [
    "df.dtypes"
   ]
  },
  {
   "cell_type": "markdown",
   "id": "ac6c868c",
   "metadata": {},
   "source": [
    "Типы данных в столбцах корректные, за исключением `Возраст`. Поменяем тип данных в этом столбце на `int`. "
   ]
  },
  {
   "cell_type": "code",
   "execution_count": 5,
   "id": "f184b91c",
   "metadata": {},
   "outputs": [
    {
     "name": "stdout",
     "output_type": "stream",
     "text": [
      "<class 'pandas.core.frame.DataFrame'>\n",
      "RangeIndex: 5000 entries, 0 to 4999\n",
      "Data columns (total 5 columns):\n",
      " #   Column             Non-Null Count  Dtype  \n",
      "---  ------             --------------  -----  \n",
      " 0   Пол                5000 non-null   int64  \n",
      " 1   Возраст            5000 non-null   float64\n",
      " 2   Зарплата           5000 non-null   float64\n",
      " 3   Члены семьи        5000 non-null   int64  \n",
      " 4   Страховые выплаты  5000 non-null   int64  \n",
      "dtypes: float64(2), int64(3)\n",
      "memory usage: 195.4 KB\n"
     ]
    }
   ],
   "source": [
    "df.info()"
   ]
  },
  {
   "cell_type": "markdown",
   "id": "3abc1fc9",
   "metadata": {},
   "source": [
    "Датасет не содержит пропущенных значений."
   ]
  },
  {
   "cell_type": "markdown",
   "id": "3a8c3b41",
   "metadata": {},
   "source": [
    "Проверим, что в каждом столбце представлены адекватные данные, то есть не содержат такие значения, которые логически не подходят под данный столбец."
   ]
  },
  {
   "cell_type": "code",
   "execution_count": 6,
   "id": "ed1a9e56",
   "metadata": {},
   "outputs": [
    {
     "name": "stdout",
     "output_type": "stream",
     "text": [
      "Пол: [1 0]\n",
      "\n",
      "Члены семьи: [1 0 2 4 3 5 6]\n",
      "\n",
      "Страховые выплаты: [0 1 2 3 5 4]\n",
      "\n"
     ]
    }
   ],
   "source": [
    "for col in [\"Пол\", \"Члены семьи\", \"Страховые выплаты\"]:\n",
    "    print(f\"{col}:\" , df[col].unique())\n",
    "    print()"
   ]
  },
  {
   "cell_type": "code",
   "execution_count": 7,
   "id": "9f74cfc5",
   "metadata": {},
   "outputs": [
    {
     "name": "stdout",
     "output_type": "stream",
     "text": [
      "Содержится ли в столбце Зарплата нулевой или отрицательное значение: False\n",
      "\n",
      "Содержится ли в столбце Возраст нулевой или отрицательное значение: False\n",
      "\n"
     ]
    }
   ],
   "source": [
    "for col in [\"Зарплата\", \"Возраст\"]:\n",
    "    print(f\"Содержится ли в столбце {col} нулевой или отрицательное значение:\", any(df[col].unique() <= 0))\n",
    "    print()"
   ]
  },
  {
   "cell_type": "markdown",
   "id": "324c25d0",
   "metadata": {},
   "source": [
    "Поменяем тип данных в столбце `Возраст`, так как возраст указывается в целых числах."
   ]
  },
  {
   "cell_type": "code",
   "execution_count": 8,
   "id": "7f87b59a",
   "metadata": {},
   "outputs": [
    {
     "name": "stdout",
     "output_type": "stream",
     "text": [
      "int64\n"
     ]
    }
   ],
   "source": [
    "df[\"Возраст\"] = df[\"Возраст\"].astype(\"int\")\n",
    "print(df[\"Возраст\"].dtypes)"
   ]
  },
  {
   "cell_type": "markdown",
   "id": "f83ed8c8",
   "metadata": {},
   "source": [
    "### Выводы\n",
    "---\n",
    "Таким образом, качество представленных данных оценивается как высокое. В датасете содержится 5 тыс. строк и 5 столбцов. Пропущенные значения отсутствуют. Дополнительно мы проверили, что в столбцах не содержатся неадекватные значения (нулевые или отрицательные), и поменяли тип данных в столбце `Возраст`."
   ]
  },
  {
   "cell_type": "markdown",
   "id": "31ccedba",
   "metadata": {},
   "source": [
    "### Шаг 2. Изучение вопроса о том, как меняется качество линейной регрессии"
   ]
  },
  {
   "cell_type": "markdown",
   "id": "6b81dba0",
   "metadata": {},
   "source": [
    "Обозначения для работы с уровнениями линейной регрессии:\n",
    "\n",
    "- $X$ — матрица признаков (нулевой столбец состоит из единиц)\n",
    "\n",
    "- $y$ — вектор целевого признака\n",
    "\n",
    "- $P$ — обратимая матрица, на которую умножаются признаки\n",
    "\n",
    "- $w$ — вектор весов линейной регрессии (нулевой элемент равен сдвигу)"
   ]
  },
  {
   "cell_type": "markdown",
   "id": "85a3bc44",
   "metadata": {},
   "source": [
    "**Предсказания**:\n",
    "\n",
    "$$\n",
    "a = Xw\n",
    "$$\n",
    "\n",
    "**Задача обучения**:\n",
    "\n",
    "$$\n",
    "w = \\arg\\min_w MSE(Xw, y)\n",
    "$$\n",
    "\n",
    "**Вектор весов линейной регрессии**:\n",
    "\n",
    "$$\n",
    "w = (X^T X)^{-1} X^T y\n",
    "$$\n",
    "\n",
    "Подставим в вектор предсказаний $a$ выражение в правой части из вектора весов линейной регрессии $w$:\n",
    "\n",
    "$$\n",
    "a = X(X^T X)^{-1} X^T y\n",
    "$$\n",
    "\n",
    "Пусть у нас есть обратимая матрица $P$, мы домножаем на нее матрицу признаков $X$ и получаем:\n",
    "\n",
    "$$\n",
    "a' = XP((XP)^T XP)^{-1} (XP)^T y\n",
    "$$\n",
    "\n",
    "Необходимо **доказать**, что:\n",
    "\n",
    "$$\n",
    "a = a'\n",
    "$$"
   ]
  },
  {
   "cell_type": "markdown",
   "id": "22aa52d9",
   "metadata": {},
   "source": [
    "**Доказательство**:\n",
    "\n",
    "Раскроем скобки в $a'$, используя:\n",
    "\n",
    "1. Свойство операции транспонирования матриц:\n",
    "\n",
    "$$\n",
    "(AB)^{T} = B^{T} A^{T}\n",
    "$$\n",
    "\n",
    "2. Свойство обратной матрицы:\n",
    "\n",
    "$$\n",
    "(AB)^{-1} = B^{-1} A^{-1}\n",
    "$$\n",
    "\n",
    "3. Определение обратной матрицы:\n",
    "\n",
    "$$\n",
    "AA^{-1} = A^{-1}A = E\n",
    "$$\n",
    "\n",
    "\n",
    "Таким образом, получаем следующее:\n",
    "1. Раскроем $(XP)^T$ в середине выражения и возьмем в скобки $(X^T X)$:\n",
    "\n",
    "$$ a' = XP(P^T (X^T X) P)^{-1} (XP)^T y $$\n",
    "\n",
    "2. Раскроем $(XP)^T$ в конце выражения:\n",
    "\n",
    "$$ a' = XP(P^T (X^T X) P)^{-1} P^T X^T y $$\n",
    "\n",
    "3. Раскроем обращение матрицы, состоящей из произведения матриц $(P^T (X^T X) P)^{-1}$, и будем считать, что матрицы $(P^T (X^T X)$ и $P$ - отдельные переменные:\n",
    "\n",
    "$$ a' = XP P^{-1}(P^T (X^T X)^{-1} P^T X^T y $$\n",
    "\n",
    "4. Снова раскроем обращение матрицы, состоящей из произведения матриц $(P^T (X^T X)^{-1}$:\n",
    "\n",
    "$$ a' = XP P^{-1}(X^T X)^{-1}(P^T)^{-1}P^T X^T y $$\n",
    "\n",
    "5. Воспользуемся определением обратной матрицы, то есть умножение матрицы на обратную матрицу дает единичную матрицу, и в итоге получаем:\n",
    "\n",
    "$$ a' = X(X^T X)^{-1}X^Ty $$"
   ]
  },
  {
   "cell_type": "markdown",
   "id": "b5942116",
   "metadata": {},
   "source": [
    "### Шаг 3. Алгоритм преобразования данных"
   ]
  },
  {
   "cell_type": "markdown",
   "id": "c7ef8cb2",
   "metadata": {},
   "source": [
    "Таким образом, как было доказано в предыдущем шаге, умножение матрицы признаков на обратимую матрицу не должно привести к изменению вектора предсказаний. Поэтому **алгоритм** может быть предложен, исходя из этого доказательства, и будет реализован в виде функции:\n",
    "\n",
    "1. Функция на вход принимает матрицу признаков и количество столбцов в матрице признаков ($n$).\n",
    "\n",
    "2. Исходя из этого количества, генерируется случайная квадратная матрица размера $nxn$. При этом значения в матрице случайным образом генерируется из выборки от 1 до 10.\n",
    "\n",
    "3. Главным условием для новой матрицы является ее обратимость. Для проверки данного условия в функции будет считаться определитель матрицы. Если определитель равен нулю, то генерируется новая матрица.\n",
    "\n",
    "4. Функция возвращает измененную матрицу признаков и вновь сгенерированную матрицу."
   ]
  },
  {
   "cell_type": "code",
   "execution_count": 9,
   "id": "50c574f4",
   "metadata": {},
   "outputs": [],
   "source": [
    "def matrix_generation(features, number_of_columns):\n",
    "    np.random.seed(12345)\n",
    "    new_matrix = np.random.randint(1, 10, size = (number_of_columns, number_of_columns))\n",
    "    new_matrix_determinant = np.linalg.det(new_matrix)\n",
    "    if new_matrix_determinant == 0:\n",
    "        while new_matrix_determinant == 0:\n",
    "            np.random.seed(12345)\n",
    "            new_matrix = np.random.randint(1, 10, size = (number_of_columns, number_of_columns))\n",
    "            new_matrix_determinant = np.linalg.det(new_matrix)\n",
    "    return features.dot(new_matrix), new_matrix     "
   ]
  },
  {
   "cell_type": "markdown",
   "id": "49f1799e",
   "metadata": {},
   "source": [
    "Пусть у нас есть матрица признаков $X$ размерности $5x3$. Создадим для нее матрицу $P$, которая должна маскировать данные клиентов."
   ]
  },
  {
   "cell_type": "code",
   "execution_count": 10,
   "id": "04bce5d8",
   "metadata": {},
   "outputs": [
    {
     "data": {
      "text/plain": [
       "array([[3, 6, 2],\n",
       "       [5, 6, 3],\n",
       "       [2, 7, 2],\n",
       "       [8, 7, 1],\n",
       "       [3, 2, 3]])"
      ]
     },
     "execution_count": 10,
     "metadata": {},
     "output_type": "execute_result"
    }
   ],
   "source": [
    "np.random.seed(12345)\n",
    "X = np.random.randint(1, 10, size = (5, 3))\n",
    "X"
   ]
  },
  {
   "cell_type": "code",
   "execution_count": 11,
   "id": "52f61fe1",
   "metadata": {},
   "outputs": [
    {
     "data": {
      "text/plain": [
       "(5, 3)"
      ]
     },
     "execution_count": 11,
     "metadata": {},
     "output_type": "execute_result"
    }
   ],
   "source": [
    "X.shape"
   ]
  },
  {
   "cell_type": "code",
   "execution_count": 12,
   "id": "ac134271",
   "metadata": {},
   "outputs": [
    {
     "data": {
      "text/plain": [
       "array([[43, 68, 28],\n",
       "       [51, 87, 34],\n",
       "       [45, 68, 29],\n",
       "       [61, 97, 39],\n",
       "       [25, 51, 18]])"
      ]
     },
     "metadata": {},
     "output_type": "display_data"
    },
    {
     "name": "stdout",
     "output_type": "stream",
     "text": [
      "\n"
     ]
    },
    {
     "data": {
      "text/plain": [
       "array([[3, 6, 2],\n",
       "       [5, 6, 3],\n",
       "       [2, 7, 2]])"
      ]
     },
     "metadata": {},
     "output_type": "display_data"
    }
   ],
   "source": [
    "XP, P = matrix_generation(X, X.shape[1])\n",
    "display(XP)\n",
    "print()\n",
    "display(P)"
   ]
  },
  {
   "cell_type": "code",
   "execution_count": 13,
   "id": "a2fdcb04",
   "metadata": {},
   "outputs": [
    {
     "data": {
      "text/plain": [
       "(5, 3)"
      ]
     },
     "execution_count": 13,
     "metadata": {},
     "output_type": "execute_result"
    }
   ],
   "source": [
    "XP.shape"
   ]
  },
  {
   "cell_type": "code",
   "execution_count": 14,
   "id": "f8635481",
   "metadata": {},
   "outputs": [
    {
     "data": {
      "text/plain": [
       "-5.000000000000003"
      ]
     },
     "execution_count": 14,
     "metadata": {},
     "output_type": "execute_result"
    }
   ],
   "source": [
    "np.linalg.det(P)"
   ]
  },
  {
   "cell_type": "markdown",
   "id": "81d82921",
   "metadata": {},
   "source": [
    "### Шаг 4. Реализация алгоритма с применением матричных операций"
   ]
  },
  {
   "cell_type": "markdown",
   "id": "347553b2",
   "metadata": {},
   "source": [
    "Разделим данные на обучающую и тестовую:"
   ]
  },
  {
   "cell_type": "code",
   "execution_count": 15,
   "id": "018202ac",
   "metadata": {},
   "outputs": [],
   "source": [
    "features = df.drop('Страховые выплаты', axis = 1)\n",
    "target = df['Страховые выплаты']"
   ]
  },
  {
   "cell_type": "code",
   "execution_count": 16,
   "id": "dd0b0330",
   "metadata": {},
   "outputs": [
    {
     "name": "stdout",
     "output_type": "stream",
     "text": [
      "Размерность обучающей выборки для признаков: (3750, 4)\n",
      "Размерность обучающей выборки для таргетов: (3750,)\n",
      "Размерность тестовой выборки для признаков: (1250, 4)\n",
      "Размерность тестовой выборки для таргетов: (1250,)\n"
     ]
    }
   ],
   "source": [
    "features_train, features_test, target_train, target_test = train_test_split(features, \n",
    "                                                            target, test_size = 0.25, random_state = 12345)\n",
    "\n",
    "print(\"Размерность обучающей выборки для признаков:\", features_train.shape)\n",
    "print(\"Размерность обучающей выборки для таргетов:\", target_train.shape)\n",
    "print(\"Размерность тестовой выборки для признаков:\", features_test.shape)\n",
    "print(\"Размерность тестовой выборки для таргетов:\", target_test.shape)"
   ]
  },
  {
   "cell_type": "markdown",
   "id": "7acd4528",
   "metadata": {},
   "source": [
    "Напишем функцию для оценки модели линейной регрессии:"
   ]
  },
  {
   "cell_type": "code",
   "execution_count": 17,
   "id": "3dea7726",
   "metadata": {},
   "outputs": [],
   "source": [
    "def model_evaluation(features_train, features_test, target_train, target_test):\n",
    "    model = LinearRegression()\n",
    "    model.fit(features_train, target_train)\n",
    "    predictions = model.predict(features_test)\n",
    "\n",
    "    r2 = r2_score(target_test, predictions)\n",
    "\n",
    "    print(\"Коэффициент детерминации:\", \"{:,.2%}\".format(r2))"
   ]
  },
  {
   "cell_type": "markdown",
   "id": "c626933b",
   "metadata": {},
   "source": [
    "Оценим модель линейной регрессии на исходных данных:"
   ]
  },
  {
   "cell_type": "code",
   "execution_count": 18,
   "id": "32873b5b",
   "metadata": {},
   "outputs": [
    {
     "name": "stdout",
     "output_type": "stream",
     "text": [
      "Коэффициент детерминации: 43.52%\n"
     ]
    }
   ],
   "source": [
    "model_evaluation(features_train, features_test, target_train, target_test)"
   ]
  },
  {
   "cell_type": "markdown",
   "id": "1ef426af",
   "metadata": {},
   "source": [
    "Посмотрим, как стандартизация признаков в исходных данных повлияет на коэффициент детерминации:"
   ]
  },
  {
   "cell_type": "code",
   "execution_count": 19,
   "id": "211b5895",
   "metadata": {},
   "outputs": [],
   "source": [
    "def data_scale(features_train, features_test):\n",
    "    scaler = StandardScaler()\n",
    "    scaler.fit(features_train)\n",
    "    features_train_scaled = scaler.transform(features_train)\n",
    "    features_test_scaled = scaler.transform(features_test)\n",
    "    return features_train_scaled, features_test_scaled"
   ]
  },
  {
   "cell_type": "code",
   "execution_count": 20,
   "id": "9009b709",
   "metadata": {},
   "outputs": [],
   "source": [
    "features_train_scaled, features_test_scaled = data_scale(features_train, features_test)"
   ]
  },
  {
   "cell_type": "code",
   "execution_count": 21,
   "id": "9cbd767d",
   "metadata": {},
   "outputs": [
    {
     "name": "stdout",
     "output_type": "stream",
     "text": [
      "Коэффициент детерминации: 43.52%\n"
     ]
    }
   ],
   "source": [
    "model_evaluation(features_train_scaled, features_test_scaled, target_train, target_test)"
   ]
  },
  {
   "cell_type": "markdown",
   "id": "8898f058",
   "metadata": {},
   "source": [
    "В результате стандартизации набора данных коэффициент детерминации не изменился."
   ]
  },
  {
   "cell_type": "markdown",
   "id": "c1de08b1",
   "metadata": {},
   "source": [
    "Теперь оценим аналогичные модели на новых данных:"
   ]
  },
  {
   "cell_type": "code",
   "execution_count": 22,
   "id": "8fa9bafa",
   "metadata": {},
   "outputs": [],
   "source": [
    "new_features, P = matrix_generation(features, features.shape[1])"
   ]
  },
  {
   "cell_type": "markdown",
   "id": "4377f5cc",
   "metadata": {},
   "source": [
    "Сравним исходные данные с новым набором признаков, также посмотрим на сгенерированную матрицу $P$:"
   ]
  },
  {
   "cell_type": "code",
   "execution_count": 23,
   "id": "a6ab00e0",
   "metadata": {},
   "outputs": [
    {
     "data": {
      "text/html": [
       "<div>\n",
       "<style scoped>\n",
       "    .dataframe tbody tr th:only-of-type {\n",
       "        vertical-align: middle;\n",
       "    }\n",
       "\n",
       "    .dataframe tbody tr th {\n",
       "        vertical-align: top;\n",
       "    }\n",
       "\n",
       "    .dataframe thead th {\n",
       "        text-align: right;\n",
       "    }\n",
       "</style>\n",
       "<table border=\"1\" class=\"dataframe\">\n",
       "  <thead>\n",
       "    <tr style=\"text-align: right;\">\n",
       "      <th></th>\n",
       "      <th>Пол</th>\n",
       "      <th>Возраст</th>\n",
       "      <th>Зарплата</th>\n",
       "      <th>Члены семьи</th>\n",
       "    </tr>\n",
       "  </thead>\n",
       "  <tbody>\n",
       "    <tr>\n",
       "      <th>0</th>\n",
       "      <td>1</td>\n",
       "      <td>41</td>\n",
       "      <td>49600.0</td>\n",
       "      <td>1</td>\n",
       "    </tr>\n",
       "    <tr>\n",
       "      <th>1</th>\n",
       "      <td>0</td>\n",
       "      <td>46</td>\n",
       "      <td>38000.0</td>\n",
       "      <td>1</td>\n",
       "    </tr>\n",
       "    <tr>\n",
       "      <th>2</th>\n",
       "      <td>0</td>\n",
       "      <td>29</td>\n",
       "      <td>21000.0</td>\n",
       "      <td>0</td>\n",
       "    </tr>\n",
       "    <tr>\n",
       "      <th>3</th>\n",
       "      <td>0</td>\n",
       "      <td>21</td>\n",
       "      <td>41700.0</td>\n",
       "      <td>2</td>\n",
       "    </tr>\n",
       "    <tr>\n",
       "      <th>4</th>\n",
       "      <td>1</td>\n",
       "      <td>28</td>\n",
       "      <td>26100.0</td>\n",
       "      <td>0</td>\n",
       "    </tr>\n",
       "  </tbody>\n",
       "</table>\n",
       "</div>"
      ],
      "text/plain": [
       "   Пол  Возраст  Зарплата  Члены семьи\n",
       "0    1       41   49600.0            1\n",
       "1    0       46   38000.0            1\n",
       "2    0       29   21000.0            0\n",
       "3    0       21   41700.0            2\n",
       "4    1       28   26100.0            0"
      ]
     },
     "metadata": {},
     "output_type": "display_data"
    },
    {
     "name": "stdout",
     "output_type": "stream",
     "text": [
      "\n"
     ]
    },
    {
     "data": {
      "text/html": [
       "<div>\n",
       "<style scoped>\n",
       "    .dataframe tbody tr th:only-of-type {\n",
       "        vertical-align: middle;\n",
       "    }\n",
       "\n",
       "    .dataframe tbody tr th {\n",
       "        vertical-align: top;\n",
       "    }\n",
       "\n",
       "    .dataframe thead th {\n",
       "        text-align: right;\n",
       "    }\n",
       "</style>\n",
       "<table border=\"1\" class=\"dataframe\">\n",
       "  <thead>\n",
       "    <tr style=\"text-align: right;\">\n",
       "      <th></th>\n",
       "      <th>0</th>\n",
       "      <th>1</th>\n",
       "      <th>2</th>\n",
       "      <th>3</th>\n",
       "    </tr>\n",
       "  </thead>\n",
       "  <tbody>\n",
       "    <tr>\n",
       "      <th>0</th>\n",
       "      <td>99452.0</td>\n",
       "      <td>396931.0</td>\n",
       "      <td>347287.0</td>\n",
       "      <td>49899.0</td>\n",
       "    </tr>\n",
       "    <tr>\n",
       "      <th>1</th>\n",
       "      <td>76279.0</td>\n",
       "      <td>304140.0</td>\n",
       "      <td>266095.0</td>\n",
       "      <td>38329.0</td>\n",
       "    </tr>\n",
       "    <tr>\n",
       "      <th>2</th>\n",
       "      <td>42174.0</td>\n",
       "      <td>168087.0</td>\n",
       "      <td>147058.0</td>\n",
       "      <td>21203.0</td>\n",
       "    </tr>\n",
       "    <tr>\n",
       "      <th>3</th>\n",
       "      <td>83532.0</td>\n",
       "      <td>333667.0</td>\n",
       "      <td>291948.0</td>\n",
       "      <td>41861.0</td>\n",
       "    </tr>\n",
       "    <tr>\n",
       "      <th>4</th>\n",
       "      <td>52371.0</td>\n",
       "      <td>208890.0</td>\n",
       "      <td>182758.0</td>\n",
       "      <td>26301.0</td>\n",
       "    </tr>\n",
       "  </tbody>\n",
       "</table>\n",
       "</div>"
      ],
      "text/plain": [
       "         0         1         2        3\n",
       "0  99452.0  396931.0  347287.0  49899.0\n",
       "1  76279.0  304140.0  266095.0  38329.0\n",
       "2  42174.0  168087.0  147058.0  21203.0\n",
       "3  83532.0  333667.0  291948.0  41861.0\n",
       "4  52371.0  208890.0  182758.0  26301.0"
      ]
     },
     "metadata": {},
     "output_type": "display_data"
    },
    {
     "name": "stdout",
     "output_type": "stream",
     "text": [
      "\n",
      "[[3 6 2 5]\n",
      " [6 3 2 7]\n",
      " [2 8 7 1]\n",
      " [3 2 3 7]]\n"
     ]
    }
   ],
   "source": [
    "display(features.head())\n",
    "print()\n",
    "display(new_features.head())\n",
    "print()\n",
    "print(P)"
   ]
  },
  {
   "cell_type": "markdown",
   "id": "a8334583",
   "metadata": {},
   "source": [
    "Проверим, что функция сработала правильно, посчитав определитель матрицы $P$:"
   ]
  },
  {
   "cell_type": "code",
   "execution_count": 24,
   "id": "b0b0ae77",
   "metadata": {},
   "outputs": [
    {
     "data": {
      "text/plain": [
       "-616.9999999999995"
      ]
     },
     "execution_count": 24,
     "metadata": {},
     "output_type": "execute_result"
    }
   ],
   "source": [
    "np.linalg.det(P)"
   ]
  },
  {
   "cell_type": "code",
   "execution_count": 25,
   "id": "62e1f00f",
   "metadata": {},
   "outputs": [
    {
     "data": {
      "text/plain": [
       "(4, 4)"
      ]
     },
     "execution_count": 25,
     "metadata": {},
     "output_type": "execute_result"
    }
   ],
   "source": [
    "P.shape"
   ]
  },
  {
   "cell_type": "markdown",
   "id": "ae458ef1",
   "metadata": {},
   "source": [
    "Определитель матрицы $P$ отличается от нуля, а сама матрица является квадратной. Снова подели данные на обучающую и тестовую и оценим модели:"
   ]
  },
  {
   "cell_type": "code",
   "execution_count": 26,
   "id": "29e6675f",
   "metadata": {},
   "outputs": [
    {
     "name": "stdout",
     "output_type": "stream",
     "text": [
      "Размерность новой обучающей выборки для признаков: (3750, 4)\n",
      "Размерность новой обучающей выборки для таргетов: (3750,)\n",
      "Размерность новой тестовой выборки для признаков: (1250, 4)\n",
      "Размерность новой тестовой выборки для таргетов: (1250,)\n"
     ]
    }
   ],
   "source": [
    "new_features_train, new_features_test, new_target_train, new_target_test = train_test_split(new_features, \n",
    "                                                            target, test_size = 0.25, random_state = 12345)\n",
    "\n",
    "print(\"Размерность новой обучающей выборки для признаков:\", new_features_train.shape)\n",
    "print(\"Размерность новой обучающей выборки для таргетов:\", new_target_train.shape)\n",
    "print(\"Размерность новой тестовой выборки для признаков:\", new_features_test.shape)\n",
    "print(\"Размерность новой тестовой выборки для таргетов:\", new_target_test.shape)"
   ]
  },
  {
   "cell_type": "code",
   "execution_count": 27,
   "id": "9cefe559",
   "metadata": {},
   "outputs": [
    {
     "name": "stdout",
     "output_type": "stream",
     "text": [
      "Коэффициент детерминации: 43.52%\n"
     ]
    }
   ],
   "source": [
    "model_evaluation(new_features_train, new_features_test, new_target_train, new_target_test)"
   ]
  },
  {
   "cell_type": "markdown",
   "id": "88a6b456",
   "metadata": {},
   "source": [
    "Таким образом, качество линейной регрессии не отличается до и после преобразования. Посмотрим теперь на стандартизированных данных:"
   ]
  },
  {
   "cell_type": "code",
   "execution_count": 28,
   "id": "54691690",
   "metadata": {},
   "outputs": [],
   "source": [
    "new_features_train_scaled, new_features_test_scaled = data_scale(new_features_train, new_features_test)"
   ]
  },
  {
   "cell_type": "code",
   "execution_count": 29,
   "id": "fc4ac3a3",
   "metadata": {},
   "outputs": [
    {
     "name": "stdout",
     "output_type": "stream",
     "text": [
      "Коэффициент детерминации: 43.52%\n"
     ]
    }
   ],
   "source": [
    "model_evaluation(new_features_train_scaled, new_features_test_scaled, new_target_train, new_target_test)"
   ]
  },
  {
   "cell_type": "markdown",
   "id": "a11ee405",
   "metadata": {},
   "source": [
    "Как мы видим, стандартизация набора данных не приводит к изменению качества линейной регрессии. "
   ]
  },
  {
   "cell_type": "markdown",
   "id": "4de58b10",
   "metadata": {},
   "source": [
    "### Шаг 5. Выводы\n",
    "---\n",
    "В данной работе:\n",
    "\n",
    "1. Аналитически было доказано, что преобразование матрицы признаков не приводит к изменению вектора предсказаний модели.\n",
    "2. Был предложен алгоритм преобразования данных.\n",
    "3. Были оценены модели до и после преобразования данных.\n",
    "\n",
    "Таким образом, алгоритм преобразования данных разработан, хотя и предложенный вариант является достаточно тривиальным. Тем не менее, преобразование данных не привело к изменению качества линейной регрессии. Значения коэффициента детерминации до и после преобразования остались неизменными. Стандартизация признаков так же не приводит к ухудшению $R^2$. "
   ]
  }
 ],
 "metadata": {
  "kernelspec": {
   "display_name": "Python 3 (ipykernel)",
   "language": "python",
   "name": "python3"
  },
  "language_info": {
   "codemirror_mode": {
    "name": "ipython",
    "version": 3
   },
   "file_extension": ".py",
   "mimetype": "text/x-python",
   "name": "python",
   "nbconvert_exporter": "python",
   "pygments_lexer": "ipython3",
   "version": "3.9.12"
  }
 },
 "nbformat": 4,
 "nbformat_minor": 5
}
